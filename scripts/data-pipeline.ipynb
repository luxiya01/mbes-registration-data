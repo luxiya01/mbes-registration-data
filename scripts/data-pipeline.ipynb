{
 "cells": [
  {
   "cell_type": "code",
   "execution_count": 41,
   "metadata": {},
   "outputs": [],
   "source": [
    "import open3d as o3d\n",
    "import numpy as np\n",
    "import matplotlib.pyplot as plt\n",
    "import torch\n",
    "from scipy.spatial.transform import Rotation\n",
    "import laspy\n",
    "import pandas as pd\n",
    "import os\n",
    "from pyproj import CRS, Transformer\n",
    "from tqdm import tqdm\n",
    "import sys\n",
    "sys.path.append('../src/')\n",
    "import plotly.express as px"
   ]
  },
  {
   "attachments": {},
   "cell_type": "markdown",
   "metadata": {},
   "source": [
    "# 1. NaviEdit -> LAZ -> Point cloud"
   ]
  },
  {
   "cell_type": "code",
   "execution_count": 49,
   "metadata": {},
   "outputs": [],
   "source": [
    "def normalize_pc(points):\n",
    "\tcentroid = np.mean(points, axis=0)\n",
    "\tpoints -= centroid\n",
    "\tfurthest_distance = np.max(np.sqrt(np.sum(abs(points)**2,axis=-1)))\n",
    "\tpoints /= furthest_distance\n",
    "\n",
    "\treturn points"
   ]
  },
  {
   "cell_type": "code",
   "execution_count": 77,
   "metadata": {},
   "outputs": [
    {
     "name": "stdout",
     "output_type": "stream",
     "text": [
      "(914502, 3)\n",
      "[ 4.60723066e+05  1.77812617e+06 -9.04019980e+02]\n",
      "(155618, 3)\n",
      "(2000, 3)\n"
     ]
    }
   ],
   "source": [
    "las = laspy.read('/home/li/Downloads/EM2040-0030-L03S01-20220119-193553.las')\n",
    "points = np.vstack((las.X, las.Y, las.Z)).transpose()\n",
    "points = points * las.header.scale + las.header.offset\n",
    "print(points.shape)\n",
    "print(points[0])\n",
    "\n",
    "pcd = o3d.geometry.PointCloud()\n",
    "pcd.points = o3d.utility.Vector3dVector(points)\n",
    "downpcd = pcd.voxel_down_sample(voxel_size=2)\n",
    "downpcd.points\n",
    "#o3d.visualization.draw_geometries([downpcd])\n",
    "\n",
    "aug_noise = .1\n",
    "rot_factor = 1\n",
    "\n",
    "down_points = np.asarray(downpcd.points)\n",
    "print(down_points.shape)\n",
    "src = np.random.permutation(down_points[:10000, :])[:2000, :]\n",
    "src += (np.random.rand(*src.shape) - 0.5) * aug_noise\n",
    "src = normalize_pc(src)\n",
    "print(src.shape)\n",
    "torch.save(src, \"assets/test.pth\")\n",
    "\n",
    "# rotate the point cloud\n",
    "trg = np.random.permutation(down_points[7000:18000, :])[:2000, :]\n",
    "euler_ab=np.random.rand(3)*np.pi*2/rot_factor # anglez, angley, anglex\n",
    "rot_ab= Rotation.from_euler('zyx', euler_ab).as_matrix()\n",
    "trg += (np.random.rand(*trg.shape) - 0.5) * aug_noise\n",
    "trg =np.matmul(rot_ab,trg.T).T\n",
    "trg = normalize_pc(trg)\n",
    "torch.save(trg, \"assets/test1.pth\")"
   ]
  },
  {
   "cell_type": "code",
   "execution_count": 64,
   "metadata": {},
   "outputs": [
    {
     "name": "stdout",
     "output_type": "stream",
     "text": [
      "(2000, 3) (2000, 3)\n"
     ]
    }
   ],
   "source": [
    "#pcd = o3d.io.read_point_cloud(\"assets/cloud_bin_21.pth\")\n",
    "data = torch.load(\"assets/test.pth\").astype(np.float32)\n",
    "data1 = torch.load(\"assets/test1.pth\").astype(np.float32)\n",
    "print(data.shape, data1.shape)\n",
    "pcd = o3d.geometry.PointCloud()\n",
    "pcd.points = o3d.utility.Vector3dVector(data)\n",
    "\n",
    "pcd1 = o3d.geometry.PointCloud()\n",
    "pcd1.points = o3d.utility.Vector3dVector(data1)\n",
    "\n",
    "o3d.visualization.draw_geometries([pcd, pcd1])"
   ]
  },
  {
   "cell_type": "code",
   "execution_count": 67,
   "metadata": {},
   "outputs": [
    {
     "data": {
      "text/plain": [
       "array([[ 0.33896023, -0.43553659,  0.04193757],\n",
       "       [ 0.00954625,  0.34624669, -0.0106827 ],\n",
       "       [ 0.31984845,  0.06498687,  0.02973026],\n",
       "       ...,\n",
       "       [-0.17993498, -0.28495371, -0.03518974],\n",
       "       [-0.53547716, -0.78250396, -0.02612695],\n",
       "       [-0.39036116, -0.24462132, -0.03694123]])"
      ]
     },
     "execution_count": 67,
     "metadata": {},
     "output_type": "execute_result"
    }
   ],
   "source": [
    "np.array(pcd.points)"
   ]
  },
  {
   "attachments": {},
   "cell_type": "markdown",
   "metadata": {},
   "source": [
    "# 2. NaviEdit -> XYZ data beam -> Point cloud\n",
    "- Why?\n",
    "    1. (Important) .las exports points in (num_points, 3) and it's a bit hard to tell which points are from the same beam, which makes it a bit difficult to separete based on time + space\n",
    "    2. (Not so important) the timestamp from the .las export seems to be off (~year 1990)..."
   ]
  },
  {
   "attachments": {},
   "cell_type": "markdown",
   "metadata": {},
   "source": [
    "## 2.1 xyz_pings -> point cloud directly (ignore beam nbr)"
   ]
  },
  {
   "cell_type": "code",
   "execution_count": 2,
   "metadata": {},
   "outputs": [],
   "source": [
    "def process_xyz_pings_file(filepath):\n",
    "    \"\"\"Read a .xyz file containing info about each beam hits and return a processed dataframe\n",
    "    where each row contains info for 1 MBES swath\"\"\"\n",
    "    naviedit_pings = pd.read_csv(filepath, delimiter='\\t', header=0)\n",
    "\n",
    "    # Aggregate xyz hits of each beam into a hits array\n",
    "    naviedit_pings['hit'] = naviedit_pings[['X', 'Y',\n",
    "                                            'Z']].apply(lambda row: list(row),\n",
    "                                                        axis=1)\n",
    "\n",
    "    # Parse string datetime values and produce a datetime object\n",
    "    naviedit_pings['time_string'] = naviedit_pings[[\n",
    "        'yyyy', 'mmddhhmm', 'ss.ss'\n",
    "    ]].apply(lambda row: ''.join(row.values.astype(str)), axis=1)\n",
    "    naviedit_pings['time_string'] = pd.to_datetime(\n",
    "        naviedit_pings['time_string'], format='%Y.%m%d%H%M.0%S.%f')\n",
    "    naviedit_pings['time_stamp'] = naviedit_pings['time_string'].map(\n",
    "        pd.Timestamp.timestamp)\n",
    "\n",
    "    # Group the beams by Ping No -> aggregate hits from the same ping into a list\n",
    "    beams = naviedit_pings.groupby('Ping No').agg({'hit': list})\n",
    "\n",
    "    # Get unique pings\n",
    "    ping_info = naviedit_pings[[\n",
    "        'time_string', 'time_stamp', 'Ping No', 'Tide', 'Heading', 'Heave',\n",
    "        'Pitch', 'Roll'\n",
    "    ]].drop_duplicates().set_index('Ping No')\n",
    "\n",
    "    # Final results with 1 row = 1 MBES swath\n",
    "    mbes_ping_result = ping_info.join(beams)\n",
    "    return mbes_ping_result\n"
   ]
  },
  {
   "cell_type": "code",
   "execution_count": 10,
   "metadata": {},
   "outputs": [
    {
     "data": {
      "text/html": [
       "<div>\n",
       "<style scoped>\n",
       "    .dataframe tbody tr th:only-of-type {\n",
       "        vertical-align: middle;\n",
       "    }\n",
       "\n",
       "    .dataframe tbody tr th {\n",
       "        vertical-align: top;\n",
       "    }\n",
       "\n",
       "    .dataframe thead th {\n",
       "        text-align: right;\n",
       "    }\n",
       "</style>\n",
       "<table border=\"1\" class=\"dataframe\">\n",
       "  <thead>\n",
       "    <tr style=\"text-align: right;\">\n",
       "      <th></th>\n",
       "      <th>time_string</th>\n",
       "      <th>time_stamp</th>\n",
       "      <th>Tide</th>\n",
       "      <th>Heading</th>\n",
       "      <th>Heave</th>\n",
       "      <th>Pitch</th>\n",
       "      <th>Roll</th>\n",
       "      <th>hit</th>\n",
       "    </tr>\n",
       "    <tr>\n",
       "      <th>Ping No</th>\n",
       "      <th></th>\n",
       "      <th></th>\n",
       "      <th></th>\n",
       "      <th></th>\n",
       "      <th></th>\n",
       "      <th></th>\n",
       "      <th></th>\n",
       "      <th></th>\n",
       "    </tr>\n",
       "  </thead>\n",
       "  <tbody>\n",
       "    <tr>\n",
       "      <th>39909</th>\n",
       "      <td>2022-01-19 19:35:53.060</td>\n",
       "      <td>1.642621e+09</td>\n",
       "      <td>0.0</td>\n",
       "      <td>271.83</td>\n",
       "      <td>0.0</td>\n",
       "      <td>11.702</td>\n",
       "      <td>-1.58</td>\n",
       "      <td>[[460722.21, 1778135.04, 904.33], [460722.14, ...</td>\n",
       "    </tr>\n",
       "    <tr>\n",
       "      <th>39910</th>\n",
       "      <td>2022-01-19 19:35:53.410</td>\n",
       "      <td>1.642621e+09</td>\n",
       "      <td>0.0</td>\n",
       "      <td>271.80</td>\n",
       "      <td>0.0</td>\n",
       "      <td>12.408</td>\n",
       "      <td>-1.61</td>\n",
       "      <td>[[460720.75, 1778144.44, 904.97], [460720.69, ...</td>\n",
       "    </tr>\n",
       "    <tr>\n",
       "      <th>39911</th>\n",
       "      <td>2022-01-19 19:35:53.780</td>\n",
       "      <td>1.642621e+09</td>\n",
       "      <td>0.0</td>\n",
       "      <td>271.78</td>\n",
       "      <td>0.0</td>\n",
       "      <td>13.165</td>\n",
       "      <td>-1.64</td>\n",
       "      <td>[[460720.02, 1778146.45, 904.93], [460719.95, ...</td>\n",
       "    </tr>\n",
       "    <tr>\n",
       "      <th>39912</th>\n",
       "      <td>2022-01-19 19:35:54.140</td>\n",
       "      <td>1.642621e+09</td>\n",
       "      <td>0.0</td>\n",
       "      <td>271.75</td>\n",
       "      <td>0.0</td>\n",
       "      <td>13.942</td>\n",
       "      <td>-1.69</td>\n",
       "      <td>[[460719.88, 1778143.95, 904.88], [460719.79, ...</td>\n",
       "    </tr>\n",
       "    <tr>\n",
       "      <th>39913</th>\n",
       "      <td>2022-01-19 19:35:54.500</td>\n",
       "      <td>1.642621e+09</td>\n",
       "      <td>0.0</td>\n",
       "      <td>271.72</td>\n",
       "      <td>0.0</td>\n",
       "      <td>14.718</td>\n",
       "      <td>-1.71</td>\n",
       "      <td>[[460718.38, 1778150.95, 904.99], [460718.21, ...</td>\n",
       "    </tr>\n",
       "  </tbody>\n",
       "</table>\n",
       "</div>"
      ],
      "text/plain": [
       "                    time_string    time_stamp  Tide  Heading  Heave   Pitch   \n",
       "Ping No                                                                       \n",
       "39909   2022-01-19 19:35:53.060  1.642621e+09   0.0   271.83    0.0  11.702  \\\n",
       "39910   2022-01-19 19:35:53.410  1.642621e+09   0.0   271.80    0.0  12.408   \n",
       "39911   2022-01-19 19:35:53.780  1.642621e+09   0.0   271.78    0.0  13.165   \n",
       "39912   2022-01-19 19:35:54.140  1.642621e+09   0.0   271.75    0.0  13.942   \n",
       "39913   2022-01-19 19:35:54.500  1.642621e+09   0.0   271.72    0.0  14.718   \n",
       "\n",
       "         Roll                                                hit  \n",
       "Ping No                                                           \n",
       "39909   -1.58  [[460722.21, 1778135.04, 904.33], [460722.14, ...  \n",
       "39910   -1.61  [[460720.75, 1778144.44, 904.97], [460720.69, ...  \n",
       "39911   -1.64  [[460720.02, 1778146.45, 904.93], [460719.95, ...  \n",
       "39912   -1.69  [[460719.88, 1778143.95, 904.88], [460719.79, ...  \n",
       "39913   -1.71  [[460718.38, 1778150.95, 904.99], [460718.21, ...  "
      ]
     },
     "execution_count": 10,
     "metadata": {},
     "output_type": "execute_result"
    }
   ],
   "source": [
    "df = process_xyz_pings_file('/home/li/Downloads/EM2040-0030-L03S01-20220119-193553.xyz')\n",
    "df.head()"
   ]
  },
  {
   "attachments": {},
   "cell_type": "markdown",
   "metadata": {},
   "source": [
    "## 2.2 xyz_pings -> Numpy array with shape (nbr_pings, nbr_beams, 3)"
   ]
  },
  {
   "cell_type": "code",
   "execution_count": 14,
   "metadata": {},
   "outputs": [
    {
     "data": {
      "text/html": [
       "<div>\n",
       "<style scoped>\n",
       "    .dataframe tbody tr th:only-of-type {\n",
       "        vertical-align: middle;\n",
       "    }\n",
       "\n",
       "    .dataframe tbody tr th {\n",
       "        vertical-align: top;\n",
       "    }\n",
       "\n",
       "    .dataframe thead th {\n",
       "        text-align: right;\n",
       "    }\n",
       "</style>\n",
       "<table border=\"1\" class=\"dataframe\">\n",
       "  <thead>\n",
       "    <tr style=\"text-align: right;\">\n",
       "      <th></th>\n",
       "      <th>yyyy</th>\n",
       "      <th>mmddhhmm</th>\n",
       "      <th>ss.ss</th>\n",
       "      <th>Ping No</th>\n",
       "      <th>Beam No</th>\n",
       "      <th>X</th>\n",
       "      <th>Y</th>\n",
       "      <th>Z</th>\n",
       "      <th>Tide</th>\n",
       "      <th>Heading</th>\n",
       "      <th>Heave</th>\n",
       "      <th>Pitch</th>\n",
       "      <th>Roll</th>\n",
       "    </tr>\n",
       "  </thead>\n",
       "  <tbody>\n",
       "    <tr>\n",
       "      <th>0</th>\n",
       "      <td>2022</td>\n",
       "      <td>1191935</td>\n",
       "      <td>53.06</td>\n",
       "      <td>39909</td>\n",
       "      <td>24</td>\n",
       "      <td>460722.21</td>\n",
       "      <td>1778135.04</td>\n",
       "      <td>904.33</td>\n",
       "      <td>0.0</td>\n",
       "      <td>271.83</td>\n",
       "      <td>0.0</td>\n",
       "      <td>11.702</td>\n",
       "      <td>-1.58</td>\n",
       "    </tr>\n",
       "    <tr>\n",
       "      <th>1</th>\n",
       "      <td>2022</td>\n",
       "      <td>1191935</td>\n",
       "      <td>53.06</td>\n",
       "      <td>39909</td>\n",
       "      <td>25</td>\n",
       "      <td>460722.14</td>\n",
       "      <td>1778135.93</td>\n",
       "      <td>904.26</td>\n",
       "      <td>0.0</td>\n",
       "      <td>271.83</td>\n",
       "      <td>0.0</td>\n",
       "      <td>11.702</td>\n",
       "      <td>-1.58</td>\n",
       "    </tr>\n",
       "    <tr>\n",
       "      <th>2</th>\n",
       "      <td>2022</td>\n",
       "      <td>1191935</td>\n",
       "      <td>53.06</td>\n",
       "      <td>39909</td>\n",
       "      <td>26</td>\n",
       "      <td>460722.07</td>\n",
       "      <td>1778136.49</td>\n",
       "      <td>904.41</td>\n",
       "      <td>0.0</td>\n",
       "      <td>271.83</td>\n",
       "      <td>0.0</td>\n",
       "      <td>11.702</td>\n",
       "      <td>-1.58</td>\n",
       "    </tr>\n",
       "    <tr>\n",
       "      <th>3</th>\n",
       "      <td>2022</td>\n",
       "      <td>1191935</td>\n",
       "      <td>53.06</td>\n",
       "      <td>39909</td>\n",
       "      <td>27</td>\n",
       "      <td>460721.99</td>\n",
       "      <td>1778137.07</td>\n",
       "      <td>904.58</td>\n",
       "      <td>0.0</td>\n",
       "      <td>271.83</td>\n",
       "      <td>0.0</td>\n",
       "      <td>11.702</td>\n",
       "      <td>-1.58</td>\n",
       "    </tr>\n",
       "    <tr>\n",
       "      <th>4</th>\n",
       "      <td>2022</td>\n",
       "      <td>1191935</td>\n",
       "      <td>53.06</td>\n",
       "      <td>39909</td>\n",
       "      <td>28</td>\n",
       "      <td>460721.93</td>\n",
       "      <td>1778137.96</td>\n",
       "      <td>904.46</td>\n",
       "      <td>0.0</td>\n",
       "      <td>271.83</td>\n",
       "      <td>0.0</td>\n",
       "      <td>11.702</td>\n",
       "      <td>-1.58</td>\n",
       "    </tr>\n",
       "  </tbody>\n",
       "</table>\n",
       "</div>"
      ],
      "text/plain": [
       "   yyyy  mmddhhmm  ss.ss  Ping No  Beam No          X           Y       Z   \n",
       "0  2022   1191935  53.06    39909       24  460722.21  1778135.04  904.33  \\\n",
       "1  2022   1191935  53.06    39909       25  460722.14  1778135.93  904.26   \n",
       "2  2022   1191935  53.06    39909       26  460722.07  1778136.49  904.41   \n",
       "3  2022   1191935  53.06    39909       27  460721.99  1778137.07  904.58   \n",
       "4  2022   1191935  53.06    39909       28  460721.93  1778137.96  904.46   \n",
       "\n",
       "   Tide  Heading  Heave   Pitch  Roll  \n",
       "0   0.0   271.83    0.0  11.702 -1.58  \n",
       "1   0.0   271.83    0.0  11.702 -1.58  \n",
       "2   0.0   271.83    0.0  11.702 -1.58  \n",
       "3   0.0   271.83    0.0  11.702 -1.58  \n",
       "4   0.0   271.83    0.0  11.702 -1.58  "
      ]
     },
     "execution_count": 14,
     "metadata": {},
     "output_type": "execute_result"
    }
   ],
   "source": [
    "naviedit_pings = pd.read_csv('/home/li/Downloads/EM2040-0030-L03S01-20220119-193553.xyz', delimiter='\\t', header=0)\n",
    "naviedit_pings.head()"
   ]
  },
  {
   "cell_type": "code",
   "execution_count": 38,
   "metadata": {},
   "outputs": [
    {
     "name": "stdout",
     "output_type": "stream",
     "text": [
      "nbr pings: 2460, max nbr beams: 400\n"
     ]
    }
   ],
   "source": [
    "nbr_pings = naviedit_pings['Ping No'].unique().shape[0]\n",
    "max_nbr_beams = 400\n",
    "print(f'nbr pings: {nbr_pings}, max nbr beams: {max_nbr_beams}')\n",
    "naviedit_pings['ping_id'] = naviedit_pings['Ping No'] - naviedit_pings['Ping No'].min()"
   ]
  },
  {
   "cell_type": "code",
   "execution_count": 78,
   "metadata": {},
   "outputs": [],
   "source": [
    "# iterate through naviedit_pings and populate pings_array\n",
    "pings_array = np.zeros((nbr_pings, max_nbr_beams, 3))\n",
    "for i, row in naviedit_pings.iterrows():\n",
    "    ping_id = row['ping_id'].astype(int)\n",
    "    beam_id = row['Beam No'].astype(int)\n",
    "    pings_array[ping_id, beam_id, :] = row[['X', 'Y', 'Z']]"
   ]
  },
  {
   "cell_type": "code",
   "execution_count": 120,
   "metadata": {},
   "outputs": [
    {
     "name": "stdout",
     "output_type": "stream",
     "text": [
      "% beams with data: 84.46%\n"
     ]
    }
   ],
   "source": [
    "section = pings_array[:500, :200, :].reshape(-1, 3)\n",
    "tmp2 = pings_array[:500, 200:, :].reshape(-1, 3)\n",
    "mask = ~np.all(section == 0, axis=1)\n",
    "mask2 = ~np.all(tmp2 == 0, axis=1)\n",
    "print(f'% beams with data: {np.count_nonzero(mask)/section.shape[0]*100:.2f}%')\n",
    "tmp_pcd = o3d.geometry.PointCloud()\n",
    "tmp_pcd.points = o3d.utility.Vector3dVector(section[mask, :])\n",
    "tmp2_pcd = o3d.geometry.PointCloud()\n",
    "tmp2_pcd.points = o3d.utility.Vector3dVector(tmp2[mask2, :])\n",
    "o3d.visualization.draw_geometries([tmp_pcd, tmp2_pcd])"
   ]
  },
  {
   "cell_type": "code",
   "execution_count": 34,
   "metadata": {},
   "outputs": [],
   "source": [
    "def naviedit_xyz_to_npy(filepath, max_nbr_beams=400):\n",
    "    \"\"\"Given a .xyz file exported by NaviEdit with xyz info for each beam hit,\n",
    "    return a numpy array of shape (nbr_pings, max_nbr_beams, 3) where \n",
    "    array[i, j, :] = [x, y, z] of the jth beam hit in the ith ping. Beam with no\n",
    "    hit will be filled with 0s.\"\"\"\n",
    "\n",
    "    pings = pd.read_csv(filepath, delimiter='\\t', header=0)\n",
    "    # nbr_pings = pings['Ping No'].max() - pings['Ping No'].min() + 1\n",
    "    nbr_pings = pings['Ping No'].unique().shape[0]\n",
    "    print(f'nbr pings: {nbr_pings}, max nbr beams: {max_nbr_beams}')\n",
    "    # pings['ping_id'] = pings['Ping No'] - pings['Ping No'].min()\n",
    "\n",
    "    # iterate through naviedit_pings and populate pings_array\n",
    "    pings_array = np.zeros((nbr_pings, max_nbr_beams, 3))\n",
    "    ping_id = 0\n",
    "    prev_ping_no = pings.iloc[0]['Ping No']\n",
    "    for i, row in tqdm(pings.iterrows(), total=pings.shape[0]):\n",
    "        ping_no = row['Ping No'].astype(int)\n",
    "        if ping_no != prev_ping_no:\n",
    "            ping_id += 1\n",
    "            prev_ping_no = ping_no\n",
    "        beam_id = row['Beam No'].astype(int)\n",
    "        pings_array[ping_id, beam_id, :] = row[['X', 'Y', 'Z']]\n",
    "\n",
    "    return pings_array\n",
    "\n",
    "def plot_pcl_section(pings_array, start_ping=0, end_ping=-1, start_beam=0, end_beam=-1,\n",
    "                     voxel_size=1, capture=False, save_path=None):\n",
    "    \"\"\"Plot a section of the pings_array\"\"\"\n",
    "    section = pings_array[start_ping:end_ping, start_beam:end_beam, :].reshape(-1, 3)\n",
    "    nonzero_mask = ~np.all(section == 0, axis=1)\n",
    "    print(f'ping range: {start_ping} - {end_ping}, beam range: {start_beam} - {end_beam}')\n",
    "    print(f'% beams with data: {np.count_nonzero(nonzero_mask)/section.shape[0]*100:.2f}%')\n",
    "    section_pcd = o3d.geometry.PointCloud()\n",
    "    section_pcd.points = o3d.utility.Vector3dVector(section[nonzero_mask, :])\n",
    "    section_pcd = section_pcd.voxel_down_sample(voxel_size=voxel_size)\n",
    "\n",
    "    if not capture:\n",
    "        o3d.visualization.draw_geometries([section_pcd])\n",
    "    else:\n",
    "        vis = o3d.visualization.Visualizer()\n",
    "        vis.create_window()\n",
    "        vis.add_geometry(section_pcd)\n",
    "        vis.poll_events()\n",
    "        vis.update_renderer()\n",
    "        vis.capture_screen_image(save_path)"
   ]
  },
  {
   "cell_type": "code",
   "execution_count": 37,
   "metadata": {},
   "outputs": [
    {
     "name": "stderr",
     "output_type": "stream",
     "text": [
      "\n"
     ]
    },
    {
     "name": "stdout",
     "output_type": "stream",
     "text": [
      "nbr pings: 2390, max nbr beams: 400\n"
     ]
    },
    {
     "name": "stderr",
     "output_type": "stream",
     "text": [
      "100%|██████████| 834832/834832 [03:31<00:00, 3944.72it/s]\n"
     ]
    },
    {
     "name": "stdout",
     "output_type": "stream",
     "text": [
      "ping range: 0 - -1, beam range: 0 - -1\n",
      "% beams with data: 87.42%\n"
     ]
    }
   ],
   "source": [
    "file70_pings_array = naviedit_xyz_to_npy(\n",
    "    '/home/li/pcl-registration/Datasets/NBP22-mission2-DotsonEast/pings-xyz/EM2040-0070-L12S01-20220120-045451.xyz'\n",
    ")\n",
    "plot_pcl_section(file70_pings_array)\n",
    "np.save('/home/li/pcl-registration/Datasets/NBP22-mission2-DotsonEast/EM2040-0070-L12S01-20220120-045451.npy', file70_pings_array)"
   ]
  },
  {
   "cell_type": "code",
   "execution_count": 4,
   "metadata": {},
   "outputs": [
    {
     "name": "stdout",
     "output_type": "stream",
     "text": [
      "Processing /home/li/pcl-registration/Datasets/NBP22-mission4-DotsonMid/...\n",
      "processing EM2040-0017-pumpco2o-20220128-003109.xyz\n",
      "nbr pings: 2401, max nbr beams: 400\n",
      "saved EM2040-0017-pumpco2o-20220128-003109.npy\n",
      "ping range: 0 - -1, beam range: 0 - -1\n",
      "% beams with data: 89.34%\n",
      "processing EM2040-0018-pumpco2o-20220128-004609.xyz\n",
      "nbr pings: 2487, max nbr beams: 400\n",
      "saved EM2040-0018-pumpco2o-20220128-004609.npy\n",
      "ping range: 0 - -1, beam range: 0 - -1\n",
      "% beams with data: 90.48%\n",
      "processing EM2040-0019-pumpco2o-20220128-010109.xyz\n",
      "nbr pings: 2485, max nbr beams: 400\n",
      "saved EM2040-0019-pumpco2o-20220128-010109.npy\n",
      "ping range: 0 - -1, beam range: 0 - -1\n",
      "% beams with data: 88.91%\n",
      "processing EM2040-0020-pumpco2o-20220128-011609.xyz\n",
      "nbr pings: 2456, max nbr beams: 400\n",
      "saved EM2040-0020-pumpco2o-20220128-011609.npy\n",
      "ping range: 0 - -1, beam range: 0 - -1\n",
      "% beams with data: 89.25%\n",
      "processing EM2040-0021-pumpco2o-20220128-013109.xyz\n",
      "nbr pings: 2598, max nbr beams: 400\n",
      "saved EM2040-0021-pumpco2o-20220128-013109.npy\n",
      "ping range: 0 - -1, beam range: 0 - -1\n",
      "% beams with data: 84.61%\n",
      "processing EM2040-0022-pumpco2o-20220128-014609.xyz\n",
      "nbr pings: 2488, max nbr beams: 400\n",
      "saved EM2040-0022-pumpco2o-20220128-014609.npy\n",
      "ping range: 0 - -1, beam range: 0 - -1\n",
      "% beams with data: 88.69%\n",
      "processing EM2040-0023-pumpco2o-20220128-020109.xyz\n",
      "nbr pings: 2542, max nbr beams: 400\n",
      "saved EM2040-0023-pumpco2o-20220128-020109.npy\n",
      "ping range: 0 - -1, beam range: 0 - -1\n",
      "% beams with data: 92.44%\n",
      "processing EM2040-0024-pumpco2o-20220128-021609.xyz\n",
      "nbr pings: 2512, max nbr beams: 400\n",
      "saved EM2040-0024-pumpco2o-20220128-021609.npy\n",
      "ping range: 0 - -1, beam range: 0 - -1\n",
      "% beams with data: 90.53%\n",
      "processing EM2040-0025-pumpco2o-20220128-023109.xyz\n",
      "nbr pings: 2465, max nbr beams: 400\n",
      "saved EM2040-0025-pumpco2o-20220128-023109.npy\n",
      "ping range: 0 - -1, beam range: 0 - -1\n",
      "% beams with data: 91.82%\n",
      "processing EM2040-0026-pumpco2o-20220128-024609.xyz\n",
      "nbr pings: 2497, max nbr beams: 400\n",
      "saved EM2040-0026-pumpco2o-20220128-024609.npy\n",
      "ping range: 0 - -1, beam range: 0 - -1\n",
      "% beams with data: 89.72%\n",
      "processing EM2040-0027-pumpco2o-20220128-030109.xyz\n",
      "nbr pings: 2399, max nbr beams: 400\n",
      "saved EM2040-0027-pumpco2o-20220128-030109.npy\n",
      "ping range: 0 - -1, beam range: 0 - -1\n",
      "% beams with data: 87.26%\n",
      "processing EM2040-0028-pumpco2o-20220128-031609.xyz\n",
      "nbr pings: 2525, max nbr beams: 400\n",
      "saved EM2040-0028-pumpco2o-20220128-031609.npy\n",
      "ping range: 0 - -1, beam range: 0 - -1\n",
      "% beams with data: 92.17%\n",
      "processing EM2040-0029-pumpco2o-20220128-033109.xyz\n",
      "nbr pings: 2674, max nbr beams: 400\n",
      "saved EM2040-0029-pumpco2o-20220128-033109.npy\n",
      "ping range: 0 - -1, beam range: 0 - -1\n",
      "% beams with data: 91.52%\n",
      "processing EM2040-0030-pumpco2o-20220128-034609.xyz\n",
      "nbr pings: 2618, max nbr beams: 400\n",
      "saved EM2040-0030-pumpco2o-20220128-034609.npy\n",
      "ping range: 0 - -1, beam range: 0 - -1\n",
      "% beams with data: 90.73%\n",
      "processing EM2040-0031-pumpco2o-20220128-040109.xyz\n",
      "nbr pings: 2692, max nbr beams: 400\n",
      "saved EM2040-0031-pumpco2o-20220128-040109.npy\n",
      "ping range: 0 - -1, beam range: 0 - -1\n",
      "% beams with data: 91.17%\n",
      "processing EM2040-0032-pumpco2o-20220128-041609.xyz\n",
      "nbr pings: 2627, max nbr beams: 400\n",
      "saved EM2040-0032-pumpco2o-20220128-041609.npy\n",
      "ping range: 0 - -1, beam range: 0 - -1\n",
      "% beams with data: 90.34%\n",
      "processing EM2040-0033-pumpco2o-20220128-043109.xyz\n",
      "nbr pings: 2649, max nbr beams: 400\n",
      "saved EM2040-0033-pumpco2o-20220128-043109.npy\n",
      "ping range: 0 - -1, beam range: 0 - -1\n",
      "% beams with data: 90.73%\n",
      "processing EM2040-0034-pumpco2o-20220128-044609.xyz\n",
      "nbr pings: 2530, max nbr beams: 400\n",
      "saved EM2040-0034-pumpco2o-20220128-044609.npy\n",
      "ping range: 0 - -1, beam range: 0 - -1\n",
      "% beams with data: 87.96%\n",
      "processing EM2040-0035-pumpco2o-20220128-050109.xyz\n",
      "nbr pings: 2663, max nbr beams: 400\n",
      "saved EM2040-0035-pumpco2o-20220128-050109.npy\n",
      "ping range: 0 - -1, beam range: 0 - -1\n",
      "% beams with data: 87.17%\n",
      "processing EM2040-0036-pumpco2o-20220128-051609.xyz\n",
      "nbr pings: 2666, max nbr beams: 400\n",
      "saved EM2040-0036-pumpco2o-20220128-051609.npy\n",
      "ping range: 0 - -1, beam range: 0 - -1\n",
      "% beams with data: 91.09%\n",
      "processing EM2040-0037-pumpco2o-20220128-053110.xyz\n",
      "nbr pings: 2794, max nbr beams: 400\n",
      "saved EM2040-0037-pumpco2o-20220128-053110.npy\n",
      "ping range: 0 - -1, beam range: 0 - -1\n",
      "% beams with data: 89.96%\n",
      "processing EM2040-0038-pumpco2o-20220128-054610.xyz\n",
      "nbr pings: 2472, max nbr beams: 400\n",
      "saved EM2040-0038-pumpco2o-20220128-054610.npy\n",
      "ping range: 0 - -1, beam range: 0 - -1\n",
      "% beams with data: 89.26%\n",
      "processing EM2040-0039-pumpco2o-20220128-060109.xyz\n",
      "nbr pings: 2502, max nbr beams: 400\n",
      "saved EM2040-0039-pumpco2o-20220128-060109.npy\n",
      "ping range: 0 - -1, beam range: 0 - -1\n",
      "% beams with data: 87.41%\n",
      "processing EM2040-0040-pumpco2o-20220128-061609.xyz\n",
      "nbr pings: 2610, max nbr beams: 400\n",
      "saved EM2040-0040-pumpco2o-20220128-061609.npy\n",
      "ping range: 0 - -1, beam range: 0 - -1\n",
      "% beams with data: 92.21%\n",
      "processing EM2040-0041-pumpco2o-20220128-063109.xyz\n",
      "nbr pings: 2504, max nbr beams: 400\n",
      "saved EM2040-0041-pumpco2o-20220128-063109.npy\n",
      "ping range: 0 - -1, beam range: 0 - -1\n",
      "% beams with data: 92.42%\n",
      "processing EM2040-0042-pumpco2o-20220128-064609.xyz\n",
      "nbr pings: 65536, max nbr beams: 400\n",
      "saved EM2040-0042-pumpco2o-20220128-064609.npy\n",
      "ping range: 0 - -1, beam range: 0 - -1\n",
      "% beams with data: 3.75%\n",
      "processing EM2040-0043-pumpco2o-20220128-070109.xyz\n",
      "nbr pings: 2675, max nbr beams: 400\n",
      "saved EM2040-0043-pumpco2o-20220128-070109.npy\n",
      "ping range: 0 - -1, beam range: 0 - -1\n",
      "% beams with data: 90.19%\n",
      "processing EM2040-0044-pumpco2o-20220128-071609.xyz\n",
      "nbr pings: 2655, max nbr beams: 400\n",
      "saved EM2040-0044-pumpco2o-20220128-071609.npy\n",
      "ping range: 0 - -1, beam range: 0 - -1\n",
      "% beams with data: 88.53%\n",
      "processing EM2040-0045-pumpco2o-20220128-073109.xyz\n",
      "nbr pings: 2633, max nbr beams: 400\n",
      "saved EM2040-0045-pumpco2o-20220128-073109.npy\n",
      "ping range: 0 - -1, beam range: 0 - -1\n",
      "% beams with data: 88.88%\n",
      "processing EM2040-0046-pumpco2o-20220128-074609.xyz\n",
      "nbr pings: 2600, max nbr beams: 400\n",
      "saved EM2040-0046-pumpco2o-20220128-074609.npy\n",
      "ping range: 0 - -1, beam range: 0 - -1\n",
      "% beams with data: 91.17%\n",
      "processing EM2040-0047-pumpco2o-20220128-080109.xyz\n",
      "nbr pings: 2580, max nbr beams: 400\n",
      "saved EM2040-0047-pumpco2o-20220128-080109.npy\n",
      "ping range: 0 - -1, beam range: 0 - -1\n",
      "% beams with data: 91.29%\n",
      "processing EM2040-0048-pumpco2o-20220128-081609.xyz\n",
      "nbr pings: 2635, max nbr beams: 400\n",
      "saved EM2040-0048-pumpco2o-20220128-081609.npy\n",
      "ping range: 0 - -1, beam range: 0 - -1\n",
      "% beams with data: 90.76%\n",
      "processing EM2040-0049-pumpco2o-20220128-083109.xyz\n",
      "nbr pings: 2470, max nbr beams: 400\n",
      "saved EM2040-0049-pumpco2o-20220128-083109.npy\n",
      "ping range: 0 - -1, beam range: 0 - -1\n",
      "% beams with data: 89.68%\n",
      "processing EM2040-0050-pumpco2o-20220128-084609.xyz\n",
      "nbr pings: 2524, max nbr beams: 400\n",
      "saved EM2040-0050-pumpco2o-20220128-084609.npy\n",
      "ping range: 0 - -1, beam range: 0 - -1\n",
      "% beams with data: 91.14%\n",
      "processing EM2040-0051-pumpco2o-20220128-090109.xyz\n",
      "nbr pings: 2772, max nbr beams: 400\n",
      "saved EM2040-0051-pumpco2o-20220128-090109.npy\n",
      "ping range: 0 - -1, beam range: 0 - -1\n",
      "% beams with data: 91.85%\n",
      "processing EM2040-0052-pumpco2o-20220128-091609.xyz\n",
      "nbr pings: 2755, max nbr beams: 400\n",
      "saved EM2040-0052-pumpco2o-20220128-091609.npy\n",
      "ping range: 0 - -1, beam range: 0 - -1\n",
      "% beams with data: 92.26%\n",
      "processing EM2040-0053-pumpco2o-20220128-093109.xyz\n",
      "nbr pings: 2678, max nbr beams: 400\n",
      "saved EM2040-0053-pumpco2o-20220128-093109.npy\n",
      "ping range: 0 - -1, beam range: 0 - -1\n",
      "% beams with data: 90.81%\n",
      "processing EM2040-0054-pumpco2o-20220128-094609.xyz\n",
      "nbr pings: 2728, max nbr beams: 400\n",
      "saved EM2040-0054-pumpco2o-20220128-094609.npy\n",
      "ping range: 0 - -1, beam range: 0 - -1\n",
      "% beams with data: 88.77%\n",
      "processing EM2040-0055-pumpco2o-20220128-100109.xyz\n",
      "nbr pings: 2613, max nbr beams: 400\n",
      "saved EM2040-0055-pumpco2o-20220128-100109.npy\n",
      "ping range: 0 - -1, beam range: 0 - -1\n",
      "% beams with data: 87.77%\n",
      "processing EM2040-0056-pumpco2o-20220128-101609.xyz\n",
      "nbr pings: 2600, max nbr beams: 400\n",
      "saved EM2040-0056-pumpco2o-20220128-101609.npy\n",
      "ping range: 0 - -1, beam range: 0 - -1\n",
      "% beams with data: 89.45%\n",
      "processing EM2040-0057-pumpco2o-20220128-103109.xyz\n",
      "nbr pings: 2627, max nbr beams: 400\n",
      "saved EM2040-0057-pumpco2o-20220128-103109.npy\n",
      "ping range: 0 - -1, beam range: 0 - -1\n",
      "% beams with data: 89.70%\n",
      "processing EM2040-0058-pumpco2o-20220128-104609.xyz\n",
      "nbr pings: 2590, max nbr beams: 400\n",
      "saved EM2040-0058-pumpco2o-20220128-104609.npy\n",
      "ping range: 0 - -1, beam range: 0 - -1\n",
      "% beams with data: 90.31%\n",
      "processing EM2040-0059-pumpco2o-20220128-110109.xyz\n",
      "nbr pings: 2482, max nbr beams: 400\n",
      "saved EM2040-0059-pumpco2o-20220128-110109.npy\n",
      "ping range: 0 - -1, beam range: 0 - -1\n",
      "% beams with data: 89.89%\n",
      "processing EM2040-0060-pumpco2o-20220128-111609.xyz\n",
      "nbr pings: 2538, max nbr beams: 400\n",
      "saved EM2040-0060-pumpco2o-20220128-111609.npy\n",
      "ping range: 0 - -1, beam range: 0 - -1\n",
      "% beams with data: 90.64%\n",
      "processing EM2040-0061-pumpco2o-20220128-113109.xyz\n",
      "nbr pings: 1373, max nbr beams: 400\n",
      "saved EM2040-0061-pumpco2o-20220128-113109.npy\n",
      "ping range: 0 - -1, beam range: 0 - -1\n",
      "% beams with data: 92.26%\n",
      "processing EM2040-0062-LeadIn-20220128-113920.xyz\n",
      "nbr pings: 2464, max nbr beams: 400\n",
      "saved EM2040-0062-LeadIn-20220128-113920.npy\n",
      "ping range: 0 - -1, beam range: 0 - -1\n",
      "% beams with data: 90.40%\n",
      "processing EM2040-0063-LeadIn-20220128-115420.xyz\n",
      "nbr pings: 227, max nbr beams: 400\n",
      "saved EM2040-0063-LeadIn-20220128-115420.npy\n",
      "ping range: 0 - -1, beam range: 0 - -1\n",
      "% beams with data: 92.49%\n",
      "processing EM2040-0064-L01S01-20220128-115544.xyz\n",
      "nbr pings: 2618, max nbr beams: 400\n",
      "saved EM2040-0064-L01S01-20220128-115544.npy\n",
      "ping range: 0 - -1, beam range: 0 - -1\n",
      "% beams with data: 90.99%\n",
      "processing EM2040-0065-L01S01-20220128-121044.xyz\n",
      "nbr pings: 2597, max nbr beams: 400\n",
      "saved EM2040-0065-L01S01-20220128-121044.npy\n",
      "ping range: 0 - -1, beam range: 0 - -1\n",
      "% beams with data: 91.36%\n",
      "processing EM2040-0066-L01S01-20220128-122544.xyz\n",
      "nbr pings: 2575, max nbr beams: 400\n",
      "saved EM2040-0066-L01S01-20220128-122544.npy\n",
      "ping range: 0 - -1, beam range: 0 - -1\n",
      "% beams with data: 90.69%\n",
      "processing EM2040-0067-L01S01-20220128-124044.xyz\n",
      "nbr pings: 2302, max nbr beams: 400\n",
      "saved EM2040-0067-L01S01-20220128-124044.npy\n",
      "ping range: 0 - -1, beam range: 0 - -1\n",
      "% beams with data: 90.99%\n",
      "processing EM2040-0068-L02S01-20220128-125426.xyz\n",
      "nbr pings: 2507, max nbr beams: 400\n",
      "saved EM2040-0068-L02S01-20220128-125426.npy\n",
      "ping range: 0 - -1, beam range: 0 - -1\n",
      "% beams with data: 91.23%\n",
      "processing EM2040-0069-L02S01-20220128-130926.xyz\n",
      "nbr pings: 65536, max nbr beams: 400\n",
      "saved EM2040-0069-L02S01-20220128-130926.npy\n",
      "ping range: 0 - -1, beam range: 0 - -1\n",
      "% beams with data: 3.51%\n",
      "processing EM2040-0070-L02S01-20220128-132426.xyz\n",
      "nbr pings: 2585, max nbr beams: 400\n",
      "saved EM2040-0070-L02S01-20220128-132426.npy\n",
      "ping range: 0 - -1, beam range: 0 - -1\n",
      "% beams with data: 91.70%\n",
      "processing EM2040-0071-L02S01-20220128-133926.xyz\n",
      "nbr pings: 2385, max nbr beams: 400\n",
      "saved EM2040-0071-L02S01-20220128-133926.npy\n",
      "ping range: 0 - -1, beam range: 0 - -1\n",
      "% beams with data: 90.75%\n",
      "processing EM2040-0072-L03S01-20220128-135310.xyz\n",
      "nbr pings: 2547, max nbr beams: 400\n",
      "saved EM2040-0072-L03S01-20220128-135310.npy\n",
      "ping range: 0 - -1, beam range: 0 - -1\n",
      "% beams with data: 90.93%\n",
      "processing EM2040-0073-L03S01-20220128-140810.xyz\n",
      "nbr pings: 2610, max nbr beams: 400\n",
      "saved EM2040-0073-L03S01-20220128-140810.npy\n",
      "ping range: 0 - -1, beam range: 0 - -1\n",
      "% beams with data: 91.38%\n",
      "processing EM2040-0074-L03S01-20220128-142310.xyz\n",
      "nbr pings: 2564, max nbr beams: 400\n",
      "saved EM2040-0074-L03S01-20220128-142310.npy\n",
      "ping range: 0 - -1, beam range: 0 - -1\n",
      "% beams with data: 90.78%\n",
      "processing EM2040-0075-L03S01-20220128-143810.xyz\n",
      "nbr pings: 2323, max nbr beams: 400\n",
      "saved EM2040-0075-L03S01-20220128-143810.npy\n",
      "ping range: 0 - -1, beam range: 0 - -1\n",
      "% beams with data: 91.03%\n",
      "processing EM2040-0076-L04S01-20220128-145154.xyz\n",
      "nbr pings: 2563, max nbr beams: 400\n",
      "saved EM2040-0076-L04S01-20220128-145154.npy\n",
      "ping range: 0 - -1, beam range: 0 - -1\n",
      "% beams with data: 90.91%\n",
      "processing EM2040-0077-L04S01-20220128-150654.xyz\n",
      "nbr pings: 2550, max nbr beams: 400\n",
      "saved EM2040-0077-L04S01-20220128-150654.npy\n",
      "ping range: 0 - -1, beam range: 0 - -1\n",
      "% beams with data: 90.59%\n",
      "processing EM2040-0078-L04S01-20220128-152154.xyz\n",
      "nbr pings: 2613, max nbr beams: 400\n",
      "saved EM2040-0078-L04S01-20220128-152154.npy\n",
      "ping range: 0 - -1, beam range: 0 - -1\n",
      "% beams with data: 91.07%\n",
      "processing EM2040-0079-L04S01-20220128-153654.xyz\n",
      "nbr pings: 2405, max nbr beams: 400\n",
      "saved EM2040-0079-L04S01-20220128-153654.npy\n",
      "ping range: 0 - -1, beam range: 0 - -1\n",
      "% beams with data: 91.29%\n",
      "processing EM2040-0080-L05S01-20220128-155040.xyz\n",
      "nbr pings: 2546, max nbr beams: 400\n",
      "saved EM2040-0080-L05S01-20220128-155040.npy\n",
      "ping range: 0 - -1, beam range: 0 - -1\n",
      "% beams with data: 91.05%\n",
      "processing EM2040-0081-L05S01-20220128-160540.xyz\n",
      "nbr pings: 2611, max nbr beams: 400\n",
      "saved EM2040-0081-L05S01-20220128-160540.npy\n",
      "ping range: 0 - -1, beam range: 0 - -1\n",
      "% beams with data: 90.89%\n",
      "processing EM2040-0082-L05S01-20220128-162040.xyz\n",
      "nbr pings: 2518, max nbr beams: 400\n",
      "saved EM2040-0082-L05S01-20220128-162040.npy\n",
      "ping range: 0 - -1, beam range: 0 - -1\n",
      "% beams with data: 90.56%\n",
      "processing EM2040-0083-L05S01-20220128-163540.xyz\n",
      "nbr pings: 2371, max nbr beams: 400\n",
      "saved EM2040-0083-L05S01-20220128-163540.npy\n",
      "ping range: 0 - -1, beam range: 0 - -1\n",
      "% beams with data: 90.97%\n",
      "processing EM2040-0084-L06S01-20220128-164934.xyz\n",
      "nbr pings: 2551, max nbr beams: 400\n",
      "saved EM2040-0084-L06S01-20220128-164934.npy\n",
      "ping range: 0 - -1, beam range: 0 - -1\n",
      "% beams with data: 91.08%\n",
      "processing EM2040-0085-L06S01-20220128-170434.xyz\n",
      "nbr pings: 2473, max nbr beams: 400\n",
      "saved EM2040-0085-L06S01-20220128-170434.npy\n",
      "ping range: 0 - -1, beam range: 0 - -1\n",
      "% beams with data: 90.99%\n",
      "processing EM2040-0086-L06S01-20220128-171934.xyz\n",
      "nbr pings: 2628, max nbr beams: 400\n",
      "saved EM2040-0086-L06S01-20220128-171934.npy\n",
      "ping range: 0 - -1, beam range: 0 - -1\n",
      "% beams with data: 90.85%\n",
      "processing EM2040-0087-L06S01-20220128-173434.xyz\n",
      "nbr pings: 2359, max nbr beams: 400\n",
      "saved EM2040-0087-L06S01-20220128-173434.npy\n",
      "ping range: 0 - -1, beam range: 0 - -1\n",
      "% beams with data: 91.18%\n",
      "processing EM2040-0088-L07S01-20220128-174817.xyz\n",
      "nbr pings: 2532, max nbr beams: 400\n",
      "saved EM2040-0088-L07S01-20220128-174817.npy\n",
      "ping range: 0 - -1, beam range: 0 - -1\n",
      "% beams with data: 91.07%\n",
      "processing EM2040-0089-L07S01-20220128-180317.xyz\n",
      "nbr pings: 2614, max nbr beams: 400\n",
      "saved EM2040-0089-L07S01-20220128-180317.npy\n",
      "ping range: 0 - -1, beam range: 0 - -1\n",
      "% beams with data: 90.80%\n",
      "processing EM2040-0090-L07S01-20220128-181817.xyz\n",
      "nbr pings: 2548, max nbr beams: 400\n",
      "saved EM2040-0090-L07S01-20220128-181817.npy\n",
      "ping range: 0 - -1, beam range: 0 - -1\n",
      "% beams with data: 91.06%\n",
      "processing EM2040-0091-L07S01-20220128-183317.xyz\n",
      "nbr pings: 2392, max nbr beams: 400\n",
      "saved EM2040-0091-L07S01-20220128-183317.npy\n",
      "ping range: 0 - -1, beam range: 0 - -1\n",
      "% beams with data: 91.08%\n",
      "processing EM2040-0092-L08S01-20220128-184719.xyz\n",
      "nbr pings: 2495, max nbr beams: 400\n",
      "saved EM2040-0092-L08S01-20220128-184719.npy\n",
      "ping range: 0 - -1, beam range: 0 - -1\n",
      "% beams with data: 90.89%\n",
      "processing EM2040-0093-L08S01-20220128-190219.xyz\n",
      "nbr pings: 2522, max nbr beams: 400\n",
      "saved EM2040-0093-L08S01-20220128-190219.npy\n",
      "ping range: 0 - -1, beam range: 0 - -1\n",
      "% beams with data: 91.58%\n",
      "processing EM2040-0094-L08S01-20220128-191719.xyz\n",
      "nbr pings: 2615, max nbr beams: 400\n",
      "saved EM2040-0094-L08S01-20220128-191719.npy\n",
      "ping range: 0 - -1, beam range: 0 - -1\n",
      "% beams with data: 91.26%\n",
      "processing EM2040-0095-L08S01-20220128-193219.xyz\n",
      "nbr pings: 65536, max nbr beams: 400\n",
      "saved EM2040-0095-L08S01-20220128-193219.npy\n",
      "ping range: 0 - -1, beam range: 0 - -1\n",
      "% beams with data: 3.29%\n",
      "processing EM2040-0096-L09S01-20220128-194608.xyz\n",
      "nbr pings: 2553, max nbr beams: 400\n",
      "saved EM2040-0096-L09S01-20220128-194608.npy\n",
      "ping range: 0 - -1, beam range: 0 - -1\n",
      "% beams with data: 91.36%\n",
      "processing EM2040-0097-L09S01-20220128-200107.xyz\n",
      "nbr pings: 2550, max nbr beams: 400\n",
      "saved EM2040-0097-L09S01-20220128-200107.npy\n",
      "ping range: 0 - -1, beam range: 0 - -1\n",
      "% beams with data: 91.17%\n",
      "processing EM2040-0098-L09S01-20220128-201607.xyz\n",
      "nbr pings: 2563, max nbr beams: 400\n",
      "saved EM2040-0098-L09S01-20220128-201607.npy\n",
      "ping range: 0 - -1, beam range: 0 - -1\n",
      "% beams with data: 91.39%\n",
      "processing EM2040-0099-L09S01-20220128-203108.xyz\n",
      "nbr pings: 2328, max nbr beams: 400\n",
      "saved EM2040-0099-L09S01-20220128-203108.npy\n",
      "ping range: 0 - -1, beam range: 0 - -1\n",
      "% beams with data: 90.88%\n",
      "processing EM2040-0100-L10S01-20220128-204451.xyz\n",
      "nbr pings: 2503, max nbr beams: 400\n",
      "saved EM2040-0100-L10S01-20220128-204451.npy\n",
      "ping range: 0 - -1, beam range: 0 - -1\n",
      "% beams with data: 91.77%\n",
      "processing EM2040-0101-L10S01-20220128-205951.xyz\n",
      "nbr pings: 2599, max nbr beams: 400\n",
      "saved EM2040-0101-L10S01-20220128-205951.npy\n",
      "ping range: 0 - -1, beam range: 0 - -1\n",
      "% beams with data: 90.79%\n",
      "processing EM2040-0102-L10S01-20220128-211451.xyz\n",
      "nbr pings: 2580, max nbr beams: 400\n",
      "saved EM2040-0102-L10S01-20220128-211451.npy\n",
      "ping range: 0 - -1, beam range: 0 - -1\n",
      "% beams with data: 91.05%\n",
      "processing EM2040-0103-L10S01-20220128-212951.xyz\n",
      "nbr pings: 2378, max nbr beams: 400\n",
      "saved EM2040-0103-L10S01-20220128-212951.npy\n",
      "ping range: 0 - -1, beam range: 0 - -1\n",
      "% beams with data: 91.11%\n",
      "processing EM2040-0104-L11S01-20220128-214346.xyz\n",
      "nbr pings: 2531, max nbr beams: 400\n",
      "saved EM2040-0104-L11S01-20220128-214346.npy\n",
      "ping range: 0 - -1, beam range: 0 - -1\n",
      "% beams with data: 91.39%\n",
      "processing EM2040-0105-L11S01-20220128-215846.xyz\n",
      "nbr pings: 2520, max nbr beams: 400\n",
      "saved EM2040-0105-L11S01-20220128-215846.npy\n",
      "ping range: 0 - -1, beam range: 0 - -1\n",
      "% beams with data: 91.02%\n",
      "processing EM2040-0106-L11S01-20220128-221346.xyz\n",
      "nbr pings: 2616, max nbr beams: 400\n",
      "saved EM2040-0106-L11S01-20220128-221346.npy\n",
      "ping range: 0 - -1, beam range: 0 - -1\n",
      "% beams with data: 90.93%\n",
      "processing EM2040-0107-L11S01-20220128-222846.xyz\n",
      "nbr pings: 2420, max nbr beams: 400\n",
      "saved EM2040-0107-L11S01-20220128-222846.npy\n",
      "ping range: 0 - -1, beam range: 0 - -1\n",
      "% beams with data: 90.80%\n",
      "processing EM2040-0108-L12S01-20220128-224248.xyz\n",
      "nbr pings: 2522, max nbr beams: 400\n",
      "saved EM2040-0108-L12S01-20220128-224248.npy\n",
      "ping range: 0 - -1, beam range: 0 - -1\n",
      "% beams with data: 90.92%\n",
      "processing EM2040-0109-L12S01-20220128-225748.xyz\n",
      "nbr pings: 2635, max nbr beams: 400\n",
      "saved EM2040-0109-L12S01-20220128-225748.npy\n",
      "ping range: 0 - -1, beam range: 0 - -1\n",
      "% beams with data: 91.03%\n",
      "processing EM2040-0110-L12S01-20220128-231248.xyz\n",
      "nbr pings: 2569, max nbr beams: 400\n",
      "saved EM2040-0110-L12S01-20220128-231248.npy\n",
      "ping range: 0 - -1, beam range: 0 - -1\n",
      "% beams with data: 90.98%\n",
      "processing EM2040-0111-L12S01-20220128-232748.xyz\n",
      "nbr pings: 2510, max nbr beams: 400\n",
      "saved EM2040-0111-L12S01-20220128-232748.npy\n",
      "ping range: 0 - -1, beam range: 0 - -1\n",
      "% beams with data: 91.78%\n",
      "processing EM2040-0112-L12S01-20220128-234248.xyz\n",
      "nbr pings: 2503, max nbr beams: 400\n",
      "saved EM2040-0112-L12S01-20220128-234248.npy\n",
      "ping range: 0 - -1, beam range: 0 - -1\n",
      "% beams with data: 92.03%\n",
      "processing EM2040-0113-L12S01-20220128-235748.xyz\n",
      "nbr pings: 2541, max nbr beams: 400\n",
      "saved EM2040-0113-L12S01-20220128-235748.npy\n",
      "ping range: 0 - -1, beam range: 0 - -1\n",
      "% beams with data: 90.85%\n",
      "processing EM2040-0114-L12S01-20220129-001248.xyz\n",
      "nbr pings: 2606, max nbr beams: 400\n",
      "saved EM2040-0114-L12S01-20220129-001248.npy\n",
      "ping range: 0 - -1, beam range: 0 - -1\n",
      "% beams with data: 90.70%\n",
      "processing EM2040-0115-L12S01-20220129-002748.xyz\n",
      "nbr pings: 2579, max nbr beams: 400\n",
      "saved EM2040-0115-L12S01-20220129-002748.npy\n",
      "ping range: 0 - -1, beam range: 0 - -1\n",
      "% beams with data: 91.22%\n",
      "processing EM2040-0116-L12S01-20220129-004248.xyz\n",
      "nbr pings: 2606, max nbr beams: 400\n",
      "saved EM2040-0116-L12S01-20220129-004248.npy\n",
      "ping range: 0 - -1, beam range: 0 - -1\n",
      "% beams with data: 90.80%\n",
      "processing EM2040-0117-L12S01-20220129-005748.xyz\n",
      "nbr pings: 2615, max nbr beams: 400\n",
      "saved EM2040-0117-L12S01-20220129-005748.npy\n",
      "ping range: 0 - -1, beam range: 0 - -1\n",
      "% beams with data: 91.13%\n",
      "[Open3D INFO]   -- Mouse view control --\n",
      "[Open3D INFO]     Left button + drag         : Rotate.\n",
      "[Open3D INFO]     Ctrl + left button + drag  : Translate.\n",
      "[Open3D INFO]     Wheel button + drag        : Translate.\n",
      "[Open3D INFO]     Shift + left button + drag : Roll.\n",
      "[Open3D INFO]     Wheel                      : Zoom in/out.\n",
      "[Open3D INFO] \n",
      "[Open3D INFO]   -- Keyboard view control --\n",
      "[Open3D INFO]     [/]          : Increase/decrease field of view.\n",
      "[Open3D INFO]     R            : Reset view point.\n",
      "[Open3D INFO]     Ctrl/Cmd + C : Copy current view status into the clipboard.\n",
      "[Open3D INFO]     Ctrl/Cmd + V : Paste view status from clipboard.\n",
      "[Open3D INFO] \n",
      "[Open3D INFO]   -- General control --\n",
      "[Open3D INFO]     Q, Esc       : Exit window.\n",
      "[Open3D INFO]     H            : Print help message.\n",
      "[Open3D INFO]     P, PrtScn    : Take a screen capture.\n",
      "[Open3D INFO]     D            : Take a depth capture.\n",
      "[Open3D INFO]     O            : Take a capture of current rendering settings.\n",
      "[Open3D INFO] \n",
      "[Open3D INFO]   -- Render mode control --\n",
      "[Open3D INFO]     L            : Turn on/off lighting.\n",
      "[Open3D INFO]     +/-          : Increase/decrease point size.\n",
      "[Open3D INFO]     Ctrl + +/-   : Increase/decrease width of geometry::LineSet.\n",
      "[Open3D INFO]     N            : Turn on/off point cloud normal rendering.\n",
      "[Open3D INFO]     S            : Toggle between mesh flat shading and smooth shading.\n",
      "[Open3D INFO]     W            : Turn on/off mesh wireframe.\n",
      "[Open3D INFO]     B            : Turn on/off back face rendering.\n",
      "[Open3D INFO]     I            : Turn on/off image zoom in interpolation.\n",
      "[Open3D INFO]     T            : Toggle among image render:\n",
      "[Open3D INFO]                    no stretch / keep ratio / freely stretch.\n",
      "[Open3D INFO] \n",
      "[Open3D INFO]   -- Color control --\n",
      "[Open3D INFO]     0..4,9       : Set point cloud color option.\n",
      "[Open3D INFO]                    0 - Default behavior, render point color.\n",
      "[Open3D INFO]                    1 - Render point color.\n",
      "[Open3D INFO]                    2 - x coordinate as color.\n",
      "[Open3D INFO]                    3 - y coordinate as color.\n",
      "[Open3D INFO]                    4 - z coordinate as color.\n",
      "[Open3D INFO]                    9 - normal as color.\n",
      "[Open3D INFO]     Ctrl + 0..4,9: Set mesh color option.\n",
      "[Open3D INFO]                    0 - Default behavior, render uniform gray color.\n",
      "[Open3D INFO]                    1 - Render point color.\n",
      "[Open3D INFO]                    2 - x coordinate as color.\n",
      "[Open3D INFO]                    3 - y coordinate as color.\n",
      "[Open3D INFO]                    4 - z coordinate as color.\n",
      "[Open3D INFO]                    9 - normal as color.\n",
      "[Open3D INFO]     Shift + 0..4 : Color map options.\n",
      "[Open3D INFO]                    0 - Gray scale color.\n",
      "[Open3D INFO]                    1 - JET color map.\n",
      "[Open3D INFO]                    2 - SUMMER color map.\n",
      "[Open3D INFO]                    3 - WINTER color map.\n",
      "[Open3D INFO]                    4 - HOT color map.\n",
      "[Open3D INFO] \n",
      "processing EM2040-0118-L12S01-20220129-011248.xyz\n",
      "nbr pings: 2563, max nbr beams: 400\n",
      "saved EM2040-0118-L12S01-20220129-011248.npy\n",
      "ping range: 0 - -1, beam range: 0 - -1\n",
      "% beams with data: 91.48%\n",
      "processing EM2040-0119-L12S01-20220129-012748.xyz\n",
      "nbr pings: 2508, max nbr beams: 400\n",
      "saved EM2040-0119-L12S01-20220129-012748.npy\n",
      "ping range: 0 - -1, beam range: 0 - -1\n",
      "% beams with data: 89.86%\n",
      "processing EM2040-0120-L12S01-20220129-014248.xyz\n",
      "nbr pings: 65536, max nbr beams: 400\n",
      "saved EM2040-0120-L12S01-20220129-014248.npy\n",
      "ping range: 0 - -1, beam range: 0 - -1\n",
      "% beams with data: 3.51%\n",
      "processing EM2040-0121-L12S01-20220129-015748.xyz\n",
      "nbr pings: 2542, max nbr beams: 400\n",
      "saved EM2040-0121-L12S01-20220129-015748.npy\n",
      "ping range: 0 - -1, beam range: 0 - -1\n",
      "% beams with data: 90.81%\n",
      "processing EM2040-0122-L12S01-20220129-021248.xyz\n",
      "nbr pings: 2599, max nbr beams: 400\n",
      "saved EM2040-0122-L12S01-20220129-021248.npy\n",
      "ping range: 0 - -1, beam range: 0 - -1\n",
      "% beams with data: 39.30%\n"
     ]
    }
   ],
   "source": [
    "folders = [#'/home/li/pcl-registration/Datasets/NBP22-mission2-DotsonEast/',\n",
    "           #'/home/li/pcl-registration/Datasets/NBP22-mission3-DotsonWest/',\n",
    "           '/home/li/pcl-registration/Datasets/NBP22-mission4-DotsonMid/']\n",
    "for folder in folders:\n",
    "    print(f'Processing {folder}...')\n",
    "    for filename in sorted(os.listdir(folder)):\n",
    "        if filename.endswith('.xyz'):\n",
    "            out_filename = f'{filename.split(\".\")[0]}'\n",
    "            if (os.path.exists(os.path.join(folder, f'{out_filename}.npy'))):\n",
    "                print(f'{out_filename}.npy already exists, skipping...')\n",
    "                continue\n",
    "            print(f'processing {filename}')\n",
    "            pings_array = naviedit_xyz_to_npy(folder + filename)\n",
    "            np.save(os.path.join(folder, f'{out_filename}.npy'), pings_array)\n",
    "            print(f'saved {out_filename}.npy')\n",
    "            plot_pcl_section(pings_array,\n",
    "                            capture=True,\n",
    "                            save_path=os.path.join(folder, f'{out_filename}.png'))\n",
    "            "
   ]
  },
  {
   "cell_type": "code",
   "execution_count": 53,
   "metadata": {},
   "outputs": [],
   "source": [
    "filename = '/home/li/pcl-registration/Datasets/NBP22-mission3-DotsonWest/EM2040-0086-L11S01-20220123-062247.xyz'\n",
    "df = pd.read_csv(filename, delimiter='\\t', header=0)"
   ]
  },
  {
   "cell_type": "code",
   "execution_count": 61,
   "metadata": {},
   "outputs": [
    {
     "name": "stdout",
     "output_type": "stream",
     "text": [
      "nbr pings: 126.0\n"
     ]
    },
    {
     "data": {
      "text/html": [
       "<div>\n",
       "<style scoped>\n",
       "    .dataframe tbody tr th:only-of-type {\n",
       "        vertical-align: middle;\n",
       "    }\n",
       "\n",
       "    .dataframe tbody tr th {\n",
       "        vertical-align: top;\n",
       "    }\n",
       "\n",
       "    .dataframe thead th {\n",
       "        text-align: right;\n",
       "    }\n",
       "</style>\n",
       "<table border=\"1\" class=\"dataframe\">\n",
       "  <thead>\n",
       "    <tr style=\"text-align: right;\">\n",
       "      <th></th>\n",
       "      <th>yyyy</th>\n",
       "      <th>mmddhhmm</th>\n",
       "      <th>ss.ss</th>\n",
       "      <th>Ping No</th>\n",
       "      <th>Beam No</th>\n",
       "      <th>X</th>\n",
       "      <th>Y</th>\n",
       "      <th>Z</th>\n",
       "      <th>Tide</th>\n",
       "      <th>Heading</th>\n",
       "      <th>Heave</th>\n",
       "      <th>Pitch</th>\n",
       "      <th>Roll</th>\n",
       "      <th>ping_id</th>\n",
       "    </tr>\n",
       "  </thead>\n",
       "  <tbody>\n",
       "    <tr>\n",
       "      <th>46011</th>\n",
       "      <td>2022</td>\n",
       "      <td>1230623</td>\n",
       "      <td>37.84</td>\n",
       "      <td>65151.0</td>\n",
       "      <td>322.0</td>\n",
       "      <td>441032.71</td>\n",
       "      <td>1763357.83</td>\n",
       "      <td>787.00</td>\n",
       "      <td>0.0</td>\n",
       "      <td>199.73</td>\n",
       "      <td>0.0</td>\n",
       "      <td>6.69</td>\n",
       "      <td>-1.59</td>\n",
       "      <td>125.0</td>\n",
       "    </tr>\n",
       "    <tr>\n",
       "      <th>46012</th>\n",
       "      <td>2022</td>\n",
       "      <td>1230623</td>\n",
       "      <td>37.84</td>\n",
       "      <td>65151.0</td>\n",
       "      <td>323.0</td>\n",
       "      <td>441028.76</td>\n",
       "      <td>1763359.11</td>\n",
       "      <td>789.99</td>\n",
       "      <td>0.0</td>\n",
       "      <td>199.73</td>\n",
       "      <td>0.0</td>\n",
       "      <td>6.69</td>\n",
       "      <td>-1.59</td>\n",
       "      <td>125.0</td>\n",
       "    </tr>\n",
       "    <tr>\n",
       "      <th>46013</th>\n",
       "      <td>2022</td>\n",
       "      <td>1230623</td>\n",
       "      <td>37.84</td>\n",
       "      <td>65151.0</td>\n",
       "      <td>326.0</td>\n",
       "      <td>441017.87</td>\n",
       "      <td>1763362.66</td>\n",
       "      <td>797.71</td>\n",
       "      <td>0.0</td>\n",
       "      <td>199.73</td>\n",
       "      <td>0.0</td>\n",
       "      <td>6.69</td>\n",
       "      <td>-1.59</td>\n",
       "      <td>125.0</td>\n",
       "    </tr>\n",
       "    <tr>\n",
       "      <th>46014</th>\n",
       "      <td>2022</td>\n",
       "      <td>1230623</td>\n",
       "      <td>37.84</td>\n",
       "      <td>65151.0</td>\n",
       "      <td>327.0</td>\n",
       "      <td>441014.65</td>\n",
       "      <td>1763363.73</td>\n",
       "      <td>799.82</td>\n",
       "      <td>0.0</td>\n",
       "      <td>199.73</td>\n",
       "      <td>0.0</td>\n",
       "      <td>6.69</td>\n",
       "      <td>-1.59</td>\n",
       "      <td>125.0</td>\n",
       "    </tr>\n",
       "    <tr>\n",
       "      <th>46015</th>\n",
       "      <td>2022</td>\n",
       "      <td>1230623</td>\n",
       "      <td>37.00</td>\n",
       "      <td>NaN</td>\n",
       "      <td>NaN</td>\n",
       "      <td>NaN</td>\n",
       "      <td>NaN</td>\n",
       "      <td>NaN</td>\n",
       "      <td>NaN</td>\n",
       "      <td>NaN</td>\n",
       "      <td>NaN</td>\n",
       "      <td>NaN</td>\n",
       "      <td>NaN</td>\n",
       "      <td>NaN</td>\n",
       "    </tr>\n",
       "  </tbody>\n",
       "</table>\n",
       "</div>"
      ],
      "text/plain": [
       "       yyyy  mmddhhmm  ss.ss  Ping No  Beam No          X           Y       Z   \n",
       "46011  2022   1230623  37.84  65151.0    322.0  441032.71  1763357.83  787.00  \\\n",
       "46012  2022   1230623  37.84  65151.0    323.0  441028.76  1763359.11  789.99   \n",
       "46013  2022   1230623  37.84  65151.0    326.0  441017.87  1763362.66  797.71   \n",
       "46014  2022   1230623  37.84  65151.0    327.0  441014.65  1763363.73  799.82   \n",
       "46015  2022   1230623  37.00      NaN      NaN        NaN         NaN     NaN   \n",
       "\n",
       "       Tide  Heading  Heave  Pitch  Roll  ping_id  \n",
       "46011   0.0   199.73    0.0   6.69 -1.59    125.0  \n",
       "46012   0.0   199.73    0.0   6.69 -1.59    125.0  \n",
       "46013   0.0   199.73    0.0   6.69 -1.59    125.0  \n",
       "46014   0.0   199.73    0.0   6.69 -1.59    125.0  \n",
       "46015   NaN      NaN    NaN    NaN   NaN      NaN  "
      ]
     },
     "execution_count": 61,
     "metadata": {},
     "output_type": "execute_result"
    }
   ],
   "source": [
    "#plot_pcl_section(tmp, start_ping=0, end_ping=500, start_beam=0, end_beam=100, capture=True, save_path=f'{filename.split(\".\")[0]}.png')\n",
    "print(f\"nbr pings: {df['Ping No'].max() - df['Ping No'].min() + 1}\")\n",
    "df['Ping No'].max() - df['Ping No'].min()\n",
    "df.tail()"
   ]
  },
  {
   "cell_type": "code",
   "execution_count": null,
   "metadata": {},
   "outputs": [],
   "source": []
  },
  {
   "attachments": {},
   "cell_type": "markdown",
   "metadata": {},
   "source": [
    "# 3. Merge Navigation Data"
   ]
  },
  {
   "attachments": {},
   "cell_type": "markdown",
   "metadata": {},
   "source": [
    "## 3.1 Testing with one file"
   ]
  },
  {
   "cell_type": "code",
   "execution_count": 2,
   "metadata": {},
   "outputs": [
    {
     "data": {
      "text/html": [
       "<div>\n",
       "<style scoped>\n",
       "    .dataframe tbody tr th:only-of-type {\n",
       "        vertical-align: middle;\n",
       "    }\n",
       "\n",
       "    .dataframe tbody tr th {\n",
       "        vertical-align: top;\n",
       "    }\n",
       "\n",
       "    .dataframe thead th {\n",
       "        text-align: right;\n",
       "    }\n",
       "</style>\n",
       "<table border=\"1\" class=\"dataframe\">\n",
       "  <thead>\n",
       "    <tr style=\"text-align: right;\">\n",
       "      <th></th>\n",
       "      <th>Date</th>\n",
       "      <th>Time</th>\n",
       "      <th>Lat</th>\n",
       "      <th>Long</th>\n",
       "      <th>Depth</th>\n",
       "      <th>Heading</th>\n",
       "      <th>Pitch</th>\n",
       "      <th>Roll</th>\n",
       "    </tr>\n",
       "  </thead>\n",
       "  <tbody>\n",
       "    <tr>\n",
       "      <th>0</th>\n",
       "      <td>2022-01-19</td>\n",
       "      <td>15:42:33.723</td>\n",
       "      <td>-73.990000</td>\n",
       "      <td>-111.797926</td>\n",
       "      <td>350.52</td>\n",
       "      <td>270.25</td>\n",
       "      <td>-1.35</td>\n",
       "      <td>-1.84</td>\n",
       "    </tr>\n",
       "    <tr>\n",
       "      <th>1</th>\n",
       "      <td>2022-01-19</td>\n",
       "      <td>15:42:33.923</td>\n",
       "      <td>-73.989983</td>\n",
       "      <td>-111.798010</td>\n",
       "      <td>350.54</td>\n",
       "      <td>270.23</td>\n",
       "      <td>-1.25</td>\n",
       "      <td>-1.88</td>\n",
       "    </tr>\n",
       "    <tr>\n",
       "      <th>2</th>\n",
       "      <td>2022-01-19</td>\n",
       "      <td>15:42:34.123</td>\n",
       "      <td>-73.989983</td>\n",
       "      <td>-111.798022</td>\n",
       "      <td>350.57</td>\n",
       "      <td>270.21</td>\n",
       "      <td>-1.17</td>\n",
       "      <td>-1.92</td>\n",
       "    </tr>\n",
       "    <tr>\n",
       "      <th>3</th>\n",
       "      <td>2022-01-19</td>\n",
       "      <td>15:42:34.323</td>\n",
       "      <td>-73.989983</td>\n",
       "      <td>-111.798035</td>\n",
       "      <td>350.60</td>\n",
       "      <td>270.20</td>\n",
       "      <td>-1.08</td>\n",
       "      <td>-1.93</td>\n",
       "    </tr>\n",
       "    <tr>\n",
       "      <th>4</th>\n",
       "      <td>2022-01-19</td>\n",
       "      <td>15:42:34.523</td>\n",
       "      <td>-73.989983</td>\n",
       "      <td>-111.798048</td>\n",
       "      <td>350.61</td>\n",
       "      <td>270.19</td>\n",
       "      <td>-1.00</td>\n",
       "      <td>-1.95</td>\n",
       "    </tr>\n",
       "  </tbody>\n",
       "</table>\n",
       "</div>"
      ],
      "text/plain": [
       "         Date          Time        Lat        Long   Depth  Heading  Pitch   \n",
       "0  2022-01-19  15:42:33.723 -73.990000 -111.797926  350.52   270.25  -1.35  \\\n",
       "1  2022-01-19  15:42:33.923 -73.989983 -111.798010  350.54   270.23  -1.25   \n",
       "2  2022-01-19  15:42:34.123 -73.989983 -111.798022  350.57   270.21  -1.17   \n",
       "3  2022-01-19  15:42:34.323 -73.989983 -111.798035  350.60   270.20  -1.08   \n",
       "4  2022-01-19  15:42:34.523 -73.989983 -111.798048  350.61   270.19  -1.00   \n",
       "\n",
       "   Roll  \n",
       "0 -1.84  \n",
       "1 -1.88  \n",
       "2 -1.92  \n",
       "3 -1.93  \n",
       "4 -1.95  "
      ]
     },
     "execution_count": 2,
     "metadata": {},
     "output_type": "execute_result"
    }
   ],
   "source": [
    "motion = pd.read_csv(\n",
    "    '../src/mbes_data/data/nbp22-mission2-dotson-east/motion/EM2040-0012-pumpco2o-20220119-154234.csv'\n",
    ")\n",
    "motion.head()"
   ]
  },
  {
   "cell_type": "code",
   "execution_count": 3,
   "metadata": {},
   "outputs": [
    {
     "data": {
      "text/html": [
       "<div>\n",
       "<style scoped>\n",
       "    .dataframe tbody tr th:only-of-type {\n",
       "        vertical-align: middle;\n",
       "    }\n",
       "\n",
       "    .dataframe tbody tr th {\n",
       "        vertical-align: top;\n",
       "    }\n",
       "\n",
       "    .dataframe thead th {\n",
       "        text-align: right;\n",
       "    }\n",
       "</style>\n",
       "<table border=\"1\" class=\"dataframe\">\n",
       "  <thead>\n",
       "    <tr style=\"text-align: right;\">\n",
       "      <th></th>\n",
       "      <th>Date</th>\n",
       "      <th>Time</th>\n",
       "      <th>Lat</th>\n",
       "      <th>Long</th>\n",
       "      <th>Depth</th>\n",
       "      <th>Heading</th>\n",
       "      <th>Pitch</th>\n",
       "      <th>Roll</th>\n",
       "      <th>datetime</th>\n",
       "    </tr>\n",
       "  </thead>\n",
       "  <tbody>\n",
       "    <tr>\n",
       "      <th>0</th>\n",
       "      <td>2022-01-19</td>\n",
       "      <td>15:42:33.723</td>\n",
       "      <td>-73.990000</td>\n",
       "      <td>-111.797926</td>\n",
       "      <td>350.52</td>\n",
       "      <td>270.25</td>\n",
       "      <td>-1.35</td>\n",
       "      <td>-1.84</td>\n",
       "      <td>2022-01-19 15:42:33.723</td>\n",
       "    </tr>\n",
       "    <tr>\n",
       "      <th>1</th>\n",
       "      <td>2022-01-19</td>\n",
       "      <td>15:42:33.923</td>\n",
       "      <td>-73.989983</td>\n",
       "      <td>-111.798010</td>\n",
       "      <td>350.54</td>\n",
       "      <td>270.23</td>\n",
       "      <td>-1.25</td>\n",
       "      <td>-1.88</td>\n",
       "      <td>2022-01-19 15:42:33.923</td>\n",
       "    </tr>\n",
       "    <tr>\n",
       "      <th>2</th>\n",
       "      <td>2022-01-19</td>\n",
       "      <td>15:42:34.123</td>\n",
       "      <td>-73.989983</td>\n",
       "      <td>-111.798022</td>\n",
       "      <td>350.57</td>\n",
       "      <td>270.21</td>\n",
       "      <td>-1.17</td>\n",
       "      <td>-1.92</td>\n",
       "      <td>2022-01-19 15:42:34.123</td>\n",
       "    </tr>\n",
       "    <tr>\n",
       "      <th>3</th>\n",
       "      <td>2022-01-19</td>\n",
       "      <td>15:42:34.323</td>\n",
       "      <td>-73.989983</td>\n",
       "      <td>-111.798035</td>\n",
       "      <td>350.60</td>\n",
       "      <td>270.20</td>\n",
       "      <td>-1.08</td>\n",
       "      <td>-1.93</td>\n",
       "      <td>2022-01-19 15:42:34.323</td>\n",
       "    </tr>\n",
       "    <tr>\n",
       "      <th>4</th>\n",
       "      <td>2022-01-19</td>\n",
       "      <td>15:42:34.523</td>\n",
       "      <td>-73.989983</td>\n",
       "      <td>-111.798048</td>\n",
       "      <td>350.61</td>\n",
       "      <td>270.19</td>\n",
       "      <td>-1.00</td>\n",
       "      <td>-1.95</td>\n",
       "      <td>2022-01-19 15:42:34.523</td>\n",
       "    </tr>\n",
       "  </tbody>\n",
       "</table>\n",
       "</div>"
      ],
      "text/plain": [
       "         Date          Time        Lat        Long   Depth  Heading  Pitch   \n",
       "0  2022-01-19  15:42:33.723 -73.990000 -111.797926  350.52   270.25  -1.35  \\\n",
       "1  2022-01-19  15:42:33.923 -73.989983 -111.798010  350.54   270.23  -1.25   \n",
       "2  2022-01-19  15:42:34.123 -73.989983 -111.798022  350.57   270.21  -1.17   \n",
       "3  2022-01-19  15:42:34.323 -73.989983 -111.798035  350.60   270.20  -1.08   \n",
       "4  2022-01-19  15:42:34.523 -73.989983 -111.798048  350.61   270.19  -1.00   \n",
       "\n",
       "   Roll                datetime  \n",
       "0 -1.84 2022-01-19 15:42:33.723  \n",
       "1 -1.88 2022-01-19 15:42:33.923  \n",
       "2 -1.92 2022-01-19 15:42:34.123  \n",
       "3 -1.93 2022-01-19 15:42:34.323  \n",
       "4 -1.95 2022-01-19 15:42:34.523  "
      ]
     },
     "execution_count": 3,
     "metadata": {},
     "output_type": "execute_result"
    }
   ],
   "source": [
    "motion['datetime'] = pd.to_datetime(motion['Date'] + ' ' + motion['Time'],\n",
    "                                    format='%Y-%m-%d %H:%M:%S.%f')\n",
    "motion.head()"
   ]
  },
  {
   "cell_type": "code",
   "execution_count": 25,
   "metadata": {},
   "outputs": [],
   "source": [
    "# Checking that the transformation from (lat, lon) to UTM12S is correct\n",
    "from pyproj import CRS, Transformer\n",
    "crs_4326 = CRS.from_epsg(4326)\n",
    "crs_utm12s = CRS.from_epsg(32712)\n",
    "transformer = get_crs_transformer()\n",
    "\n",
    "for file in sorted(os.listdir('../src/mbes_data/data/nbp22-mission2-dotson-east/utm-geoinfo/')):\n",
    "    if file.endswith('.txt'):\n",
    "        utm_info = pd.read_csv(\n",
    "            f'../src/mbes_data/data/nbp22-mission2-dotson-east/utm-geoinfo/{file}',\n",
    "            sep=' ',\n",
    "            names=['Date', 'Time', 'Kp',\n",
    "                     'Easting', 'Northing', \n",
    "                     'Longitude', 'Latitude'],\n",
    "            skiprows=1 if 'EM2040-0012' in file else None\n",
    "        )\n",
    "    for i, row in utm_info.iterrows():\n",
    "        lat, lon, easting, northing = row['Latitude'], row['Longitude'], row['Easting'], row['Northing']\n",
    "        transformed_easting, transform_northing = transformer.transform(lat, lon)\n",
    "        if not np.isclose(easting, transformed_easting) or not np.isclose(northing, transform_northing):\n",
    "            print(f'File {file} Row {i} easting/northing mismatch: {easting}, {northing} vs {transformed_easting}, {transform_northing}')"
   ]
  },
  {
   "cell_type": "code",
   "execution_count": 24,
   "metadata": {},
   "outputs": [],
   "source": [
    "def get_crs_transformer(from_crs: int=4326, to_crs: int=32712) -> Transformer:\n",
    "    \"\"\"Returns a pyproj.Transformer object that can be used to convert from one CRS to another.\n",
    "    \n",
    "    Args:\n",
    "        from_crs: EPSG code of the source CRS\n",
    "                  default: 4326 (WGS84)\n",
    "        to_crs: EPSG code of the target CRS\n",
    "                default: 32712 (WGS84 UTM zone 12S) \"\"\"\n",
    "    from_crs = CRS.from_epsg(from_crs)\n",
    "    to_crs = CRS.from_epsg(to_crs)\n",
    "    transformer = Transformer.from_crs(from_crs, to_crs)\n",
    "    return transformer"
   ]
  },
  {
   "cell_type": "code",
   "execution_count": 27,
   "metadata": {},
   "outputs": [
    {
     "data": {
      "text/html": [
       "<div>\n",
       "<style scoped>\n",
       "    .dataframe tbody tr th:only-of-type {\n",
       "        vertical-align: middle;\n",
       "    }\n",
       "\n",
       "    .dataframe tbody tr th {\n",
       "        vertical-align: top;\n",
       "    }\n",
       "\n",
       "    .dataframe thead th {\n",
       "        text-align: right;\n",
       "    }\n",
       "</style>\n",
       "<table border=\"1\" class=\"dataframe\">\n",
       "  <thead>\n",
       "    <tr style=\"text-align: right;\">\n",
       "      <th></th>\n",
       "      <th>Date</th>\n",
       "      <th>Time</th>\n",
       "      <th>Lat</th>\n",
       "      <th>Long</th>\n",
       "      <th>Depth</th>\n",
       "      <th>Heading</th>\n",
       "      <th>Pitch</th>\n",
       "      <th>Roll</th>\n",
       "      <th>datetime</th>\n",
       "      <th>Easting</th>\n",
       "      <th>Northing</th>\n",
       "    </tr>\n",
       "  </thead>\n",
       "  <tbody>\n",
       "    <tr>\n",
       "      <th>0</th>\n",
       "      <td>2022-01-19</td>\n",
       "      <td>15:42:33.723</td>\n",
       "      <td>-73.990000</td>\n",
       "      <td>-111.797926</td>\n",
       "      <td>350.52</td>\n",
       "      <td>270.25</td>\n",
       "      <td>-1.35</td>\n",
       "      <td>-1.84</td>\n",
       "      <td>2022-01-19 15:42:33.723</td>\n",
       "      <td>475436.072380</td>\n",
       "      <td>1.788913e+06</td>\n",
       "    </tr>\n",
       "    <tr>\n",
       "      <th>1</th>\n",
       "      <td>2022-01-19</td>\n",
       "      <td>15:42:33.923</td>\n",
       "      <td>-73.989983</td>\n",
       "      <td>-111.798010</td>\n",
       "      <td>350.54</td>\n",
       "      <td>270.23</td>\n",
       "      <td>-1.25</td>\n",
       "      <td>-1.88</td>\n",
       "      <td>2022-01-19 15:42:33.923</td>\n",
       "      <td>475433.458211</td>\n",
       "      <td>1.788915e+06</td>\n",
       "    </tr>\n",
       "    <tr>\n",
       "      <th>2</th>\n",
       "      <td>2022-01-19</td>\n",
       "      <td>15:42:34.123</td>\n",
       "      <td>-73.989983</td>\n",
       "      <td>-111.798022</td>\n",
       "      <td>350.57</td>\n",
       "      <td>270.21</td>\n",
       "      <td>-1.17</td>\n",
       "      <td>-1.92</td>\n",
       "      <td>2022-01-19 15:42:34.123</td>\n",
       "      <td>475433.085438</td>\n",
       "      <td>1.788915e+06</td>\n",
       "    </tr>\n",
       "    <tr>\n",
       "      <th>3</th>\n",
       "      <td>2022-01-19</td>\n",
       "      <td>15:42:34.323</td>\n",
       "      <td>-73.989983</td>\n",
       "      <td>-111.798035</td>\n",
       "      <td>350.60</td>\n",
       "      <td>270.20</td>\n",
       "      <td>-1.08</td>\n",
       "      <td>-1.93</td>\n",
       "      <td>2022-01-19 15:42:34.323</td>\n",
       "      <td>475432.703653</td>\n",
       "      <td>1.788915e+06</td>\n",
       "    </tr>\n",
       "    <tr>\n",
       "      <th>4</th>\n",
       "      <td>2022-01-19</td>\n",
       "      <td>15:42:34.523</td>\n",
       "      <td>-73.989983</td>\n",
       "      <td>-111.798048</td>\n",
       "      <td>350.61</td>\n",
       "      <td>270.19</td>\n",
       "      <td>-1.00</td>\n",
       "      <td>-1.95</td>\n",
       "      <td>2022-01-19 15:42:34.523</td>\n",
       "      <td>475432.306552</td>\n",
       "      <td>1.788915e+06</td>\n",
       "    </tr>\n",
       "  </tbody>\n",
       "</table>\n",
       "</div>"
      ],
      "text/plain": [
       "         Date          Time        Lat        Long   Depth  Heading  Pitch   \n",
       "0  2022-01-19  15:42:33.723 -73.990000 -111.797926  350.52   270.25  -1.35  \\\n",
       "1  2022-01-19  15:42:33.923 -73.989983 -111.798010  350.54   270.23  -1.25   \n",
       "2  2022-01-19  15:42:34.123 -73.989983 -111.798022  350.57   270.21  -1.17   \n",
       "3  2022-01-19  15:42:34.323 -73.989983 -111.798035  350.60   270.20  -1.08   \n",
       "4  2022-01-19  15:42:34.523 -73.989983 -111.798048  350.61   270.19  -1.00   \n",
       "\n",
       "   Roll                datetime        Easting      Northing  \n",
       "0 -1.84 2022-01-19 15:42:33.723  475436.072380  1.788913e+06  \n",
       "1 -1.88 2022-01-19 15:42:33.923  475433.458211  1.788915e+06  \n",
       "2 -1.92 2022-01-19 15:42:34.123  475433.085438  1.788915e+06  \n",
       "3 -1.93 2022-01-19 15:42:34.323  475432.703653  1.788915e+06  \n",
       "4 -1.95 2022-01-19 15:42:34.523  475432.306552  1.788915e+06  "
      ]
     },
     "execution_count": 27,
     "metadata": {},
     "output_type": "execute_result"
    }
   ],
   "source": [
    "transformer = get_crs_transformer()\n",
    "motion['Easting'], motion['Northing'] = transformer.transform(motion['Lat'].values, motion['Long'].values)\n",
    "motion.head()"
   ]
  },
  {
   "attachments": {},
   "cell_type": "markdown",
   "metadata": {},
   "source": [
    "## 3.2 Merge UTM, latlon and depth for all motion files"
   ]
  },
  {
   "cell_type": "code",
   "execution_count": 3,
   "metadata": {},
   "outputs": [],
   "source": [
    "def get_crs_transformer(from_crs: int=4326, to_crs: int=32712) -> Transformer:\n",
    "    \"\"\"Returns a pyproj.Transformer object that can be used to convert from one CRS to another.\n",
    "    \n",
    "    Args:\n",
    "        from_crs: EPSG code of the source CRS\n",
    "                  default: 4326 (WGS84)\n",
    "        to_crs: EPSG code of the target CRS\n",
    "                default: 32712 (WGS84 UTM zone 12S) \"\"\"\n",
    "    from_crs = CRS.from_epsg(from_crs)\n",
    "    to_crs = CRS.from_epsg(to_crs)\n",
    "    transformer = Transformer.from_crs(from_crs, to_crs)\n",
    "    return transformer"
   ]
  },
  {
   "cell_type": "code",
   "execution_count": 4,
   "metadata": {},
   "outputs": [
    {
     "data": {
      "text/html": [
       "<div>\n",
       "<style scoped>\n",
       "    .dataframe tbody tr th:only-of-type {\n",
       "        vertical-align: middle;\n",
       "    }\n",
       "\n",
       "    .dataframe tbody tr th {\n",
       "        vertical-align: top;\n",
       "    }\n",
       "\n",
       "    .dataframe thead th {\n",
       "        text-align: right;\n",
       "    }\n",
       "</style>\n",
       "<table border=\"1\" class=\"dataframe\">\n",
       "  <thead>\n",
       "    <tr style=\"text-align: right;\">\n",
       "      <th></th>\n",
       "      <th>Date</th>\n",
       "      <th>Time</th>\n",
       "      <th>Lat</th>\n",
       "      <th>Long</th>\n",
       "      <th>Depth</th>\n",
       "      <th>Heading</th>\n",
       "      <th>Pitch</th>\n",
       "      <th>Roll</th>\n",
       "      <th>datetime</th>\n",
       "      <th>Easting</th>\n",
       "      <th>Northing</th>\n",
       "      <th>Filename</th>\n",
       "    </tr>\n",
       "  </thead>\n",
       "  <tbody>\n",
       "    <tr>\n",
       "      <th>0</th>\n",
       "      <td>2022-01-19</td>\n",
       "      <td>15:42:33.723</td>\n",
       "      <td>-73.990000</td>\n",
       "      <td>-111.797926</td>\n",
       "      <td>350.52</td>\n",
       "      <td>270.25</td>\n",
       "      <td>-1.35</td>\n",
       "      <td>-1.84</td>\n",
       "      <td>2022-01-19 15:42:33.723</td>\n",
       "      <td>475436.072380</td>\n",
       "      <td>1.788913e+06</td>\n",
       "      <td>12</td>\n",
       "    </tr>\n",
       "    <tr>\n",
       "      <th>1</th>\n",
       "      <td>2022-01-19</td>\n",
       "      <td>15:42:33.923</td>\n",
       "      <td>-73.989983</td>\n",
       "      <td>-111.798010</td>\n",
       "      <td>350.54</td>\n",
       "      <td>270.23</td>\n",
       "      <td>-1.25</td>\n",
       "      <td>-1.88</td>\n",
       "      <td>2022-01-19 15:42:33.923</td>\n",
       "      <td>475433.458211</td>\n",
       "      <td>1.788915e+06</td>\n",
       "      <td>12</td>\n",
       "    </tr>\n",
       "    <tr>\n",
       "      <th>2</th>\n",
       "      <td>2022-01-19</td>\n",
       "      <td>15:42:34.123</td>\n",
       "      <td>-73.989983</td>\n",
       "      <td>-111.798022</td>\n",
       "      <td>350.57</td>\n",
       "      <td>270.21</td>\n",
       "      <td>-1.17</td>\n",
       "      <td>-1.92</td>\n",
       "      <td>2022-01-19 15:42:34.123</td>\n",
       "      <td>475433.085438</td>\n",
       "      <td>1.788915e+06</td>\n",
       "      <td>12</td>\n",
       "    </tr>\n",
       "    <tr>\n",
       "      <th>3</th>\n",
       "      <td>2022-01-19</td>\n",
       "      <td>15:42:34.323</td>\n",
       "      <td>-73.989983</td>\n",
       "      <td>-111.798035</td>\n",
       "      <td>350.60</td>\n",
       "      <td>270.20</td>\n",
       "      <td>-1.08</td>\n",
       "      <td>-1.93</td>\n",
       "      <td>2022-01-19 15:42:34.323</td>\n",
       "      <td>475432.703653</td>\n",
       "      <td>1.788915e+06</td>\n",
       "      <td>12</td>\n",
       "    </tr>\n",
       "    <tr>\n",
       "      <th>4</th>\n",
       "      <td>2022-01-19</td>\n",
       "      <td>15:42:34.523</td>\n",
       "      <td>-73.989983</td>\n",
       "      <td>-111.798048</td>\n",
       "      <td>350.61</td>\n",
       "      <td>270.19</td>\n",
       "      <td>-1.00</td>\n",
       "      <td>-1.95</td>\n",
       "      <td>2022-01-19 15:42:34.523</td>\n",
       "      <td>475432.306552</td>\n",
       "      <td>1.788915e+06</td>\n",
       "      <td>12</td>\n",
       "    </tr>\n",
       "  </tbody>\n",
       "</table>\n",
       "</div>"
      ],
      "text/plain": [
       "         Date          Time        Lat        Long   Depth  Heading  Pitch   \n",
       "0  2022-01-19  15:42:33.723 -73.990000 -111.797926  350.52   270.25  -1.35  \\\n",
       "1  2022-01-19  15:42:33.923 -73.989983 -111.798010  350.54   270.23  -1.25   \n",
       "2  2022-01-19  15:42:34.123 -73.989983 -111.798022  350.57   270.21  -1.17   \n",
       "3  2022-01-19  15:42:34.323 -73.989983 -111.798035  350.60   270.20  -1.08   \n",
       "4  2022-01-19  15:42:34.523 -73.989983 -111.798048  350.61   270.19  -1.00   \n",
       "\n",
       "   Roll                 datetime        Easting      Northing  Filename  \n",
       "0 -1.84  2022-01-19 15:42:33.723  475436.072380  1.788913e+06        12  \n",
       "1 -1.88  2022-01-19 15:42:33.923  475433.458211  1.788915e+06        12  \n",
       "2 -1.92  2022-01-19 15:42:34.123  475433.085438  1.788915e+06        12  \n",
       "3 -1.93  2022-01-19 15:42:34.323  475432.703653  1.788915e+06        12  \n",
       "4 -1.95  2022-01-19 15:42:34.523  475432.306552  1.788915e+06        12  "
      ]
     },
     "execution_count": 4,
     "metadata": {},
     "output_type": "execute_result"
    }
   ],
   "source": [
    "def merge_motion_data():\n",
    "    transformer = get_crs_transformer()\n",
    "    processed_motion_folder = '../src/mbes_data/data/nbp22-mission2-dotson-east/processed-motion/'\n",
    "    os.makedirs(processed_motion_folder, exist_ok=True)\n",
    "\n",
    "    for f in tqdm(sorted(os.listdir('../src/mbes_data/data/nbp22-mission2-dotson-east/motion/'))):\n",
    "        if f.endswith('.csv'):\n",
    "            motion = pd.read_csv(\n",
    "                f'../src/mbes_data/data/nbp22-mission2-dotson-east/motion/{f}'\n",
    "            )\n",
    "            motion['datetime'] = pd.to_datetime(motion['Date'] + ' ' + motion['Time'],\n",
    "                                                format='%Y-%m-%d %H:%M:%S.%f')\n",
    "            motion['Easting'], motion['Northing'] = transformer.transform(motion['Lat'].values, motion['Long'].values)\n",
    "            motion.to_csv(os.path.join(processed_motion_folder, f), index=False)\n",
    "\n",
    "    merged_df = pd.DataFrame()\n",
    "    for f in sorted(os.listdir('../src/mbes_data/data/nbp22-mission2-dotson-east/processed-motion/')):\n",
    "        if f == 'merged.csv':\n",
    "            continue\n",
    "        motion = pd.read_csv(\n",
    "            f'../src/mbes_data/data/nbp22-mission2-dotson-east/processed-motion/{f}'\n",
    "        )\n",
    "        motion['Filename'] = int(f.split('-')[1])\n",
    "        merged_df = pd.concat([merged_df, motion])\n",
    "    merged_df.to_csv('../src/mbes_data/data/nbp22-mission2-dotson-east/processed-motion/merged.csv', index=False)\n",
    "    return merged_df\n",
    "\n",
    "merged_df = pd.read_csv(\n",
    "    '../src/mbes_data/data/nbp22-mission2-dotson-east/processed-motion/merged.csv'\n",
    ")\n",
    "merged_df.head()"
   ]
  },
  {
   "attachments": {},
   "cell_type": "markdown",
   "metadata": {},
   "source": [
    "## 3.3 Determine Train/Val/Test split"
   ]
  },
  {
   "cell_type": "code",
   "execution_count": 72,
   "metadata": {},
   "outputs": [],
   "source": [
    "train_sec = (12, 76)\n",
    "test_sec = (77, 84)\n",
    "val_sec = (85, 95)"
   ]
  },
  {
   "cell_type": "code",
   "execution_count": 5,
   "metadata": {},
   "outputs": [],
   "source": [
    "def get_percentage_data_bewteen(merged_df, begin, end):\n",
    "    subset = merged_df[merged_df['Filename'].between(begin, end)]\n",
    "    print(f'Between files { begin} and {end}:\\n'\n",
    "          f'- {subset.shape[0]} pings, {subset.shape[0]/merged_df.shape[0]*100:.2f}% data\\n'\n",
    "          f'- Northing range: {subset[\"Northing\"].max()- subset[\"Northing\"].min():.2f} m\\n'\n",
    "          f'- Easting range: {subset[\"Easting\"].max()- subset[\"Easting\"].min():.2f} m')"
   ]
  },
  {
   "cell_type": "code",
   "execution_count": 6,
   "metadata": {},
   "outputs": [],
   "source": [
    "def split_and_save_subsets(merged_df, begin, end, subset_name):\n",
    "    subset = merged_df[merged_df['Filename'].between(begin, end)]\n",
    "    subset.to_csv(f'../src/mbes_data/data/nbp22-mission2-dotson-east/processed-motion/{subset_name}-subset-{begin}-{end}.csv', index=False)\n",
    "\n",
    "#split_and_save_subsets(merged_df, train_sec[0], train_sec[1], 'train')\n",
    "#split_and_save_subsets(merged_df, test_sec[0], test_sec[1], 'test')\n",
    "#split_and_save_subsets(merged_df, val_sec[0], val_sec[1], 'val')\n",
    "split_and_save_subsets(merged_df, 50, 51, 'tmp-50-51')"
   ]
  },
  {
   "cell_type": "code",
   "execution_count": 48,
   "metadata": {},
   "outputs": [
    {
     "name": "stdout",
     "output_type": "stream",
     "text": [
      "EM2040-0069-L12S01-20220120-043951.npy: 2392 pings, 400 beams\n",
      "EM2040-0070-L12S01-20220120-045451.npy: 2390 pings, 400 beams\n",
      "Total: 4782 pings, 400 beams\n"
     ]
    },
    {
     "data": {
      "text/plain": [
       "array([[[0.00000000e+00, 0.00000000e+00, 0.00000000e+00],\n",
       "        [0.00000000e+00, 0.00000000e+00, 0.00000000e+00],\n",
       "        [0.00000000e+00, 0.00000000e+00, 0.00000000e+00],\n",
       "        ...,\n",
       "        [0.00000000e+00, 0.00000000e+00, 0.00000000e+00],\n",
       "        [0.00000000e+00, 0.00000000e+00, 0.00000000e+00],\n",
       "        [0.00000000e+00, 0.00000000e+00, 0.00000000e+00]],\n",
       "\n",
       "       [[0.00000000e+00, 0.00000000e+00, 0.00000000e+00],\n",
       "        [0.00000000e+00, 0.00000000e+00, 0.00000000e+00],\n",
       "        [0.00000000e+00, 0.00000000e+00, 0.00000000e+00],\n",
       "        ...,\n",
       "        [0.00000000e+00, 0.00000000e+00, 0.00000000e+00],\n",
       "        [0.00000000e+00, 0.00000000e+00, 0.00000000e+00],\n",
       "        [0.00000000e+00, 0.00000000e+00, 0.00000000e+00]],\n",
       "\n",
       "       [[0.00000000e+00, 0.00000000e+00, 0.00000000e+00],\n",
       "        [0.00000000e+00, 0.00000000e+00, 0.00000000e+00],\n",
       "        [0.00000000e+00, 0.00000000e+00, 0.00000000e+00],\n",
       "        ...,\n",
       "        [0.00000000e+00, 0.00000000e+00, 0.00000000e+00],\n",
       "        [0.00000000e+00, 0.00000000e+00, 0.00000000e+00],\n",
       "        [0.00000000e+00, 0.00000000e+00, 0.00000000e+00]],\n",
       "\n",
       "       ...,\n",
       "\n",
       "       [[0.00000000e+00, 0.00000000e+00, 0.00000000e+00],\n",
       "        [0.00000000e+00, 0.00000000e+00, 0.00000000e+00],\n",
       "        [0.00000000e+00, 0.00000000e+00, 0.00000000e+00],\n",
       "        ...,\n",
       "        [0.00000000e+00, 0.00000000e+00, 0.00000000e+00],\n",
       "        [0.00000000e+00, 0.00000000e+00, 0.00000000e+00],\n",
       "        [0.00000000e+00, 0.00000000e+00, 0.00000000e+00]],\n",
       "\n",
       "       [[0.00000000e+00, 0.00000000e+00, 0.00000000e+00],\n",
       "        [0.00000000e+00, 0.00000000e+00, 0.00000000e+00],\n",
       "        [0.00000000e+00, 0.00000000e+00, 0.00000000e+00],\n",
       "        ...,\n",
       "        [4.65645910e+05, 1.77375461e+06, 8.60220000e+02],\n",
       "        [4.65645000e+05, 1.77375444e+06, 8.60240000e+02],\n",
       "        [4.65644070e+05, 1.77375427e+06, 8.60220000e+02]],\n",
       "\n",
       "       [[0.00000000e+00, 0.00000000e+00, 0.00000000e+00],\n",
       "        [0.00000000e+00, 0.00000000e+00, 0.00000000e+00],\n",
       "        [0.00000000e+00, 0.00000000e+00, 0.00000000e+00],\n",
       "        ...,\n",
       "        [0.00000000e+00, 0.00000000e+00, 0.00000000e+00],\n",
       "        [0.00000000e+00, 0.00000000e+00, 0.00000000e+00],\n",
       "        [0.00000000e+00, 0.00000000e+00, 0.00000000e+00]]])"
      ]
     },
     "execution_count": 48,
     "metadata": {},
     "output_type": "execute_result"
    }
   ],
   "source": [
    "def merge_pings_data_to_subsets(begin, end, subset_name):\n",
    "    merged_pings = []\n",
    "    for f in sorted(os.listdir('../src/mbes_data/data/nbp22-mission2-dotson-east/pings-npy/')):\n",
    "        if 'pings' in f:\n",
    "            continue\n",
    "        if int(f.split('-')[1]) in [i for i in range(begin, end+1)] and f.endswith('.npy'):\n",
    "            pings = np.load(f'../src/mbes_data/data/nbp22-mission2-dotson-east/pings-npy/{f}')\n",
    "            print(f'{f}: {pings.shape[0]} pings, {pings.shape[1]} beams')\n",
    "            merged_pings.append(pings)\n",
    "    merged_pings = np.concatenate(merged_pings)\n",
    "    print(f'Total: {merged_pings.shape[0]} pings, {merged_pings.shape[1]} beams')\n",
    "    np.save(f'../src/mbes_data/data/nbp22-mission2-dotson-east/pings-npy/{subset_name}-subset-pings-{begin}-{end}.npy', merged_pings)\n",
    "    return merged_pings\n",
    "\n",
    "#merge_pings_data_to_subsets(train_sec[0], train_sec[1], 'train')\n",
    "#merge_pings_data_to_subsets(test_sec[0], test_sec[1], 'test')\n",
    "#merge_pings_data_to_subsets(val_sec[0], val_sec[1], 'val')\n",
    "#merge_pings_data_to_subsets(12, 95, 'all')\n",
    "merge_pings_data_to_subsets(69, 70, 'tmp-69-70')"
   ]
  },
  {
   "cell_type": "code",
   "execution_count": 40,
   "metadata": {},
   "outputs": [
    {
     "name": "stdout",
     "output_type": "stream",
     "text": [
      "Train: 145341 pings, 77.08% data\n",
      "Test: 19009 pings, 10.08% data\n",
      "Val: 24218 pings, 12.84% data\n"
     ]
    }
   ],
   "source": [
    "num_train, num_test, num_val = 145341, 19009, 24218\n",
    "print(f'Train: {num_train} pings, {num_train/(num_train+num_test+num_val)*100:.2f}% data')\n",
    "print(f'Test: {num_test} pings, {num_test/(num_train+num_test+num_val)*100:.2f}% data')\n",
    "print(f'Val: {num_val} pings, {num_val/(num_train+num_test+num_val)*100:.2f}% data')"
   ]
  },
  {
   "attachments": {},
   "cell_type": "markdown",
   "metadata": {},
   "source": [
    "## 3.4 Plot trajectory, highlight test section"
   ]
  },
  {
   "cell_type": "code",
   "execution_count": 15,
   "metadata": {},
   "outputs": [],
   "source": [
    "test_section = merged_df[merged_df['Filename'].between(77, 84)]\n",
    "margin = 100\n",
    "test_min_x = test_section['Easting'].min() - margin\n",
    "test_max_x = test_section['Easting'].max() + margin\n",
    "test_min_y = test_section['Northing'].min() - margin\n",
    "test_max_y = test_section['Northing'].max() + margin"
   ]
  },
  {
   "cell_type": "code",
   "execution_count": 44,
   "metadata": {},
   "outputs": [
    {
     "data": {
      "application/vnd.plotly.v1+json": {
       "config": {
        "plotlyServerURL": "https://plot.ly"
       },
       "data": [
        {
         "customdata": [
          [
           12,
           "2022-01-19 15:42:33.723"
          ],
          [
           12,
           "2022-01-19 15:42:53.789"
          ],
          [
           12,
           "2022-01-19 15:43:13.869"
          ],
          [
           12,
           "2022-01-19 15:43:33.946"
          ],
          [
           12,
           "2022-01-19 15:43:54.025"
          ],
          [
           12,
           "2022-01-19 15:44:14.086"
          ],
          [
           12,
           "2022-01-19 15:44:34.152"
          ],
          [
           12,
           "2022-01-19 15:44:54.218"
          ],
          [
           12,
           "2022-01-19 15:45:14.285"
          ],
          [
           12,
           "2022-01-19 15:45:34.354"
          ],
          [
           12,
           "2022-01-19 15:45:54.411"
          ],
          [
           12,
           "2022-01-19 15:46:14.477"
          ],
          [
           12,
           "2022-01-19 15:46:34.547"
          ],
          [
           12,
           "2022-01-19 15:46:54.600"
          ],
          [
           12,
           "2022-01-19 15:47:14.715"
          ],
          [
           12,
           "2022-01-19 15:47:34.737"
          ],
          [
           12,
           "2022-01-19 15:47:54.793"
          ],
          [
           12,
           "2022-01-19 15:48:14.860"
          ],
          [
           12,
           "2022-01-19 15:48:34.930"
          ],
          [
           12,
           "2022-01-19 15:48:54.993"
          ],
          [
           12,
           "2022-01-19 15:49:15.063"
          ],
          [
           12,
           "2022-01-19 15:49:35.135"
          ],
          [
           12,
           "2022-01-19 15:49:55.202"
          ],
          [
           12,
           "2022-01-19 15:50:15.269"
          ],
          [
           12,
           "2022-01-19 15:50:35.339"
          ],
          [
           12,
           "2022-01-19 15:50:55.402"
          ],
          [
           12,
           "2022-01-19 15:51:15.469"
          ],
          [
           12,
           "2022-01-19 15:51:35.535"
          ],
          [
           12,
           "2022-01-19 15:51:55.595"
          ],
          [
           12,
           "2022-01-19 15:52:15.664"
          ],
          [
           12,
           "2022-01-19 15:52:35.727"
          ],
          [
           12,
           "2022-01-19 15:52:55.797"
          ],
          [
           12,
           "2022-01-19 15:53:15.863"
          ],
          [
           12,
           "2022-01-19 15:53:35.930"
          ],
          [
           12,
           "2022-01-19 15:53:55.987"
          ],
          [
           12,
           "2022-01-19 15:54:16.057"
          ],
          [
           12,
           "2022-01-19 15:54:36.117"
          ],
          [
           12,
           "2022-01-19 15:54:56.180"
          ],
          [
           12,
           "2022-01-19 15:55:16.239"
          ],
          [
           12,
           "2022-01-19 15:55:36.303"
          ],
          [
           12,
           "2022-01-19 15:55:56.362"
          ],
          [
           12,
           "2022-01-19 15:56:16.428"
          ],
          [
           12,
           "2022-01-19 15:56:36.497"
          ],
          [
           12,
           "2022-01-19 15:56:56.542"
          ],
          [
           12,
           "2022-01-19 15:57:16.612"
          ],
          [
           13,
           "2022-01-19 15:57:36.661"
          ],
          [
           13,
           "2022-01-19 15:57:56.715"
          ],
          [
           13,
           "2022-01-19 15:58:16.774"
          ],
          [
           13,
           "2022-01-19 15:58:36.834"
          ],
          [
           13,
           "2022-01-19 15:58:56.899"
          ],
          [
           13,
           "2022-01-19 15:59:16.971"
          ],
          [
           13,
           "2022-01-19 15:59:37.037"
          ],
          [
           13,
           "2022-01-19 15:59:57.104"
          ],
          [
           13,
           "2022-01-19 16:00:17.170"
          ],
          [
           13,
           "2022-01-19 16:00:37.233"
          ],
          [
           13,
           "2022-01-19 16:00:57.303"
          ],
          [
           13,
           "2022-01-19 16:01:17.363"
          ],
          [
           13,
           "2022-01-19 16:01:37.433"
          ],
          [
           13,
           "2022-01-19 16:01:57.556"
          ],
          [
           13,
           "2022-01-19 16:02:17.572"
          ],
          [
           13,
           "2022-01-19 16:02:37.625"
          ],
          [
           13,
           "2022-01-19 16:02:57.699"
          ],
          [
           13,
           "2022-01-19 16:03:17.759"
          ],
          [
           13,
           "2022-01-19 16:03:37.827"
          ],
          [
           13,
           "2022-01-19 16:03:57.911"
          ],
          [
           13,
           "2022-01-19 16:04:17.968"
          ],
          [
           13,
           "2022-01-19 16:04:38.048"
          ],
          [
           13,
           "2022-01-19 16:04:58.115"
          ],
          [
           13,
           "2022-01-19 16:05:18.187"
          ],
          [
           13,
           "2022-01-19 16:05:38.271"
          ],
          [
           13,
           "2022-01-19 16:05:58.324"
          ],
          [
           13,
           "2022-01-19 16:06:18.397"
          ],
          [
           13,
           "2022-01-19 16:06:38.457"
          ],
          [
           13,
           "2022-01-19 16:06:58.526"
          ],
          [
           13,
           "2022-01-19 16:07:18.606"
          ],
          [
           13,
           "2022-01-19 16:07:38.673"
          ],
          [
           13,
           "2022-01-19 16:07:58.746"
          ],
          [
           13,
           "2022-01-19 16:08:18.816"
          ],
          [
           13,
           "2022-01-19 16:08:38.889"
          ],
          [
           13,
           "2022-01-19 16:08:58.983"
          ],
          [
           13,
           "2022-01-19 16:09:19.029"
          ],
          [
           13,
           "2022-01-19 16:09:39.102"
          ],
          [
           13,
           "2022-01-19 16:09:59.185"
          ],
          [
           13,
           "2022-01-19 16:10:19.255"
          ],
          [
           13,
           "2022-01-19 16:10:39.332"
          ],
          [
           13,
           "2022-01-19 16:10:59.407"
          ],
          [
           13,
           "2022-01-19 16:11:19.467"
          ],
          [
           13,
           "2022-01-19 16:11:39.527"
          ],
          [
           13,
           "2022-01-19 16:11:59.597"
          ],
          [
           13,
           "2022-01-19 16:12:19.657"
          ],
          [
           14,
           "2022-01-19 16:12:39.733"
          ],
          [
           14,
           "2022-01-19 16:12:59.790"
          ],
          [
           14,
           "2022-01-19 16:13:19.849"
          ],
          [
           14,
           "2022-01-19 16:13:39.913"
          ],
          [
           14,
           "2022-01-19 16:13:59.989"
          ],
          [
           14,
           "2022-01-19 16:14:20.062"
          ],
          [
           14,
           "2022-01-19 16:14:40.129"
          ],
          [
           14,
           "2022-01-19 16:15:00.196"
          ],
          [
           14,
           "2022-01-19 16:15:20.269"
          ],
          [
           14,
           "2022-01-19 16:15:40.335"
          ],
          [
           14,
           "2022-01-19 16:16:00.415"
          ],
          [
           14,
           "2022-01-19 16:16:20.478"
          ],
          [
           14,
           "2022-01-19 16:16:40.541"
          ],
          [
           14,
           "2022-01-19 16:17:00.620"
          ],
          [
           14,
           "2022-01-19 16:17:20.706"
          ],
          [
           14,
           "2022-01-19 16:17:40.777"
          ],
          [
           14,
           "2022-01-19 16:18:00.847"
          ],
          [
           14,
           "2022-01-19 16:18:20.923"
          ],
          [
           14,
           "2022-01-19 16:18:41.007"
          ],
          [
           14,
           "2022-01-19 16:19:01.096"
          ],
          [
           14,
           "2022-01-19 16:19:21.186"
          ],
          [
           14,
           "2022-01-19 16:19:41.288"
          ],
          [
           14,
           "2022-01-19 16:20:01.346"
          ],
          [
           14,
           "2022-01-19 16:20:21.432"
          ],
          [
           14,
           "2022-01-19 16:20:41.512"
          ],
          [
           14,
           "2022-01-19 16:21:01.590"
          ],
          [
           14,
           "2022-01-19 16:21:21.668"
          ],
          [
           14,
           "2022-01-19 16:21:41.768"
          ],
          [
           14,
           "2022-01-19 16:22:01.838"
          ],
          [
           14,
           "2022-01-19 16:22:21.934"
          ],
          [
           14,
           "2022-01-19 16:22:42.015"
          ],
          [
           14,
           "2022-01-19 16:23:02.104"
          ],
          [
           14,
           "2022-01-19 16:23:22.181"
          ],
          [
           14,
           "2022-01-19 16:23:42.260"
          ],
          [
           14,
           "2022-01-19 16:24:02.333"
          ],
          [
           14,
           "2022-01-19 16:24:22.410"
          ],
          [
           14,
           "2022-01-19 16:24:42.500"
          ],
          [
           14,
           "2022-01-19 16:25:02.576"
          ],
          [
           14,
           "2022-01-19 16:25:22.656"
          ],
          [
           14,
           "2022-01-19 16:25:42.719"
          ],
          [
           14,
           "2022-01-19 16:26:02.797"
          ],
          [
           14,
           "2022-01-19 16:26:22.875"
          ],
          [
           14,
           "2022-01-19 16:26:42.971"
          ],
          [
           14,
           "2022-01-19 16:27:03.022"
          ],
          [
           14,
           "2022-01-19 16:27:23.088"
          ],
          [
           15,
           "2022-01-19 16:27:43.158"
          ],
          [
           15,
           "2022-01-19 16:28:03.225"
          ],
          [
           15,
           "2022-01-19 16:28:23.301"
          ],
          [
           15,
           "2022-01-19 16:28:43.361"
          ],
          [
           15,
           "2022-01-19 16:29:03.441"
          ],
          [
           15,
           "2022-01-19 16:29:23.500"
          ],
          [
           16,
           "2022-01-19 16:29:43.560"
          ],
          [
           16,
           "2022-01-19 16:30:03.630"
          ],
          [
           16,
           "2022-01-19 16:30:23.703"
          ],
          [
           16,
           "2022-01-19 16:30:43.780"
          ],
          [
           16,
           "2022-01-19 16:31:03.843"
          ],
          [
           16,
           "2022-01-19 16:31:23.906"
          ],
          [
           16,
           "2022-01-19 16:31:43.976"
          ],
          [
           16,
           "2022-01-19 16:32:04.039"
          ],
          [
           16,
           "2022-01-19 16:32:24.109"
          ],
          [
           16,
           "2022-01-19 16:32:44.172"
          ],
          [
           16,
           "2022-01-19 16:33:04.242"
          ],
          [
           16,
           "2022-01-19 16:33:24.298"
          ],
          [
           16,
           "2022-01-19 16:33:44.371"
          ],
          [
           16,
           "2022-01-19 16:34:04.434"
          ],
          [
           16,
           "2022-01-19 16:34:24.491"
          ],
          [
           16,
           "2022-01-19 16:34:44.562"
          ],
          [
           16,
           "2022-01-19 16:35:04.617"
          ],
          [
           16,
           "2022-01-19 16:35:24.687"
          ],
          [
           16,
           "2022-01-19 16:35:44.752"
          ],
          [
           16,
           "2022-01-19 16:36:04.825"
          ],
          [
           16,
           "2022-01-19 16:36:24.889"
          ],
          [
           16,
           "2022-01-19 16:36:44.960"
          ],
          [
           16,
           "2022-01-19 16:37:05.023"
          ],
          [
           16,
           "2022-01-19 16:37:25.092"
          ],
          [
           16,
           "2022-01-19 16:37:45.161"
          ],
          [
           16,
           "2022-01-19 16:38:05.256"
          ],
          [
           16,
           "2022-01-19 16:38:25.282"
          ],
          [
           16,
           "2022-01-19 16:38:45.355"
          ],
          [
           16,
           "2022-01-19 16:39:05.408"
          ],
          [
           16,
           "2022-01-19 16:39:25.465"
          ],
          [
           16,
           "2022-01-19 16:39:45.528"
          ],
          [
           16,
           "2022-01-19 16:40:05.591"
          ],
          [
           16,
           "2022-01-19 16:40:25.654"
          ],
          [
           16,
           "2022-01-19 16:40:45.717"
          ],
          [
           16,
           "2022-01-19 16:41:05.780"
          ],
          [
           16,
           "2022-01-19 16:41:25.827"
          ],
          [
           16,
           "2022-01-19 16:41:45.892"
          ],
          [
           16,
           "2022-01-19 16:42:05.953"
          ],
          [
           16,
           "2022-01-19 16:42:26.013"
          ],
          [
           16,
           "2022-01-19 16:42:46.089"
          ],
          [
           16,
           "2022-01-19 16:43:06.159"
          ],
          [
           16,
           "2022-01-19 16:43:26.205"
          ],
          [
           16,
           "2022-01-19 16:43:46.285"
          ],
          [
           16,
           "2022-01-19 16:44:06.325"
          ],
          [
           16,
           "2022-01-19 16:44:26.378"
          ],
          [
           17,
           "2022-01-19 16:44:46.438"
          ],
          [
           17,
           "2022-01-19 16:45:06.545"
          ],
          [
           17,
           "2022-01-19 16:45:26.594"
          ],
          [
           17,
           "2022-01-19 16:45:46.696"
          ],
          [
           17,
           "2022-01-19 16:46:06.701"
          ],
          [
           17,
           "2022-01-19 16:46:26.754"
          ],
          [
           17,
           "2022-01-19 16:46:46.807"
          ],
          [
           17,
           "2022-01-19 16:47:06.926"
          ],
          [
           17,
           "2022-01-19 16:47:27.065"
          ],
          [
           17,
           "2022-01-19 16:47:47.130"
          ],
          [
           17,
           "2022-01-19 16:48:07.213"
          ],
          [
           17,
           "2022-01-19 16:48:27.299"
          ],
          [
           17,
           "2022-01-19 16:48:47.349"
          ],
          [
           17,
           "2022-01-19 16:49:07.425"
          ],
          [
           17,
           "2022-01-19 16:49:27.538"
          ],
          [
           17,
           "2022-01-19 16:49:47.562"
          ],
          [
           17,
           "2022-01-19 16:50:07.597"
          ],
          [
           17,
           "2022-01-19 16:50:27.678"
          ],
          [
           17,
           "2022-01-19 16:50:47.761"
          ],
          [
           17,
           "2022-01-19 16:51:07.834"
          ],
          [
           17,
           "2022-01-19 16:51:27.901"
          ],
          [
           17,
           "2022-01-19 16:51:47.947"
          ],
          [
           17,
           "2022-01-19 16:52:08.016"
          ],
          [
           17,
           "2022-01-19 16:52:28.100"
          ],
          [
           17,
           "2022-01-19 16:52:48.193"
          ],
          [
           17,
           "2022-01-19 16:53:08.276"
          ],
          [
           17,
           "2022-01-19 16:53:28.378"
          ],
          [
           17,
           "2022-01-19 16:53:48.489"
          ],
          [
           17,
           "2022-01-19 16:54:08.566"
          ],
          [
           17,
           "2022-01-19 16:54:28.642"
          ],
          [
           17,
           "2022-01-19 16:54:48.723"
          ],
          [
           17,
           "2022-01-19 16:55:08.785"
          ],
          [
           17,
           "2022-01-19 16:55:28.852"
          ],
          [
           17,
           "2022-01-19 16:55:48.928"
          ],
          [
           17,
           "2022-01-19 16:56:09.011"
          ],
          [
           17,
           "2022-01-19 16:56:29.091"
          ],
          [
           17,
           "2022-01-19 16:56:49.171"
          ],
          [
           17,
           "2022-01-19 16:57:09.247"
          ],
          [
           17,
           "2022-01-19 16:57:29.320"
          ],
          [
           17,
           "2022-01-19 16:57:49.397"
          ],
          [
           17,
           "2022-01-19 16:58:09.483"
          ],
          [
           17,
           "2022-01-19 16:58:29.573"
          ],
          [
           17,
           "2022-01-19 16:58:49.668"
          ],
          [
           17,
           "2022-01-19 16:59:09.753"
          ],
          [
           17,
           "2022-01-19 16:59:29.842"
          ],
          [
           18,
           "2022-01-19 16:59:49.909"
          ],
          [
           18,
           "2022-01-19 17:00:09.999"
          ],
          [
           18,
           "2022-01-19 17:00:30.082"
          ],
          [
           18,
           "2022-01-19 17:00:50.162"
          ],
          [
           18,
           "2022-01-19 17:01:10.235"
          ],
          [
           18,
           "2022-01-19 17:01:30.315"
          ],
          [
           18,
           "2022-01-19 17:01:50.394"
          ],
          [
           18,
           "2022-01-19 17:02:10.431"
          ],
          [
           18,
           "2022-01-19 17:02:30.509"
          ],
          [
           18,
           "2022-01-19 17:02:50.579"
          ],
          [
           18,
           "2022-01-19 17:03:10.645"
          ],
          [
           18,
           "2022-01-19 17:03:30.730"
          ],
          [
           18,
           "2022-01-19 17:03:50.813"
          ],
          [
           18,
           "2022-01-19 17:04:10.876"
          ],
          [
           18,
           "2022-01-19 17:04:30.959"
          ],
          [
           18,
           "2022-01-19 17:04:51.012"
          ],
          [
           18,
           "2022-01-19 17:05:11.079"
          ],
          [
           18,
           "2022-01-19 17:05:31.116"
          ],
          [
           18,
           "2022-01-19 17:05:51.182"
          ],
          [
           18,
           "2022-01-19 17:06:11.245"
          ],
          [
           18,
           "2022-01-19 17:06:31.338"
          ],
          [
           18,
           "2022-01-19 17:06:51.418"
          ],
          [
           18,
           "2022-01-19 17:07:11.508"
          ],
          [
           18,
           "2022-01-19 17:07:31.571"
          ],
          [
           18,
           "2022-01-19 17:07:51.651"
          ],
          [
           18,
           "2022-01-19 17:08:11.710"
          ],
          [
           18,
           "2022-01-19 17:08:31.767"
          ],
          [
           18,
           "2022-01-19 17:08:51.943"
          ],
          [
           18,
           "2022-01-19 17:09:12.003"
          ],
          [
           18,
           "2022-01-19 17:09:32.096"
          ],
          [
           18,
           "2022-01-19 17:09:52.159"
          ],
          [
           18,
           "2022-01-19 17:10:12.280"
          ],
          [
           18,
           "2022-01-19 17:10:32.349"
          ],
          [
           18,
           "2022-01-19 17:10:52.429"
          ],
          [
           18,
           "2022-01-19 17:11:12.485"
          ],
          [
           18,
           "2022-01-19 17:11:32.585"
          ],
          [
           18,
           "2022-01-19 17:11:52.722"
          ],
          [
           18,
           "2022-01-19 17:12:12.868"
          ],
          [
           18,
           "2022-01-19 17:12:32.917"
          ],
          [
           18,
           "2022-01-19 17:12:53.045"
          ],
          [
           18,
           "2022-01-19 17:13:13.114"
          ],
          [
           18,
           "2022-01-19 17:13:33.191"
          ],
          [
           18,
           "2022-01-19 17:13:53.277"
          ],
          [
           18,
           "2022-01-19 17:14:13.317"
          ],
          [
           18,
           "2022-01-19 17:14:33.380"
          ],
          [
           19,
           "2022-01-19 17:14:53.456"
          ],
          [
           19,
           "2022-01-19 17:15:13.513"
          ],
          [
           19,
           "2022-01-19 17:15:33.599"
          ],
          [
           19,
           "2022-01-19 17:15:53.657"
          ],
          [
           19,
           "2022-01-19 17:16:13.736"
          ],
          [
           19,
           "2022-01-19 17:16:33.769"
          ],
          [
           19,
           "2022-01-19 17:16:53.832"
          ],
          [
           19,
           "2022-01-19 17:17:13.890"
          ],
          [
           19,
           "2022-01-19 17:17:33.973"
          ],
          [
           19,
           "2022-01-19 17:17:54.060"
          ],
          [
           19,
           "2022-01-19 17:18:14.147"
          ],
          [
           19,
           "2022-01-19 17:18:34.264"
          ],
          [
           19,
           "2022-01-19 17:18:54.311"
          ],
          [
           19,
           "2022-01-19 17:19:14.337"
          ],
          [
           19,
           "2022-01-19 17:19:34.390"
          ],
          [
           19,
           "2022-01-19 17:19:54.433"
          ],
          [
           19,
           "2022-01-19 17:20:14.508"
          ],
          [
           19,
           "2022-01-19 17:20:34.586"
          ],
          [
           19,
           "2022-01-19 17:20:54.646"
          ],
          [
           19,
           "2022-01-19 17:21:14.742"
          ],
          [
           19,
           "2022-01-19 17:21:34.792"
          ],
          [
           19,
           "2022-01-19 17:21:54.899"
          ],
          [
           19,
           "2022-01-19 17:22:14.992"
          ],
          [
           19,
           "2022-01-19 17:22:35.082"
          ],
          [
           19,
           "2022-01-19 17:22:55.172"
          ],
          [
           19,
           "2022-01-19 17:23:15.305"
          ],
          [
           19,
           "2022-01-19 17:23:35.364"
          ],
          [
           19,
           "2022-01-19 17:23:55.394"
          ],
          [
           19,
           "2022-01-19 17:24:15.499"
          ],
          [
           19,
           "2022-01-19 17:24:35.504"
          ],
          [
           19,
           "2022-01-19 17:24:55.577"
          ],
          [
           19,
           "2022-01-19 17:25:15.699"
          ],
          [
           19,
           "2022-01-19 17:25:35.706"
          ],
          [
           19,
           "2022-01-19 17:25:55.766"
          ],
          [
           19,
           "2022-01-19 17:26:15.833"
          ],
          [
           19,
           "2022-01-19 17:26:35.876"
          ],
          [
           19,
           "2022-01-19 17:26:55.942"
          ],
          [
           19,
           "2022-01-19 17:27:16.025"
          ],
          [
           19,
           "2022-01-19 17:27:36.092"
          ],
          [
           19,
           "2022-01-19 17:27:56.148"
          ],
          [
           19,
           "2022-01-19 17:28:16.198"
          ],
          [
           19,
           "2022-01-19 17:28:36.297"
          ],
          [
           19,
           "2022-01-19 17:28:56.334"
          ],
          [
           19,
           "2022-01-19 17:29:16.424"
          ],
          [
           19,
           "2022-01-19 17:29:36.517"
          ],
          [
           20,
           "2022-01-19 17:29:56.604"
          ],
          [
           20,
           "2022-01-19 17:30:16.676"
          ],
          [
           20,
           "2022-01-19 17:30:36.723"
          ],
          [
           20,
           "2022-01-19 17:30:56.810"
          ],
          [
           20,
           "2022-01-19 17:31:16.863"
          ],
          [
           20,
           "2022-01-19 17:31:36.956"
          ],
          [
           20,
           "2022-01-19 17:31:57.036"
          ],
          [
           20,
           "2022-01-19 17:32:17.126"
          ],
          [
           20,
           "2022-01-19 17:32:37.225"
          ],
          [
           20,
           "2022-01-19 17:32:57.343"
          ],
          [
           20,
           "2022-01-19 17:33:17.358"
          ],
          [
           20,
           "2022-01-19 17:33:37.458"
          ],
          [
           20,
           "2022-01-19 17:33:57.511"
          ],
          [
           20,
           "2022-01-19 17:34:17.588"
          ],
          [
           20,
           "2022-01-19 17:34:37.608"
          ],
          [
           20,
           "2022-01-19 17:34:57.717"
          ],
          [
           20,
           "2022-01-19 17:35:17.817"
          ],
          [
           20,
           "2022-01-19 17:35:37.867"
          ],
          [
           20,
           "2022-01-19 17:35:57.920"
          ],
          [
           20,
           "2022-01-19 17:36:18.010"
          ],
          [
           20,
           "2022-01-19 17:36:38.104"
          ],
          [
           20,
           "2022-01-19 17:36:58.190"
          ],
          [
           20,
           "2022-01-19 17:37:18.279"
          ],
          [
           20,
           "2022-01-19 17:37:38.330"
          ],
          [
           20,
           "2022-01-19 17:37:58.382"
          ],
          [
           20,
           "2022-01-19 17:38:18.482"
          ],
          [
           20,
           "2022-01-19 17:38:38.575"
          ],
          [
           20,
           "2022-01-19 17:38:58.638"
          ],
          [
           20,
           "2022-01-19 17:39:18.715"
          ],
          [
           20,
           "2022-01-19 17:39:38.768"
          ],
          [
           20,
           "2022-01-19 17:39:58.854"
          ],
          [
           20,
           "2022-01-19 17:40:18.871"
          ],
          [
           20,
           "2022-01-19 17:40:38.950"
          ],
          [
           20,
           "2022-01-19 17:40:59.034"
          ],
          [
           20,
           "2022-01-19 17:41:19.122"
          ],
          [
           20,
           "2022-01-19 17:41:39.216"
          ],
          [
           20,
           "2022-01-19 17:41:59.306"
          ],
          [
           20,
           "2022-01-19 17:42:19.477"
          ],
          [
           20,
           "2022-01-19 17:42:39.478"
          ],
          [
           20,
           "2022-01-19 17:42:59.569"
          ],
          [
           20,
           "2022-01-19 17:43:19.645"
          ],
          [
           20,
           "2022-01-19 17:43:39.752"
          ],
          [
           20,
           "2022-01-19 17:43:59.842"
          ],
          [
           20,
           "2022-01-19 17:44:19.911"
          ],
          [
           20,
           "2022-01-19 17:44:40.011"
          ],
          [
           21,
           "2022-01-19 17:45:00.093"
          ],
          [
           21,
           "2022-01-19 17:45:20.201"
          ],
          [
           21,
           "2022-01-19 17:45:40.304"
          ],
          [
           21,
           "2022-01-19 17:46:00.389"
          ],
          [
           21,
           "2022-01-19 17:46:20.454"
          ],
          [
           21,
           "2022-01-19 17:46:40.513"
          ],
          [
           22,
           "2022-01-19 17:47:00.580"
          ],
          [
           22,
           "2022-01-19 17:47:20.628"
          ],
          [
           22,
           "2022-01-19 17:47:40.768"
          ],
          [
           22,
           "2022-01-19 17:48:00.779"
          ],
          [
           22,
           "2022-01-19 17:48:20.836"
          ],
          [
           22,
           "2022-01-19 17:48:40.887"
          ],
          [
           22,
           "2022-01-19 17:49:00.982"
          ],
          [
           22,
           "2022-01-19 17:49:21.075"
          ],
          [
           22,
           "2022-01-19 17:49:41.165"
          ],
          [
           22,
           "2022-01-19 17:50:01.241"
          ],
          [
           22,
           "2022-01-19 17:50:21.331"
          ],
          [
           22,
           "2022-01-19 17:50:41.424"
          ],
          [
           22,
           "2022-01-19 17:51:01.494"
          ],
          [
           22,
           "2022-01-19 17:51:21.580"
          ],
          [
           22,
           "2022-01-19 17:51:41.663"
          ],
          [
           22,
           "2022-01-19 17:52:01.750"
          ],
          [
           22,
           "2022-01-19 17:52:21.830"
          ],
          [
           22,
           "2022-01-19 17:52:41.893"
          ],
          [
           22,
           "2022-01-19 17:53:01.989"
          ],
          [
           22,
           "2022-01-19 17:53:22.076"
          ],
          [
           22,
           "2022-01-19 17:53:42.156"
          ],
          [
           22,
           "2022-01-19 17:54:02.245"
          ],
          [
           22,
           "2022-01-19 17:54:22.362"
          ],
          [
           22,
           "2022-01-19 17:54:42.432"
          ],
          [
           22,
           "2022-01-19 17:55:02.532"
          ],
          [
           22,
           "2022-01-19 17:55:22.618"
          ],
          [
           22,
           "2022-01-19 17:55:42.714"
          ],
          [
           22,
           "2022-01-19 17:56:02.807"
          ],
          [
           22,
           "2022-01-19 17:56:22.903"
          ],
          [
           22,
           "2022-01-19 17:56:42.997"
          ],
          [
           22,
           "2022-01-19 17:57:03.067"
          ],
          [
           22,
           "2022-01-19 17:57:23.177"
          ],
          [
           22,
           "2022-01-19 17:57:43.314"
          ],
          [
           22,
           "2022-01-19 17:58:03.373"
          ],
          [
           22,
           "2022-01-19 17:58:23.468"
          ],
          [
           22,
           "2022-01-19 17:58:43.539"
          ],
          [
           22,
           "2022-01-19 17:59:03.632"
          ],
          [
           22,
           "2022-01-19 17:59:23.754"
          ],
          [
           22,
           "2022-01-19 17:59:43.776"
          ],
          [
           22,
           "2022-01-19 18:00:03.845"
          ],
          [
           22,
           "2022-01-19 18:00:23.901"
          ],
          [
           22,
           "2022-01-19 18:00:43.998"
          ],
          [
           22,
           "2022-01-19 18:01:04.025"
          ],
          [
           22,
           "2022-01-19 18:01:24.124"
          ],
          [
           22,
           "2022-01-19 18:01:44.197"
          ],
          [
           23,
           "2022-01-19 18:02:04.218"
          ],
          [
           23,
           "2022-01-19 18:02:24.320"
          ],
          [
           23,
           "2022-01-19 18:02:44.418"
          ],
          [
           23,
           "2022-01-19 18:03:04.527"
          ],
          [
           23,
           "2022-01-19 18:03:24.623"
          ],
          [
           23,
           "2022-01-19 18:03:44.712"
          ],
          [
           23,
           "2022-01-19 18:04:04.781"
          ],
          [
           23,
           "2022-01-19 18:04:24.849"
          ],
          [
           23,
           "2022-01-19 18:04:44.942"
          ],
          [
           23,
           "2022-01-19 18:05:05.039"
          ],
          [
           23,
           "2022-01-19 18:05:25.125"
          ],
          [
           23,
           "2022-01-19 18:05:45.201"
          ],
          [
           23,
           "2022-01-19 18:06:05.272"
          ],
          [
           23,
           "2022-01-19 18:06:25.329"
          ],
          [
           23,
           "2022-01-19 18:06:45.388"
          ],
          [
           23,
           "2022-01-19 18:07:05.471"
          ],
          [
           23,
           "2022-01-19 18:07:25.541"
          ],
          [
           23,
           "2022-01-19 18:07:45.587"
          ],
          [
           23,
           "2022-01-19 18:08:05.664"
          ],
          [
           23,
           "2022-01-19 18:08:25.739"
          ],
          [
           23,
           "2022-01-19 18:08:45.793"
          ],
          [
           23,
           "2022-01-19 18:09:05.846"
          ],
          [
           23,
           "2022-01-19 18:09:25.916"
          ],
          [
           23,
           "2022-01-19 18:09:45.952"
          ],
          [
           23,
           "2022-01-19 18:10:06.005"
          ],
          [
           23,
           "2022-01-19 18:10:26.075"
          ],
          [
           23,
           "2022-01-19 18:10:46.125"
          ],
          [
           23,
           "2022-01-19 18:11:06.165"
          ],
          [
           23,
           "2022-01-19 18:11:26.228"
          ],
          [
           23,
           "2022-01-19 18:11:46.281"
          ],
          [
           23,
           "2022-01-19 18:12:06.331"
          ],
          [
           23,
           "2022-01-19 18:12:26.380"
          ],
          [
           23,
           "2022-01-19 18:12:46.438"
          ],
          [
           23,
           "2022-01-19 18:13:06.478"
          ],
          [
           23,
           "2022-01-19 18:13:26.580"
          ],
          [
           23,
           "2022-01-19 18:13:46.643"
          ],
          [
           23,
           "2022-01-19 18:14:06.695"
          ],
          [
           23,
           "2022-01-19 18:14:26.746"
          ],
          [
           23,
           "2022-01-19 18:14:46.806"
          ],
          [
           23,
           "2022-01-19 18:15:06.869"
          ],
          [
           23,
           "2022-01-19 18:15:26.911"
          ],
          [
           23,
           "2022-01-19 18:15:46.978"
          ],
          [
           23,
           "2022-01-19 18:16:07.062"
          ],
          [
           23,
           "2022-01-19 18:16:27.118"
          ],
          [
           23,
           "2022-01-19 18:16:47.204"
          ],
          [
           24,
           "2022-01-19 18:17:07.261"
          ],
          [
           24,
           "2022-01-19 18:17:27.357"
          ],
          [
           24,
           "2022-01-19 18:17:47.444"
          ],
          [
           24,
           "2022-01-19 18:18:07.501"
          ],
          [
           24,
           "2022-01-19 18:18:27.567"
          ],
          [
           24,
           "2022-01-19 18:18:47.620"
          ],
          [
           24,
           "2022-01-19 18:19:07.715"
          ],
          [
           24,
           "2022-01-19 18:19:27.773"
          ],
          [
           24,
           "2022-01-19 18:19:47.857"
          ],
          [
           24,
           "2022-01-19 18:20:07.931"
          ],
          [
           24,
           "2022-01-19 18:20:27.989"
          ],
          [
           24,
           "2022-01-19 18:20:48.032"
          ],
          [
           24,
           "2022-01-19 18:21:08.095"
          ],
          [
           24,
           "2022-01-19 18:21:28.158"
          ],
          [
           24,
           "2022-01-19 18:21:48.215"
          ],
          [
           24,
           "2022-01-19 18:22:08.278"
          ],
          [
           24,
           "2022-01-19 18:22:28.321"
          ],
          [
           24,
           "2022-01-19 18:22:48.437"
          ],
          [
           24,
           "2022-01-19 18:23:08.457"
          ],
          [
           24,
           "2022-01-19 18:23:28.542"
          ],
          [
           24,
           "2022-01-19 18:23:48.589"
          ],
          [
           24,
           "2022-01-19 18:24:08.663"
          ],
          [
           24,
           "2022-01-19 18:24:28.730"
          ],
          [
           24,
           "2022-01-19 18:24:48.793"
          ],
          [
           24,
           "2022-01-19 18:25:08.856"
          ],
          [
           24,
           "2022-01-19 18:25:28.925"
          ],
          [
           24,
           "2022-01-19 18:25:48.989"
          ],
          [
           24,
           "2022-01-19 18:26:09.059"
          ],
          [
           24,
           "2022-01-19 18:26:29.111"
          ],
          [
           24,
           "2022-01-19 18:26:49.168"
          ],
          [
           24,
           "2022-01-19 18:27:09.271"
          ],
          [
           24,
           "2022-01-19 18:27:29.338"
          ],
          [
           24,
           "2022-01-19 18:27:49.407"
          ],
          [
           24,
           "2022-01-19 18:28:09.491"
          ],
          [
           24,
           "2022-01-19 18:28:29.590"
          ],
          [
           24,
           "2022-01-19 18:28:49.667"
          ],
          [
           24,
           "2022-01-19 18:29:09.720"
          ],
          [
           24,
           "2022-01-19 18:29:29.773"
          ],
          [
           24,
           "2022-01-19 18:29:49.844"
          ],
          [
           24,
           "2022-01-19 18:30:09.889"
          ],
          [
           24,
           "2022-01-19 18:30:29.954"
          ],
          [
           24,
           "2022-01-19 18:30:50.019"
          ],
          [
           24,
           "2022-01-19 18:31:10.069"
          ],
          [
           24,
           "2022-01-19 18:31:30.125"
          ],
          [
           24,
           "2022-01-19 18:31:50.188"
          ],
          [
           25,
           "2022-01-19 18:32:10.248"
          ],
          [
           25,
           "2022-01-19 18:32:30.331"
          ],
          [
           25,
           "2022-01-19 18:32:50.428"
          ],
          [
           25,
           "2022-01-19 18:33:10.511"
          ],
          [
           25,
           "2022-01-19 18:33:30.577"
          ],
          [
           25,
           "2022-01-19 18:33:50.689"
          ],
          [
           25,
           "2022-01-19 18:34:10.760"
          ],
          [
           25,
           "2022-01-19 18:34:30.847"
          ],
          [
           25,
           "2022-01-19 18:34:50.920"
          ],
          [
           25,
           "2022-01-19 18:35:11.010"
          ],
          [
           25,
           "2022-01-19 18:35:31.066"
          ],
          [
           25,
           "2022-01-19 18:35:51.116"
          ],
          [
           25,
           "2022-01-19 18:36:11.172"
          ],
          [
           25,
           "2022-01-19 18:36:31.289"
          ],
          [
           25,
           "2022-01-19 18:36:51.367"
          ],
          [
           25,
           "2022-01-19 18:37:11.462"
          ],
          [
           25,
           "2022-01-19 18:37:31.528"
          ],
          [
           25,
           "2022-01-19 18:37:51.611"
          ],
          [
           25,
           "2022-01-19 18:38:11.711"
          ],
          [
           25,
           "2022-01-19 18:38:31.814"
          ],
          [
           25,
           "2022-01-19 18:38:51.874"
          ],
          [
           25,
           "2022-01-19 18:39:11.967"
          ],
          [
           25,
           "2022-01-19 18:39:32.027"
          ],
          [
           25,
           "2022-01-19 18:39:52.110"
          ],
          [
           25,
           "2022-01-19 18:40:12.207"
          ],
          [
           25,
           "2022-01-19 18:40:32.286"
          ],
          [
           25,
           "2022-01-19 18:40:52.359"
          ],
          [
           25,
           "2022-01-19 18:41:12.433"
          ],
          [
           25,
           "2022-01-19 18:41:32.492"
          ],
          [
           25,
           "2022-01-19 18:41:52.545"
          ],
          [
           25,
           "2022-01-19 18:42:12.612"
          ],
          [
           25,
           "2022-01-19 18:42:32.665"
          ],
          [
           25,
           "2022-01-19 18:42:52.735"
          ],
          [
           25,
           "2022-01-19 18:43:12.825"
          ],
          [
           25,
           "2022-01-19 18:43:32.887"
          ],
          [
           25,
           "2022-01-19 18:43:52.951"
          ],
          [
           25,
           "2022-01-19 18:44:13.011"
          ],
          [
           25,
           "2022-01-19 18:44:33.104"
          ],
          [
           25,
           "2022-01-19 18:44:53.174"
          ],
          [
           25,
           "2022-01-19 18:45:13.243"
          ],
          [
           25,
           "2022-01-19 18:45:33.330"
          ],
          [
           25,
           "2022-01-19 18:45:53.420"
          ],
          [
           25,
           "2022-01-19 18:46:13.502"
          ],
          [
           26,
           "2022-01-19 18:46:33.579"
          ],
          [
           26,
           "2022-01-19 18:46:53.646"
          ],
          [
           26,
           "2022-01-19 18:47:13.725"
          ],
          [
           26,
           "2022-01-19 18:47:33.785"
          ],
          [
           26,
           "2022-01-19 18:47:53.828"
          ],
          [
           26,
           "2022-01-19 18:48:13.901"
          ],
          [
           26,
           "2022-01-19 18:48:33.991"
          ],
          [
           26,
           "2022-01-19 18:48:54.070"
          ],
          [
           26,
           "2022-01-19 18:49:14.137"
          ],
          [
           26,
           "2022-01-19 18:49:34.190"
          ],
          [
           26,
           "2022-01-19 18:49:54.234"
          ],
          [
           26,
           "2022-01-19 18:50:14.309"
          ],
          [
           26,
           "2022-01-19 18:50:34.400"
          ],
          [
           26,
           "2022-01-19 18:50:54.470"
          ],
          [
           26,
           "2022-01-19 18:51:14.540"
          ],
          [
           26,
           "2022-01-19 18:51:34.599"
          ],
          [
           26,
           "2022-01-19 18:51:54.652"
          ],
          [
           26,
           "2022-01-19 18:52:14.699"
          ],
          [
           26,
           "2022-01-19 18:52:34.759"
          ],
          [
           26,
           "2022-01-19 18:52:54.808"
          ],
          [
           26,
           "2022-01-19 18:53:14.875"
          ],
          [
           26,
           "2022-01-19 18:53:34.928"
          ],
          [
           26,
           "2022-01-19 18:53:54.985"
          ],
          [
           26,
           "2022-01-19 18:54:15.091"
          ],
          [
           26,
           "2022-01-19 18:54:35.101"
          ],
          [
           26,
           "2022-01-19 18:54:55.161"
          ],
          [
           26,
           "2022-01-19 18:55:15.206"
          ],
          [
           26,
           "2022-01-19 18:55:35.254"
          ],
          [
           26,
           "2022-01-19 18:55:55.306"
          ],
          [
           26,
           "2022-01-19 18:56:15.356"
          ],
          [
           26,
           "2022-01-19 18:56:35.473"
          ],
          [
           26,
           "2022-01-19 18:56:55.543"
          ],
          [
           26,
           "2022-01-19 18:57:15.619"
          ],
          [
           26,
           "2022-01-19 18:57:35.709"
          ],
          [
           26,
           "2022-01-19 18:57:55.765"
          ],
          [
           26,
           "2022-01-19 18:58:15.858"
          ],
          [
           26,
           "2022-01-19 18:58:35.912"
          ],
          [
           26,
           "2022-01-19 18:58:55.958"
          ],
          [
           26,
           "2022-01-19 18:59:16.015"
          ],
          [
           26,
           "2022-01-19 18:59:36.078"
          ],
          [
           26,
           "2022-01-19 18:59:56.147"
          ],
          [
           26,
           "2022-01-19 19:00:16.217"
          ],
          [
           26,
           "2022-01-19 19:00:36.280"
          ],
          [
           26,
           "2022-01-19 19:00:56.343"
          ],
          [
           26,
           "2022-01-19 19:01:16.403"
          ],
          [
           27,
           "2022-01-19 19:01:36.466"
          ],
          [
           27,
           "2022-01-19 19:01:56.517"
          ],
          [
           27,
           "2022-01-19 19:02:16.579"
          ],
          [
           27,
           "2022-01-19 19:02:36.656"
          ],
          [
           27,
           "2022-01-19 19:02:56.726"
          ],
          [
           27,
           "2022-01-19 19:03:16.805"
          ],
          [
           27,
           "2022-01-19 19:03:36.842"
          ],
          [
           27,
           "2022-01-19 19:03:56.902"
          ],
          [
           27,
           "2022-01-19 19:04:16.965"
          ],
          [
           27,
           "2022-01-19 19:04:37.058"
          ],
          [
           27,
           "2022-01-19 19:04:57.151"
          ],
          [
           27,
           "2022-01-19 19:05:17.254"
          ],
          [
           27,
           "2022-01-19 19:05:37.320"
          ],
          [
           27,
           "2022-01-19 19:05:57.437"
          ],
          [
           27,
           "2022-01-19 19:06:17.493"
          ],
          [
           27,
           "2022-01-19 19:06:37.557"
          ],
          [
           27,
           "2022-01-19 19:06:57.620"
          ],
          [
           27,
           "2022-01-19 19:07:17.693"
          ],
          [
           27,
           "2022-01-19 19:07:37.774"
          ],
          [
           27,
           "2022-01-19 19:07:57.874"
          ],
          [
           27,
           "2022-01-19 19:08:17.952"
          ],
          [
           27,
           "2022-01-19 19:08:38.000"
          ],
          [
           27,
           "2022-01-19 19:08:58.054"
          ],
          [
           27,
           "2022-01-19 19:09:18.122"
          ],
          [
           27,
           "2022-01-19 19:09:38.201"
          ],
          [
           27,
           "2022-01-19 19:09:58.268"
          ],
          [
           27,
           "2022-01-19 19:10:18.331"
          ],
          [
           27,
           "2022-01-19 19:10:38.407"
          ],
          [
           27,
           "2022-01-19 19:10:58.464"
          ],
          [
           27,
           "2022-01-19 19:11:18.527"
          ],
          [
           27,
           "2022-01-19 19:11:38.607"
          ],
          [
           27,
           "2022-01-19 19:11:58.669"
          ],
          [
           27,
           "2022-01-19 19:12:18.756"
          ],
          [
           27,
           "2022-01-19 19:12:38.816"
          ],
          [
           27,
           "2022-01-19 19:12:58.957"
          ],
          [
           27,
           "2022-01-19 19:13:18.982"
          ],
          [
           27,
           "2022-01-19 19:13:39.111"
          ],
          [
           27,
           "2022-01-19 19:13:59.152"
          ],
          [
           27,
           "2022-01-19 19:14:19.238"
          ],
          [
           27,
           "2022-01-19 19:14:39.335"
          ],
          [
           27,
           "2022-01-19 19:14:59.384"
          ],
          [
           27,
           "2022-01-19 19:15:19.451"
          ],
          [
           27,
           "2022-01-19 19:15:39.497"
          ],
          [
           27,
           "2022-01-19 19:15:59.557"
          ],
          [
           28,
           "2022-01-19 19:16:19.620"
          ],
          [
           28,
           "2022-01-19 19:16:39.690"
          ],
          [
           28,
           "2022-01-19 19:16:59.757"
          ],
          [
           28,
           "2022-01-19 19:17:19.823"
          ],
          [
           28,
           "2022-01-19 19:17:39.889"
          ],
          [
           28,
           "2022-01-19 19:17:59.949"
          ],
          [
           28,
           "2022-01-19 19:18:20.062"
          ],
          [
           28,
           "2022-01-19 19:18:40.062"
          ],
          [
           28,
           "2022-01-19 19:19:00.147"
          ],
          [
           28,
           "2022-01-19 19:19:20.185"
          ],
          [
           28,
           "2022-01-19 19:19:40.248"
          ],
          [
           28,
           "2022-01-19 19:20:00.328"
          ],
          [
           28,
           "2022-01-19 19:20:20.388"
          ],
          [
           28,
           "2022-01-19 19:20:40.461"
          ],
          [
           29,
           "2022-01-19 19:21:00.517"
          ],
          [
           29,
           "2022-01-19 19:21:20.591"
          ],
          [
           29,
           "2022-01-19 19:21:40.654"
          ],
          [
           29,
           "2022-01-19 19:22:00.716"
          ],
          [
           29,
           "2022-01-19 19:22:20.783"
          ],
          [
           29,
           "2022-01-19 19:22:40.853"
          ],
          [
           29,
           "2022-01-19 19:23:00.963"
          ],
          [
           29,
           "2022-01-19 19:23:21.026"
          ],
          [
           29,
           "2022-01-19 19:23:41.089"
          ],
          [
           29,
           "2022-01-19 19:24:01.156"
          ],
          [
           29,
           "2022-01-19 19:24:21.226"
          ],
          [
           29,
           "2022-01-19 19:24:41.285"
          ],
          [
           29,
           "2022-01-19 19:25:01.362"
          ],
          [
           29,
           "2022-01-19 19:25:21.425"
          ],
          [
           29,
           "2022-01-19 19:25:41.484"
          ],
          [
           29,
           "2022-01-19 19:26:01.531"
          ],
          [
           29,
           "2022-01-19 19:26:21.592"
          ],
          [
           29,
           "2022-01-19 19:26:41.687"
          ],
          [
           29,
           "2022-01-19 19:27:01.747"
          ],
          [
           29,
           "2022-01-19 19:27:21.833"
          ],
          [
           29,
           "2022-01-19 19:27:41.926"
          ],
          [
           29,
           "2022-01-19 19:28:01.990"
          ],
          [
           29,
           "2022-01-19 19:28:22.093"
          ],
          [
           29,
           "2022-01-19 19:28:42.143"
          ],
          [
           29,
           "2022-01-19 19:29:02.194"
          ],
          [
           29,
           "2022-01-19 19:29:22.256"
          ],
          [
           29,
           "2022-01-19 19:29:42.315"
          ],
          [
           29,
           "2022-01-19 19:30:02.394"
          ],
          [
           29,
           "2022-01-19 19:30:22.504"
          ],
          [
           29,
           "2022-01-19 19:30:42.518"
          ],
          [
           29,
           "2022-01-19 19:31:02.594"
          ],
          [
           29,
           "2022-01-19 19:31:22.668"
          ],
          [
           29,
           "2022-01-19 19:31:42.751"
          ],
          [
           29,
           "2022-01-19 19:32:02.817"
          ],
          [
           29,
           "2022-01-19 19:32:22.890"
          ],
          [
           29,
           "2022-01-19 19:32:42.957"
          ],
          [
           29,
           "2022-01-19 19:33:03.020"
          ],
          [
           29,
           "2022-01-19 19:33:23.086"
          ],
          [
           29,
           "2022-01-19 19:33:43.200"
          ],
          [
           29,
           "2022-01-19 19:34:03.266"
          ],
          [
           29,
           "2022-01-19 19:34:23.346"
          ],
          [
           29,
           "2022-01-19 19:34:43.429"
          ],
          [
           29,
           "2022-01-19 19:35:03.479"
          ],
          [
           29,
           "2022-01-19 19:35:23.561"
          ],
          [
           29,
           "2022-01-19 19:35:43.620"
          ],
          [
           30,
           "2022-01-19 19:36:03.683"
          ],
          [
           30,
           "2022-01-19 19:36:23.744"
          ],
          [
           30,
           "2022-01-19 19:36:43.831"
          ],
          [
           30,
           "2022-01-19 19:37:03.921"
          ],
          [
           30,
           "2022-01-19 19:37:23.984"
          ],
          [
           30,
           "2022-01-19 19:37:44.050"
          ],
          [
           30,
           "2022-01-19 19:38:04.097"
          ],
          [
           30,
           "2022-01-19 19:38:24.156"
          ],
          [
           30,
           "2022-01-19 19:38:44.233"
          ],
          [
           30,
           "2022-01-19 19:39:04.333"
          ],
          [
           30,
           "2022-01-19 19:39:24.389"
          ],
          [
           30,
           "2022-01-19 19:39:44.489"
          ],
          [
           30,
           "2022-01-19 19:40:04.549"
          ],
          [
           30,
           "2022-01-19 19:40:24.658"
          ],
          [
           30,
           "2022-01-19 19:40:44.742"
          ],
          [
           30,
           "2022-01-19 19:41:04.845"
          ],
          [
           30,
           "2022-01-19 19:41:24.912"
          ],
          [
           30,
           "2022-01-19 19:41:44.951"
          ],
          [
           30,
           "2022-01-19 19:42:05.025"
          ],
          [
           30,
           "2022-01-19 19:42:25.071"
          ],
          [
           30,
           "2022-01-19 19:42:45.131"
          ],
          [
           30,
           "2022-01-19 19:43:05.221"
          ],
          [
           30,
           "2022-01-19 19:43:25.323"
          ],
          [
           30,
           "2022-01-19 19:43:45.380"
          ],
          [
           30,
           "2022-01-19 19:44:05.470"
          ],
          [
           30,
           "2022-01-19 19:44:25.568"
          ],
          [
           30,
           "2022-01-19 19:44:45.616"
          ],
          [
           30,
           "2022-01-19 19:45:05.669"
          ],
          [
           30,
           "2022-01-19 19:45:25.722"
          ],
          [
           30,
           "2022-01-19 19:45:45.782"
          ],
          [
           30,
           "2022-01-19 19:46:05.842"
          ],
          [
           30,
           "2022-01-19 19:46:25.885"
          ],
          [
           30,
           "2022-01-19 19:46:45.954"
          ],
          [
           30,
           "2022-01-19 19:47:06.004"
          ],
          [
           30,
           "2022-01-19 19:47:26.061"
          ],
          [
           30,
           "2022-01-19 19:47:46.131"
          ],
          [
           30,
           "2022-01-19 19:48:06.187"
          ],
          [
           30,
           "2022-01-19 19:48:26.241"
          ],
          [
           30,
           "2022-01-19 19:48:46.280"
          ],
          [
           30,
           "2022-01-19 19:49:06.350"
          ],
          [
           30,
           "2022-01-19 19:49:26.399"
          ],
          [
           30,
           "2022-01-19 19:49:46.482"
          ],
          [
           30,
           "2022-01-19 19:50:06.596"
          ],
          [
           30,
           "2022-01-19 19:50:26.649"
          ],
          [
           30,
           "2022-01-19 19:50:46.746"
          ],
          [
           31,
           "2022-01-19 19:51:06.805"
          ],
          [
           31,
           "2022-01-19 19:51:26.885"
          ],
          [
           31,
           "2022-01-19 19:51:46.991"
          ],
          [
           31,
           "2022-01-19 19:52:07.071"
          ],
          [
           31,
           "2022-01-19 19:52:27.151"
          ],
          [
           31,
           "2022-01-19 19:52:47.217"
          ],
          [
           31,
           "2022-01-19 19:53:07.271"
          ],
          [
           31,
           "2022-01-19 19:53:27.368"
          ],
          [
           31,
           "2022-01-19 19:53:47.431"
          ],
          [
           31,
           "2022-01-19 19:54:07.499"
          ],
          [
           31,
           "2022-01-19 19:54:27.593"
          ],
          [
           31,
           "2022-01-19 19:54:47.646"
          ],
          [
           31,
           "2022-01-19 19:55:07.736"
          ],
          [
           31,
           "2022-01-19 19:55:27.806"
          ],
          [
           31,
           "2022-01-19 19:55:47.889"
          ],
          [
           32,
           "2022-01-19 19:56:07.972"
          ],
          [
           32,
           "2022-01-19 19:56:28.049"
          ],
          [
           32,
           "2022-01-19 19:56:48.133"
          ],
          [
           32,
           "2022-01-19 19:57:08.198"
          ],
          [
           32,
           "2022-01-19 19:57:28.245"
          ],
          [
           32,
           "2022-01-19 19:57:48.318"
          ],
          [
           32,
           "2022-01-19 19:58:08.397"
          ],
          [
           32,
           "2022-01-19 19:58:28.464"
          ],
          [
           32,
           "2022-01-19 19:58:48.543"
          ],
          [
           32,
           "2022-01-19 19:59:08.603"
          ],
          [
           32,
           "2022-01-19 19:59:28.680"
          ],
          [
           32,
           "2022-01-19 19:59:48.761"
          ],
          [
           32,
           "2022-01-19 20:00:08.815"
          ],
          [
           32,
           "2022-01-19 20:00:28.896"
          ],
          [
           32,
           "2022-01-19 20:00:48.949"
          ],
          [
           32,
           "2022-01-19 20:01:09.006"
          ],
          [
           32,
           "2022-01-19 20:01:29.066"
          ],
          [
           32,
           "2022-01-19 20:01:49.136"
          ],
          [
           32,
           "2022-01-19 20:02:09.175"
          ],
          [
           32,
           "2022-01-19 20:02:29.258"
          ],
          [
           32,
           "2022-01-19 20:02:49.311"
          ],
          [
           32,
           "2022-01-19 20:03:09.356"
          ],
          [
           32,
           "2022-01-19 20:03:29.427"
          ],
          [
           32,
           "2022-01-19 20:03:49.480"
          ],
          [
           32,
           "2022-01-19 20:04:09.520"
          ],
          [
           32,
           "2022-01-19 20:04:29.594"
          ],
          [
           32,
           "2022-01-19 20:04:49.643"
          ],
          [
           32,
           "2022-01-19 20:05:09.690"
          ],
          [
           32,
           "2022-01-19 20:05:29.803"
          ],
          [
           32,
           "2022-01-19 20:05:49.929"
          ],
          [
           32,
           "2022-01-19 20:06:09.986"
          ],
          [
           32,
           "2022-01-19 20:06:30.047"
          ],
          [
           32,
           "2022-01-19 20:06:50.135"
          ],
          [
           32,
           "2022-01-19 20:07:10.205"
          ],
          [
           32,
           "2022-01-19 20:07:30.298"
          ],
          [
           32,
           "2022-01-19 20:07:51.061"
          ],
          [
           32,
           "2022-01-19 20:08:11.117"
          ],
          [
           32,
           "2022-01-19 20:08:31.168"
          ],
          [
           32,
           "2022-01-19 20:08:51.218"
          ],
          [
           32,
           "2022-01-19 20:09:11.264"
          ],
          [
           32,
           "2022-01-19 20:09:31.360"
          ],
          [
           32,
           "2022-01-19 20:09:51.417"
          ],
          [
           32,
           "2022-01-19 20:10:11.467"
          ],
          [
           32,
           "2022-01-19 20:10:31.530"
          ],
          [
           33,
           "2022-01-19 20:10:51.596"
          ],
          [
           33,
           "2022-01-19 20:11:11.686"
          ],
          [
           33,
           "2022-01-19 20:11:31.719"
          ],
          [
           33,
           "2022-01-19 20:11:51.796"
          ],
          [
           33,
           "2022-01-19 20:12:11.859"
          ],
          [
           33,
           "2022-01-19 20:12:31.922"
          ],
          [
           33,
           "2022-01-19 20:12:51.978"
          ],
          [
           33,
           "2022-01-19 20:13:12.084"
          ],
          [
           33,
           "2022-01-19 20:13:32.154"
          ],
          [
           33,
           "2022-01-19 20:13:52.207"
          ],
          [
           33,
           "2022-01-19 20:14:12.283"
          ],
          [
           33,
           "2022-01-19 20:14:32.348"
          ],
          [
           33,
           "2022-01-19 20:14:52.420"
          ],
          [
           33,
           "2022-01-19 20:15:12.494"
          ],
          [
           33,
           "2022-01-19 20:15:32.550"
          ],
          [
           33,
           "2022-01-19 20:15:52.610"
          ],
          [
           33,
           "2022-01-19 20:16:12.663"
          ],
          [
           33,
           "2022-01-19 20:16:32.769"
          ],
          [
           33,
           "2022-01-19 20:16:52.845"
          ],
          [
           33,
           "2022-01-19 20:17:12.946"
          ],
          [
           33,
           "2022-01-19 20:17:33.006"
          ],
          [
           33,
           "2022-01-19 20:17:53.068"
          ],
          [
           33,
           "2022-01-19 20:18:13.132"
          ],
          [
           33,
           "2022-01-19 20:18:33.201"
          ],
          [
           33,
           "2022-01-19 20:18:53.284"
          ],
          [
           33,
           "2022-01-19 20:19:13.371"
          ],
          [
           33,
           "2022-01-19 20:19:33.438"
          ],
          [
           33,
           "2022-01-19 20:19:53.528"
          ],
          [
           33,
           "2022-01-19 20:20:13.570"
          ],
          [
           33,
           "2022-01-19 20:20:33.630"
          ],
          [
           33,
           "2022-01-19 20:20:53.685"
          ],
          [
           33,
           "2022-01-19 20:21:13.746"
          ],
          [
           33,
           "2022-01-19 20:21:33.791"
          ],
          [
           33,
           "2022-01-19 20:21:53.852"
          ],
          [
           33,
           "2022-01-19 20:22:13.913"
          ],
          [
           33,
           "2022-01-19 20:22:33.963"
          ],
          [
           33,
           "2022-01-19 20:22:54.042"
          ],
          [
           33,
           "2022-01-19 20:23:14.111"
          ],
          [
           33,
           "2022-01-19 20:23:34.178"
          ],
          [
           33,
           "2022-01-19 20:23:54.232"
          ],
          [
           33,
           "2022-01-19 20:24:14.294"
          ],
          [
           33,
           "2022-01-19 20:24:34.348"
          ],
          [
           33,
           "2022-01-19 20:24:54.407"
          ],
          [
           33,
           "2022-01-19 20:25:14.477"
          ],
          [
           33,
           "2022-01-19 20:25:34.544"
          ],
          [
           34,
           "2022-01-19 20:25:54.634"
          ],
          [
           34,
           "2022-01-19 20:26:14.666"
          ],
          [
           34,
           "2022-01-19 20:26:34.743"
          ],
          [
           34,
           "2022-01-19 20:26:54.796"
          ],
          [
           34,
           "2022-01-19 20:27:14.859"
          ],
          [
           34,
           "2022-01-19 20:27:34.926"
          ],
          [
           34,
           "2022-01-19 20:27:54.990"
          ],
          [
           34,
           "2022-01-19 20:28:15.062"
          ],
          [
           34,
           "2022-01-19 20:28:35.129"
          ],
          [
           34,
           "2022-01-19 20:28:55.198"
          ],
          [
           34,
           "2022-01-19 20:29:15.259"
          ],
          [
           34,
           "2022-01-19 20:29:35.324"
          ],
          [
           34,
           "2022-01-19 20:29:55.398"
          ],
          [
           34,
           "2022-01-19 20:30:15.457"
          ],
          [
           34,
           "2022-01-19 20:30:35.524"
          ],
          [
           34,
           "2022-01-19 20:30:55.583"
          ],
          [
           34,
           "2022-01-19 20:31:15.650"
          ],
          [
           34,
           "2022-01-19 20:31:35.717"
          ],
          [
           34,
           "2022-01-19 20:31:55.796"
          ],
          [
           34,
           "2022-01-19 20:32:15.869"
          ],
          [
           34,
           "2022-01-19 20:32:35.950"
          ],
          [
           34,
           "2022-01-19 20:32:56.016"
          ],
          [
           34,
           "2022-01-19 20:33:16.085"
          ],
          [
           34,
           "2022-01-19 20:33:36.155"
          ],
          [
           34,
           "2022-01-19 20:33:56.222"
          ],
          [
           34,
           "2022-01-19 20:34:16.288"
          ],
          [
           34,
           "2022-01-19 20:34:36.348"
          ],
          [
           34,
           "2022-01-19 20:34:56.434"
          ],
          [
           34,
           "2022-01-19 20:35:16.497"
          ],
          [
           34,
           "2022-01-19 20:35:36.594"
          ],
          [
           34,
           "2022-01-19 20:35:56.684"
          ],
          [
           34,
           "2022-01-19 20:36:16.760"
          ],
          [
           34,
           "2022-01-19 20:36:36.869"
          ],
          [
           34,
           "2022-01-19 20:36:56.954"
          ],
          [
           34,
           "2022-01-19 20:37:17.043"
          ],
          [
           34,
           "2022-01-19 20:37:37.103"
          ],
          [
           34,
           "2022-01-19 20:37:57.145"
          ],
          [
           34,
           "2022-01-19 20:38:17.226"
          ],
          [
           34,
           "2022-01-19 20:38:37.339"
          ],
          [
           34,
           "2022-01-19 20:38:57.432"
          ],
          [
           34,
           "2022-01-19 20:39:17.552"
          ],
          [
           34,
           "2022-01-19 20:39:37.625"
          ],
          [
           34,
           "2022-01-19 20:39:57.718"
          ],
          [
           34,
           "2022-01-19 20:40:17.811"
          ],
          [
           34,
           "2022-01-19 20:40:37.894"
          ],
          [
           35,
           "2022-01-19 20:40:57.979"
          ],
          [
           35,
           "2022-01-19 20:41:18.071"
          ],
          [
           35,
           "2022-01-19 20:41:38.143"
          ],
          [
           35,
           "2022-01-19 20:41:58.249"
          ],
          [
           35,
           "2022-01-19 20:42:18.347"
          ],
          [
           35,
           "2022-01-19 20:42:38.453"
          ],
          [
           35,
           "2022-01-19 20:42:58.536"
          ],
          [
           35,
           "2022-01-19 20:43:18.637"
          ],
          [
           35,
           "2022-01-19 20:43:38.733"
          ],
          [
           35,
           "2022-01-19 20:43:58.856"
          ],
          [
           35,
           "2022-01-19 20:44:18.899"
          ],
          [
           35,
           "2022-01-19 20:44:38.992"
          ],
          [
           35,
           "2022-01-19 20:44:59.068"
          ],
          [
           35,
           "2022-01-19 20:45:19.155"
          ],
          [
           35,
           "2022-01-19 20:45:39.227"
          ],
          [
           35,
           "2022-01-19 20:45:59.314"
          ],
          [
           35,
           "2022-01-19 20:46:19.457"
          ],
          [
           35,
           "2022-01-19 20:46:39.490"
          ],
          [
           35,
           "2022-01-19 20:46:59.573"
          ],
          [
           35,
           "2022-01-19 20:47:19.673"
          ],
          [
           35,
           "2022-01-19 20:47:39.763"
          ],
          [
           35,
           "2022-01-19 20:47:59.903"
          ],
          [
           35,
           "2022-01-19 20:48:19.973"
          ],
          [
           35,
           "2022-01-19 20:48:40.016"
          ],
          [
           35,
           "2022-01-19 20:49:00.106"
          ],
          [
           35,
           "2022-01-19 20:49:20.212"
          ],
          [
           35,
           "2022-01-19 20:49:40.305"
          ],
          [
           35,
           "2022-01-19 20:50:00.397"
          ],
          [
           35,
           "2022-01-19 20:50:20.511"
          ],
          [
           35,
           "2022-01-19 20:50:40.588"
          ],
          [
           35,
           "2022-01-19 20:51:00.647"
          ],
          [
           35,
           "2022-01-19 20:51:20.741"
          ],
          [
           35,
           "2022-01-19 20:51:40.847"
          ],
          [
           35,
           "2022-01-19 20:52:00.930"
          ],
          [
           35,
           "2022-01-19 20:52:21.020"
          ],
          [
           35,
           "2022-01-19 20:52:41.110"
          ],
          [
           35,
           "2022-01-19 20:53:01.200"
          ],
          [
           35,
           "2022-01-19 20:53:21.277"
          ],
          [
           35,
           "2022-01-19 20:53:41.356"
          ],
          [
           35,
           "2022-01-19 20:54:01.439"
          ],
          [
           35,
           "2022-01-19 20:54:21.525"
          ],
          [
           35,
           "2022-01-19 20:54:41.622"
          ],
          [
           35,
           "2022-01-19 20:55:01.695"
          ],
          [
           35,
           "2022-01-19 20:55:21.798"
          ],
          [
           36,
           "2022-01-19 20:55:41.878"
          ],
          [
           36,
           "2022-01-19 20:56:01.954"
          ],
          [
           36,
           "2022-01-19 20:56:22.025"
          ],
          [
           36,
           "2022-01-19 20:56:42.108"
          ],
          [
           36,
           "2022-01-19 20:57:02.191"
          ],
          [
           36,
           "2022-01-19 20:57:22.274"
          ],
          [
           36,
           "2022-01-19 20:57:42.343"
          ],
          [
           36,
           "2022-01-19 20:58:02.433"
          ],
          [
           36,
           "2022-01-19 20:58:22.537"
          ],
          [
           36,
           "2022-01-19 20:58:42.647"
          ],
          [
           36,
           "2022-01-19 20:59:02.726"
          ],
          [
           36,
           "2022-01-19 20:59:22.779"
          ],
          [
           36,
           "2022-01-19 20:59:42.862"
          ],
          [
           36,
           "2022-01-19 21:00:02.949"
          ],
          [
           36,
           "2022-01-19 21:00:23.036"
          ],
          [
           36,
           "2022-01-19 21:00:43.134"
          ],
          [
           36,
           "2022-01-19 21:01:03.245"
          ],
          [
           36,
           "2022-01-19 21:01:23.331"
          ],
          [
           36,
           "2022-01-19 21:01:43.398"
          ],
          [
           36,
           "2022-01-19 21:02:03.504"
          ],
          [
           36,
           "2022-01-19 21:02:23.600"
          ],
          [
           36,
           "2022-01-19 21:02:43.707"
          ],
          [
           36,
           "2022-01-19 21:03:03.800"
          ],
          [
           36,
           "2022-01-19 21:03:23.900"
          ],
          [
           36,
           "2022-01-19 21:03:43.990"
          ],
          [
           36,
           "2022-01-19 21:04:04.069"
          ],
          [
           36,
           "2022-01-19 21:04:24.199"
          ],
          [
           36,
           "2022-01-19 21:04:44.291"
          ],
          [
           36,
           "2022-01-19 21:05:04.362"
          ],
          [
           36,
           "2022-01-19 21:05:24.469"
          ],
          [
           36,
           "2022-01-19 21:05:44.568"
          ],
          [
           36,
           "2022-01-19 21:06:04.641"
          ],
          [
           36,
           "2022-01-19 21:06:24.732"
          ],
          [
           36,
           "2022-01-19 21:06:44.831"
          ],
          [
           36,
           "2022-01-19 21:07:04.929"
          ],
          [
           36,
           "2022-01-19 21:07:25.037"
          ],
          [
           36,
           "2022-01-19 21:07:45.128"
          ],
          [
           36,
           "2022-01-19 21:08:05.249"
          ],
          [
           36,
           "2022-01-19 21:08:25.344"
          ],
          [
           36,
           "2022-01-19 21:08:45.446"
          ],
          [
           36,
           "2022-01-19 21:09:05.549"
          ],
          [
           36,
           "2022-01-19 21:09:25.678"
          ],
          [
           36,
           "2022-01-19 21:09:45.756"
          ],
          [
           36,
           "2022-01-19 21:10:05.862"
          ],
          [
           36,
           "2022-01-19 21:10:25.959"
          ],
          [
           37,
           "2022-01-19 21:10:46.052"
          ],
          [
           37,
           "2022-01-19 21:11:06.212"
          ],
          [
           37,
           "2022-01-19 21:11:26.302"
          ],
          [
           37,
           "2022-01-19 21:11:46.408"
          ],
          [
           37,
           "2022-01-19 21:12:06.491"
          ],
          [
           37,
           "2022-01-19 21:12:26.674"
          ],
          [
           37,
           "2022-01-19 21:12:46.817"
          ],
          [
           37,
           "2022-01-19 21:13:06.884"
          ],
          [
           37,
           "2022-01-19 21:13:27.070"
          ],
          [
           37,
           "2022-01-19 21:13:47.190"
          ],
          [
           37,
           "2022-01-19 21:14:07.343"
          ],
          [
           37,
           "2022-01-19 21:14:27.540"
          ],
          [
           37,
           "2022-01-19 21:14:47.673"
          ],
          [
           37,
           "2022-01-19 21:15:07.896"
          ],
          [
           37,
           "2022-01-19 21:15:28.116"
          ],
          [
           37,
           "2022-01-19 21:15:48.332"
          ],
          [
           37,
           "2022-01-19 21:16:08.529"
          ],
          [
           37,
           "2022-01-19 21:16:28.741"
          ],
          [
           37,
           "2022-01-19 21:16:48.975"
          ],
          [
           37,
           "2022-01-19 21:17:09.168"
          ],
          [
           37,
           "2022-01-19 21:17:29.374"
          ],
          [
           37,
           "2022-01-19 21:17:49.577"
          ],
          [
           37,
           "2022-01-19 21:18:09.797"
          ],
          [
           37,
           "2022-01-19 21:18:30.010"
          ],
          [
           37,
           "2022-01-19 21:18:50.263"
          ],
          [
           37,
           "2022-01-19 21:19:10.430"
          ],
          [
           37,
           "2022-01-19 21:19:30.630"
          ],
          [
           37,
           "2022-01-19 21:19:50.823"
          ],
          [
           37,
           "2022-01-19 21:20:11.038"
          ],
          [
           37,
           "2022-01-19 21:20:31.222"
          ],
          [
           37,
           "2022-01-19 21:20:51.422"
          ],
          [
           37,
           "2022-01-19 21:21:11.629"
          ],
          [
           37,
           "2022-01-19 21:21:31.825"
          ],
          [
           37,
           "2022-01-19 21:21:52.042"
          ],
          [
           37,
           "2022-01-19 21:22:12.245"
          ],
          [
           37,
           "2022-01-19 21:22:32.444"
          ],
          [
           37,
           "2022-01-19 21:22:52.641"
          ],
          [
           37,
           "2022-01-19 21:23:12.858"
          ],
          [
           37,
           "2022-01-19 21:23:33.047"
          ],
          [
           37,
           "2022-01-19 21:23:53.247"
          ],
          [
           37,
           "2022-01-19 21:24:13.457"
          ],
          [
           37,
           "2022-01-19 21:24:33.660"
          ],
          [
           37,
           "2022-01-19 21:24:53.859"
          ],
          [
           37,
           "2022-01-19 21:25:14.112"
          ],
          [
           37,
           "2022-01-19 21:25:34.256"
          ],
          [
           38,
           "2022-01-19 21:25:54.439"
          ],
          [
           38,
           "2022-01-19 21:26:14.609"
          ],
          [
           38,
           "2022-01-19 21:26:34.832"
          ],
          [
           38,
           "2022-01-19 21:26:55.032"
          ],
          [
           38,
           "2022-01-19 21:27:15.211"
          ],
          [
           38,
           "2022-01-19 21:27:35.428"
          ],
          [
           38,
           "2022-01-19 21:27:55.621"
          ],
          [
           38,
           "2022-01-19 21:28:15.797"
          ],
          [
           38,
           "2022-01-19 21:28:35.994"
          ],
          [
           38,
           "2022-01-19 21:28:56.184"
          ],
          [
           38,
           "2022-01-19 21:29:16.367"
          ],
          [
           38,
           "2022-01-19 21:29:36.560"
          ],
          [
           38,
           "2022-01-19 21:29:56.756"
          ],
          [
           38,
           "2022-01-19 21:30:16.946"
          ],
          [
           38,
           "2022-01-19 21:30:37.156"
          ],
          [
           38,
           "2022-01-19 21:30:57.379"
          ],
          [
           38,
           "2022-01-19 21:31:17.596"
          ],
          [
           38,
           "2022-01-19 21:31:37.816"
          ],
          [
           38,
           "2022-01-19 21:31:58.048"
          ],
          [
           38,
           "2022-01-19 21:32:18.252"
          ],
          [
           38,
           "2022-01-19 21:32:38.472"
          ],
          [
           38,
           "2022-01-19 21:32:58.674"
          ],
          [
           38,
           "2022-01-19 21:33:18.874"
          ],
          [
           38,
           "2022-01-19 21:33:39.054"
          ],
          [
           38,
           "2022-01-19 21:33:59.271"
          ],
          [
           38,
           "2022-01-19 21:34:19.494"
          ],
          [
           38,
           "2022-01-19 21:34:39.711"
          ],
          [
           38,
           "2022-01-19 21:34:59.900"
          ],
          [
           38,
           "2022-01-19 21:35:20.123"
          ],
          [
           38,
           "2022-01-19 21:35:40.326"
          ],
          [
           38,
           "2022-01-19 21:36:00.506"
          ],
          [
           38,
           "2022-01-19 21:36:20.726"
          ],
          [
           38,
           "2022-01-19 21:36:40.956"
          ],
          [
           38,
           "2022-01-19 21:37:01.132"
          ],
          [
           38,
           "2022-01-19 21:37:21.315"
          ],
          [
           38,
           "2022-01-19 21:37:41.522"
          ],
          [
           38,
           "2022-01-19 21:38:01.715"
          ],
          [
           38,
           "2022-01-19 21:38:21.918"
          ],
          [
           38,
           "2022-01-19 21:38:42.128"
          ],
          [
           38,
           "2022-01-19 21:39:02.344"
          ],
          [
           38,
           "2022-01-19 21:39:22.537"
          ],
          [
           38,
           "2022-01-19 21:39:42.737"
          ],
          [
           38,
           "2022-01-19 21:40:02.940"
          ],
          [
           38,
           "2022-01-19 21:40:23.120"
          ],
          [
           39,
           "2022-01-19 21:40:43.296"
          ],
          [
           39,
           "2022-01-19 21:41:03.493"
          ],
          [
           39,
           "2022-01-19 21:41:23.673"
          ],
          [
           39,
           "2022-01-19 21:41:43.849"
          ],
          [
           39,
           "2022-01-19 21:42:04.039"
          ],
          [
           39,
           "2022-01-19 21:42:24.262"
          ],
          [
           39,
           "2022-01-19 21:42:44.478"
          ],
          [
           39,
           "2022-01-19 21:43:04.682"
          ],
          [
           39,
           "2022-01-19 21:43:24.888"
          ],
          [
           39,
           "2022-01-19 21:43:45.068"
          ],
          [
           39,
           "2022-01-19 21:44:05.251"
          ],
          [
           39,
           "2022-01-19 21:44:25.434"
          ],
          [
           39,
           "2022-01-19 21:44:45.614"
          ],
          [
           39,
           "2022-01-19 21:45:05.807"
          ],
          [
           39,
           "2022-01-19 21:45:26.000"
          ],
          [
           39,
           "2022-01-19 21:45:46.177"
          ],
          [
           39,
           "2022-01-19 21:46:06.376"
          ],
          [
           39,
           "2022-01-19 21:46:26.556"
          ],
          [
           39,
           "2022-01-19 21:46:46.739"
          ],
          [
           39,
           "2022-01-19 21:47:06.946"
          ],
          [
           39,
           "2022-01-19 21:47:27.122"
          ],
          [
           39,
           "2022-01-19 21:47:47.315"
          ],
          [
           39,
           "2022-01-19 21:48:07.525"
          ],
          [
           39,
           "2022-01-19 21:48:27.705"
          ],
          [
           39,
           "2022-01-19 21:48:47.895"
          ],
          [
           39,
           "2022-01-19 21:49:08.088"
          ],
          [
           39,
           "2022-01-19 21:49:28.268"
          ],
          [
           39,
           "2022-01-19 21:49:48.447"
          ],
          [
           39,
           "2022-01-19 21:50:08.644"
          ],
          [
           39,
           "2022-01-19 21:50:28.826"
          ],
          [
           39,
           "2022-01-19 21:50:49.000"
          ],
          [
           39,
           "2022-01-19 21:51:09.187"
          ],
          [
           39,
           "2022-01-19 21:51:29.400"
          ],
          [
           39,
           "2022-01-19 21:51:49.600"
          ],
          [
           39,
           "2022-01-19 21:52:09.806"
          ],
          [
           39,
           "2022-01-19 21:52:30.033"
          ],
          [
           39,
           "2022-01-19 21:52:50.223"
          ],
          [
           39,
           "2022-01-19 21:53:10.445"
          ],
          [
           39,
           "2022-01-19 21:53:30.658"
          ],
          [
           39,
           "2022-01-19 21:53:50.881"
          ],
          [
           39,
           "2022-01-19 21:54:11.095"
          ],
          [
           39,
           "2022-01-19 21:54:31.334"
          ],
          [
           39,
           "2022-01-19 21:54:51.581"
          ],
          [
           39,
           "2022-01-19 21:55:11.827"
          ],
          [
           40,
           "2022-01-19 21:55:32.040"
          ],
          [
           40,
           "2022-01-19 21:55:52.252"
          ],
          [
           40,
           "2022-01-19 21:56:12.487"
          ],
          [
           40,
           "2022-01-19 21:56:32.687"
          ],
          [
           40,
           "2022-01-19 21:56:52.903"
          ],
          [
           40,
           "2022-01-19 21:57:13.118"
          ],
          [
           40,
           "2022-01-19 21:57:33.338"
          ],
          [
           40,
           "2022-01-19 21:57:53.579"
          ],
          [
           40,
           "2022-01-19 21:58:13.773"
          ],
          [
           40,
           "2022-01-19 21:58:33.951"
          ],
          [
           40,
           "2022-01-19 21:58:54.153"
          ],
          [
           40,
           "2022-01-19 21:59:14.318"
          ],
          [
           40,
           "2022-01-19 21:59:34.505"
          ],
          [
           40,
           "2022-01-19 21:59:54.710"
          ],
          [
           40,
           "2022-01-19 22:00:14.886"
          ],
          [
           40,
           "2022-01-19 22:00:35.081"
          ],
          [
           40,
           "2022-01-19 22:00:55.290"
          ],
          [
           40,
           "2022-01-19 22:01:15.489"
          ],
          [
           40,
           "2022-01-19 22:01:35.716"
          ],
          [
           40,
           "2022-01-19 22:01:55.873"
          ],
          [
           40,
           "2022-01-19 22:02:16.064"
          ],
          [
           40,
           "2022-01-19 22:02:36.248"
          ],
          [
           40,
           "2022-01-19 22:02:56.449"
          ],
          [
           40,
           "2022-01-19 22:03:16.629"
          ],
          [
           40,
           "2022-01-19 22:03:36.809"
          ],
          [
           40,
           "2022-01-19 22:03:57.008"
          ],
          [
           40,
           "2022-01-19 22:04:17.189"
          ],
          [
           40,
           "2022-01-19 22:04:37.368"
          ],
          [
           40,
           "2022-01-19 22:04:57.554"
          ],
          [
           40,
           "2022-01-19 22:05:17.732"
          ],
          [
           40,
           "2022-01-19 22:05:37.940"
          ],
          [
           40,
           "2022-01-19 22:05:58.172"
          ],
          [
           40,
           "2022-01-19 22:06:18.383"
          ],
          [
           40,
           "2022-01-19 22:06:38.604"
          ],
          [
           40,
           "2022-01-19 22:06:58.831"
          ],
          [
           40,
           "2022-01-19 22:07:19.013"
          ],
          [
           40,
           "2022-01-19 22:07:39.197"
          ],
          [
           40,
           "2022-01-19 22:07:59.376"
          ],
          [
           40,
           "2022-01-19 22:08:19.606"
          ],
          [
           40,
           "2022-01-19 22:08:39.762"
          ],
          [
           40,
           "2022-01-19 22:08:59.947"
          ],
          [
           40,
           "2022-01-19 22:09:20.145"
          ],
          [
           40,
           "2022-01-19 22:09:40.349"
          ],
          [
           40,
           "2022-01-19 22:10:00.605"
          ],
          [
           40,
           "2022-01-19 22:10:20.756"
          ],
          [
           41,
           "2022-01-19 22:10:40.977"
          ],
          [
           41,
           "2022-01-19 22:11:01.181"
          ],
          [
           41,
           "2022-01-19 22:11:21.385"
          ],
          [
           41,
           "2022-01-19 22:11:41.580"
          ],
          [
           41,
           "2022-01-19 22:12:01.784"
          ],
          [
           41,
           "2022-01-19 22:12:21.964"
          ],
          [
           41,
           "2022-01-19 22:12:42.149"
          ],
          [
           41,
           "2022-01-19 22:13:02.328"
          ],
          [
           41,
           "2022-01-19 22:13:22.516"
          ],
          [
           41,
           "2022-01-19 22:13:42.706"
          ],
          [
           41,
           "2022-01-19 22:14:02.943"
          ],
          [
           41,
           "2022-01-19 22:14:23.146"
          ],
          [
           41,
           "2022-01-19 22:14:43.358"
          ],
          [
           41,
           "2022-01-19 22:15:03.567"
          ],
          [
           41,
           "2022-01-19 22:15:23.785"
          ],
          [
           41,
           "2022-01-19 22:15:43.978"
          ],
          [
           41,
           "2022-01-19 22:16:04.201"
          ],
          [
           41,
           "2022-01-19 22:16:24.390"
          ],
          [
           41,
           "2022-01-19 22:16:44.590"
          ],
          [
           41,
           "2022-01-19 22:17:04.782"
          ],
          [
           41,
           "2022-01-19 22:17:24.977"
          ],
          [
           41,
           "2022-01-19 22:17:45.190"
          ],
          [
           41,
           "2022-01-19 22:18:05.390"
          ],
          [
           41,
           "2022-01-19 22:18:25.586"
          ],
          [
           41,
           "2022-01-19 22:18:45.753"
          ],
          [
           41,
           "2022-01-19 22:19:05.929"
          ],
          [
           41,
           "2022-01-19 22:19:26.115"
          ],
          [
           41,
           "2022-01-19 22:19:46.298"
          ],
          [
           41,
           "2022-01-19 22:20:06.492"
          ],
          [
           41,
           "2022-01-19 22:20:26.685"
          ],
          [
           41,
           "2022-01-19 22:20:46.881"
          ],
          [
           41,
           "2022-01-19 22:21:07.071"
          ],
          [
           41,
           "2022-01-19 22:21:27.251"
          ],
          [
           41,
           "2022-01-19 22:21:47.477"
          ],
          [
           41,
           "2022-01-19 22:22:07.684"
          ],
          [
           41,
           "2022-01-19 22:22:27.903"
          ],
          [
           41,
           "2022-01-19 22:22:48.090"
          ],
          [
           41,
           "2022-01-19 22:23:08.320"
          ],
          [
           41,
           "2022-01-19 22:23:28.528"
          ],
          [
           41,
           "2022-01-19 22:23:48.722"
          ],
          [
           41,
           "2022-01-19 22:24:08.956"
          ],
          [
           41,
           "2022-01-19 22:24:29.169"
          ],
          [
           41,
           "2022-01-19 22:24:49.356"
          ],
          [
           41,
           "2022-01-19 22:25:09.532"
          ],
          [
           42,
           "2022-01-19 22:25:29.718"
          ],
          [
           42,
           "2022-01-19 22:25:49.915"
          ],
          [
           42,
           "2022-01-19 22:26:10.111"
          ],
          [
           42,
           "2022-01-19 22:26:30.304"
          ],
          [
           42,
           "2022-01-19 22:26:50.517"
          ],
          [
           42,
           "2022-01-19 22:27:10.714"
          ],
          [
           42,
           "2022-01-19 22:27:30.922"
          ],
          [
           42,
           "2022-01-19 22:27:51.117"
          ],
          [
           42,
           "2022-01-19 22:28:11.331"
          ],
          [
           42,
           "2022-01-19 22:28:31.523"
          ],
          [
           42,
           "2022-01-19 22:28:51.713"
          ],
          [
           42,
           "2022-01-19 22:29:11.926"
          ],
          [
           42,
           "2022-01-19 22:29:32.139"
          ],
          [
           42,
           "2022-01-19 22:29:52.359"
          ],
          [
           42,
           "2022-01-19 22:30:12.565"
          ],
          [
           42,
           "2022-01-19 22:30:32.772"
          ],
          [
           42,
           "2022-01-19 22:30:52.991"
          ],
          [
           42,
           "2022-01-19 22:31:13.171"
          ],
          [
           42,
           "2022-01-19 22:31:33.364"
          ],
          [
           42,
           "2022-01-19 22:31:53.577"
          ],
          [
           42,
           "2022-01-19 22:32:13.781"
          ],
          [
           42,
           "2022-01-19 22:32:33.977"
          ],
          [
           42,
           "2022-01-19 22:32:54.180"
          ],
          [
           42,
           "2022-01-19 22:33:14.395"
          ],
          [
           42,
           "2022-01-19 22:33:34.593"
          ],
          [
           42,
           "2022-01-19 22:33:54.789"
          ],
          [
           42,
           "2022-01-19 22:34:15.000"
          ],
          [
           42,
           "2022-01-19 22:34:35.236"
          ],
          [
           42,
           "2022-01-19 22:34:55.436"
          ],
          [
           42,
           "2022-01-19 22:35:15.656"
          ],
          [
           42,
           "2022-01-19 22:35:35.872"
          ],
          [
           42,
           "2022-01-19 22:35:56.095"
          ],
          [
           42,
           "2022-01-19 22:36:16.321"
          ],
          [
           42,
           "2022-01-19 22:36:36.624"
          ],
          [
           42,
           "2022-01-19 22:36:56.785"
          ],
          [
           42,
           "2022-01-19 22:37:17.024"
          ],
          [
           42,
           "2022-01-19 22:37:37.210"
          ],
          [
           42,
           "2022-01-19 22:37:57.447"
          ],
          [
           42,
           "2022-01-19 22:38:17.680"
          ],
          [
           42,
           "2022-01-19 22:38:37.917"
          ],
          [
           42,
           "2022-01-19 22:38:58.126"
          ],
          [
           42,
           "2022-01-19 22:39:18.353"
          ],
          [
           42,
           "2022-01-19 22:39:38.583"
          ],
          [
           42,
           "2022-01-19 22:39:58.809"
          ],
          [
           42,
           "2022-01-19 22:40:19.009"
          ],
          [
           43,
           "2022-01-19 22:40:39.251"
          ],
          [
           43,
           "2022-01-19 22:40:59.507"
          ],
          [
           43,
           "2022-01-19 22:41:19.705"
          ],
          [
           43,
           "2022-01-19 22:41:39.942"
          ],
          [
           43,
           "2022-01-19 22:42:00.158"
          ],
          [
           43,
           "2022-01-19 22:42:20.407"
          ],
          [
           43,
           "2022-01-19 22:42:40.607"
          ],
          [
           43,
           "2022-01-19 22:43:00.825"
          ],
          [
           43,
           "2022-01-19 22:43:21.045"
          ],
          [
           43,
           "2022-01-19 22:43:41.269"
          ],
          [
           43,
           "2022-01-19 22:44:01.490"
          ],
          [
           43,
           "2022-01-19 22:44:21.721"
          ],
          [
           43,
           "2022-01-19 22:44:41.950"
          ],
          [
           43,
           "2022-01-19 22:45:02.170"
          ],
          [
           43,
           "2022-01-19 22:45:22.390"
          ],
          [
           43,
           "2022-01-19 22:45:42.611"
          ],
          [
           43,
           "2022-01-19 22:46:02.825"
          ],
          [
           43,
           "2022-01-19 22:46:23.048"
          ],
          [
           43,
           "2022-01-19 22:46:43.309"
          ],
          [
           43,
           "2022-01-19 22:47:03.479"
          ],
          [
           43,
           "2022-01-19 22:47:23.704"
          ],
          [
           43,
           "2022-01-19 22:47:43.928"
          ],
          [
           43,
           "2022-01-19 22:48:04.144"
          ],
          [
           43,
           "2022-01-19 22:48:24.384"
          ],
          [
           43,
           "2022-01-19 22:48:44.659"
          ],
          [
           43,
           "2022-01-19 22:49:04.823"
          ],
          [
           43,
           "2022-01-19 22:49:25.070"
          ],
          [
           43,
           "2022-01-19 22:49:45.320"
          ],
          [
           43,
           "2022-01-19 22:50:05.516"
          ],
          [
           43,
           "2022-01-19 22:50:25.753"
          ],
          [
           43,
           "2022-01-19 22:50:46.002"
          ],
          [
           43,
           "2022-01-19 22:51:06.239"
          ],
          [
           43,
           "2022-01-19 22:51:26.472"
          ],
          [
           43,
           "2022-01-19 22:51:46.712"
          ],
          [
           43,
           "2022-01-19 22:52:06.941"
          ],
          [
           43,
           "2022-01-19 22:52:27.175"
          ],
          [
           43,
           "2022-01-19 22:52:47.421"
          ],
          [
           43,
           "2022-01-19 22:53:07.664"
          ],
          [
           43,
           "2022-01-19 22:53:27.881"
          ],
          [
           43,
           "2022-01-19 22:53:48.114"
          ],
          [
           43,
           "2022-01-19 22:54:08.347"
          ],
          [
           43,
           "2022-01-19 22:54:28.557"
          ],
          [
           43,
           "2022-01-19 22:54:48.776"
          ],
          [
           43,
           "2022-01-19 22:55:09.013"
          ],
          [
           44,
           "2022-01-19 22:55:29.223"
          ],
          [
           44,
           "2022-01-19 22:55:49.436"
          ],
          [
           44,
           "2022-01-19 22:56:09.652"
          ],
          [
           44,
           "2022-01-19 22:56:29.875"
          ],
          [
           45,
           "2022-01-19 22:56:50.102"
          ],
          [
           45,
           "2022-01-19 22:57:10.325"
          ],
          [
           45,
           "2022-01-19 22:57:30.555"
          ],
          [
           45,
           "2022-01-19 22:57:50.795"
          ],
          [
           45,
           "2022-01-19 22:58:11.035"
          ],
          [
           45,
           "2022-01-19 22:58:31.278"
          ],
          [
           45,
           "2022-01-19 22:58:51.495"
          ],
          [
           45,
           "2022-01-19 22:59:11.741"
          ],
          [
           45,
           "2022-01-19 22:59:31.991"
          ],
          [
           45,
           "2022-01-19 22:59:52.242"
          ],
          [
           45,
           "2022-01-19 23:00:12.492"
          ],
          [
           45,
           "2022-01-19 23:00:32.673"
          ],
          [
           45,
           "2022-01-19 23:00:52.922"
          ],
          [
           45,
           "2022-01-19 23:01:13.169"
          ],
          [
           45,
           "2022-01-19 23:01:33.414"
          ],
          [
           45,
           "2022-01-19 23:01:53.655"
          ],
          [
           45,
           "2022-01-19 23:02:13.822"
          ],
          [
           45,
           "2022-01-19 23:02:34.060"
          ],
          [
           45,
           "2022-01-19 23:02:54.245"
          ],
          [
           45,
           "2022-01-19 23:03:14.481"
          ],
          [
           45,
           "2022-01-19 23:03:34.694"
          ],
          [
           45,
           "2022-01-19 23:03:54.907"
          ],
          [
           45,
           "2022-01-19 23:04:15.121"
          ],
          [
           45,
           "2022-01-19 23:04:35.340"
          ],
          [
           45,
           "2022-01-19 23:04:55.577"
          ],
          [
           45,
           "2022-01-19 23:05:15.790"
          ],
          [
           45,
           "2022-01-19 23:05:36.016"
          ],
          [
           45,
           "2022-01-19 23:05:56.229"
          ],
          [
           45,
           "2022-01-19 23:06:16.446"
          ],
          [
           45,
           "2022-01-19 23:06:36.669"
          ],
          [
           45,
           "2022-01-19 23:06:56.875"
          ],
          [
           45,
           "2022-01-19 23:07:17.082"
          ],
          [
           45,
           "2022-01-19 23:07:37.305"
          ],
          [
           45,
           "2022-01-19 23:07:57.518"
          ],
          [
           45,
           "2022-01-19 23:08:17.745"
          ],
          [
           45,
           "2022-01-19 23:08:37.961"
          ],
          [
           45,
           "2022-01-19 23:08:58.191"
          ],
          [
           45,
           "2022-01-19 23:09:18.425"
          ],
          [
           45,
           "2022-01-19 23:09:38.660"
          ],
          [
           45,
           "2022-01-19 23:09:58.907"
          ],
          [
           45,
           "2022-01-19 23:10:19.134"
          ],
          [
           45,
           "2022-01-19 23:10:39.353"
          ],
          [
           45,
           "2022-01-19 23:10:59.596"
          ],
          [
           45,
           "2022-01-19 23:11:19.816"
          ],
          [
           45,
           "2022-01-19 23:11:40.049"
          ],
          [
           46,
           "2022-01-19 23:12:00.282"
          ],
          [
           46,
           "2022-01-19 23:12:20.525"
          ],
          [
           46,
           "2022-01-19 23:12:40.768"
          ],
          [
           46,
           "2022-01-19 23:13:00.992"
          ],
          [
           46,
           "2022-01-19 23:13:21.195"
          ],
          [
           46,
           "2022-01-19 23:13:41.469"
          ],
          [
           46,
           "2022-01-19 23:14:01.669"
          ],
          [
           46,
           "2022-01-19 23:14:21.903"
          ],
          [
           46,
           "2022-01-19 23:14:42.138"
          ],
          [
           46,
           "2022-01-19 23:15:02.384"
          ],
          [
           46,
           "2022-01-19 23:15:22.602"
          ],
          [
           46,
           "2022-01-19 23:15:42.836"
          ],
          [
           46,
           "2022-01-19 23:16:03.071"
          ],
          [
           46,
           "2022-01-19 23:16:23.313"
          ],
          [
           46,
           "2022-01-19 23:16:43.565"
          ],
          [
           46,
           "2022-01-19 23:17:03.732"
          ],
          [
           46,
           "2022-01-19 23:17:23.966"
          ],
          [
           46,
           "2022-01-19 23:17:44.187"
          ],
          [
           46,
           "2022-01-19 23:18:04.401"
          ],
          [
           46,
           "2022-01-19 23:18:24.608"
          ],
          [
           46,
           "2022-01-19 23:18:44.821"
          ],
          [
           46,
           "2022-01-19 23:19:05.028"
          ],
          [
           46,
           "2022-01-19 23:19:25.231"
          ],
          [
           46,
           "2022-01-19 23:19:45.431"
          ],
          [
           46,
           "2022-01-19 23:20:05.634"
          ],
          [
           46,
           "2022-01-19 23:20:25.843"
          ],
          [
           46,
           "2022-01-19 23:20:46.033"
          ],
          [
           46,
           "2022-01-19 23:21:06.228"
          ],
          [
           46,
           "2022-01-19 23:21:26.426"
          ],
          [
           46,
           "2022-01-19 23:21:46.626"
          ],
          [
           46,
           "2022-01-19 23:22:06.826"
          ],
          [
           46,
           "2022-01-19 23:22:27.046"
          ],
          [
           46,
           "2022-01-19 23:22:47.302"
          ],
          [
           46,
           "2022-01-19 23:23:07.483"
          ],
          [
           46,
           "2022-01-19 23:23:27.695"
          ],
          [
           46,
           "2022-01-19 23:23:47.902"
          ],
          [
           46,
           "2022-01-19 23:24:08.115"
          ],
          [
           46,
           "2022-01-19 23:24:28.311"
          ],
          [
           46,
           "2022-01-19 23:24:48.514"
          ],
          [
           46,
           "2022-01-19 23:25:08.711"
          ],
          [
           46,
           "2022-01-19 23:25:28.917"
          ],
          [
           46,
           "2022-01-19 23:25:49.127"
          ],
          [
           46,
           "2022-01-19 23:26:09.323"
          ],
          [
           46,
           "2022-01-19 23:26:29.523"
          ],
          [
           47,
           "2022-01-19 23:26:49.703"
          ],
          [
           47,
           "2022-01-19 23:27:09.886"
          ],
          [
           47,
           "2022-01-19 23:27:30.089"
          ],
          [
           47,
           "2022-01-19 23:27:50.262"
          ],
          [
           47,
           "2022-01-19 23:28:10.439"
          ],
          [
           47,
           "2022-01-19 23:28:30.675"
          ],
          [
           47,
           "2022-01-19 23:28:50.908"
          ],
          [
           47,
           "2022-01-19 23:29:11.088"
          ],
          [
           47,
           "2022-01-19 23:29:31.295"
          ],
          [
           47,
           "2022-01-19 23:29:51.484"
          ],
          [
           47,
           "2022-01-19 23:30:11.677"
          ],
          [
           47,
           "2022-01-19 23:30:31.911"
          ],
          [
           47,
           "2022-01-19 23:30:52.163"
          ],
          [
           47,
           "2022-01-19 23:31:12.343"
          ],
          [
           47,
           "2022-01-19 23:31:32.540"
          ],
          [
           47,
           "2022-01-19 23:31:52.736"
          ],
          [
           47,
           "2022-01-19 23:32:12.923"
          ],
          [
           47,
           "2022-01-19 23:32:33.123"
          ],
          [
           47,
           "2022-01-19 23:32:53.356"
          ],
          [
           47,
           "2022-01-19 23:33:13.572"
          ],
          [
           47,
           "2022-01-19 23:33:33.812"
          ],
          [
           47,
           "2022-01-19 23:33:54.032"
          ],
          [
           47,
           "2022-01-19 23:34:14.243"
          ],
          [
           47,
           "2022-01-19 23:34:34.451"
          ],
          [
           47,
           "2022-01-19 23:34:54.644"
          ],
          [
           47,
           "2022-01-19 23:35:14.821"
          ],
          [
           47,
           "2022-01-19 23:35:35.011"
          ],
          [
           47,
           "2022-01-19 23:35:55.194"
          ],
          [
           47,
           "2022-01-19 23:36:15.384"
          ],
          [
           47,
           "2022-01-19 23:36:35.567"
          ],
          [
           47,
           "2022-01-19 23:36:55.757"
          ],
          [
           47,
           "2022-01-19 23:37:15.963"
          ],
          [
           47,
           "2022-01-19 23:37:36.166"
          ],
          [
           47,
           "2022-01-19 23:37:56.391"
          ],
          [
           47,
           "2022-01-19 23:38:16.582"
          ],
          [
           47,
           "2022-01-19 23:38:36.802"
          ],
          [
           47,
           "2022-01-19 23:38:57.002"
          ],
          [
           47,
           "2022-01-19 23:39:17.208"
          ],
          [
           47,
           "2022-01-19 23:39:37.414"
          ],
          [
           47,
           "2022-01-19 23:39:57.618"
          ],
          [
           47,
           "2022-01-19 23:40:17.808"
          ],
          [
           47,
           "2022-01-19 23:40:37.994"
          ],
          [
           47,
           "2022-01-19 23:40:58.194"
          ],
          [
           47,
           "2022-01-19 23:41:18.404"
          ],
          [
           47,
           "2022-01-19 23:41:38.600"
          ],
          [
           48,
           "2022-01-19 23:41:58.805"
          ],
          [
           48,
           "2022-01-19 23:42:19.020"
          ],
          [
           48,
           "2022-01-19 23:42:39.215"
          ],
          [
           48,
           "2022-01-19 23:42:59.433"
          ],
          [
           48,
           "2022-01-19 23:43:19.627"
          ],
          [
           48,
           "2022-01-19 23:43:39.829"
          ],
          [
           48,
           "2022-01-19 23:44:00.019"
          ],
          [
           48,
           "2022-01-19 23:44:20.212"
          ],
          [
           48,
           "2022-01-19 23:44:40.384"
          ],
          [
           48,
           "2022-01-19 23:45:00.571"
          ],
          [
           48,
           "2022-01-19 23:45:20.767"
          ],
          [
           48,
           "2022-01-19 23:45:40.954"
          ],
          [
           48,
           "2022-01-19 23:46:01.194"
          ],
          [
           48,
           "2022-01-19 23:46:21.404"
          ],
          [
           48,
           "2022-01-19 23:46:41.577"
          ],
          [
           48,
           "2022-01-19 23:47:01.807"
          ],
          [
           48,
           "2022-01-19 23:47:21.974"
          ],
          [
           48,
           "2022-01-19 23:47:42.156"
          ],
          [
           48,
           "2022-01-19 23:48:02.353"
          ],
          [
           48,
           "2022-01-19 23:48:22.536"
          ],
          [
           48,
           "2022-01-19 23:48:42.719"
          ],
          [
           48,
           "2022-01-19 23:49:02.909"
          ],
          [
           48,
           "2022-01-19 23:49:23.092"
          ],
          [
           48,
           "2022-01-19 23:49:43.287"
          ],
          [
           48,
           "2022-01-19 23:50:03.475"
          ],
          [
           48,
           "2022-01-19 23:50:23.665"
          ],
          [
           48,
           "2022-01-19 23:50:43.861"
          ],
          [
           48,
           "2022-01-19 23:51:04.085"
          ],
          [
           48,
           "2022-01-19 23:51:24.252"
          ],
          [
           48,
           "2022-01-19 23:51:44.441"
          ],
          [
           48,
           "2022-01-19 23:52:04.629"
          ],
          [
           48,
           "2022-01-19 23:52:24.824"
          ],
          [
           48,
           "2022-01-19 23:52:45.007"
          ],
          [
           48,
           "2022-01-19 23:53:05.193"
          ],
          [
           48,
           "2022-01-19 23:53:25.373"
          ],
          [
           48,
           "2022-01-19 23:53:45.566"
          ],
          [
           48,
           "2022-01-19 23:54:05.739"
          ],
          [
           48,
           "2022-01-19 23:54:25.919"
          ],
          [
           48,
           "2022-01-19 23:54:46.139"
          ],
          [
           48,
           "2022-01-19 23:55:06.372"
          ],
          [
           48,
           "2022-01-19 23:55:26.605"
          ],
          [
           48,
           "2022-01-19 23:55:46.831"
          ],
          [
           48,
           "2022-01-19 23:56:07.028"
          ],
          [
           48,
           "2022-01-19 23:56:27.251"
          ],
          [
           49,
           "2022-01-19 23:56:47.497"
          ],
          [
           49,
           "2022-01-19 23:57:07.744"
          ],
          [
           49,
           "2022-01-19 23:57:27.967"
          ],
          [
           49,
           "2022-01-19 23:57:48.194"
          ],
          [
           49,
           "2022-01-19 23:58:08.420"
          ],
          [
           50,
           "2022-01-19 23:58:28.640"
          ],
          [
           50,
           "2022-01-19 23:58:48.853"
          ],
          [
           50,
           "2022-01-19 23:59:09.076"
          ],
          [
           50,
           "2022-01-19 23:59:29.269"
          ],
          [
           50,
           "2022-01-19 23:59:49.455"
          ],
          [
           50,
           "2022-01-20 00:00:09.652"
          ],
          [
           50,
           "2022-01-20 00:00:29.829"
          ],
          [
           50,
           "2022-01-20 00:00:50.011"
          ],
          [
           50,
           "2022-01-20 00:01:10.191"
          ],
          [
           50,
           "2022-01-20 00:01:30.411"
          ],
          [
           50,
           "2022-01-20 00:01:50.567"
          ],
          [
           50,
           "2022-01-20 00:02:10.754"
          ],
          [
           50,
           "2022-01-20 00:02:30.953"
          ],
          [
           50,
           "2022-01-20 00:02:51.137"
          ],
          [
           50,
           "2022-01-20 00:03:11.347"
          ],
          [
           50,
           "2022-01-20 00:03:31.543"
          ],
          [
           50,
           "2022-01-20 00:03:51.743"
          ],
          [
           50,
           "2022-01-20 00:04:11.953"
          ],
          [
           50,
           "2022-01-20 00:04:32.146"
          ],
          [
           50,
           "2022-01-20 00:04:52.332"
          ],
          [
           50,
           "2022-01-20 00:05:12.542"
          ],
          [
           50,
           "2022-01-20 00:05:32.725"
          ],
          [
           50,
           "2022-01-20 00:05:52.922"
          ],
          [
           50,
           "2022-01-20 00:06:13.105"
          ],
          [
           50,
           "2022-01-20 00:06:33.294"
          ],
          [
           50,
           "2022-01-20 00:06:53.493"
          ],
          [
           50,
           "2022-01-20 00:07:13.671"
          ],
          [
           50,
           "2022-01-20 00:07:33.854"
          ],
          [
           50,
           "2022-01-20 00:07:54.034"
          ],
          [
           50,
           "2022-01-20 00:08:14.254"
          ],
          [
           50,
           "2022-01-20 00:08:34.447"
          ],
          [
           50,
           "2022-01-20 00:08:54.647"
          ],
          [
           50,
           "2022-01-20 00:09:14.850"
          ],
          [
           50,
           "2022-01-20 00:09:35.083"
          ],
          [
           50,
           "2022-01-20 00:09:55.260"
          ],
          [
           50,
           "2022-01-20 00:10:15.439"
          ],
          [
           50,
           "2022-01-20 00:10:35.635"
          ],
          [
           50,
           "2022-01-20 00:10:55.819"
          ],
          [
           50,
           "2022-01-20 00:11:16.015"
          ],
          [
           50,
           "2022-01-20 00:11:36.221"
          ],
          [
           50,
           "2022-01-20 00:11:56.428"
          ],
          [
           50,
           "2022-01-20 00:12:16.641"
          ],
          [
           50,
           "2022-01-20 00:12:36.841"
          ],
          [
           50,
           "2022-01-20 00:12:57.057"
          ],
          [
           51,
           "2022-01-20 00:13:17.274"
          ],
          [
           51,
           "2022-01-20 00:13:37.494"
          ],
          [
           51,
           "2022-01-20 00:13:57.713"
          ],
          [
           51,
           "2022-01-20 00:14:17.933"
          ],
          [
           51,
           "2022-01-20 00:14:38.153"
          ],
          [
           51,
           "2022-01-20 00:14:58.379"
          ],
          [
           51,
           "2022-01-20 00:15:18.572"
          ],
          [
           51,
           "2022-01-20 00:15:38.769"
          ],
          [
           51,
           "2022-01-20 00:15:58.972"
          ],
          [
           51,
           "2022-01-20 00:16:19.175"
          ],
          [
           51,
           "2022-01-20 00:16:39.389"
          ],
          [
           51,
           "2022-01-20 00:16:59.594"
          ],
          [
           51,
           "2022-01-20 00:17:19.814"
          ],
          [
           51,
           "2022-01-20 00:17:40.047"
          ],
          [
           51,
           "2022-01-20 00:18:00.257"
          ],
          [
           51,
           "2022-01-20 00:18:20.471"
          ],
          [
           51,
           "2022-01-20 00:18:40.673"
          ],
          [
           51,
           "2022-01-20 00:19:00.880"
          ],
          [
           51,
           "2022-01-20 00:19:21.070"
          ],
          [
           51,
           "2022-01-20 00:19:41.250"
          ],
          [
           51,
           "2022-01-20 00:20:01.453"
          ],
          [
           51,
           "2022-01-20 00:20:21.639"
          ],
          [
           51,
           "2022-01-20 00:20:41.876"
          ],
          [
           51,
           "2022-01-20 00:21:02.112"
          ],
          [
           51,
           "2022-01-20 00:21:22.360"
          ],
          [
           51,
           "2022-01-20 00:21:42.583"
          ],
          [
           51,
           "2022-01-20 00:22:02.813"
          ],
          [
           51,
           "2022-01-20 00:22:22.968"
          ],
          [
           51,
           "2022-01-20 00:22:43.191"
          ],
          [
           51,
           "2022-01-20 00:23:03.368"
          ],
          [
           51,
           "2022-01-20 00:23:23.564"
          ],
          [
           51,
           "2022-01-20 00:23:43.790"
          ],
          [
           51,
           "2022-01-20 00:24:04.027"
          ],
          [
           51,
           "2022-01-20 00:24:24.211"
          ],
          [
           51,
           "2022-01-20 00:24:44.390"
          ],
          [
           51,
           "2022-01-20 00:25:04.569"
          ],
          [
           51,
           "2022-01-20 00:25:24.769"
          ],
          [
           51,
           "2022-01-20 00:25:44.949"
          ],
          [
           51,
           "2022-01-20 00:26:05.132"
          ],
          [
           51,
           "2022-01-20 00:26:25.336"
          ],
          [
           51,
           "2022-01-20 00:26:45.528"
          ],
          [
           51,
           "2022-01-20 00:27:05.736"
          ],
          [
           51,
           "2022-01-20 00:27:25.931"
          ],
          [
           51,
           "2022-01-20 00:27:46.138"
          ],
          [
           51,
           "2022-01-20 00:28:06.335"
          ],
          [
           52,
           "2022-01-20 00:28:26.527"
          ],
          [
           52,
           "2022-01-20 00:28:46.737"
          ],
          [
           52,
           "2022-01-20 00:29:06.940"
          ],
          [
           52,
           "2022-01-20 00:29:27.160"
          ],
          [
           52,
           "2022-01-20 00:29:47.376"
          ],
          [
           52,
           "2022-01-20 00:30:07.596"
          ],
          [
           52,
           "2022-01-20 00:30:27.829"
          ],
          [
           52,
           "2022-01-20 00:30:48.001"
          ],
          [
           52,
           "2022-01-20 00:31:08.205"
          ],
          [
           52,
           "2022-01-20 00:31:28.402"
          ],
          [
           52,
           "2022-01-20 00:31:48.592"
          ],
          [
           52,
           "2022-01-20 00:32:08.799"
          ],
          [
           52,
           "2022-01-20 00:32:28.992"
          ],
          [
           52,
           "2022-01-20 00:32:49.161"
          ],
          [
           52,
           "2022-01-20 00:33:09.365"
          ],
          [
           52,
           "2022-01-20 00:33:29.562"
          ],
          [
           52,
           "2022-01-20 00:33:49.787"
          ],
          [
           52,
           "2022-01-20 00:34:09.977"
          ],
          [
           52,
           "2022-01-20 00:34:30.194"
          ],
          [
           52,
           "2022-01-20 00:34:50.414"
          ],
          [
           52,
           "2022-01-20 00:35:10.634"
          ],
          [
           52,
           "2022-01-20 00:35:30.866"
          ],
          [
           52,
           "2022-01-20 00:35:51.083"
          ],
          [
           52,
           "2022-01-20 00:36:11.309"
          ],
          [
           52,
           "2022-01-20 00:36:31.539"
          ],
          [
           52,
           "2022-01-20 00:36:51.769"
          ],
          [
           52,
           "2022-01-20 00:37:12.005"
          ],
          [
           52,
           "2022-01-20 00:37:32.238"
          ],
          [
           52,
           "2022-01-20 00:37:52.484"
          ],
          [
           52,
           "2022-01-20 00:38:12.674"
          ],
          [
           52,
           "2022-01-20 00:38:32.914"
          ],
          [
           52,
           "2022-01-20 00:38:53.157"
          ],
          [
           52,
           "2022-01-20 00:39:13.397"
          ],
          [
           52,
           "2022-01-20 00:39:33.620"
          ],
          [
           52,
           "2022-01-20 00:39:53.820"
          ],
          [
           52,
           "2022-01-20 00:40:14.063"
          ],
          [
           52,
           "2022-01-20 00:40:34.276"
          ],
          [
           52,
           "2022-01-20 00:40:54.447"
          ],
          [
           52,
           "2022-01-20 00:41:14.669"
          ],
          [
           52,
           "2022-01-20 00:41:34.919"
          ],
          [
           52,
           "2022-01-20 00:41:55.122"
          ],
          [
           52,
           "2022-01-20 00:42:15.325"
          ],
          [
           52,
           "2022-01-20 00:42:35.516"
          ],
          [
           52,
           "2022-01-20 00:42:55.742"
          ],
          [
           53,
           "2022-01-20 00:43:15.948"
          ],
          [
           53,
           "2022-01-20 00:43:36.254"
          ],
          [
           53,
           "2022-01-20 00:43:56.454"
          ],
          [
           53,
           "2022-01-20 00:44:16.704"
          ],
          [
           53,
           "2022-01-20 00:44:36.924"
          ],
          [
           53,
           "2022-01-20 00:44:57.107"
          ],
          [
           53,
           "2022-01-20 00:45:17.343"
          ],
          [
           53,
           "2022-01-20 00:45:37.604"
          ],
          [
           53,
           "2022-01-20 00:45:57.763"
          ],
          [
           53,
           "2022-01-20 00:46:18.009"
          ],
          [
           53,
           "2022-01-20 00:46:38.256"
          ],
          [
           53,
           "2022-01-20 00:46:58.482"
          ],
          [
           53,
           "2022-01-20 00:47:18.709"
          ],
          [
           53,
           "2022-01-20 00:47:38.932"
          ],
          [
           53,
           "2022-01-20 00:47:59.152"
          ],
          [
           53,
           "2022-01-20 00:48:19.378"
          ],
          [
           53,
           "2022-01-20 00:48:39.619"
          ],
          [
           53,
           "2022-01-20 00:48:59.874"
          ],
          [
           53,
           "2022-01-20 00:49:20.134"
          ],
          [
           53,
           "2022-01-20 00:49:40.388"
          ],
          [
           53,
           "2022-01-20 00:50:00.631"
          ],
          [
           53,
           "2022-01-20 00:50:20.883"
          ],
          [
           53,
           "2022-01-20 00:50:41.050"
          ],
          [
           53,
           "2022-01-20 00:51:01.233"
          ],
          [
           53,
           "2022-01-20 00:51:21.429"
          ],
          [
           53,
           "2022-01-20 00:51:41.643"
          ],
          [
           53,
           "2022-01-20 00:52:01.892"
          ],
          [
           53,
           "2022-01-20 00:52:22.106"
          ],
          [
           53,
           "2022-01-20 00:52:42.379"
          ],
          [
           53,
           "2022-01-20 00:53:02.565"
          ],
          [
           53,
           "2022-01-20 00:53:22.748"
          ],
          [
           53,
           "2022-01-20 00:53:42.998"
          ],
          [
           53,
           "2022-01-20 00:54:03.245"
          ],
          [
           53,
           "2022-01-20 00:54:23.481"
          ],
          [
           53,
           "2022-01-20 00:54:43.714"
          ],
          [
           53,
           "2022-01-20 00:55:03.950"
          ],
          [
           53,
           "2022-01-20 00:55:24.180"
          ],
          [
           53,
           "2022-01-20 00:55:44.414"
          ],
          [
           53,
           "2022-01-20 00:56:04.650"
          ],
          [
           53,
           "2022-01-20 00:56:24.883"
          ],
          [
           53,
           "2022-01-20 00:56:45.110"
          ],
          [
           53,
           "2022-01-20 00:57:05.349"
          ],
          [
           53,
           "2022-01-20 00:57:25.559"
          ],
          [
           54,
           "2022-01-20 00:57:45.782"
          ],
          [
           54,
           "2022-01-20 00:58:06.009"
          ],
          [
           54,
           "2022-01-20 00:58:26.252"
          ],
          [
           54,
           "2022-01-20 00:58:46.481"
          ],
          [
           54,
           "2022-01-20 00:59:06.708"
          ],
          [
           54,
           "2022-01-20 00:59:26.941"
          ],
          [
           54,
           "2022-01-20 00:59:47.178"
          ],
          [
           54,
           "2022-01-20 01:00:07.407"
          ],
          [
           54,
           "2022-01-20 01:00:27.614"
          ],
          [
           54,
           "2022-01-20 01:00:47.844"
          ],
          [
           54,
           "2022-01-20 01:01:07.983"
          ],
          [
           54,
           "2022-01-20 01:01:28.154"
          ],
          [
           54,
           "2022-01-20 01:01:48.410"
          ],
          [
           54,
           "2022-01-20 01:02:08.626"
          ],
          [
           54,
           "2022-01-20 01:02:28.879"
          ],
          [
           54,
           "2022-01-20 01:02:49.132"
          ],
          [
           54,
           "2022-01-20 01:03:09.359"
          ],
          [
           54,
           "2022-01-20 01:03:29.582"
          ],
          [
           54,
           "2022-01-20 01:03:49.838"
          ],
          [
           54,
           "2022-01-20 01:04:10.088"
          ],
          [
           54,
           "2022-01-20 01:04:30.393"
          ],
          [
           54,
           "2022-01-20 01:04:50.532"
          ],
          [
           54,
           "2022-01-20 01:05:10.741"
          ],
          [
           54,
           "2022-01-20 01:05:30.994"
          ],
          [
           54,
           "2022-01-20 01:05:51.211"
          ],
          [
           54,
           "2022-01-20 01:06:11.437"
          ],
          [
           54,
           "2022-01-20 01:06:31.660"
          ],
          [
           54,
           "2022-01-20 01:06:51.888"
          ],
          [
           54,
           "2022-01-20 01:07:12.123"
          ],
          [
           54,
           "2022-01-20 01:07:32.316"
          ],
          [
           54,
           "2022-01-20 01:07:52.559"
          ],
          [
           54,
           "2022-01-20 01:08:12.812"
          ],
          [
           54,
           "2022-01-20 01:08:33.025"
          ],
          [
           54,
           "2022-01-20 01:08:53.263"
          ],
          [
           54,
           "2022-01-20 01:09:13.505"
          ],
          [
           54,
           "2022-01-20 01:09:33.751"
          ],
          [
           54,
           "2022-01-20 01:09:53.958"
          ],
          [
           54,
           "2022-01-20 01:10:14.174"
          ],
          [
           54,
           "2022-01-20 01:10:34.404"
          ],
          [
           54,
           "2022-01-20 01:10:54.570"
          ],
          [
           54,
           "2022-01-20 01:11:14.824"
          ],
          [
           54,
           "2022-01-20 01:11:35.062"
          ],
          [
           54,
           "2022-01-20 01:11:55.170"
          ],
          [
           54,
           "2022-01-20 01:12:15.420"
          ],
          [
           54,
           "2022-01-20 01:12:35.640"
          ],
          [
           55,
           "2022-01-20 01:12:55.892"
          ],
          [
           55,
           "2022-01-20 01:13:16.129"
          ],
          [
           55,
           "2022-01-20 01:13:36.259"
          ],
          [
           55,
           "2022-01-20 01:13:56.499"
          ],
          [
           55,
           "2022-01-20 01:14:16.738"
          ],
          [
           55,
           "2022-01-20 01:14:36.962"
          ],
          [
           55,
           "2022-01-20 01:14:57.201"
          ],
          [
           55,
           "2022-01-20 01:15:17.469"
          ],
          [
           55,
           "2022-01-20 01:15:37.671"
          ],
          [
           55,
           "2022-01-20 01:15:57.917"
          ],
          [
           55,
           "2022-01-20 01:16:18.140"
          ],
          [
           55,
           "2022-01-20 01:16:38.374"
          ],
          [
           55,
           "2022-01-20 01:16:58.600"
          ],
          [
           55,
           "2022-01-20 01:17:18.866"
          ],
          [
           55,
           "2022-01-20 01:17:39.053"
          ],
          [
           55,
           "2022-01-20 01:17:59.282"
          ],
          [
           55,
           "2022-01-20 01:18:19.520"
          ],
          [
           55,
           "2022-01-20 01:18:39.723"
          ],
          [
           55,
           "2022-01-20 01:18:59.939"
          ],
          [
           55,
           "2022-01-20 01:19:20.173"
          ],
          [
           55,
           "2022-01-20 01:19:40.375"
          ],
          [
           55,
           "2022-01-20 01:20:00.620"
          ],
          [
           55,
           "2022-01-20 01:20:20.821"
          ],
          [
           55,
           "2022-01-20 01:20:41.011"
          ],
          [
           55,
           "2022-01-20 01:21:01.214"
          ],
          [
           55,
           "2022-01-20 01:21:21.434"
          ],
          [
           55,
           "2022-01-20 01:21:41.630"
          ],
          [
           55,
           "2022-01-20 01:22:01.834"
          ],
          [
           55,
           "2022-01-20 01:22:22.033"
          ],
          [
           55,
           "2022-01-20 01:22:42.256"
          ],
          [
           55,
           "2022-01-20 01:23:02.450"
          ],
          [
           55,
           "2022-01-20 01:23:22.646"
          ],
          [
           55,
           "2022-01-20 01:23:42.859"
          ],
          [
           55,
           "2022-01-20 01:24:03.092"
          ],
          [
           55,
           "2022-01-20 01:24:23.316"
          ],
          [
           55,
           "2022-01-20 01:24:43.542"
          ],
          [
           55,
           "2022-01-20 01:25:03.758"
          ],
          [
           55,
           "2022-01-20 01:25:23.971"
          ],
          [
           55,
           "2022-01-20 01:25:44.188"
          ],
          [
           55,
           "2022-01-20 01:26:04.384"
          ],
          [
           55,
           "2022-01-20 01:26:24.584"
          ],
          [
           55,
           "2022-01-20 01:26:44.774"
          ],
          [
           55,
           "2022-01-20 01:27:04.997"
          ],
          [
           55,
           "2022-01-20 01:27:25.177"
          ],
          [
           56,
           "2022-01-20 01:27:45.380"
          ],
          [
           56,
           "2022-01-20 01:28:05.570"
          ],
          [
           56,
           "2022-01-20 01:28:25.746"
          ],
          [
           56,
           "2022-01-20 01:28:45.932"
          ],
          [
           56,
           "2022-01-20 01:29:06.119"
          ],
          [
           56,
           "2022-01-20 01:29:26.302"
          ],
          [
           56,
           "2022-01-20 01:29:46.515"
          ],
          [
           56,
           "2022-01-20 01:30:06.719"
          ],
          [
           56,
           "2022-01-20 01:30:26.936"
          ],
          [
           56,
           "2022-01-20 01:30:47.148"
          ],
          [
           56,
           "2022-01-20 01:31:07.379"
          ],
          [
           56,
           "2022-01-20 01:31:27.581"
          ],
          [
           56,
           "2022-01-20 01:31:47.771"
          ],
          [
           56,
           "2022-01-20 01:32:07.954"
          ],
          [
           56,
           "2022-01-20 01:32:28.167"
          ],
          [
           56,
           "2022-01-20 01:32:48.386"
          ],
          [
           56,
           "2022-01-20 01:33:08.626"
          ],
          [
           56,
           "2022-01-20 01:33:28.843"
          ],
          [
           56,
           "2022-01-20 01:33:49.050"
          ],
          [
           56,
           "2022-01-20 01:34:09.279"
          ],
          [
           56,
           "2022-01-20 01:34:29.482"
          ],
          [
           56,
           "2022-01-20 01:34:49.662"
          ],
          [
           56,
           "2022-01-20 01:35:09.869"
          ],
          [
           56,
           "2022-01-20 01:35:30.051"
          ],
          [
           56,
           "2022-01-20 01:35:50.255"
          ],
          [
           56,
           "2022-01-20 01:36:10.458"
          ],
          [
           56,
           "2022-01-20 01:36:30.674"
          ],
          [
           56,
           "2022-01-20 01:36:50.897"
          ],
          [
           56,
           "2022-01-20 01:37:11.124"
          ],
          [
           56,
           "2022-01-20 01:37:31.337"
          ],
          [
           56,
           "2022-01-20 01:37:51.547"
          ],
          [
           56,
           "2022-01-20 01:38:11.740"
          ],
          [
           56,
           "2022-01-20 01:38:31.956"
          ],
          [
           56,
           "2022-01-20 01:38:52.130"
          ],
          [
           56,
           "2022-01-20 01:39:12.313"
          ],
          [
           56,
           "2022-01-20 01:39:32.536"
          ],
          [
           56,
           "2022-01-20 01:39:52.745"
          ],
          [
           56,
           "2022-01-20 01:40:12.929"
          ],
          [
           56,
           "2022-01-20 01:40:33.128"
          ],
          [
           56,
           "2022-01-20 01:40:53.402"
          ],
          [
           56,
           "2022-01-20 01:41:13.535"
          ],
          [
           56,
           "2022-01-20 01:41:33.725"
          ],
          [
           56,
           "2022-01-20 01:41:53.941"
          ],
          [
           56,
           "2022-01-20 01:42:14.131"
          ],
          [
           56,
           "2022-01-20 01:42:34.340"
          ],
          [
           57,
           "2022-01-20 01:42:54.540"
          ],
          [
           57,
           "2022-01-20 01:43:14.757"
          ],
          [
           57,
           "2022-01-20 01:43:34.943"
          ],
          [
           57,
           "2022-01-20 01:43:55.126"
          ],
          [
           57,
           "2022-01-20 01:44:15.306"
          ],
          [
           57,
           "2022-01-20 01:44:35.486"
          ],
          [
           57,
           "2022-01-20 01:44:55.676"
          ],
          [
           57,
           "2022-01-20 01:45:15.852"
          ],
          [
           57,
           "2022-01-20 01:45:36.029"
          ],
          [
           57,
           "2022-01-20 01:45:56.228"
          ],
          [
           57,
           "2022-01-20 01:46:16.402"
          ],
          [
           57,
           "2022-01-20 01:46:36.578"
          ],
          [
           57,
           "2022-01-20 01:46:56.768"
          ],
          [
           57,
           "2022-01-20 01:47:16.954"
          ],
          [
           57,
           "2022-01-20 01:47:37.141"
          ],
          [
           57,
           "2022-01-20 01:47:57.340"
          ],
          [
           57,
           "2022-01-20 01:48:17.530"
          ],
          [
           57,
           "2022-01-20 01:48:37.723"
          ],
          [
           57,
           "2022-01-20 01:48:57.923"
          ],
          [
           57,
           "2022-01-20 01:49:18.117"
          ],
          [
           57,
           "2022-01-20 01:49:38.309"
          ],
          [
           57,
           "2022-01-20 01:49:58.516"
          ],
          [
           57,
           "2022-01-20 01:50:18.712"
          ],
          [
           57,
           "2022-01-20 01:50:38.909"
          ],
          [
           57,
           "2022-01-20 01:50:59.105"
          ],
          [
           57,
           "2022-01-20 01:51:19.308"
          ],
          [
           57,
           "2022-01-20 01:51:39.505"
          ],
          [
           57,
           "2022-01-20 01:51:59.694"
          ],
          [
           57,
           "2022-01-20 01:52:19.913"
          ],
          [
           57,
           "2022-01-20 01:52:40.091"
          ],
          [
           57,
           "2022-01-20 01:53:00.270"
          ],
          [
           57,
           "2022-01-20 01:53:20.460"
          ],
          [
           57,
           "2022-01-20 01:53:40.650"
          ],
          [
           57,
           "2022-01-20 01:54:00.820"
          ],
          [
           57,
           "2022-01-20 01:54:21.010"
          ],
          [
           57,
           "2022-01-20 01:54:41.217"
          ],
          [
           57,
           "2022-01-20 01:55:01.386"
          ],
          [
           57,
           "2022-01-20 01:55:21.602"
          ],
          [
           57,
           "2022-01-20 01:55:41.832"
          ],
          [
           57,
           "2022-01-20 01:56:02.045"
          ],
          [
           57,
           "2022-01-20 01:56:22.275"
          ],
          [
           57,
           "2022-01-20 01:56:42.432"
          ],
          [
           57,
           "2022-01-20 01:57:02.645"
          ],
          [
           57,
           "2022-01-20 01:57:22.881"
          ],
          [
           58,
           "2022-01-20 01:57:43.094"
          ],
          [
           58,
           "2022-01-20 01:58:03.294"
          ],
          [
           58,
           "2022-01-20 01:58:23.460"
          ],
          [
           58,
           "2022-01-20 01:58:43.634"
          ],
          [
           58,
           "2022-01-20 01:59:03.823"
          ],
          [
           58,
           "2022-01-20 01:59:24.006"
          ],
          [
           58,
           "2022-01-20 01:59:44.193"
          ],
          [
           58,
           "2022-01-20 02:00:04.383"
          ],
          [
           58,
           "2022-01-20 02:00:24.579"
          ],
          [
           58,
           "2022-01-20 02:00:44.772"
          ],
          [
           58,
           "2022-01-20 02:01:04.962"
          ],
          [
           58,
           "2022-01-20 02:01:25.165"
          ],
          [
           58,
           "2022-01-20 02:01:45.358"
          ],
          [
           58,
           "2022-01-20 02:02:05.572"
          ],
          [
           58,
           "2022-01-20 02:02:25.775"
          ],
          [
           58,
           "2022-01-20 02:02:45.961"
          ],
          [
           58,
           "2022-01-20 02:03:06.161"
          ],
          [
           58,
           "2022-01-20 02:03:26.360"
          ],
          [
           58,
           "2022-01-20 02:03:46.554"
          ],
          [
           58,
           "2022-01-20 02:04:06.750"
          ],
          [
           58,
           "2022-01-20 02:04:26.940"
          ],
          [
           58,
           "2022-01-20 02:04:47.146"
          ],
          [
           58,
           "2022-01-20 02:05:07.326"
          ],
          [
           58,
           "2022-01-20 02:05:27.519"
          ],
          [
           58,
           "2022-01-20 02:05:47.719"
          ],
          [
           58,
           "2022-01-20 02:06:07.902"
          ],
          [
           58,
           "2022-01-20 02:06:28.095"
          ],
          [
           58,
           "2022-01-20 02:06:48.282"
          ],
          [
           58,
           "2022-01-20 02:07:08.462"
          ],
          [
           58,
           "2022-01-20 02:07:28.655"
          ],
          [
           58,
           "2022-01-20 02:07:48.852"
          ],
          [
           58,
           "2022-01-20 02:08:09.038"
          ],
          [
           58,
           "2022-01-20 02:08:29.221"
          ],
          [
           58,
           "2022-01-20 02:08:49.450"
          ],
          [
           58,
           "2022-01-20 02:09:09.600"
          ],
          [
           58,
           "2022-01-20 02:09:29.783"
          ],
          [
           58,
           "2022-01-20 02:09:49.972"
          ],
          [
           58,
           "2022-01-20 02:10:10.163"
          ],
          [
           58,
           "2022-01-20 02:10:30.346"
          ],
          [
           58,
           "2022-01-20 02:10:50.529"
          ],
          [
           58,
           "2022-01-20 02:11:10.739"
          ],
          [
           58,
           "2022-01-20 02:11:30.922"
          ],
          [
           58,
           "2022-01-20 02:11:51.116"
          ],
          [
           58,
           "2022-01-20 02:12:11.322"
          ],
          [
           59,
           "2022-01-20 02:12:31.508"
          ],
          [
           59,
           "2022-01-20 02:12:51.691"
          ],
          [
           59,
           "2022-01-20 02:13:11.888"
          ],
          [
           59,
           "2022-01-20 02:13:32.074"
          ],
          [
           59,
           "2022-01-20 02:13:52.261"
          ],
          [
           59,
           "2022-01-20 02:14:12.464"
          ],
          [
           59,
           "2022-01-20 02:14:32.700"
          ],
          [
           59,
           "2022-01-20 02:14:52.920"
          ],
          [
           59,
           "2022-01-20 02:15:13.140"
          ],
          [
           59,
           "2022-01-20 02:15:33.367"
          ],
          [
           59,
           "2022-01-20 02:15:53.550"
          ],
          [
           59,
           "2022-01-20 02:16:13.736"
          ],
          [
           59,
           "2022-01-20 02:16:33.922"
          ],
          [
           59,
           "2022-01-20 02:16:54.122"
          ],
          [
           59,
           "2022-01-20 02:17:14.305"
          ],
          [
           59,
           "2022-01-20 02:17:34.485"
          ],
          [
           59,
           "2022-01-20 02:17:54.678"
          ],
          [
           59,
           "2022-01-20 02:18:14.901"
          ],
          [
           59,
           "2022-01-20 02:18:35.108"
          ],
          [
           59,
           "2022-01-20 02:18:55.390"
          ],
          [
           59,
           "2022-01-20 02:19:15.564"
          ],
          [
           59,
           "2022-01-20 02:19:35.770"
          ],
          [
           59,
           "2022-01-20 02:19:55.953"
          ],
          [
           59,
           "2022-01-20 02:20:16.137"
          ],
          [
           59,
           "2022-01-20 02:20:36.343"
          ],
          [
           59,
           "2022-01-20 02:20:56.553"
          ],
          [
           59,
           "2022-01-20 02:21:16.782"
          ],
          [
           59,
           "2022-01-20 02:21:36.999"
          ],
          [
           59,
           "2022-01-20 02:21:57.212"
          ],
          [
           59,
           "2022-01-20 02:22:17.439"
          ],
          [
           59,
           "2022-01-20 02:22:37.678"
          ],
          [
           59,
           "2022-01-20 02:22:57.898"
          ],
          [
           59,
           "2022-01-20 02:23:18.102"
          ],
          [
           59,
           "2022-01-20 02:23:38.281"
          ],
          [
           59,
           "2022-01-20 02:23:58.467"
          ],
          [
           59,
           "2022-01-20 02:24:18.657"
          ],
          [
           59,
           "2022-01-20 02:24:38.844"
          ],
          [
           59,
           "2022-01-20 02:24:59.037"
          ],
          [
           59,
           "2022-01-20 02:25:19.250"
          ],
          [
           59,
           "2022-01-20 02:25:39.427"
          ],
          [
           59,
           "2022-01-20 02:25:59.626"
          ],
          [
           59,
           "2022-01-20 02:26:19.826"
          ],
          [
           59,
           "2022-01-20 02:26:40.023"
          ],
          [
           59,
           "2022-01-20 02:27:00.232"
          ],
          [
           59,
           "2022-01-20 02:27:20.429"
          ],
          [
           60,
           "2022-01-20 02:27:40.639"
          ],
          [
           60,
           "2022-01-20 02:28:00.881"
          ],
          [
           60,
           "2022-01-20 02:28:21.095"
          ],
          [
           60,
           "2022-01-20 02:28:41.328"
          ],
          [
           60,
           "2022-01-20 02:29:01.544"
          ],
          [
           60,
           "2022-01-20 02:29:21.761"
          ],
          [
           60,
           "2022-01-20 02:29:41.974"
          ],
          [
           60,
           "2022-01-20 02:30:02.170"
          ],
          [
           60,
           "2022-01-20 02:30:22.377"
          ],
          [
           60,
           "2022-01-20 02:30:42.583"
          ],
          [
           60,
           "2022-01-20 02:31:02.800"
          ],
          [
           60,
           "2022-01-20 02:31:23.009"
          ],
          [
           60,
           "2022-01-20 02:31:43.233"
          ],
          [
           60,
           "2022-01-20 02:32:03.487"
          ],
          [
           60,
           "2022-01-20 02:32:23.656"
          ],
          [
           60,
           "2022-01-20 02:32:43.872"
          ],
          [
           60,
           "2022-01-20 02:33:04.088"
          ],
          [
           60,
           "2022-01-20 02:33:24.319"
          ],
          [
           60,
           "2022-01-20 02:33:44.538"
          ],
          [
           60,
           "2022-01-20 02:34:04.751"
          ],
          [
           60,
           "2022-01-20 02:34:24.975"
          ],
          [
           60,
           "2022-01-20 02:34:45.187"
          ],
          [
           60,
           "2022-01-20 02:35:05.411"
          ],
          [
           60,
           "2022-01-20 02:35:25.660"
          ],
          [
           60,
           "2022-01-20 02:35:45.847"
          ],
          [
           60,
           "2022-01-20 02:36:06.067"
          ],
          [
           60,
           "2022-01-20 02:36:26.280"
          ],
          [
           60,
           "2022-01-20 02:36:46.503"
          ],
          [
           60,
           "2022-01-20 02:37:06.742"
          ],
          [
           60,
           "2022-01-20 02:37:26.953"
          ],
          [
           60,
           "2022-01-20 02:37:47.176"
          ],
          [
           60,
           "2022-01-20 02:38:07.406"
          ],
          [
           60,
           "2022-01-20 02:38:27.626"
          ],
          [
           60,
           "2022-01-20 02:38:47.845"
          ],
          [
           60,
           "2022-01-20 02:39:08.085"
          ],
          [
           60,
           "2022-01-20 02:39:28.304"
          ],
          [
           60,
           "2022-01-20 02:39:48.504"
          ],
          [
           60,
           "2022-01-20 02:40:08.704"
          ],
          [
           60,
           "2022-01-20 02:40:28.925"
          ],
          [
           60,
           "2022-01-20 02:40:49.170"
          ],
          [
           60,
           "2022-01-20 02:41:09.417"
          ],
          [
           60,
           "2022-01-20 02:41:29.613"
          ],
          [
           60,
           "2022-01-20 02:41:49.863"
          ],
          [
           60,
           "2022-01-20 02:42:10.113"
          ],
          [
           61,
           "2022-01-20 02:42:30.363"
          ],
          [
           61,
           "2022-01-20 02:42:50.612"
          ],
          [
           61,
           "2022-01-20 02:43:10.855"
          ],
          [
           61,
           "2022-01-20 02:43:31.092"
          ],
          [
           61,
           "2022-01-20 02:43:51.328"
          ],
          [
           61,
           "2022-01-20 02:44:11.565"
          ],
          [
           61,
           "2022-01-20 02:44:31.808"
          ],
          [
           61,
           "2022-01-20 02:44:52.048"
          ],
          [
           61,
           "2022-01-20 02:45:12.267"
          ],
          [
           61,
           "2022-01-20 02:45:32.497"
          ],
          [
           61,
           "2022-01-20 02:45:52.730"
          ],
          [
           61,
           "2022-01-20 02:46:12.967"
          ],
          [
           61,
           "2022-01-20 02:46:33.193"
          ],
          [
           61,
           "2022-01-20 02:46:53.426"
          ],
          [
           61,
           "2022-01-20 02:47:13.656"
          ],
          [
           61,
           "2022-01-20 02:47:33.903"
          ],
          [
           61,
           "2022-01-20 02:47:54.126"
          ],
          [
           61,
           "2022-01-20 02:48:14.359"
          ],
          [
           61,
           "2022-01-20 02:48:34.595"
          ],
          [
           61,
           "2022-01-20 02:48:54.819"
          ],
          [
           61,
           "2022-01-20 02:49:15.038"
          ],
          [
           61,
           "2022-01-20 02:49:35.275"
          ],
          [
           61,
           "2022-01-20 02:49:55.531"
          ],
          [
           61,
           "2022-01-20 02:50:15.746"
          ],
          [
           61,
           "2022-01-20 02:50:35.991"
          ],
          [
           61,
           "2022-01-20 02:50:56.230"
          ],
          [
           61,
           "2022-01-20 02:51:16.473"
          ],
          [
           61,
           "2022-01-20 02:51:36.690"
          ],
          [
           61,
           "2022-01-20 02:51:56.936"
          ],
          [
           61,
           "2022-01-20 02:52:17.197"
          ],
          [
           61,
           "2022-01-20 02:52:37.419"
          ],
          [
           61,
           "2022-01-20 02:52:57.666"
          ],
          [
           61,
           "2022-01-20 02:53:17.902"
          ],
          [
           61,
           "2022-01-20 02:53:38.139"
          ],
          [
           61,
           "2022-01-20 02:53:58.340"
          ],
          [
           61,
           "2022-01-20 02:54:18.529"
          ],
          [
           61,
           "2022-01-20 02:54:38.753"
          ],
          [
           61,
           "2022-01-20 02:54:58.985"
          ],
          [
           61,
           "2022-01-20 02:55:19.219"
          ],
          [
           61,
           "2022-01-20 02:55:39.447"
          ],
          [
           61,
           "2022-01-20 02:55:59.680"
          ],
          [
           62,
           "2022-01-20 02:56:19.907"
          ],
          [
           62,
           "2022-01-20 02:56:40.139"
          ],
          [
           62,
           "2022-01-20 02:57:00.348"
          ],
          [
           62,
           "2022-01-20 02:57:20.577"
          ],
          [
           62,
           "2022-01-20 02:57:40.813"
          ],
          [
           62,
           "2022-01-20 02:58:01.103"
          ],
          [
           62,
           "2022-01-20 02:58:21.291"
          ],
          [
           62,
           "2022-01-20 02:58:41.528"
          ],
          [
           62,
           "2022-01-20 02:59:01.776"
          ],
          [
           62,
           "2022-01-20 02:59:21.958"
          ],
          [
           62,
           "2022-01-20 02:59:42.208"
          ],
          [
           62,
           "2022-01-20 03:00:02.389"
          ],
          [
           62,
           "2022-01-20 03:00:22.640"
          ],
          [
           62,
           "2022-01-20 03:00:42.884"
          ],
          [
           62,
           "2022-01-20 03:01:03.130"
          ],
          [
           62,
           "2022-01-20 03:01:23.368"
          ],
          [
           62,
           "2022-01-20 03:01:43.604"
          ],
          [
           62,
           "2022-01-20 03:02:03.806"
          ],
          [
           62,
           "2022-01-20 03:02:24.040"
          ],
          [
           62,
           "2022-01-20 03:02:44.273"
          ],
          [
           62,
           "2022-01-20 03:03:04.519"
          ],
          [
           62,
           "2022-01-20 03:03:24.751"
          ],
          [
           62,
           "2022-01-20 03:03:44.979"
          ],
          [
           62,
           "2022-01-20 03:04:05.182"
          ],
          [
           62,
           "2022-01-20 03:04:25.403"
          ],
          [
           62,
           "2022-01-20 03:04:45.638"
          ],
          [
           62,
           "2022-01-20 03:05:05.878"
          ],
          [
           62,
           "2022-01-20 03:05:26.121"
          ],
          [
           62,
           "2022-01-20 03:05:46.304"
          ],
          [
           62,
           "2022-01-20 03:06:06.551"
          ],
          [
           62,
           "2022-01-20 03:06:26.697"
          ],
          [
           62,
           "2022-01-20 03:06:46.950"
          ],
          [
           62,
           "2022-01-20 03:07:07.201"
          ],
          [
           62,
           "2022-01-20 03:07:27.437"
          ],
          [
           62,
           "2022-01-20 03:07:47.677"
          ],
          [
           62,
           "2022-01-20 03:08:07.919"
          ],
          [
           62,
           "2022-01-20 03:08:28.151"
          ],
          [
           62,
           "2022-01-20 03:08:48.367"
          ],
          [
           62,
           "2022-01-20 03:09:08.589"
          ],
          [
           62,
           "2022-01-20 03:09:28.822"
          ],
          [
           62,
           "2022-01-20 03:09:49.032"
          ],
          [
           62,
           "2022-01-20 03:10:09.258"
          ],
          [
           62,
           "2022-01-20 03:10:29.495"
          ],
          [
           62,
           "2022-01-20 03:10:49.731"
          ],
          [
           62,
           "2022-01-20 03:11:09.975"
          ],
          [
           63,
           "2022-01-20 03:11:30.197"
          ],
          [
           63,
           "2022-01-20 03:11:50.408"
          ],
          [
           63,
           "2022-01-20 03:12:10.638"
          ],
          [
           63,
           "2022-01-20 03:12:30.869"
          ],
          [
           63,
           "2022-01-20 03:12:51.093"
          ],
          [
           63,
           "2022-01-20 03:13:11.324"
          ],
          [
           63,
           "2022-01-20 03:13:31.534"
          ],
          [
           63,
           "2022-01-20 03:13:51.754"
          ],
          [
           63,
           "2022-01-20 03:14:11.971"
          ],
          [
           63,
           "2022-01-20 03:14:32.193"
          ],
          [
           63,
           "2022-01-20 03:14:52.419"
          ],
          [
           63,
           "2022-01-20 03:15:12.641"
          ],
          [
           63,
           "2022-01-20 03:15:32.854"
          ],
          [
           63,
           "2022-01-20 03:15:53.084"
          ],
          [
           63,
           "2022-01-20 03:16:13.288"
          ],
          [
           63,
           "2022-01-20 03:16:33.508"
          ],
          [
           63,
           "2022-01-20 03:16:53.730"
          ],
          [
           63,
           "2022-01-20 03:17:13.949"
          ],
          [
           63,
           "2022-01-20 03:17:34.184"
          ],
          [
           63,
           "2022-01-20 03:17:54.382"
          ],
          [
           63,
           "2022-01-20 03:18:14.606"
          ],
          [
           63,
           "2022-01-20 03:18:34.834"
          ],
          [
           63,
           "2022-01-20 03:18:55.046"
          ],
          [
           63,
           "2022-01-20 03:19:15.261"
          ],
          [
           63,
           "2022-01-20 03:19:35.466"
          ],
          [
           63,
           "2022-01-20 03:19:55.679"
          ],
          [
           63,
           "2022-01-20 03:20:15.883"
          ],
          [
           63,
           "2022-01-20 03:20:36.090"
          ],
          [
           63,
           "2022-01-20 03:20:56.311"
          ],
          [
           63,
           "2022-01-20 03:21:16.503"
          ],
          [
           63,
           "2022-01-20 03:21:36.704"
          ],
          [
           63,
           "2022-01-20 03:21:56.911"
          ],
          [
           63,
           "2022-01-20 03:22:17.102"
          ],
          [
           63,
           "2022-01-20 03:22:37.366"
          ],
          [
           63,
           "2022-01-20 03:22:57.535"
          ],
          [
           63,
           "2022-01-20 03:23:17.753"
          ],
          [
           63,
           "2022-01-20 03:23:37.968"
          ],
          [
           63,
           "2022-01-20 03:23:58.180"
          ],
          [
           63,
           "2022-01-20 03:24:18.387"
          ],
          [
           63,
           "2022-01-20 03:24:38.593"
          ],
          [
           63,
           "2022-01-20 03:24:58.780"
          ],
          [
           63,
           "2022-01-20 03:25:18.997"
          ],
          [
           63,
           "2022-01-20 03:25:39.180"
          ],
          [
           63,
           "2022-01-20 03:25:59.369"
          ],
          [
           64,
           "2022-01-20 03:26:19.568"
          ],
          [
           64,
           "2022-01-20 03:26:39.754"
          ],
          [
           64,
           "2022-01-20 03:26:59.941"
          ],
          [
           64,
           "2022-01-20 03:27:20.134"
          ],
          [
           64,
           "2022-01-20 03:27:40.308"
          ],
          [
           64,
           "2022-01-20 03:28:00.489"
          ],
          [
           64,
           "2022-01-20 03:28:20.694"
          ],
          [
           64,
           "2022-01-20 03:28:40.903"
          ],
          [
           64,
           "2022-01-20 03:29:01.133"
          ],
          [
           64,
           "2022-01-20 03:29:21.339"
          ],
          [
           64,
           "2022-01-20 03:29:41.528"
          ],
          [
           64,
           "2022-01-20 03:30:01.682"
          ],
          [
           64,
           "2022-01-20 03:30:21.910"
          ],
          [
           64,
           "2022-01-20 03:30:42.109"
          ],
          [
           64,
           "2022-01-20 03:31:02.328"
          ],
          [
           64,
           "2022-01-20 03:31:22.502"
          ],
          [
           64,
           "2022-01-20 03:31:42.691"
          ],
          [
           64,
           "2022-01-20 03:32:02.881"
          ],
          [
           64,
           "2022-01-20 03:32:23.067"
          ],
          [
           64,
           "2022-01-20 03:32:43.267"
          ],
          [
           64,
           "2022-01-20 03:33:03.447"
          ],
          [
           64,
           "2022-01-20 03:33:23.627"
          ],
          [
           64,
           "2022-01-20 03:33:43.830"
          ],
          [
           64,
           "2022-01-20 03:34:04.000"
          ],
          [
           64,
           "2022-01-20 03:34:24.199"
          ],
          [
           64,
           "2022-01-20 03:34:44.396"
          ],
          [
           64,
           "2022-01-20 03:35:04.605"
          ],
          [
           64,
           "2022-01-20 03:35:24.826"
          ],
          [
           64,
           "2022-01-20 03:35:45.059"
          ],
          [
           64,
           "2022-01-20 03:36:05.242"
          ],
          [
           64,
           "2022-01-20 03:36:25.421"
          ],
          [
           64,
           "2022-01-20 03:36:45.598"
          ],
          [
           64,
           "2022-01-20 03:37:05.771"
          ],
          [
           64,
           "2022-01-20 03:37:25.954"
          ],
          [
           64,
           "2022-01-20 03:37:46.131"
          ],
          [
           64,
           "2022-01-20 03:38:06.307"
          ],
          [
           64,
           "2022-01-20 03:38:26.511"
          ],
          [
           64,
           "2022-01-20 03:38:46.707"
          ],
          [
           64,
           "2022-01-20 03:39:06.900"
          ],
          [
           64,
           "2022-01-20 03:39:27.105"
          ],
          [
           64,
           "2022-01-20 03:39:47.273"
          ],
          [
           64,
           "2022-01-20 03:40:07.459"
          ],
          [
           64,
           "2022-01-20 03:40:27.646"
          ],
          [
           64,
           "2022-01-20 03:40:47.852"
          ],
          [
           64,
           "2022-01-20 03:41:08.035"
          ],
          [
           65,
           "2022-01-20 03:41:28.225"
          ],
          [
           65,
           "2022-01-20 03:41:48.425"
          ],
          [
           65,
           "2022-01-20 03:42:08.629"
          ],
          [
           65,
           "2022-01-20 03:42:28.815"
          ],
          [
           65,
           "2022-01-20 03:42:49.007"
          ],
          [
           65,
           "2022-01-20 03:43:09.207"
          ],
          [
           65,
           "2022-01-20 03:43:29.401"
          ],
          [
           65,
           "2022-01-20 03:43:49.587"
          ],
          [
           65,
           "2022-01-20 03:44:09.783"
          ],
          [
           65,
           "2022-01-20 03:44:29.983"
          ],
          [
           65,
           "2022-01-20 03:44:50.173"
          ],
          [
           65,
           "2022-01-20 03:45:10.386"
          ],
          [
           65,
           "2022-01-20 03:45:30.566"
          ],
          [
           65,
           "2022-01-20 03:45:50.769"
          ],
          [
           65,
           "2022-01-20 03:46:10.969"
          ],
          [
           65,
           "2022-01-20 03:46:31.200"
          ],
          [
           65,
           "2022-01-20 03:46:51.375"
          ],
          [
           65,
           "2022-01-20 03:47:11.568"
          ],
          [
           65,
           "2022-01-20 03:47:31.781"
          ],
          [
           65,
           "2022-01-20 03:47:51.971"
          ],
          [
           65,
           "2022-01-20 03:48:12.165"
          ],
          [
           65,
           "2022-01-20 03:48:32.374"
          ],
          [
           65,
           "2022-01-20 03:48:52.567"
          ],
          [
           65,
           "2022-01-20 03:49:12.767"
          ],
          [
           65,
           "2022-01-20 03:49:32.960"
          ],
          [
           65,
           "2022-01-20 03:49:53.174"
          ],
          [
           65,
           "2022-01-20 03:50:13.350"
          ],
          [
           65,
           "2022-01-20 03:50:33.536"
          ],
          [
           65,
           "2022-01-20 03:50:53.746"
          ],
          [
           65,
           "2022-01-20 03:51:13.929"
          ],
          [
           65,
           "2022-01-20 03:51:34.119"
          ],
          [
           65,
           "2022-01-20 03:51:54.393"
          ],
          [
           65,
           "2022-01-20 03:52:14.518"
          ],
          [
           65,
           "2022-01-20 03:52:34.705"
          ],
          [
           65,
           "2022-01-20 03:52:54.897"
          ],
          [
           65,
           "2022-01-20 03:53:15.077"
          ],
          [
           65,
           "2022-01-20 03:53:35.261"
          ],
          [
           65,
           "2022-01-20 03:53:55.444"
          ],
          [
           65,
           "2022-01-20 03:54:15.644"
          ],
          [
           65,
           "2022-01-20 03:54:35.827"
          ],
          [
           66,
           "2022-01-20 03:54:56.006"
          ],
          [
           66,
           "2022-01-20 03:55:16.213"
          ],
          [
           66,
           "2022-01-20 03:55:36.393"
          ],
          [
           66,
           "2022-01-20 03:55:56.572"
          ],
          [
           66,
           "2022-01-20 03:56:16.780"
          ],
          [
           66,
           "2022-01-20 03:56:36.952"
          ],
          [
           66,
           "2022-01-20 03:56:57.142"
          ],
          [
           66,
           "2022-01-20 03:57:17.355"
          ],
          [
           66,
           "2022-01-20 03:57:37.528"
          ],
          [
           66,
           "2022-01-20 03:57:57.723"
          ],
          [
           66,
           "2022-01-20 03:58:17.920"
          ],
          [
           66,
           "2022-01-20 03:58:38.114"
          ],
          [
           66,
           "2022-01-20 03:58:58.304"
          ],
          [
           66,
           "2022-01-20 03:59:18.507"
          ],
          [
           66,
           "2022-01-20 03:59:38.693"
          ],
          [
           66,
           "2022-01-20 03:59:58.880"
          ],
          [
           66,
           "2022-01-20 04:00:19.083"
          ],
          [
           66,
           "2022-01-20 04:00:39.277"
          ],
          [
           66,
           "2022-01-20 04:00:59.473"
          ],
          [
           66,
           "2022-01-20 04:01:19.662"
          ],
          [
           66,
           "2022-01-20 04:01:39.875"
          ],
          [
           66,
           "2022-01-20 04:02:00.082"
          ],
          [
           66,
           "2022-01-20 04:02:20.285"
          ],
          [
           66,
           "2022-01-20 04:02:40.491"
          ],
          [
           66,
           "2022-01-20 04:03:00.695"
          ],
          [
           66,
           "2022-01-20 04:03:20.921"
          ],
          [
           66,
           "2022-01-20 04:03:41.098"
          ],
          [
           66,
           "2022-01-20 04:04:01.314"
          ],
          [
           66,
           "2022-01-20 04:04:21.507"
          ],
          [
           66,
           "2022-01-20 04:04:41.774"
          ],
          [
           66,
           "2022-01-20 04:05:01.907"
          ],
          [
           66,
           "2022-01-20 04:05:22.123"
          ],
          [
           66,
           "2022-01-20 04:05:42.316"
          ],
          [
           66,
           "2022-01-20 04:06:02.516"
          ],
          [
           66,
           "2022-01-20 04:06:22.723"
          ],
          [
           66,
           "2022-01-20 04:06:42.925"
          ],
          [
           66,
           "2022-01-20 04:07:03.129"
          ],
          [
           66,
           "2022-01-20 04:07:23.332"
          ],
          [
           66,
           "2022-01-20 04:07:43.548"
          ],
          [
           66,
           "2022-01-20 04:08:03.748"
          ],
          [
           66,
           "2022-01-20 04:08:23.948"
          ],
          [
           66,
           "2022-01-20 04:08:44.141"
          ],
          [
           66,
           "2022-01-20 04:09:04.360"
          ],
          [
           66,
           "2022-01-20 04:09:24.554"
          ],
          [
           66,
           "2022-01-20 04:09:44.768"
          ],
          [
           67,
           "2022-01-20 04:10:04.970"
          ],
          [
           67,
           "2022-01-20 04:10:25.187"
          ],
          [
           67,
           "2022-01-20 04:10:45.380"
          ],
          [
           67,
           "2022-01-20 04:11:05.556"
          ],
          [
           67,
           "2022-01-20 04:11:25.756"
          ],
          [
           67,
           "2022-01-20 04:11:45.939"
          ],
          [
           67,
           "2022-01-20 04:12:06.165"
          ],
          [
           67,
           "2022-01-20 04:12:26.342"
          ],
          [
           67,
           "2022-01-20 04:12:46.535"
          ],
          [
           67,
           "2022-01-20 04:13:06.725"
          ],
          [
           67,
           "2022-01-20 04:13:26.918"
          ],
          [
           67,
           "2022-01-20 04:13:47.104"
          ],
          [
           67,
           "2022-01-20 04:14:07.341"
          ],
          [
           67,
           "2022-01-20 04:14:27.551"
          ],
          [
           67,
           "2022-01-20 04:14:47.741"
          ],
          [
           67,
           "2022-01-20 04:15:07.968"
          ],
          [
           67,
           "2022-01-20 04:15:28.170"
          ],
          [
           67,
           "2022-01-20 04:15:48.340"
          ],
          [
           67,
           "2022-01-20 04:16:08.526"
          ],
          [
           67,
           "2022-01-20 04:16:28.720"
          ],
          [
           67,
           "2022-01-20 04:16:48.902"
          ],
          [
           67,
           "2022-01-20 04:17:09.089"
          ],
          [
           67,
           "2022-01-20 04:17:29.292"
          ],
          [
           67,
           "2022-01-20 04:17:49.492"
          ],
          [
           67,
           "2022-01-20 04:18:09.685"
          ],
          [
           67,
           "2022-01-20 04:18:29.875"
          ],
          [
           67,
           "2022-01-20 04:18:50.081"
          ],
          [
           67,
           "2022-01-20 04:19:10.261"
          ],
          [
           67,
           "2022-01-20 04:19:30.481"
          ],
          [
           67,
           "2022-01-20 04:19:50.707"
          ],
          [
           67,
           "2022-01-20 04:20:10.927"
          ],
          [
           67,
           "2022-01-20 04:20:31.147"
          ],
          [
           67,
           "2022-01-20 04:20:51.330"
          ],
          [
           67,
           "2022-01-20 04:21:11.518"
          ],
          [
           67,
           "2022-01-20 04:21:31.699"
          ],
          [
           67,
           "2022-01-20 04:21:51.893"
          ],
          [
           67,
           "2022-01-20 04:22:12.073"
          ],
          [
           67,
           "2022-01-20 04:22:32.272"
          ],
          [
           67,
           "2022-01-20 04:22:52.469"
          ],
          [
           67,
           "2022-01-20 04:23:12.665"
          ],
          [
           67,
           "2022-01-20 04:23:32.855"
          ],
          [
           67,
           "2022-01-20 04:23:53.055"
          ],
          [
           67,
           "2022-01-20 04:24:13.258"
          ],
          [
           67,
           "2022-01-20 04:24:33.458"
          ],
          [
           68,
           "2022-01-20 04:24:53.664"
          ],
          [
           68,
           "2022-01-20 04:25:13.881"
          ],
          [
           68,
           "2022-01-20 04:25:34.077"
          ],
          [
           68,
           "2022-01-20 04:25:54.277"
          ],
          [
           68,
           "2022-01-20 04:26:14.490"
          ],
          [
           68,
           "2022-01-20 04:26:34.683"
          ],
          [
           68,
           "2022-01-20 04:26:54.879"
          ],
          [
           68,
           "2022-01-20 04:27:15.091"
          ],
          [
           68,
           "2022-01-20 04:27:35.292"
          ],
          [
           68,
           "2022-01-20 04:27:55.546"
          ],
          [
           68,
           "2022-01-20 04:28:15.702"
          ],
          [
           68,
           "2022-01-20 04:28:35.912"
          ],
          [
           68,
           "2022-01-20 04:28:56.125"
          ],
          [
           68,
           "2022-01-20 04:29:16.341"
          ],
          [
           68,
           "2022-01-20 04:29:36.555"
          ],
          [
           68,
           "2022-01-20 04:29:56.761"
          ],
          [
           68,
           "2022-01-20 04:30:16.981"
          ],
          [
           68,
           "2022-01-20 04:30:37.194"
          ],
          [
           68,
           "2022-01-20 04:30:57.417"
          ],
          [
           68,
           "2022-01-20 04:31:17.637"
          ],
          [
           68,
           "2022-01-20 04:31:37.846"
          ],
          [
           68,
           "2022-01-20 04:31:58.073"
          ],
          [
           68,
           "2022-01-20 04:32:18.286"
          ],
          [
           68,
           "2022-01-20 04:32:38.506"
          ],
          [
           68,
           "2022-01-20 04:32:58.726"
          ],
          [
           68,
           "2022-01-20 04:33:18.991"
          ],
          [
           68,
           "2022-01-20 04:33:39.183"
          ],
          [
           68,
           "2022-01-20 04:33:59.415"
          ],
          [
           68,
           "2022-01-20 04:34:19.638"
          ],
          [
           68,
           "2022-01-20 04:34:39.861"
          ],
          [
           68,
           "2022-01-20 04:35:00.101"
          ],
          [
           68,
           "2022-01-20 04:35:20.336"
          ],
          [
           68,
           "2022-01-20 04:35:40.561"
          ],
          [
           68,
           "2022-01-20 04:36:00.793"
          ],
          [
           68,
           "2022-01-20 04:36:21.004"
          ],
          [
           68,
           "2022-01-20 04:36:41.238"
          ],
          [
           68,
           "2022-01-20 04:37:01.440"
          ],
          [
           68,
           "2022-01-20 04:37:21.673"
          ],
          [
           68,
           "2022-01-20 04:37:41.903"
          ],
          [
           68,
           "2022-01-20 04:38:02.142"
          ],
          [
           68,
           "2022-01-20 04:38:22.382"
          ],
          [
           68,
           "2022-01-20 04:38:42.616"
          ],
          [
           68,
           "2022-01-20 04:39:02.855"
          ],
          [
           68,
           "2022-01-20 04:39:23.136"
          ],
          [
           68,
           "2022-01-20 04:39:43.338"
          ],
          [
           69,
           "2022-01-20 04:40:03.555"
          ],
          [
           69,
           "2022-01-20 04:40:23.808"
          ],
          [
           69,
           "2022-01-20 04:40:44.057"
          ],
          [
           69,
           "2022-01-20 04:41:04.304"
          ],
          [
           69,
           "2022-01-20 04:41:24.560"
          ],
          [
           69,
           "2022-01-20 04:41:44.770"
          ],
          [
           69,
           "2022-01-20 04:42:04.977"
          ],
          [
           69,
           "2022-01-20 04:42:25.230"
          ],
          [
           69,
           "2022-01-20 04:42:45.479"
          ],
          [
           69,
           "2022-01-20 04:43:05.709"
          ],
          [
           69,
           "2022-01-20 04:43:25.945"
          ],
          [
           69,
           "2022-01-20 04:43:46.159"
          ],
          [
           69,
           "2022-01-20 04:44:06.406"
          ],
          [
           69,
           "2022-01-20 04:44:26.618"
          ],
          [
           69,
           "2022-01-20 04:44:46.855"
          ],
          [
           69,
           "2022-01-20 04:45:07.088"
          ],
          [
           69,
           "2022-01-20 04:45:27.318"
          ],
          [
           69,
           "2022-01-20 04:45:47.554"
          ],
          [
           69,
           "2022-01-20 04:46:07.802"
          ],
          [
           69,
           "2022-01-20 04:46:28.010"
          ],
          [
           69,
           "2022-01-20 04:46:48.227"
          ],
          [
           69,
           "2022-01-20 04:47:08.474"
          ],
          [
           69,
           "2022-01-20 04:47:28.720"
          ],
          [
           69,
           "2022-01-20 04:47:48.943"
          ],
          [
           69,
           "2022-01-20 04:48:09.189"
          ],
          [
           69,
           "2022-01-20 04:48:29.413"
          ],
          [
           69,
           "2022-01-20 04:48:49.652"
          ],
          [
           69,
           "2022-01-20 04:49:09.805"
          ],
          [
           69,
           "2022-01-20 04:49:30.052"
          ],
          [
           69,
           "2022-01-20 04:49:50.302"
          ],
          [
           69,
           "2022-01-20 04:50:10.549"
          ],
          [
           69,
           "2022-01-20 04:50:30.785"
          ],
          [
           69,
           "2022-01-20 04:50:51.012"
          ],
          [
           69,
           "2022-01-20 04:51:11.234"
          ],
          [
           69,
           "2022-01-20 04:51:31.464"
          ],
          [
           69,
           "2022-01-20 04:51:51.675"
          ],
          [
           69,
           "2022-01-20 04:52:11.896"
          ],
          [
           69,
           "2022-01-20 04:52:32.169"
          ],
          [
           69,
           "2022-01-20 04:52:52.348"
          ],
          [
           69,
           "2022-01-20 04:53:12.572"
          ],
          [
           69,
           "2022-01-20 04:53:32.816"
          ],
          [
           69,
           "2022-01-20 04:53:53.070"
          ],
          [
           69,
           "2022-01-20 04:54:13.232"
          ],
          [
           69,
           "2022-01-20 04:54:33.475"
          ],
          [
           70,
           "2022-01-20 04:54:53.698"
          ],
          [
           70,
           "2022-01-20 04:55:13.921"
          ],
          [
           70,
           "2022-01-20 04:55:34.111"
          ],
          [
           70,
           "2022-01-20 04:55:54.341"
          ],
          [
           70,
           "2022-01-20 04:56:14.567"
          ],
          [
           70,
           "2022-01-20 04:56:34.781"
          ],
          [
           70,
           "2022-01-20 04:56:55.000"
          ],
          [
           70,
           "2022-01-20 04:57:15.230"
          ],
          [
           70,
           "2022-01-20 04:57:35.443"
          ],
          [
           70,
           "2022-01-20 04:57:55.663"
          ],
          [
           70,
           "2022-01-20 04:58:15.870"
          ],
          [
           70,
           "2022-01-20 04:58:36.079"
          ],
          [
           70,
           "2022-01-20 04:58:56.289"
          ],
          [
           70,
           "2022-01-20 04:59:16.502"
          ],
          [
           70,
           "2022-01-20 04:59:36.702"
          ],
          [
           70,
           "2022-01-20 04:59:56.922"
          ],
          [
           70,
           "2022-01-20 05:00:17.148"
          ],
          [
           70,
           "2022-01-20 05:00:37.341"
          ],
          [
           70,
           "2022-01-20 05:00:57.554"
          ],
          [
           70,
           "2022-01-20 05:01:17.755"
          ],
          [
           70,
           "2022-01-20 05:01:37.974"
          ],
          [
           70,
           "2022-01-20 05:01:58.170"
          ],
          [
           70,
           "2022-01-20 05:02:18.384"
          ],
          [
           70,
           "2022-01-20 05:02:38.584"
          ],
          [
           70,
           "2022-01-20 05:02:58.770"
          ],
          [
           70,
           "2022-01-20 05:03:18.956"
          ],
          [
           70,
           "2022-01-20 05:03:39.146"
          ],
          [
           70,
           "2022-01-20 05:03:59.319"
          ],
          [
           70,
           "2022-01-20 05:04:19.492"
          ],
          [
           70,
           "2022-01-20 05:04:39.689"
          ],
          [
           70,
           "2022-01-20 05:04:59.854"
          ],
          [
           70,
           "2022-01-20 05:05:20.048"
          ],
          [
           70,
           "2022-01-20 05:05:40.215"
          ],
          [
           70,
           "2022-01-20 05:06:00.384"
          ],
          [
           70,
           "2022-01-20 05:06:20.581"
          ],
          [
           70,
           "2022-01-20 05:06:40.790"
          ],
          [
           70,
           "2022-01-20 05:07:01.001"
          ],
          [
           70,
           "2022-01-20 05:07:21.180"
          ],
          [
           70,
           "2022-01-20 05:07:41.370"
          ],
          [
           70,
           "2022-01-20 05:08:01.566"
          ],
          [
           70,
           "2022-01-20 05:08:21.801"
          ],
          [
           70,
           "2022-01-20 05:08:41.988"
          ],
          [
           70,
           "2022-01-20 05:09:02.156"
          ],
          [
           70,
           "2022-01-20 05:09:22.362"
          ],
          [
           70,
           "2022-01-20 05:09:42.572"
          ],
          [
           71,
           "2022-01-20 05:10:02.769"
          ],
          [
           71,
           "2022-01-20 05:10:22.972"
          ],
          [
           71,
           "2022-01-20 05:10:43.175"
          ],
          [
           71,
           "2022-01-20 05:11:03.385"
          ],
          [
           71,
           "2022-01-20 05:11:23.581"
          ],
          [
           71,
           "2022-01-20 05:11:43.778"
          ],
          [
           71,
           "2022-01-20 05:12:03.990"
          ],
          [
           71,
           "2022-01-20 05:12:24.190"
          ],
          [
           71,
           "2022-01-20 05:12:44.393"
          ],
          [
           71,
           "2022-01-20 05:13:04.595"
          ],
          [
           71,
           "2022-01-20 05:13:24.800"
          ],
          [
           71,
           "2022-01-20 05:13:45.006"
          ],
          [
           71,
           "2022-01-20 05:14:05.209"
          ],
          [
           71,
           "2022-01-20 05:14:25.406"
          ],
          [
           71,
           "2022-01-20 05:14:45.619"
          ],
          [
           71,
           "2022-01-20 05:15:05.815"
          ],
          [
           71,
           "2022-01-20 05:15:26.022"
          ],
          [
           71,
           "2022-01-20 05:15:46.215"
          ],
          [
           71,
           "2022-01-20 05:16:06.421"
          ],
          [
           71,
           "2022-01-20 05:16:26.625"
          ],
          [
           71,
           "2022-01-20 05:16:46.821"
          ],
          [
           71,
           "2022-01-20 05:17:07.028"
          ],
          [
           71,
           "2022-01-20 05:17:27.234"
          ],
          [
           71,
           "2022-01-20 05:17:47.430"
          ],
          [
           71,
           "2022-01-20 05:18:07.633"
          ],
          [
           71,
           "2022-01-20 05:18:27.847"
          ],
          [
           71,
           "2022-01-20 05:18:48.040"
          ],
          [
           71,
           "2022-01-20 05:19:08.243"
          ],
          [
           71,
           "2022-01-20 05:19:28.453"
          ],
          [
           71,
           "2022-01-20 05:19:48.649"
          ],
          [
           71,
           "2022-01-20 05:20:08.852"
          ],
          [
           71,
           "2022-01-20 05:20:29.052"
          ],
          [
           71,
           "2022-01-20 05:20:49.263"
          ],
          [
           71,
           "2022-01-20 05:21:09.478"
          ],
          [
           71,
           "2022-01-20 05:21:29.680"
          ],
          [
           71,
           "2022-01-20 05:21:49.871"
          ],
          [
           71,
           "2022-01-20 05:22:10.078"
          ],
          [
           71,
           "2022-01-20 05:22:30.277"
          ],
          [
           71,
           "2022-01-20 05:22:50.483"
          ],
          [
           71,
           "2022-01-20 05:23:10.690"
          ],
          [
           71,
           "2022-01-20 05:23:30.917"
          ],
          [
           71,
           "2022-01-20 05:23:51.116"
          ],
          [
           71,
           "2022-01-20 05:24:11.326"
          ],
          [
           71,
           "2022-01-20 05:24:31.539"
          ],
          [
           72,
           "2022-01-20 05:24:51.759"
          ],
          [
           72,
           "2022-01-20 05:25:11.983"
          ],
          [
           72,
           "2022-01-20 05:25:32.182"
          ],
          [
           72,
           "2022-01-20 05:25:52.385"
          ],
          [
           72,
           "2022-01-20 05:26:12.588"
          ],
          [
           72,
           "2022-01-20 05:26:32.781"
          ],
          [
           72,
           "2022-01-20 05:26:52.961"
          ],
          [
           72,
           "2022-01-20 05:27:13.154"
          ],
          [
           72,
           "2022-01-20 05:27:33.365"
          ],
          [
           72,
           "2022-01-20 05:27:53.577"
          ],
          [
           72,
           "2022-01-20 05:28:13.763"
          ],
          [
           72,
           "2022-01-20 05:28:33.967"
          ],
          [
           72,
           "2022-01-20 05:28:54.157"
          ],
          [
           72,
           "2022-01-20 05:29:14.353"
          ],
          [
           72,
           "2022-01-20 05:29:34.553"
          ],
          [
           72,
           "2022-01-20 05:29:54.792"
          ],
          [
           72,
           "2022-01-20 05:30:15.022"
          ],
          [
           72,
           "2022-01-20 05:30:35.212"
          ],
          [
           72,
           "2022-01-20 05:30:55.395"
          ],
          [
           72,
           "2022-01-20 05:31:15.582"
          ],
          [
           72,
           "2022-01-20 05:31:35.761"
          ],
          [
           72,
           "2022-01-20 05:31:55.955"
          ],
          [
           72,
           "2022-01-20 05:32:16.148"
          ],
          [
           72,
           "2022-01-20 05:32:36.347"
          ],
          [
           72,
           "2022-01-20 05:32:56.567"
          ],
          [
           72,
           "2022-01-20 05:33:16.761"
          ],
          [
           72,
           "2022-01-20 05:33:36.954"
          ],
          [
           72,
           "2022-01-20 05:33:57.150"
          ],
          [
           72,
           "2022-01-20 05:34:17.369"
          ],
          [
           72,
           "2022-01-20 05:34:37.563"
          ],
          [
           72,
           "2022-01-20 05:34:57.776"
          ],
          [
           72,
           "2022-01-20 05:35:17.972"
          ],
          [
           72,
           "2022-01-20 05:35:38.189"
          ],
          [
           72,
           "2022-01-20 05:35:58.389"
          ],
          [
           72,
           "2022-01-20 05:36:18.602"
          ],
          [
           72,
           "2022-01-20 05:36:38.818"
          ],
          [
           72,
           "2022-01-20 05:36:59.031"
          ],
          [
           72,
           "2022-01-20 05:37:19.297"
          ],
          [
           72,
           "2022-01-20 05:37:39.474"
          ],
          [
           72,
           "2022-01-20 05:37:59.694"
          ],
          [
           72,
           "2022-01-20 05:38:19.920"
          ],
          [
           72,
           "2022-01-20 05:38:40.134"
          ],
          [
           72,
           "2022-01-20 05:39:00.363"
          ],
          [
           72,
           "2022-01-20 05:39:20.603"
          ],
          [
           72,
           "2022-01-20 05:39:40.799"
          ],
          [
           73,
           "2022-01-20 05:40:01.020"
          ],
          [
           73,
           "2022-01-20 05:40:21.236"
          ],
          [
           73,
           "2022-01-20 05:40:41.459"
          ],
          [
           73,
           "2022-01-20 05:41:01.692"
          ],
          [
           73,
           "2022-01-20 05:41:21.909"
          ],
          [
           73,
           "2022-01-20 05:41:42.128"
          ],
          [
           73,
           "2022-01-20 05:42:02.351"
          ],
          [
           73,
           "2022-01-20 05:42:22.558"
          ],
          [
           73,
           "2022-01-20 05:42:42.787"
          ],
          [
           73,
           "2022-01-20 05:43:02.974"
          ],
          [
           73,
           "2022-01-20 05:43:23.191"
          ],
          [
           73,
           "2022-01-20 05:43:43.384"
          ],
          [
           73,
           "2022-01-20 05:44:03.620"
          ],
          [
           73,
           "2022-01-20 05:44:23.833"
          ],
          [
           73,
           "2022-01-20 05:44:44.053"
          ],
          [
           73,
           "2022-01-20 05:45:04.273"
          ],
          [
           73,
           "2022-01-20 05:45:24.492"
          ],
          [
           73,
           "2022-01-20 05:45:44.726"
          ],
          [
           73,
           "2022-01-20 05:46:04.956"
          ],
          [
           73,
           "2022-01-20 05:46:25.189"
          ],
          [
           73,
           "2022-01-20 05:46:45.402"
          ],
          [
           73,
           "2022-01-20 05:47:05.634"
          ],
          [
           73,
           "2022-01-20 05:47:25.861"
          ],
          [
           73,
           "2022-01-20 05:47:46.094"
          ],
          [
           73,
           "2022-01-20 05:48:06.308"
          ],
          [
           73,
           "2022-01-20 05:48:26.537"
          ],
          [
           73,
           "2022-01-20 05:48:46.792"
          ],
          [
           73,
           "2022-01-20 05:49:06.967"
          ],
          [
           73,
           "2022-01-20 05:49:27.180"
          ],
          [
           73,
           "2022-01-20 05:49:47.403"
          ],
          [
           73,
           "2022-01-20 05:50:07.636"
          ],
          [
           73,
           "2022-01-20 05:50:27.856"
          ],
          [
           73,
           "2022-01-20 05:50:48.089"
          ],
          [
           73,
           "2022-01-20 05:51:08.322"
          ],
          [
           73,
           "2022-01-20 05:51:28.564"
          ],
          [
           73,
           "2022-01-20 05:51:48.785"
          ],
          [
           73,
           "2022-01-20 05:52:09.018"
          ],
          [
           73,
           "2022-01-20 05:52:29.251"
          ],
          [
           73,
           "2022-01-20 05:52:49.491"
          ],
          [
           73,
           "2022-01-20 05:53:09.731"
          ],
          [
           73,
           "2022-01-20 05:53:29.957"
          ],
          [
           73,
           "2022-01-20 05:53:50.195"
          ],
          [
           73,
           "2022-01-20 05:54:10.424"
          ],
          [
           73,
           "2022-01-20 05:54:30.657"
          ],
          [
           73,
           "2022-01-20 05:54:50.883"
          ],
          [
           74,
           "2022-01-20 05:55:11.103"
          ],
          [
           74,
           "2022-01-20 05:55:31.329"
          ],
          [
           74,
           "2022-01-20 05:55:51.533"
          ],
          [
           74,
           "2022-01-20 05:56:11.767"
          ],
          [
           74,
           "2022-01-20 05:56:31.969"
          ],
          [
           74,
           "2022-01-20 05:56:52.202"
          ],
          [
           74,
           "2022-01-20 05:57:12.442"
          ],
          [
           74,
           "2022-01-20 05:57:32.671"
          ],
          [
           74,
           "2022-01-20 05:57:52.901"
          ],
          [
           74,
           "2022-01-20 05:58:13.138"
          ],
          [
           74,
           "2022-01-20 05:58:33.377"
          ],
          [
           74,
           "2022-01-20 05:58:53.607"
          ],
          [
           74,
           "2022-01-20 05:59:13.827"
          ],
          [
           74,
           "2022-01-20 05:59:34.060"
          ],
          [
           74,
           "2022-01-20 05:59:54.296"
          ],
          [
           74,
           "2022-01-20 06:00:14.506"
          ],
          [
           74,
           "2022-01-20 06:00:34.726"
          ],
          [
           74,
           "2022-01-20 06:00:54.988"
          ],
          [
           74,
           "2022-01-20 06:01:15.183"
          ],
          [
           74,
           "2022-01-20 06:01:35.419"
          ],
          [
           74,
           "2022-01-20 06:01:55.687"
          ],
          [
           74,
           "2022-01-20 06:02:15.882"
          ],
          [
           74,
           "2022-01-20 06:02:36.122"
          ],
          [
           74,
           "2022-01-20 06:02:56.351"
          ],
          [
           74,
           "2022-01-20 06:03:16.584"
          ],
          [
           74,
           "2022-01-20 06:03:36.824"
          ],
          [
           74,
           "2022-01-20 06:03:57.021"
          ],
          [
           74,
           "2022-01-20 06:04:17.254"
          ],
          [
           74,
           "2022-01-20 06:04:37.490"
          ],
          [
           74,
           "2022-01-20 06:04:57.726"
          ],
          [
           74,
           "2022-01-20 06:05:17.940"
          ],
          [
           74,
           "2022-01-20 06:05:38.173"
          ],
          [
           74,
           "2022-01-20 06:05:58.406"
          ],
          [
           74,
           "2022-01-20 06:06:18.636"
          ],
          [
           74,
           "2022-01-20 06:06:38.859"
          ],
          [
           74,
           "2022-01-20 06:06:59.085"
          ],
          [
           74,
           "2022-01-20 06:07:19.305"
          ],
          [
           74,
           "2022-01-20 06:07:39.525"
          ],
          [
           74,
           "2022-01-20 06:07:59.748"
          ],
          [
           74,
           "2022-01-20 06:08:19.924"
          ],
          [
           74,
           "2022-01-20 06:08:40.152"
          ],
          [
           74,
           "2022-01-20 06:09:00.354"
          ],
          [
           74,
           "2022-01-20 06:09:20.584"
          ],
          [
           74,
           "2022-01-20 06:09:40.800"
          ],
          [
           75,
           "2022-01-20 06:10:01.017"
          ],
          [
           75,
           "2022-01-20 06:10:21.236"
          ],
          [
           75,
           "2022-01-20 06:10:41.449"
          ],
          [
           75,
           "2022-01-20 06:11:01.672"
          ],
          [
           75,
           "2022-01-20 06:11:21.906"
          ],
          [
           75,
           "2022-01-20 06:11:42.116"
          ],
          [
           75,
           "2022-01-20 06:12:02.339"
          ],
          [
           75,
           "2022-01-20 06:12:22.555"
          ],
          [
           75,
           "2022-01-20 06:12:42.774"
          ],
          [
           75,
           "2022-01-20 06:13:03.005"
          ],
          [
           75,
           "2022-01-20 06:13:23.201"
          ],
          [
           75,
           "2022-01-20 06:13:43.413"
          ],
          [
           75,
           "2022-01-20 06:14:03.627"
          ],
          [
           75,
           "2022-01-20 06:14:23.840"
          ],
          [
           75,
           "2022-01-20 06:14:44.054"
          ],
          [
           75,
           "2022-01-20 06:15:04.277"
          ],
          [
           75,
           "2022-01-20 06:15:24.514"
          ],
          [
           75,
           "2022-01-20 06:15:44.719"
          ],
          [
           75,
           "2022-01-20 06:16:04.946"
          ],
          [
           75,
           "2022-01-20 06:16:25.213"
          ],
          [
           75,
           "2022-01-20 06:16:45.414"
          ],
          [
           75,
           "2022-01-20 06:17:05.612"
          ],
          [
           75,
           "2022-01-20 06:17:25.864"
          ],
          [
           75,
           "2022-01-20 06:17:46.048"
          ],
          [
           75,
           "2022-01-20 06:18:06.271"
          ],
          [
           75,
           "2022-01-20 06:18:26.508"
          ],
          [
           75,
           "2022-01-20 06:18:46.724"
          ],
          [
           75,
           "2022-01-20 06:19:06.950"
          ],
          [
           75,
           "2022-01-20 06:19:27.215"
          ],
          [
           75,
           "2022-01-20 06:19:47.400"
          ],
          [
           75,
           "2022-01-20 06:20:07.579"
          ],
          [
           75,
           "2022-01-20 06:20:27.801"
          ],
          [
           75,
           "2022-01-20 06:20:48.026"
          ],
          [
           75,
           "2022-01-20 06:21:08.262"
          ],
          [
           75,
           "2022-01-20 06:21:28.478"
          ],
          [
           75,
           "2022-01-20 06:21:48.702"
          ],
          [
           75,
           "2022-01-20 06:22:08.922"
          ],
          [
           75,
           "2022-01-20 06:22:29.152"
          ],
          [
           75,
           "2022-01-20 06:22:49.368"
          ],
          [
           75,
           "2022-01-20 06:23:09.602"
          ],
          [
           75,
           "2022-01-20 06:23:29.795"
          ],
          [
           75,
           "2022-01-20 06:23:50.001"
          ],
          [
           75,
           "2022-01-20 06:24:10.227"
          ],
          [
           75,
           "2022-01-20 06:24:30.444"
          ],
          [
           75,
           "2022-01-20 06:24:50.663"
          ],
          [
           76,
           "2022-01-20 06:25:10.887"
          ],
          [
           76,
           "2022-01-20 06:25:31.116"
          ],
          [
           76,
           "2022-01-20 06:25:51.336"
          ],
          [
           76,
           "2022-01-20 06:26:11.553"
          ],
          [
           76,
           "2022-01-20 06:26:31.773"
          ],
          [
           76,
           "2022-01-20 06:26:51.999"
          ],
          [
           76,
           "2022-01-20 06:27:12.222"
          ],
          [
           76,
           "2022-01-20 06:27:32.452"
          ],
          [
           76,
           "2022-01-20 06:27:52.665"
          ],
          [
           76,
           "2022-01-20 06:28:12.885"
          ],
          [
           76,
           "2022-01-20 06:28:33.101"
          ],
          [
           76,
           "2022-01-20 06:28:53.321"
          ],
          [
           76,
           "2022-01-20 06:29:13.551"
          ],
          [
           76,
           "2022-01-20 06:29:33.770"
          ],
          [
           76,
           "2022-01-20 06:29:53.988"
          ],
          [
           76,
           "2022-01-20 06:30:14.207"
          ],
          [
           76,
           "2022-01-20 06:30:34.423"
          ],
          [
           76,
           "2022-01-20 06:30:54.647"
          ],
          [
           76,
           "2022-01-20 06:31:14.879"
          ],
          [
           76,
           "2022-01-20 06:31:35.093"
          ],
          [
           76,
           "2022-01-20 06:31:55.312"
          ],
          [
           76,
           "2022-01-20 06:32:15.529"
          ],
          [
           76,
           "2022-01-20 06:32:35.745"
          ],
          [
           76,
           "2022-01-20 06:32:55.982"
          ],
          [
           76,
           "2022-01-20 06:33:16.196"
          ],
          [
           76,
           "2022-01-20 06:33:36.411"
          ],
          [
           76,
           "2022-01-20 06:33:56.696"
          ],
          [
           76,
           "2022-01-20 06:34:16.851"
          ],
          [
           76,
           "2022-01-20 06:34:37.071"
          ],
          [
           76,
           "2022-01-20 06:34:57.310"
          ],
          [
           76,
           "2022-01-20 06:35:17.520"
          ],
          [
           76,
           "2022-01-20 06:35:37.747"
          ],
          [
           76,
           "2022-01-20 06:35:57.956"
          ],
          [
           76,
           "2022-01-20 06:36:18.176"
          ],
          [
           76,
           "2022-01-20 06:36:38.413"
          ],
          [
           76,
           "2022-01-20 06:36:58.619"
          ],
          [
           76,
           "2022-01-20 06:37:18.839"
          ],
          [
           76,
           "2022-01-20 06:37:39.057"
          ],
          [
           76,
           "2022-01-20 06:37:59.272"
          ],
          [
           76,
           "2022-01-20 06:38:19.492"
          ],
          [
           76,
           "2022-01-20 06:38:39.710"
          ],
          [
           76,
           "2022-01-20 06:38:59.918"
          ],
          [
           76,
           "2022-01-20 06:39:20.121"
          ],
          [
           76,
           "2022-01-20 06:39:40.334"
          ],
          [
           77,
           "2022-01-20 06:40:00.524"
          ],
          [
           77,
           "2022-01-20 06:40:20.714"
          ],
          [
           77,
           "2022-01-20 06:40:40.896"
          ],
          [
           77,
           "2022-01-20 06:41:01.080"
          ],
          [
           77,
           "2022-01-20 06:41:21.260"
          ],
          [
           77,
           "2022-01-20 06:41:41.463"
          ],
          [
           77,
           "2022-01-20 06:42:02.152"
          ],
          [
           77,
           "2022-01-20 06:42:22.356"
          ],
          [
           77,
           "2022-01-20 06:42:42.568"
          ],
          [
           77,
           "2022-01-20 06:43:02.778"
          ],
          [
           77,
           "2022-01-20 06:43:22.972"
          ],
          [
           77,
           "2022-01-20 06:43:43.168"
          ],
          [
           77,
           "2022-01-20 06:44:03.368"
          ],
          [
           77,
           "2022-01-20 06:44:23.548"
          ],
          [
           77,
           "2022-01-20 06:44:43.729"
          ],
          [
           77,
           "2022-01-20 06:45:03.924"
          ],
          [
           77,
           "2022-01-20 06:45:24.104"
          ],
          [
           77,
           "2022-01-20 06:45:44.287"
          ],
          [
           77,
           "2022-01-20 06:46:04.490"
          ],
          [
           77,
           "2022-01-20 06:46:24.663"
          ],
          [
           77,
           "2022-01-20 06:46:44.856"
          ],
          [
           77,
           "2022-01-20 06:47:05.036"
          ],
          [
           77,
           "2022-01-20 06:47:25.222"
          ],
          [
           77,
           "2022-01-20 06:47:45.431"
          ],
          [
           77,
           "2022-01-20 06:48:05.598"
          ],
          [
           77,
           "2022-01-20 06:48:25.775"
          ],
          [
           77,
           "2022-01-20 06:48:45.965"
          ],
          [
           77,
           "2022-01-20 06:49:06.148"
          ],
          [
           77,
           "2022-01-20 06:49:26.328"
          ],
          [
           77,
           "2022-01-20 06:49:46.519"
          ],
          [
           77,
           "2022-01-20 06:50:06.697"
          ],
          [
           77,
           "2022-01-20 06:50:26.877"
          ],
          [
           77,
           "2022-01-20 06:50:47.068"
          ],
          [
           77,
           "2022-01-20 06:51:07.257"
          ],
          [
           77,
           "2022-01-20 06:51:27.443"
          ],
          [
           77,
           "2022-01-20 06:51:47.629"
          ],
          [
           77,
           "2022-01-20 06:52:07.820"
          ],
          [
           77,
           "2022-01-20 06:52:28.006"
          ],
          [
           77,
           "2022-01-20 06:52:48.182"
          ],
          [
           77,
           "2022-01-20 06:53:08.362"
          ],
          [
           77,
           "2022-01-20 06:53:28.558"
          ],
          [
           77,
           "2022-01-20 06:53:48.728"
          ],
          [
           77,
           "2022-01-20 06:54:08.905"
          ],
          [
           77,
           "2022-01-20 06:54:29.081"
          ],
          [
           77,
           "2022-01-20 06:54:49.251"
          ],
          [
           78,
           "2022-01-20 06:55:09.454"
          ],
          [
           78,
           "2022-01-20 06:55:29.630"
          ],
          [
           78,
           "2022-01-20 06:55:49.813"
          ],
          [
           78,
           "2022-01-20 06:56:10.020"
          ],
          [
           78,
           "2022-01-20 06:56:30.200"
          ],
          [
           78,
           "2022-01-20 06:56:50.393"
          ],
          [
           78,
           "2022-01-20 06:57:10.596"
          ],
          [
           78,
           "2022-01-20 06:57:30.782"
          ],
          [
           78,
           "2022-01-20 06:57:50.972"
          ],
          [
           78,
           "2022-01-20 06:58:11.185"
          ],
          [
           78,
           "2022-01-20 06:58:31.381"
          ],
          [
           78,
           "2022-01-20 06:58:51.585"
          ],
          [
           78,
           "2022-01-20 06:59:11.788"
          ],
          [
           78,
           "2022-01-20 06:59:32.002"
          ],
          [
           78,
           "2022-01-20 06:59:52.194"
          ],
          [
           78,
           "2022-01-20 07:00:12.410"
          ],
          [
           78,
           "2022-01-20 07:00:32.601"
          ],
          [
           78,
           "2022-01-20 07:00:52.817"
          ],
          [
           78,
           "2022-01-20 07:01:13.007"
          ],
          [
           78,
           "2022-01-20 07:01:33.207"
          ],
          [
           78,
           "2022-01-20 07:01:53.410"
          ],
          [
           78,
           "2022-01-20 07:02:13.619"
          ],
          [
           78,
           "2022-01-20 07:02:33.826"
          ],
          [
           78,
           "2022-01-20 07:02:54.029"
          ],
          [
           78,
           "2022-01-20 07:03:14.253"
          ],
          [
           78,
           "2022-01-20 07:03:34.452"
          ],
          [
           78,
           "2022-01-20 07:03:54.655"
          ],
          [
           78,
           "2022-01-20 07:04:14.848"
          ],
          [
           78,
           "2022-01-20 07:04:35.061"
          ],
          [
           78,
           "2022-01-20 07:04:55.261"
          ],
          [
           78,
           "2022-01-20 07:05:15.474"
          ],
          [
           78,
           "2022-01-20 07:05:35.670"
          ],
          [
           78,
           "2022-01-20 07:05:55.877"
          ],
          [
           78,
           "2022-01-20 07:06:16.057"
          ],
          [
           78,
           "2022-01-20 07:06:36.250"
          ],
          [
           78,
           "2022-01-20 07:06:56.433"
          ],
          [
           78,
           "2022-01-20 07:07:16.704"
          ],
          [
           78,
           "2022-01-20 07:07:36.843"
          ],
          [
           78,
           "2022-01-20 07:07:56.996"
          ],
          [
           78,
           "2022-01-20 07:08:17.189"
          ],
          [
           78,
           "2022-01-20 07:08:37.375"
          ],
          [
           78,
           "2022-01-20 07:08:57.558"
          ],
          [
           78,
           "2022-01-20 07:09:17.738"
          ],
          [
           78,
           "2022-01-20 07:09:37.944"
          ],
          [
           79,
           "2022-01-20 07:09:58.128"
          ],
          [
           79,
           "2022-01-20 07:10:18.317"
          ],
          [
           79,
           "2022-01-20 07:10:38.520"
          ],
          [
           79,
           "2022-01-20 07:10:58.717"
          ],
          [
           79,
           "2022-01-20 07:11:18.920"
          ],
          [
           79,
           "2022-01-20 07:11:39.120"
          ],
          [
           79,
           "2022-01-20 07:11:59.333"
          ],
          [
           79,
           "2022-01-20 07:12:19.496"
          ],
          [
           79,
           "2022-01-20 07:12:39.743"
          ],
          [
           79,
           "2022-01-20 07:12:59.902"
          ],
          [
           79,
           "2022-01-20 07:13:20.106"
          ],
          [
           79,
           "2022-01-20 07:13:40.315"
          ],
          [
           79,
           "2022-01-20 07:14:00.515"
          ],
          [
           79,
           "2022-01-20 07:14:20.715"
          ],
          [
           79,
           "2022-01-20 07:14:40.921"
          ],
          [
           79,
           "2022-01-20 07:15:01.118"
          ],
          [
           79,
           "2022-01-20 07:15:21.321"
          ],
          [
           79,
           "2022-01-20 07:15:41.520"
          ],
          [
           79,
           "2022-01-20 07:16:01.723"
          ],
          [
           79,
           "2022-01-20 07:16:21.923"
          ],
          [
           79,
           "2022-01-20 07:16:42.127"
          ],
          [
           79,
           "2022-01-20 07:17:02.326"
          ],
          [
           79,
           "2022-01-20 07:17:22.543"
          ],
          [
           79,
           "2022-01-20 07:17:42.739"
          ],
          [
           79,
           "2022-01-20 07:18:02.932"
          ],
          [
           79,
           "2022-01-20 07:18:23.148"
          ],
          [
           79,
           "2022-01-20 07:18:43.342"
          ],
          [
           79,
           "2022-01-20 07:19:03.589"
          ],
          [
           79,
           "2022-01-20 07:19:23.745"
          ],
          [
           79,
           "2022-01-20 07:19:43.954"
          ],
          [
           79,
           "2022-01-20 07:20:04.138"
          ],
          [
           79,
           "2022-01-20 07:20:24.331"
          ],
          [
           79,
           "2022-01-20 07:20:44.540"
          ],
          [
           79,
           "2022-01-20 07:21:04.704"
          ],
          [
           79,
           "2022-01-20 07:21:24.890"
          ],
          [
           79,
           "2022-01-20 07:21:45.087"
          ],
          [
           79,
           "2022-01-20 07:22:05.263"
          ],
          [
           79,
           "2022-01-20 07:22:25.446"
          ],
          [
           79,
           "2022-01-20 07:22:45.636"
          ],
          [
           79,
           "2022-01-20 07:23:05.832"
          ],
          [
           79,
           "2022-01-20 07:23:26.019"
          ],
          [
           79,
           "2022-01-20 07:23:46.232"
          ],
          [
           79,
           "2022-01-20 07:24:06.412"
          ],
          [
           79,
           "2022-01-20 07:24:26.612"
          ],
          [
           79,
           "2022-01-20 07:24:46.818"
          ],
          [
           80,
           "2022-01-20 07:25:07.011"
          ],
          [
           80,
           "2022-01-20 07:25:27.191"
          ],
          [
           80,
           "2022-01-20 07:25:47.391"
          ],
          [
           80,
           "2022-01-20 07:26:07.577"
          ],
          [
           80,
           "2022-01-20 07:26:27.784"
          ],
          [
           80,
           "2022-01-20 07:26:47.980"
          ],
          [
           80,
           "2022-01-20 07:27:08.186"
          ],
          [
           80,
           "2022-01-20 07:27:28.393"
          ],
          [
           80,
           "2022-01-20 07:27:48.593"
          ],
          [
           80,
           "2022-01-20 07:28:08.796"
          ],
          [
           80,
           "2022-01-20 07:28:29.005"
          ],
          [
           80,
           "2022-01-20 07:28:49.198"
          ],
          [
           80,
           "2022-01-20 07:29:09.420"
          ],
          [
           80,
           "2022-01-20 07:29:29.621"
          ],
          [
           80,
           "2022-01-20 07:29:49.774"
          ],
          [
           80,
           "2022-01-20 07:30:09.961"
          ],
          [
           80,
           "2022-01-20 07:30:30.151"
          ],
          [
           80,
           "2022-01-20 07:30:50.367"
          ],
          [
           80,
           "2022-01-20 07:31:10.524"
          ],
          [
           80,
           "2022-01-20 07:31:30.710"
          ],
          [
           80,
           "2022-01-20 07:31:50.904"
          ],
          [
           80,
           "2022-01-20 07:32:11.080"
          ],
          [
           80,
           "2022-01-20 07:32:31.249"
          ],
          [
           80,
           "2022-01-20 07:32:51.433"
          ],
          [
           80,
           "2022-01-20 07:33:11.621"
          ],
          [
           80,
           "2022-01-20 07:33:31.796"
          ],
          [
           80,
           "2022-01-20 07:33:51.985"
          ],
          [
           80,
           "2022-01-20 07:34:12.182"
          ],
          [
           80,
           "2022-01-20 07:34:32.390"
          ],
          [
           80,
           "2022-01-20 07:34:52.585"
          ],
          [
           80,
           "2022-01-20 07:35:12.815"
          ],
          [
           80,
           "2022-01-20 07:35:33.017"
          ],
          [
           80,
           "2022-01-20 07:35:53.219"
          ],
          [
           80,
           "2022-01-20 07:36:13.401"
          ],
          [
           80,
           "2022-01-20 07:36:33.614"
          ],
          [
           80,
           "2022-01-20 07:36:53.807"
          ],
          [
           80,
           "2022-01-20 07:37:13.981"
          ],
          [
           80,
           "2022-01-20 07:37:34.183"
          ],
          [
           80,
           "2022-01-20 07:37:54.383"
          ],
          [
           80,
           "2022-01-20 07:38:14.601"
          ],
          [
           80,
           "2022-01-20 07:38:34.793"
          ],
          [
           80,
           "2022-01-20 07:38:54.993"
          ],
          [
           80,
           "2022-01-20 07:39:15.196"
          ],
          [
           80,
           "2022-01-20 07:39:35.400"
          ],
          [
           81,
           "2022-01-20 07:39:55.595"
          ],
          [
           81,
           "2022-01-20 07:40:15.787"
          ],
          [
           81,
           "2022-01-20 07:40:35.982"
          ],
          [
           81,
           "2022-01-20 07:40:56.174"
          ],
          [
           81,
           "2022-01-20 07:41:16.366"
          ],
          [
           81,
           "2022-01-20 07:41:36.548"
          ],
          [
           81,
           "2022-01-20 07:41:56.735"
          ],
          [
           81,
           "2022-01-20 07:42:16.927"
          ],
          [
           81,
           "2022-01-20 07:42:37.110"
          ],
          [
           81,
           "2022-01-20 07:42:57.298"
          ],
          [
           81,
           "2022-01-20 07:43:17.489"
          ],
          [
           81,
           "2022-01-20 07:43:37.695"
          ],
          [
           81,
           "2022-01-20 07:43:57.880"
          ],
          [
           81,
           "2022-01-20 07:44:18.067"
          ],
          [
           81,
           "2022-01-20 07:44:38.264"
          ],
          [
           81,
           "2022-01-20 07:44:58.459"
          ],
          [
           81,
           "2022-01-20 07:45:18.652"
          ],
          [
           81,
           "2022-01-20 07:45:38.865"
          ],
          [
           81,
           "2022-01-20 07:45:59.052"
          ],
          [
           81,
           "2022-01-20 07:46:19.245"
          ],
          [
           81,
           "2022-01-20 07:46:39.457"
          ],
          [
           81,
           "2022-01-20 07:46:59.642"
          ],
          [
           81,
           "2022-01-20 07:47:19.837"
          ],
          [
           81,
           "2022-01-20 07:47:40.036"
          ],
          [
           81,
           "2022-01-20 07:48:00.241"
          ],
          [
           81,
           "2022-01-20 07:48:20.433"
          ],
          [
           81,
           "2022-01-20 07:48:40.632"
          ],
          [
           81,
           "2022-01-20 07:49:00.841"
          ],
          [
           81,
           "2022-01-20 07:49:21.027"
          ],
          [
           81,
           "2022-01-20 07:49:41.217"
          ],
          [
           81,
           "2022-01-20 07:50:01.431"
          ],
          [
           81,
           "2022-01-20 07:50:21.609"
          ],
          [
           81,
           "2022-01-20 07:50:41.811"
          ],
          [
           81,
           "2022-01-20 07:51:02.004"
          ],
          [
           81,
           "2022-01-20 07:51:22.199"
          ],
          [
           81,
           "2022-01-20 07:51:42.381"
          ],
          [
           81,
           "2022-01-20 07:52:02.577"
          ],
          [
           81,
           "2022-01-20 07:52:22.766"
          ],
          [
           81,
           "2022-01-20 07:52:42.944"
          ],
          [
           81,
           "2022-01-20 07:53:03.143"
          ],
          [
           81,
           "2022-01-20 07:53:23.342"
          ],
          [
           81,
           "2022-01-20 07:53:43.548"
          ],
          [
           81,
           "2022-01-20 07:54:03.743"
          ],
          [
           81,
           "2022-01-20 07:54:23.972"
          ],
          [
           81,
           "2022-01-20 07:54:44.198"
          ],
          [
           82,
           "2022-01-20 07:55:04.359"
          ],
          [
           82,
           "2022-01-20 07:55:24.556"
          ],
          [
           82,
           "2022-01-20 07:55:44.789"
          ],
          [
           82,
           "2022-01-20 07:56:04.967"
          ],
          [
           82,
           "2022-01-20 07:56:25.166"
          ],
          [
           82,
           "2022-01-20 07:56:45.392"
          ],
          [
           82,
           "2022-01-20 07:57:05.578"
          ],
          [
           82,
           "2022-01-20 07:57:25.781"
          ],
          [
           82,
           "2022-01-20 07:57:45.986"
          ],
          [
           82,
           "2022-01-20 07:58:06.199"
          ],
          [
           82,
           "2022-01-20 07:58:26.393"
          ],
          [
           82,
           "2022-01-20 07:58:46.594"
          ],
          [
           82,
           "2022-01-20 07:59:06.792"
          ],
          [
           82,
           "2022-01-20 07:59:27.000"
          ],
          [
           82,
           "2022-01-20 07:59:47.239"
          ],
          [
           82,
           "2022-01-20 08:00:07.402"
          ],
          [
           82,
           "2022-01-20 08:00:27.612"
          ],
          [
           82,
           "2022-01-20 08:00:47.811"
          ],
          [
           82,
           "2022-01-20 08:01:08.011"
          ],
          [
           82,
           "2022-01-20 08:01:28.208"
          ],
          [
           82,
           "2022-01-20 08:01:48.429"
          ],
          [
           82,
           "2022-01-20 08:02:08.613"
          ],
          [
           82,
           "2022-01-20 08:02:28.807"
          ],
          [
           82,
           "2022-01-20 08:02:49.013"
          ],
          [
           82,
           "2022-01-20 08:03:09.225"
          ],
          [
           82,
           "2022-01-20 08:03:29.413"
          ],
          [
           82,
           "2022-01-20 08:03:49.596"
          ],
          [
           82,
           "2022-01-20 08:04:09.786"
          ],
          [
           82,
           "2022-01-20 08:04:29.965"
          ],
          [
           82,
           "2022-01-20 08:04:50.155"
          ],
          [
           82,
           "2022-01-20 08:05:10.353"
          ],
          [
           82,
           "2022-01-20 08:05:30.557"
          ],
          [
           82,
           "2022-01-20 08:05:50.773"
          ],
          [
           82,
           "2022-01-20 08:06:10.945"
          ],
          [
           82,
           "2022-01-20 08:06:31.146"
          ],
          [
           82,
           "2022-01-20 08:06:51.341"
          ],
          [
           82,
           "2022-01-20 08:07:11.545"
          ],
          [
           82,
           "2022-01-20 08:07:31.729"
          ],
          [
           82,
           "2022-01-20 08:07:51.924"
          ],
          [
           82,
           "2022-01-20 08:08:12.133"
          ],
          [
           82,
           "2022-01-20 08:08:32.341"
          ],
          [
           82,
           "2022-01-20 08:08:52.558"
          ],
          [
           82,
           "2022-01-20 08:09:12.750"
          ],
          [
           82,
           "2022-01-20 08:09:32.976"
          ],
          [
           83,
           "2022-01-20 08:09:53.176"
          ],
          [
           83,
           "2022-01-20 08:10:13.383"
          ],
          [
           83,
           "2022-01-20 08:10:33.587"
          ],
          [
           83,
           "2022-01-20 08:10:53.795"
          ],
          [
           83,
           "2022-01-20 08:11:14.008"
          ],
          [
           83,
           "2022-01-20 08:11:34.248"
          ],
          [
           83,
           "2022-01-20 08:11:54.412"
          ],
          [
           83,
           "2022-01-20 08:12:14.621"
          ],
          [
           83,
           "2022-01-20 08:12:34.828"
          ],
          [
           83,
           "2022-01-20 08:12:55.042"
          ],
          [
           83,
           "2022-01-20 08:13:15.238"
          ],
          [
           83,
           "2022-01-20 08:13:35.457"
          ],
          [
           83,
           "2022-01-20 08:13:55.663"
          ],
          [
           83,
           "2022-01-20 08:14:15.867"
          ],
          [
           83,
           "2022-01-20 08:14:36.068"
          ],
          [
           83,
           "2022-01-20 08:14:56.276"
          ],
          [
           83,
           "2022-01-20 08:15:16.491"
          ],
          [
           83,
           "2022-01-20 08:15:36.714"
          ],
          [
           83,
           "2022-01-20 08:15:56.895"
          ],
          [
           83,
           "2022-01-20 08:16:17.105"
          ],
          [
           83,
           "2022-01-20 08:16:37.305"
          ],
          [
           83,
           "2022-01-20 08:16:57.511"
          ],
          [
           83,
           "2022-01-20 08:17:17.707"
          ],
          [
           83,
           "2022-01-20 08:17:37.927"
          ],
          [
           83,
           "2022-01-20 08:17:58.118"
          ],
          [
           83,
           "2022-01-20 08:18:18.325"
          ],
          [
           83,
           "2022-01-20 08:18:38.520"
          ],
          [
           83,
           "2022-01-20 08:18:58.727"
          ],
          [
           83,
           "2022-01-20 08:19:18.963"
          ],
          [
           83,
           "2022-01-20 08:19:39.105"
          ],
          [
           83,
           "2022-01-20 08:19:59.318"
          ],
          [
           83,
           "2022-01-20 08:20:19.497"
          ],
          [
           83,
           "2022-01-20 08:20:39.684"
          ],
          [
           83,
           "2022-01-20 08:20:59.872"
          ],
          [
           83,
           "2022-01-20 08:21:20.066"
          ],
          [
           83,
           "2022-01-20 08:21:40.241"
          ],
          [
           83,
           "2022-01-20 08:22:00.433"
          ],
          [
           83,
           "2022-01-20 08:22:20.621"
          ],
          [
           83,
           "2022-01-20 08:22:40.807"
          ],
          [
           83,
           "2022-01-20 08:23:01.003"
          ],
          [
           83,
           "2022-01-20 08:23:21.185"
          ],
          [
           83,
           "2022-01-20 08:23:41.371"
          ],
          [
           83,
           "2022-01-20 08:24:01.567"
          ],
          [
           83,
           "2022-01-20 08:24:21.758"
          ],
          [
           83,
           "2022-01-20 08:24:41.959"
          ],
          [
           84,
           "2022-01-20 08:25:02.137"
          ],
          [
           84,
           "2022-01-20 08:25:22.321"
          ],
          [
           84,
           "2022-01-20 08:25:42.519"
          ],
          [
           84,
           "2022-01-20 08:26:02.762"
          ],
          [
           84,
           "2022-01-20 08:26:22.903"
          ],
          [
           84,
           "2022-01-20 08:26:43.092"
          ],
          [
           84,
           "2022-01-20 08:27:03.293"
          ],
          [
           84,
           "2022-01-20 08:27:23.461"
          ],
          [
           84,
           "2022-01-20 08:27:43.657"
          ],
          [
           84,
           "2022-01-20 08:28:03.845"
          ],
          [
           84,
           "2022-01-20 08:28:24.016"
          ],
          [
           84,
           "2022-01-20 08:28:44.215"
          ],
          [
           84,
           "2022-01-20 08:29:04.401"
          ],
          [
           84,
           "2022-01-20 08:29:24.606"
          ],
          [
           84,
           "2022-01-20 08:29:44.764"
          ],
          [
           84,
           "2022-01-20 08:30:04.946"
          ],
          [
           84,
           "2022-01-20 08:30:25.126"
          ],
          [
           84,
           "2022-01-20 08:30:45.305"
          ],
          [
           84,
           "2022-01-20 08:31:05.482"
          ],
          [
           84,
           "2022-01-20 08:31:25.677"
          ],
          [
           84,
           "2022-01-20 08:31:45.893"
          ],
          [
           84,
           "2022-01-20 08:32:06.035"
          ],
          [
           84,
           "2022-01-20 08:32:26.227"
          ],
          [
           84,
           "2022-01-20 08:32:46.408"
          ],
          [
           84,
           "2022-01-20 08:33:06.597"
          ],
          [
           84,
           "2022-01-20 08:33:26.786"
          ],
          [
           84,
           "2022-01-20 08:33:46.983"
          ],
          [
           84,
           "2022-01-20 08:34:07.209"
          ],
          [
           84,
           "2022-01-20 08:34:27.442"
          ],
          [
           84,
           "2022-01-20 08:34:47.598"
          ],
          [
           84,
           "2022-01-20 08:35:07.800"
          ],
          [
           84,
           "2022-01-20 08:35:28.017"
          ],
          [
           84,
           "2022-01-20 08:35:48.232"
          ],
          [
           84,
           "2022-01-20 08:36:08.446"
          ],
          [
           84,
           "2022-01-20 08:36:28.665"
          ],
          [
           84,
           "2022-01-20 08:36:48.879"
          ],
          [
           84,
           "2022-01-20 08:37:09.101"
          ],
          [
           84,
           "2022-01-20 08:37:29.325"
          ],
          [
           84,
           "2022-01-20 08:37:49.540"
          ],
          [
           84,
           "2022-01-20 08:38:09.759"
          ],
          [
           84,
           "2022-01-20 08:38:29.973"
          ],
          [
           84,
           "2022-01-20 08:38:50.198"
          ],
          [
           84,
           "2022-01-20 08:39:10.414"
          ],
          [
           84,
           "2022-01-20 08:39:30.634"
          ],
          [
           84,
           "2022-01-20 08:39:50.853"
          ],
          [
           85,
           "2022-01-20 08:40:11.081"
          ],
          [
           85,
           "2022-01-20 08:40:31.289"
          ],
          [
           85,
           "2022-01-20 08:40:51.540"
          ],
          [
           85,
           "2022-01-20 08:41:11.747"
          ],
          [
           85,
           "2022-01-20 08:41:31.949"
          ],
          [
           85,
           "2022-01-20 08:41:52.167"
          ],
          [
           85,
           "2022-01-20 08:42:12.388"
          ],
          [
           85,
           "2022-01-20 08:42:32.600"
          ],
          [
           85,
           "2022-01-20 08:42:52.831"
          ],
          [
           85,
           "2022-01-20 08:43:13.049"
          ],
          [
           85,
           "2022-01-20 08:43:33.263"
          ],
          [
           85,
           "2022-01-20 08:43:53.476"
          ],
          [
           85,
           "2022-01-20 08:44:13.696"
          ],
          [
           85,
           "2022-01-20 08:44:33.927"
          ],
          [
           85,
           "2022-01-20 08:44:54.142"
          ],
          [
           85,
           "2022-01-20 08:45:14.364"
          ],
          [
           85,
           "2022-01-20 08:45:34.583"
          ],
          [
           85,
           "2022-01-20 08:45:54.798"
          ],
          [
           85,
           "2022-01-20 08:46:15.019"
          ],
          [
           85,
           "2022-01-20 08:46:35.259"
          ],
          [
           85,
           "2022-01-20 08:46:55.481"
          ],
          [
           85,
           "2022-01-20 08:47:15.686"
          ],
          [
           85,
           "2022-01-20 08:47:35.903"
          ],
          [
           85,
           "2022-01-20 08:47:56.125"
          ],
          [
           85,
           "2022-01-20 08:48:16.351"
          ],
          [
           85,
           "2022-01-20 08:48:36.568"
          ],
          [
           85,
           "2022-01-20 08:48:56.792"
          ],
          [
           85,
           "2022-01-20 08:49:17.029"
          ],
          [
           85,
           "2022-01-20 08:49:37.260"
          ],
          [
           85,
           "2022-01-20 08:49:57.478"
          ],
          [
           85,
           "2022-01-20 08:50:17.731"
          ],
          [
           85,
           "2022-01-20 08:50:37.941"
          ],
          [
           85,
           "2022-01-20 08:50:58.142"
          ],
          [
           85,
           "2022-01-20 08:51:18.367"
          ],
          [
           85,
           "2022-01-20 08:51:38.575"
          ],
          [
           85,
           "2022-01-20 08:51:58.801"
          ],
          [
           85,
           "2022-01-20 08:52:19.028"
          ],
          [
           85,
           "2022-01-20 08:52:39.241"
          ],
          [
           85,
           "2022-01-20 08:52:59.459"
          ],
          [
           85,
           "2022-01-20 08:53:19.679"
          ],
          [
           85,
           "2022-01-20 08:53:39.898"
          ],
          [
           85,
           "2022-01-20 08:54:00.127"
          ],
          [
           85,
           "2022-01-20 08:54:20.351"
          ],
          [
           85,
           "2022-01-20 08:54:40.537"
          ],
          [
           86,
           "2022-01-20 08:55:00.753"
          ],
          [
           86,
           "2022-01-20 08:55:20.946"
          ],
          [
           86,
           "2022-01-20 08:55:41.160"
          ],
          [
           86,
           "2022-01-20 08:56:01.389"
          ],
          [
           86,
           "2022-01-20 08:56:21.569"
          ],
          [
           86,
           "2022-01-20 08:56:41.793"
          ],
          [
           86,
           "2022-01-20 08:57:02.019"
          ],
          [
           86,
           "2022-01-20 08:57:22.262"
          ],
          [
           86,
           "2022-01-20 08:57:42.452"
          ],
          [
           86,
           "2022-01-20 08:58:02.674"
          ],
          [
           86,
           "2022-01-20 08:58:22.878"
          ],
          [
           86,
           "2022-01-20 08:58:43.084"
          ],
          [
           86,
           "2022-01-20 08:59:03.297"
          ],
          [
           86,
           "2022-01-20 08:59:23.504"
          ],
          [
           86,
           "2022-01-20 08:59:43.720"
          ],
          [
           86,
           "2022-01-20 09:00:03.917"
          ],
          [
           86,
           "2022-01-20 09:00:24.140"
          ],
          [
           86,
           "2022-01-20 09:00:44.365"
          ],
          [
           86,
           "2022-01-20 09:01:04.573"
          ],
          [
           86,
           "2022-01-20 09:01:24.793"
          ],
          [
           86,
           "2022-01-20 09:01:45.022"
          ],
          [
           86,
           "2022-01-20 09:02:05.229"
          ],
          [
           86,
           "2022-01-20 09:02:25.462"
          ],
          [
           86,
           "2022-01-20 09:02:45.675"
          ],
          [
           86,
           "2022-01-20 09:03:05.891"
          ],
          [
           86,
           "2022-01-20 09:03:26.108"
          ],
          [
           86,
           "2022-01-20 09:03:46.328"
          ],
          [
           86,
           "2022-01-20 09:04:06.544"
          ],
          [
           86,
           "2022-01-20 09:04:26.777"
          ],
          [
           86,
           "2022-01-20 09:04:46.987"
          ],
          [
           86,
           "2022-01-20 09:05:07.215"
          ],
          [
           86,
           "2022-01-20 09:05:27.427"
          ],
          [
           86,
           "2022-01-20 09:05:47.646"
          ],
          [
           86,
           "2022-01-20 09:06:07.834"
          ],
          [
           86,
           "2022-01-20 09:06:28.055"
          ],
          [
           86,
           "2022-01-20 09:06:48.286"
          ],
          [
           86,
           "2022-01-20 09:07:08.502"
          ],
          [
           86,
           "2022-01-20 09:07:28.722"
          ],
          [
           86,
           "2022-01-20 09:07:48.936"
          ],
          [
           86,
           "2022-01-20 09:08:09.156"
          ],
          [
           86,
           "2022-01-20 09:08:29.386"
          ],
          [
           86,
           "2022-01-20 09:08:49.601"
          ],
          [
           86,
           "2022-01-20 09:09:09.823"
          ],
          [
           86,
           "2022-01-20 09:09:30.051"
          ],
          [
           86,
           "2022-01-20 09:09:50.264"
          ],
          [
           87,
           "2022-01-20 09:10:10.499"
          ],
          [
           87,
           "2022-01-20 09:10:30.704"
          ],
          [
           87,
           "2022-01-20 09:10:50.940"
          ],
          [
           87,
           "2022-01-20 09:11:11.166"
          ],
          [
           87,
           "2022-01-20 09:11:31.399"
          ],
          [
           87,
           "2022-01-20 09:11:51.646"
          ],
          [
           87,
           "2022-01-20 09:12:11.873"
          ],
          [
           87,
           "2022-01-20 09:12:32.099"
          ],
          [
           87,
           "2022-01-20 09:12:52.322"
          ],
          [
           87,
           "2022-01-20 09:13:12.534"
          ],
          [
           87,
           "2022-01-20 09:13:32.755"
          ],
          [
           87,
           "2022-01-20 09:13:52.985"
          ],
          [
           87,
           "2022-01-20 09:14:13.195"
          ],
          [
           87,
           "2022-01-20 09:14:33.427"
          ],
          [
           87,
           "2022-01-20 09:14:53.645"
          ],
          [
           87,
           "2022-01-20 09:15:13.870"
          ],
          [
           87,
           "2022-01-20 09:15:34.080"
          ],
          [
           87,
           "2022-01-20 09:15:54.349"
          ],
          [
           87,
           "2022-01-20 09:16:14.523"
          ],
          [
           87,
           "2022-01-20 09:16:34.800"
          ],
          [
           87,
           "2022-01-20 09:16:54.956"
          ],
          [
           87,
           "2022-01-20 09:17:15.183"
          ],
          [
           87,
           "2022-01-20 09:17:35.436"
          ],
          [
           87,
           "2022-01-20 09:17:55.619"
          ],
          [
           87,
           "2022-01-20 09:18:15.828"
          ],
          [
           87,
           "2022-01-20 09:18:36.032"
          ],
          [
           87,
           "2022-01-20 09:18:56.252"
          ],
          [
           87,
           "2022-01-20 09:19:16.471"
          ],
          [
           87,
           "2022-01-20 09:19:36.698"
          ],
          [
           87,
           "2022-01-20 09:19:56.912"
          ],
          [
           87,
           "2022-01-20 09:20:17.124"
          ],
          [
           87,
           "2022-01-20 09:20:37.350"
          ],
          [
           87,
           "2022-01-20 09:20:57.577"
          ],
          [
           87,
           "2022-01-20 09:21:17.773"
          ],
          [
           87,
           "2022-01-20 09:21:37.994"
          ],
          [
           87,
           "2022-01-20 09:21:58.186"
          ],
          [
           87,
           "2022-01-20 09:22:18.403"
          ],
          [
           87,
           "2022-01-20 09:22:38.593"
          ],
          [
           87,
           "2022-01-20 09:22:58.816"
          ],
          [
           87,
           "2022-01-20 09:23:19.032"
          ],
          [
           87,
           "2022-01-20 09:23:39.255"
          ],
          [
           87,
           "2022-01-20 09:23:59.475"
          ],
          [
           87,
           "2022-01-20 09:24:19.705"
          ],
          [
           87,
           "2022-01-20 09:24:39.938"
          ],
          [
           88,
           "2022-01-20 09:25:00.158"
          ],
          [
           88,
           "2022-01-20 09:25:20.371"
          ],
          [
           88,
           "2022-01-20 09:25:40.594"
          ],
          [
           88,
           "2022-01-20 09:26:00.814"
          ],
          [
           88,
           "2022-01-20 09:26:21.040"
          ],
          [
           88,
           "2022-01-20 09:26:41.260"
          ],
          [
           88,
           "2022-01-20 09:27:01.487"
          ],
          [
           88,
           "2022-01-20 09:27:21.696"
          ],
          [
           88,
           "2022-01-20 09:27:41.926"
          ],
          [
           88,
           "2022-01-20 09:28:02.139"
          ],
          [
           88,
           "2022-01-20 09:28:22.374"
          ],
          [
           88,
           "2022-01-20 09:28:42.572"
          ],
          [
           88,
           "2022-01-20 09:29:02.792"
          ],
          [
           88,
           "2022-01-20 09:29:23.021"
          ],
          [
           88,
           "2022-01-20 09:29:43.218"
          ],
          [
           88,
           "2022-01-20 09:30:03.428"
          ],
          [
           88,
           "2022-01-20 09:30:23.629"
          ],
          [
           88,
           "2022-01-20 09:30:43.841"
          ],
          [
           88,
           "2022-01-20 09:31:04.037"
          ],
          [
           88,
           "2022-01-20 09:31:24.244"
          ],
          [
           88,
           "2022-01-20 09:31:44.441"
          ],
          [
           88,
           "2022-01-20 09:32:04.663"
          ],
          [
           88,
           "2022-01-20 09:32:24.863"
          ],
          [
           88,
           "2022-01-20 09:32:45.076"
          ],
          [
           88,
           "2022-01-20 09:33:05.322"
          ],
          [
           88,
           "2022-01-20 09:33:25.516"
          ],
          [
           88,
           "2022-01-20 09:33:45.732"
          ],
          [
           88,
           "2022-01-20 09:34:05.949"
          ],
          [
           88,
           "2022-01-20 09:34:26.169"
          ],
          [
           88,
           "2022-01-20 09:34:46.388"
          ],
          [
           88,
           "2022-01-20 09:35:06.622"
          ],
          [
           88,
           "2022-01-20 09:35:26.834"
          ],
          [
           88,
           "2022-01-20 09:35:47.044"
          ],
          [
           88,
           "2022-01-20 09:36:07.264"
          ],
          [
           88,
           "2022-01-20 09:36:27.470"
          ],
          [
           88,
           "2022-01-20 09:36:47.687"
          ],
          [
           88,
           "2022-01-20 09:37:07.926"
          ],
          [
           88,
           "2022-01-20 09:37:28.100"
          ],
          [
           88,
           "2022-01-20 09:37:48.300"
          ],
          [
           88,
           "2022-01-20 09:38:08.509"
          ],
          [
           88,
           "2022-01-20 09:38:29.433"
          ],
          [
           88,
           "2022-01-20 09:38:49.618"
          ],
          [
           88,
           "2022-01-20 09:39:09.806"
          ],
          [
           88,
           "2022-01-20 09:39:30.008"
          ],
          [
           88,
           "2022-01-20 09:39:50.182"
          ],
          [
           89,
           "2022-01-20 09:40:10.373"
          ],
          [
           89,
           "2022-01-20 09:40:30.586"
          ],
          [
           89,
           "2022-01-20 09:40:50.754"
          ],
          [
           89,
           "2022-01-20 09:41:10.934"
          ],
          [
           89,
           "2022-01-20 09:41:31.119"
          ],
          [
           89,
           "2022-01-20 09:41:51.302"
          ],
          [
           89,
           "2022-01-20 09:42:11.493"
          ],
          [
           89,
           "2022-01-20 09:42:31.681"
          ],
          [
           89,
           "2022-01-20 09:42:51.866"
          ],
          [
           89,
           "2022-01-20 09:43:12.117"
          ],
          [
           89,
           "2022-01-20 09:43:32.241"
          ],
          [
           89,
           "2022-01-20 09:43:52.424"
          ],
          [
           89,
           "2022-01-20 09:44:12.626"
          ],
          [
           89,
           "2022-01-20 09:44:32.814"
          ],
          [
           89,
           "2022-01-20 09:44:52.990"
          ],
          [
           89,
           "2022-01-20 09:45:13.190"
          ],
          [
           89,
           "2022-01-20 09:45:33.372"
          ],
          [
           89,
           "2022-01-20 09:45:53.565"
          ],
          [
           89,
           "2022-01-20 09:46:13.778"
          ],
          [
           89,
           "2022-01-20 09:46:33.968"
          ],
          [
           89,
           "2022-01-20 09:46:54.163"
          ],
          [
           89,
           "2022-01-20 09:47:14.366"
          ],
          [
           89,
           "2022-01-20 09:47:34.593"
          ],
          [
           89,
           "2022-01-20 09:47:54.792"
          ],
          [
           89,
           "2022-01-20 09:48:14.986"
          ],
          [
           89,
           "2022-01-20 09:48:35.196"
          ],
          [
           89,
           "2022-01-20 09:48:55.399"
          ],
          [
           89,
           "2022-01-20 09:49:15.608"
          ],
          [
           89,
           "2022-01-20 09:49:35.811"
          ],
          [
           89,
           "2022-01-20 09:49:56.017"
          ],
          [
           89,
           "2022-01-20 09:50:16.224"
          ],
          [
           89,
           "2022-01-20 09:50:36.418"
          ],
          [
           89,
           "2022-01-20 09:50:56.611"
          ],
          [
           89,
           "2022-01-20 09:51:16.828"
          ],
          [
           89,
           "2022-01-20 09:51:37.037"
          ],
          [
           89,
           "2022-01-20 09:51:57.234"
          ],
          [
           89,
           "2022-01-20 09:52:17.434"
          ],
          [
           89,
           "2022-01-20 09:52:37.635"
          ],
          [
           89,
           "2022-01-20 09:52:57.844"
          ],
          [
           89,
           "2022-01-20 09:53:18.047"
          ],
          [
           89,
           "2022-01-20 09:53:38.260"
          ],
          [
           89,
           "2022-01-20 09:53:58.486"
          ],
          [
           89,
           "2022-01-20 09:54:18.694"
          ],
          [
           89,
           "2022-01-20 09:54:38.912"
          ],
          [
           90,
           "2022-01-20 09:54:59.125"
          ],
          [
           90,
           "2022-01-20 09:55:19.337"
          ],
          [
           90,
           "2022-01-20 09:55:39.550"
          ],
          [
           90,
           "2022-01-20 09:55:59.761"
          ],
          [
           90,
           "2022-01-20 09:56:19.962"
          ],
          [
           90,
           "2022-01-20 09:56:40.168"
          ],
          [
           90,
           "2022-01-20 09:57:00.362"
          ],
          [
           90,
           "2022-01-20 09:57:20.568"
          ],
          [
           90,
           "2022-01-20 09:57:40.770"
          ],
          [
           90,
           "2022-01-20 09:58:00.980"
          ],
          [
           90,
           "2022-01-20 09:58:21.174"
          ],
          [
           90,
           "2022-01-20 09:58:41.397"
          ],
          [
           90,
           "2022-01-20 09:59:01.573"
          ],
          [
           90,
           "2022-01-20 09:59:21.796"
          ],
          [
           90,
           "2022-01-20 09:59:42.016"
          ],
          [
           90,
           "2022-01-20 10:00:02.236"
          ],
          [
           90,
           "2022-01-20 10:00:22.439"
          ],
          [
           90,
           "2022-01-20 10:00:42.634"
          ],
          [
           90,
           "2022-01-20 10:01:02.815"
          ],
          [
           90,
           "2022-01-20 10:01:23.005"
          ],
          [
           90,
           "2022-01-20 10:01:43.201"
          ],
          [
           90,
           "2022-01-20 10:02:03.384"
          ],
          [
           90,
           "2022-01-20 10:02:23.577"
          ],
          [
           90,
           "2022-01-20 10:02:43.771"
          ],
          [
           90,
           "2022-01-20 10:03:03.957"
          ],
          [
           90,
           "2022-01-20 10:03:24.154"
          ],
          [
           90,
           "2022-01-20 10:03:44.346"
          ],
          [
           90,
           "2022-01-20 10:04:04.531"
          ],
          [
           90,
           "2022-01-20 10:04:24.713"
          ],
          [
           90,
           "2022-01-20 10:04:44.943"
          ],
          [
           90,
           "2022-01-20 10:05:05.116"
          ],
          [
           90,
           "2022-01-20 10:05:25.312"
          ],
          [
           90,
           "2022-01-20 10:05:45.502"
          ],
          [
           90,
           "2022-01-20 10:06:05.695"
          ],
          [
           90,
           "2022-01-20 10:06:25.902"
          ],
          [
           90,
           "2022-01-20 10:06:46.085"
          ],
          [
           90,
           "2022-01-20 10:07:06.277"
          ],
          [
           90,
           "2022-01-20 10:07:26.464"
          ],
          [
           90,
           "2022-01-20 10:07:46.668"
          ],
          [
           90,
           "2022-01-20 10:08:06.851"
          ],
          [
           90,
           "2022-01-20 10:08:27.066"
          ],
          [
           90,
           "2022-01-20 10:08:47.247"
          ],
          [
           90,
           "2022-01-20 10:09:07.440"
          ],
          [
           90,
           "2022-01-20 10:09:27.647"
          ],
          [
           90,
           "2022-01-20 10:09:47.874"
          ],
          [
           91,
           "2022-01-20 10:10:08.076"
          ],
          [
           91,
           "2022-01-20 10:10:28.293"
          ],
          [
           91,
           "2022-01-20 10:10:48.492"
          ],
          [
           91,
           "2022-01-20 10:11:08.715"
          ],
          [
           91,
           "2022-01-20 10:11:28.925"
          ],
          [
           91,
           "2022-01-20 10:11:49.145"
          ],
          [
           91,
           "2022-01-20 10:12:09.378"
          ],
          [
           91,
           "2022-01-20 10:12:29.605"
          ],
          [
           91,
           "2022-01-20 10:12:49.876"
          ],
          [
           91,
           "2022-01-20 10:13:10.071"
          ],
          [
           91,
           "2022-01-20 10:13:30.274"
          ],
          [
           91,
           "2022-01-20 10:13:50.494"
          ],
          [
           91,
           "2022-01-20 10:14:10.717"
          ],
          [
           91,
           "2022-01-20 10:14:30.923"
          ],
          [
           91,
           "2022-01-20 10:14:51.143"
          ],
          [
           91,
           "2022-01-20 10:15:11.365"
          ],
          [
           91,
           "2022-01-20 10:15:31.596"
          ],
          [
           91,
           "2022-01-20 10:15:51.862"
          ],
          [
           91,
           "2022-01-20 10:16:12.065"
          ],
          [
           91,
           "2022-01-20 10:16:32.270"
          ],
          [
           91,
           "2022-01-20 10:16:52.519"
          ],
          [
           91,
           "2022-01-20 10:17:12.708"
          ],
          [
           91,
           "2022-01-20 10:17:32.915"
          ],
          [
           91,
           "2022-01-20 10:17:53.158"
          ],
          [
           91,
           "2022-01-20 10:18:13.361"
          ],
          [
           91,
           "2022-01-20 10:18:33.551"
          ],
          [
           91,
           "2022-01-20 10:18:53.741"
          ],
          [
           91,
           "2022-01-20 10:19:13.994"
          ],
          [
           91,
           "2022-01-20 10:19:34.147"
          ],
          [
           91,
           "2022-01-20 10:19:54.400"
          ],
          [
           91,
           "2022-01-20 10:20:14.656"
          ],
          [
           91,
           "2022-01-20 10:20:34.906"
          ],
          [
           91,
           "2022-01-20 10:20:55.083"
          ],
          [
           91,
           "2022-01-20 10:21:15.329"
          ],
          [
           91,
           "2022-01-20 10:21:35.586"
          ],
          [
           91,
           "2022-01-20 10:21:55.829"
          ],
          [
           91,
           "2022-01-20 10:22:16.055"
          ],
          [
           91,
           "2022-01-20 10:22:36.296"
          ],
          [
           91,
           "2022-01-20 10:22:56.546"
          ],
          [
           91,
           "2022-01-20 10:23:16.793"
          ],
          [
           91,
           "2022-01-20 10:23:37.038"
          ],
          [
           91,
           "2022-01-20 10:23:57.275"
          ],
          [
           91,
           "2022-01-20 10:24:17.505"
          ],
          [
           91,
           "2022-01-20 10:24:37.744"
          ],
          [
           92,
           "2022-01-20 10:24:57.987"
          ],
          [
           92,
           "2022-01-20 10:25:18.220"
          ],
          [
           92,
           "2022-01-20 10:25:38.465"
          ],
          [
           92,
           "2022-01-20 10:25:58.684"
          ],
          [
           92,
           "2022-01-20 10:26:18.916"
          ],
          [
           92,
           "2022-01-20 10:26:39.144"
          ],
          [
           92,
           "2022-01-20 10:26:59.366"
          ],
          [
           92,
           "2022-01-20 10:27:19.581"
          ],
          [
           92,
           "2022-01-20 10:27:39.812"
          ],
          [
           92,
           "2022-01-20 10:28:00.024"
          ],
          [
           92,
           "2022-01-20 10:28:20.248"
          ],
          [
           92,
           "2022-01-20 10:28:40.456"
          ],
          [
           92,
           "2022-01-20 10:29:00.675"
          ],
          [
           92,
           "2022-01-20 10:29:20.911"
          ],
          [
           92,
           "2022-01-20 10:29:41.118"
          ],
          [
           92,
           "2022-01-20 10:30:01.336"
          ],
          [
           92,
           "2022-01-20 10:30:21.544"
          ],
          [
           92,
           "2022-01-20 10:30:41.748"
          ],
          [
           92,
           "2022-01-20 10:31:01.972"
          ],
          [
           92,
           "2022-01-20 10:31:22.183"
          ],
          [
           92,
           "2022-01-20 10:31:42.393"
          ],
          [
           92,
           "2022-01-20 10:32:02.595"
          ],
          [
           92,
           "2022-01-20 10:32:22.816"
          ],
          [
           92,
           "2022-01-20 10:32:43.023"
          ],
          [
           92,
           "2022-01-20 10:33:03.236"
          ],
          [
           92,
           "2022-01-20 10:33:23.429"
          ],
          [
           92,
           "2022-01-20 10:33:43.656"
          ],
          [
           92,
           "2022-01-20 10:34:03.845"
          ],
          [
           92,
           "2022-01-20 10:34:24.048"
          ],
          [
           92,
           "2022-01-20 10:34:44.258"
          ],
          [
           92,
           "2022-01-20 10:35:04.464"
          ],
          [
           92,
           "2022-01-20 10:35:24.668"
          ],
          [
           92,
           "2022-01-20 10:35:44.870"
          ],
          [
           92,
           "2022-01-20 10:36:05.077"
          ],
          [
           92,
           "2022-01-20 10:36:25.287"
          ],
          [
           92,
           "2022-01-20 10:36:45.480"
          ],
          [
           92,
           "2022-01-20 10:37:05.678"
          ],
          [
           92,
           "2022-01-20 10:37:25.889"
          ],
          [
           92,
           "2022-01-20 10:37:46.089"
          ],
          [
           92,
           "2022-01-20 10:38:06.287"
          ],
          [
           92,
           "2022-01-20 10:38:26.479"
          ],
          [
           92,
           "2022-01-20 10:38:46.689"
          ],
          [
           92,
           "2022-01-20 10:39:06.879"
          ],
          [
           92,
           "2022-01-20 10:39:27.072"
          ],
          [
           92,
           "2022-01-20 10:39:47.278"
          ],
          [
           93,
           "2022-01-20 10:40:07.479"
          ],
          [
           93,
           "2022-01-20 10:40:27.681"
          ],
          [
           93,
           "2022-01-20 10:40:47.880"
          ],
          [
           93,
           "2022-01-20 10:41:08.099"
          ],
          [
           93,
           "2022-01-20 10:41:28.291"
          ],
          [
           93,
           "2022-01-20 10:41:48.497"
          ],
          [
           93,
           "2022-01-20 10:42:08.696"
          ],
          [
           93,
           "2022-01-20 10:42:28.904"
          ],
          [
           93,
           "2022-01-20 10:42:49.103"
          ],
          [
           93,
           "2022-01-20 10:43:09.300"
          ],
          [
           93,
           "2022-01-20 10:43:29.512"
          ],
          [
           93,
           "2022-01-20 10:43:49.735"
          ],
          [
           93,
           "2022-01-20 10:44:09.922"
          ],
          [
           93,
           "2022-01-20 10:44:30.127"
          ],
          [
           93,
           "2022-01-20 10:44:50.344"
          ],
          [
           93,
           "2022-01-20 10:45:10.544"
          ],
          [
           93,
           "2022-01-20 10:45:30.751"
          ],
          [
           93,
           "2022-01-20 10:45:50.952"
          ],
          [
           93,
           "2022-01-20 10:46:11.167"
          ],
          [
           93,
           "2022-01-20 10:46:31.385"
          ],
          [
           93,
           "2022-01-20 10:46:51.598"
          ],
          [
           93,
           "2022-01-20 10:47:11.812"
          ],
          [
           93,
           "2022-01-20 10:47:32.031"
          ],
          [
           93,
           "2022-01-20 10:47:52.253"
          ],
          [
           93,
           "2022-01-20 10:48:12.473"
          ],
          [
           93,
           "2022-01-20 10:48:32.693"
          ],
          [
           93,
           "2022-01-20 10:48:52.917"
          ],
          [
           93,
           "2022-01-20 10:49:13.125"
          ],
          [
           93,
           "2022-01-20 10:49:33.345"
          ],
          [
           93,
           "2022-01-20 10:49:53.586"
          ],
          [
           93,
           "2022-01-20 10:50:13.788"
          ],
          [
           93,
           "2022-01-20 10:50:34.006"
          ],
          [
           93,
           "2022-01-20 10:50:54.235"
          ],
          [
           93,
           "2022-01-20 10:51:14.440"
          ],
          [
           93,
           "2022-01-20 10:51:34.670"
          ],
          [
           93,
           "2022-01-20 10:51:54.899"
          ],
          [
           93,
           "2022-01-20 10:52:15.141"
          ],
          [
           93,
           "2022-01-20 10:52:35.367"
          ],
          [
           93,
           "2022-01-20 10:52:55.609"
          ],
          [
           93,
           "2022-01-20 10:53:15.832"
          ],
          [
           93,
           "2022-01-20 10:53:36.068"
          ],
          [
           93,
           "2022-01-20 10:53:56.305"
          ],
          [
           93,
           "2022-01-20 10:54:16.542"
          ],
          [
           93,
           "2022-01-20 10:54:36.785"
          ],
          [
           94,
           "2022-01-20 10:54:57.029"
          ],
          [
           94,
           "2022-01-20 10:55:17.257"
          ],
          [
           94,
           "2022-01-20 10:55:37.464"
          ],
          [
           94,
           "2022-01-20 10:55:57.727"
          ],
          [
           94,
           "2022-01-20 10:56:17.974"
          ],
          [
           94,
           "2022-01-20 10:56:38.227"
          ],
          [
           94,
           "2022-01-20 10:56:58.430"
          ],
          [
           94,
           "2022-01-20 10:57:18.650"
          ],
          [
           94,
           "2022-01-20 10:57:38.833"
          ],
          [
           94,
           "2022-01-20 10:57:59.086"
          ],
          [
           94,
           "2022-01-20 10:58:19.309"
          ],
          [
           94,
           "2022-01-20 10:58:39.563"
          ],
          [
           94,
           "2022-01-20 10:58:59.813"
          ],
          [
           94,
           "2022-01-20 10:59:20.072"
          ],
          [
           94,
           "2022-01-20 10:59:40.302"
          ],
          [
           94,
           "2022-01-20 11:00:00.452"
          ],
          [
           94,
           "2022-01-20 11:00:20.614"
          ],
          [
           94,
           "2022-01-20 11:00:40.852"
          ],
          [
           94,
           "2022-01-20 11:01:01.038"
          ],
          [
           94,
           "2022-01-20 11:01:21.244"
          ],
          [
           94,
           "2022-01-20 11:01:41.498"
          ],
          [
           94,
           "2022-01-20 11:02:01.741"
          ],
          [
           94,
           "2022-01-20 11:02:21.973"
          ],
          [
           94,
           "2022-01-20 11:02:42.200"
          ],
          [
           94,
           "2022-01-20 11:03:02.433"
          ],
          [
           94,
           "2022-01-20 11:03:22.656"
          ],
          [
           94,
           "2022-01-20 11:03:42.873"
          ],
          [
           94,
           "2022-01-20 11:04:03.096"
          ],
          [
           94,
           "2022-01-20 11:04:23.332"
          ],
          [
           94,
           "2022-01-20 11:04:43.542"
          ],
          [
           94,
           "2022-01-20 11:05:03.772"
          ],
          [
           94,
           "2022-01-20 11:05:23.975"
          ],
          [
           94,
           "2022-01-20 11:05:44.210"
          ],
          [
           94,
           "2022-01-20 11:06:04.450"
          ],
          [
           94,
           "2022-01-20 11:06:24.701"
          ],
          [
           94,
           "2022-01-20 11:06:44.851"
          ],
          [
           94,
           "2022-01-20 11:07:05.054"
          ],
          [
           94,
           "2022-01-20 11:07:25.279"
          ],
          [
           94,
           "2022-01-20 11:07:45.480"
          ],
          [
           94,
           "2022-01-20 11:08:05.635"
          ],
          [
           94,
           "2022-01-20 11:08:25.774"
          ],
          [
           94,
           "2022-01-20 11:08:45.921"
          ],
          [
           94,
           "2022-01-20 11:09:06.069"
          ],
          [
           94,
           "2022-01-20 11:09:26.296"
          ],
          [
           94,
           "2022-01-20 11:09:46.480"
          ]
         ],
         "hovertemplate": "Easting=%{x}<br>Northing=%{y}<br>Filename=%{customdata[0]}<br>datetime=%{customdata[1]}<br>Depth=%{marker.color}<extra></extra>",
         "legendgroup": "",
         "marker": {
          "color": [
           350.52,
           352.08,
           358.56,
           371.26,
           384.88,
           387.79,
           383.49,
           383.11,
           384.3,
           385.71,
           389.04,
           394.68,
           393.02,
           390.96,
           389.75,
           390.69,
           389.58,
           390.98,
           390.37,
           387.44,
           380.01,
           373.78,
           373.09,
           376.98,
           382.01,
           388.56,
           385.52,
           382.58,
           380.9,
           378.99,
           379.25,
           378.01,
           379.12,
           388.17,
           399.42,
           396.64,
           394.31,
           396.39,
           402.88,
           397.98,
           396.43,
           402.53,
           402.31,
           398.8,
           401.65,
           411.36,
           408.97,
           403.8,
           392.27,
           383.5,
           383.18,
           386.55,
           381.71,
           380.64,
           380.83,
           383.15,
           386.78,
           387.72,
           384.69,
           384.9,
           384.02,
           381.67,
           380.84,
           381.77,
           374.63,
           368.87,
           366.15,
           366.52,
           367.73,
           372.1,
           381.43,
           388.04,
           380.04,
           371.08,
           369.53,
           365.5,
           362.07,
           361.46,
           361.01,
           360.04,
           361.66,
           364.69,
           367.06,
           367.86,
           369.62,
           369.92,
           372.98,
           377.83,
           378.39,
           385.28,
           397.28,
           397.7,
           395,
           387.04,
           375.13,
           367.34,
           362.77,
           362.58,
           364.2,
           367.14,
           372.07,
           376.39,
           366.33,
           353.34,
           344.38,
           342.9,
           350.54,
           353.89,
           336.18,
           333.22,
           334.21,
           332.34,
           331.12,
           331.83,
           331.54,
           333.61,
           336.37,
           335.81,
           335.6,
           335.97,
           336.25,
           338.15,
           340.22,
           343.44,
           346.1,
           348.76,
           351.54,
           355.03,
           360.18,
           360.51,
           360.64,
           365.69,
           372.09,
           369.71,
           368.65,
           372.12,
           369.92,
           369.2,
           371.3,
           370.74,
           372.1,
           373.12,
           372.64,
           374.32,
           377.05,
           376.34,
           375.7,
           378.25,
           379.39,
           381.06,
           383.24,
           387.85,
           393.45,
           397.42,
           400.72,
           397.06,
           392.07,
           388.9,
           387.14,
           384.41,
           382.77,
           382.22,
           381.45,
           382.43,
           384.91,
           386.45,
           387.69,
           392.34,
           399.59,
           409.09,
           396.52,
           392.08,
           394.79,
           394.87,
           399.05,
           407.84,
           409.44,
           399.13,
           391.78,
           391.29,
           391.43,
           395.58,
           402.34,
           409.91,
           417.67,
           416.37,
           413.74,
           414.83,
           418.22,
           422.81,
           426.96,
           429.45,
           433.58,
           439.27,
           448.93,
           458.05,
           464.75,
           472.62,
           482.88,
           496.43,
           509.57,
           516.24,
           520.61,
           507.12,
           489.22,
           471.89,
           461.48,
           458.97,
           455.56,
           453.49,
           443.63,
           436.13,
           435.34,
           443.13,
           452.38,
           454.22,
           453.23,
           451.73,
           450.76,
           451.17,
           455.67,
           458.45,
           455.57,
           452.09,
           453.86,
           458.97,
           458.93,
           460.48,
           458.65,
           456.38,
           454.87,
           455.55,
           459.6,
           464.21,
           468.09,
           468.86,
           466.04,
           467.64,
           470.88,
           463.47,
           469.22,
           482.93,
           490.4,
           492.87,
           492.22,
           498.33,
           510.2,
           523.93,
           517.7,
           516.61,
           514.99,
           513.78,
           504.94,
           479.66,
           454.88,
           446.84,
           447.14,
           445.26,
           443.14,
           441.77,
           443.99,
           446.91,
           440.73,
           438.52,
           441.21,
           444.68,
           446.21,
           444.41,
           443.28,
           445.24,
           447.98,
           451.06,
           455.94,
           459.83,
           463.12,
           468.42,
           476.79,
           488.31,
           502.11,
           506.41,
           508.32,
           515.75,
           520.31,
           517.5,
           514.38,
           512.63,
           512.82,
           515.26,
           524.62,
           526.45,
           530.82,
           544.57,
           561.13,
           578.31,
           597.17,
           603.97,
           598.67,
           590.4,
           580.46,
           581.24,
           587.93,
           592.71,
           594.97,
           603.97,
           612.82,
           608,
           594.71,
           578.71,
           567.25,
           564.97,
           564.95,
           566.24,
           569.56,
           575.62,
           586.61,
           601.44,
           611.93,
           610.25,
           620.52,
           637.01,
           640.1,
           639.52,
           640.31,
           637.34,
           634.79,
           635.37,
           636.18,
           635.08,
           632.71,
           627.31,
           619.45,
           610.37,
           603.54,
           600.84,
           603.66,
           605.85,
           601.76,
           594.54,
           582.14,
           573.86,
           575.2,
           578.39,
           581.14,
           587.16,
           597.04,
           605.97,
           610.13,
           613.49,
           617.13,
           617.87,
           615.29,
           613.99,
           616.47,
           619.24,
           625.19,
           632.57,
           633.36,
           633.3,
           632.56,
           626.07,
           621.08,
           625.07,
           638.38,
           642.87,
           641.31,
           633.12,
           612.25,
           595.31,
           590.08,
           587.82,
           586.07,
           586.47,
           587.9,
           591.36,
           601.32,
           614.96,
           629.28,
           643.46,
           646.61,
           639.49,
           637.84,
           645.88,
           651.12,
           654.09,
           647.09,
           643.15,
           650.11,
           656.98,
           653.35,
           633.13,
           610.08,
           597.09,
           592.66,
           598.37,
           607.77,
           616.1,
           617.05,
           618.61,
           624.63,
           635.87,
           641.87,
           634.56,
           616.51,
           592.78,
           577.96,
           568.41,
           563.98,
           563.64,
           567.73,
           568.81,
           571.15,
           580,
           586.96,
           586.85,
           586.85,
           589.66,
           591.83,
           591.9,
           593.56,
           590.42,
           587.1,
           590.69,
           602.28,
           619.69,
           636.02,
           643.01,
           653.04,
           669.58,
           687.21,
           714.19,
           743.54,
           763.65,
           765.35,
           766.98,
           771.08,
           774.22,
           773.55,
           766.61,
           751.59,
           745.58,
           747.06,
           747.82,
           750.33,
           751.58,
           750.48,
           744.13,
           746.04,
           755.16,
           761.7,
           766.31,
           760.01,
           748.32,
           737.28,
           732.01,
           732.26,
           737.7,
           743.5,
           749.91,
           756.29,
           763.6,
           773.98,
           791.33,
           809.02,
           812.04,
           800.18,
           785.31,
           775.45,
           765.76,
           758.92,
           753.7,
           748.57,
           743.59,
           736.01,
           725.62,
           718.61,
           723.15,
           739.07,
           757.14,
           776.39,
           794.84,
           814.67,
           821.91,
           820.87,
           819.82,
           818.87,
           818.78,
           819.6,
           824.05,
           816.16,
           799.04,
           790.81,
           781.22,
           785.16,
           799.81,
           807.63,
           802.83,
           785.83,
           758.45,
           739.5,
           731.51,
           724.22,
           723.39,
           724.02,
           715.58,
           716.55,
           737.46,
           756.1,
           778.46,
           792.19,
           786.33,
           779.55,
           777.82,
           780.52,
           783.74,
           781.2,
           775.59,
           765.55,
           760.36,
           761.97,
           764.08,
           763.32,
           763,
           762.2,
           761.93,
           762.32,
           765.07,
           768.69,
           770.9,
           773.97,
           778.4,
           782.74,
           787.29,
           789.23,
           789,
           790.47,
           791.19,
           793.32,
           795.56,
           802.14,
           813.15,
           819.61,
           820.14,
           817.84,
           811.98,
           795.87,
           780.57,
           782.31,
           786.5,
           787.05,
           787.48,
           788.19,
           789.47,
           792.65,
           792.73,
           790.28,
           781.52,
           774.71,
           769.62,
           767.61,
           765,
           761.97,
           762.88,
           761.34,
           756.49,
           748.93,
           741.15,
           738.5,
           736.34,
           731.79,
           729.54,
           728.72,
           729.67,
           731.06,
           732.02,
           736.15,
           738.13,
           733.46,
           734.05,
           744.84,
           754.58,
           758.55,
           756.39,
           752.65,
           752.89,
           759.3,
           765.08,
           757.72,
           738.24,
           720.12,
           709.73,
           711.68,
           702.88,
           708.91,
           715.39,
           725.58,
           741.68,
           759.16,
           777.64,
           789.61,
           768.92,
           747.41,
           737.67,
           743.01,
           758.84,
           776.41,
           793.44,
           804.76,
           793.06,
           790.14,
           794.51,
           792.56,
           786.47,
           784.2,
           784.1,
           773.95,
           749.06,
           726.51,
           706.62,
           686.97,
           676.2,
           685.71,
           703.41,
           710.4,
           714.36,
           720.9,
           725.75,
           730.2,
           738.45,
           752.06,
           767.8,
           783.25,
           787.98,
           780.95,
           754.76,
           731.56,
           720.67,
           724.84,
           719.41,
           713.04,
           707.85,
           704.86,
           705.59,
           710.92,
           721.34,
           731.42,
           728.91,
           723.68,
           719.85,
           711.43,
           708.29,
           707.97,
           707.95,
           709.22,
           710.97,
           709.97,
           703.29,
           709.38,
           712.5,
           717.5,
           718.31,
           715,
           708.53,
           704.35,
           704.78,
           708.8,
           714.8,
           721.69,
           729.49,
           735.68,
           747.27,
           764.77,
           782.38,
           784.14,
           771.64,
           755.24,
           741.04,
           731,
           721.68,
           718.12,
           715.07,
           709.63,
           701.7,
           691.18,
           678.35,
           672.33,
           674.2,
           680.76,
           703.17,
           687.86,
           709.03,
           737.28,
           767.59,
           786.27,
           784.13,
           796.92,
           805.32,
           803.08,
           801.5,
           794.43,
           779.93,
           764.9,
           746.6,
           729.23,
           718.71,
           717.24,
           722.36,
           728.52,
           748.68,
           755.54,
           768.88,
           777.54,
           775.81,
           769.09,
           761.87,
           760.62,
           762.19,
           765.42,
           767.35,
           760.83,
           753.96,
           754.54,
           760.81,
           760.53,
           753.49,
           748.49,
           743.15,
           737.3,
           736.61,
           738,
           733.17,
           730.59,
           730.76,
           729.46,
           729.47,
           732,
           735.87,
           738.18,
           742.63,
           750.06,
           758.24,
           763.34,
           765.07,
           765.52,
           771.11,
           777.43,
           776.36,
           778.13,
           785.79,
           795.63,
           800.4,
           798.92,
           796.07,
           792.61,
           793.19,
           798.34,
           802.83,
           805.14,
           805.9,
           805.95,
           806.74,
           803.67,
           796.12,
           785.1,
           776.63,
           776.93,
           776.2,
           769.48,
           765.1,
           763.74,
           759.71,
           753.63,
           745.54,
           737.63,
           733.58,
           732.63,
           729.72,
           728.13,
           728.89,
           731.8,
           731.78,
           735.86,
           740.17,
           738.28,
           740.63,
           749.32,
           753.58,
           757.41,
           760.23,
           766.81,
           760.81,
           751.92,
           761.11,
           768.87,
           765.13,
           760.94,
           759.83,
           767.5,
           774.82,
           758.83,
           733.88,
           720.42,
           716.72,
           715.64,
           707.73,
           702,
           707.32,
           718.94,
           735.52,
           753.16,
           773.12,
           791.14,
           802.06,
           804.21,
           809.79,
           807.84,
           797.21,
           792.95,
           799.41,
           799.46,
           785.75,
           758.72,
           732.3,
           713.17,
           697.47,
           679.07,
           666.72,
           664.27,
           683.72,
           702.86,
           715.71,
           721.45,
           723.15,
           730.79,
           736.68,
           730.65,
           745.46,
           763.89,
           779.79,
           790.11,
           784.07,
           756.66,
           730.31,
           721.29,
           722.36,
           716.61,
           710.4,
           705.08,
           704.45,
           708.26,
           713.85,
           716.54,
           714.92,
           714.53,
           711.92,
           699.76,
           698.38,
           710.99,
           715.97,
           710.69,
           709.03,
           713.9,
           712.11,
           707.47,
           688.48,
           672.96,
           677.33,
           687.75,
           688.51,
           687.51,
           693.69,
           698.76,
           698.21,
           695.25,
           685.31,
           669.96,
           650.1,
           635.05,
           635.74,
           628.1,
           638.02,
           640.44,
           620.84,
           599.01,
           591.02,
           590.2,
           583.52,
           578.31,
           575.23,
           569.64,
           567.41,
           565.12,
           571.23,
           582.19,
           592.34,
           598.66,
           605.48,
           611.57,
           614.36,
           610.66,
           614.79,
           629.61,
           642.25,
           651.36,
           652,
           654.36,
           660.07,
           646.02,
           628.88,
           627.75,
           640.57,
           640.73,
           615.81,
           600.41,
           586.3,
           573.24,
           570.24,
           583.93,
           609.27,
           615.83,
           612.88,
           608.52,
           604.18,
           607.84,
           614.72,
           620.91,
           623.54,
           620.23,
           628.58,
           645.32,
           663.6,
           674.05,
           654.73,
           631.88,
           628.23,
           634.84,
           645.71,
           659.05,
           661.9,
           659.07,
           661.38,
           659.71,
           654.21,
           641.09,
           623.46,
           610.42,
           612.38,
           612.27,
           624.42,
           641.91,
           625.66,
           603.84,
           594.78,
           585.82,
           576.8,
           572.96,
           575.57,
           581.49,
           596.86,
           614.51,
           632.52,
           649.49,
           651.06,
           649.15,
           642.52,
           638.34,
           639.88,
           643.96,
           625.61,
           605.84,
           597.9,
           595.17,
           592.49,
           590.01,
           584.96,
           583.16,
           585.7,
           594.19,
           600.83,
           604.71,
           603.97,
           599.32,
           595.39,
           596.7,
           606.8,
           623.8,
           641.2,
           658.73,
           668.83,
           663.7,
           657.5,
           645.72,
           637.42,
           635.52,
           653.41,
           665.73,
           681.13,
           688.57,
           683.89,
           679.59,
           679.27,
           687.42,
           689.25,
           685.83,
           678.62,
           678.85,
           693.22,
           710.29,
           719.02,
           716.65,
           713.88,
           715.03,
           713.92,
           697.8,
           683.09,
           688.03,
           706.64,
           719.34,
           712.21,
           710.9,
           708.25,
           706.65,
           707.07,
           711.96,
           718.35,
           724.73,
           734.74,
           747.41,
           764.5,
           782.09,
           797.53,
           793.63,
           769.84,
           759.2,
           747.46,
           733.74,
           729.67,
           733.4,
           730.23,
           721.05,
           704.5,
           677.77,
           657,
           649.34,
           662.34,
           662.02,
           673.44,
           690.91,
           708.32,
           735.86,
           765.46,
           788.59,
           782.11,
           791.38,
           803.03,
           807.34,
           800.35,
           790.98,
           777.45,
           763.89,
           746.78,
           728.72,
           713.28,
           700.87,
           689.67,
           692.34,
           707.27,
           709.4,
           719.45,
           738.58,
           753.15,
           752.41,
           748.8,
           749.98,
           760.49,
           769.8,
           772.22,
           771.43,
           767.36,
           766.69,
           767.53,
           756.91,
           752.99,
           750.42,
           747.6,
           737.63,
           733.07,
           739.58,
           736.32,
           731.9,
           731.37,
           729.4,
           728.18,
           730.12,
           732.98,
           733.45,
           736.5,
           745.07,
           757,
           762.59,
           765.05,
           765.31,
           770.66,
           778.59,
           778.65,
           779.24,
           789.66,
           805.12,
           812.42,
           812.16,
           810.87,
           811.75,
           812.87,
           813.31,
           813.23,
           813.66,
           812.5,
           806.09,
           790.73,
           775.82,
           770.08,
           777.25,
           770.57,
           763.92,
           761.53,
           758.65,
           751.3,
           741.8,
           731.87,
           727.14,
           728.14,
           727.19,
           725.52,
           727.18,
           729.62,
           730.66,
           733.85,
           739.74,
           736.34,
           735.71,
           743.45,
           749.59,
           754.08,
           756.45,
           766.74,
           772.71,
           774.61,
           776.09,
           774.08,
           768.5,
           759.96,
           752.29,
           748.96,
           742.62,
           733.85,
           718.21,
           704.58,
           699.94,
           692.4,
           684.93,
           681.79,
           686.38,
           700.33,
           716.62,
           734.39,
           757.53,
           762.41,
           743.88,
           744.84,
           768.62,
           780.32,
           794.22,
           815.38,
           812.14,
           800.16,
           808.05,
           820.38,
           822.84,
           822.63,
           815.84,
           803.23,
           776.68,
           757.59,
           753.46,
           752.27,
           752.25,
           751.62,
           741.4,
           725.03,
           718.03,
           732.86,
           751.84,
           769.23,
           783.6,
           800.38,
           807.32,
           816.52,
           805.33,
           791.99,
           780.09,
           773.16,
           762.07,
           748.08,
           738.51,
           731.45,
           724.43,
           717.14,
           710.83,
           706.44,
           707.19,
           710.89,
           714.76,
           713.75,
           717.45,
           708.86,
           685.53,
           668.01,
           673.86,
           691.11,
           709.27,
           722.07,
           715.32,
           714.18,
           710.72,
           710.38,
           708.33,
           704.12,
           699.58,
           693.69,
           689.04,
           682.46,
           672.64,
           665.06,
           659.83,
           656.57,
           652.92,
           647.23,
           643.9,
           644.02,
           643.5,
           641.12,
           641.64,
           645.3,
           649.12,
           648.52,
           649.53,
           647.67,
           639.7,
           633.59,
           636.74,
           641.88,
           643.75,
           646.1,
           650.14,
           652.4,
           656.61,
           661.24,
           659.87,
           650.98,
           644.27,
           646.48,
           656.44,
           661.14,
           655.52,
           664.9,
           680.85,
           677.35,
           660.44,
           647.16,
           652.48,
           654.12,
           644.67,
           629.42,
           618.17,
           608.35,
           598.23,
           593.91,
           595.32,
           598.68,
           613.16,
           622.1,
           622.38,
           626.38,
           632.73,
           635.99,
           638.87,
           641.51,
           641.71,
           644.5,
           654.06,
           669.31,
           672.03,
           670.22,
           665.44,
           660.47,
           656.16,
           653.13,
           651.24,
           646.31,
           632.68,
           620.5,
           613.79,
           607.62,
           603.97,
           601.59,
           600.18,
           601.18,
           598.96,
           596.68,
           603.37,
           612.12,
           610.85,
           601.23,
           609.98,
           632.05,
           651.51,
           666.77,
           672.33,
           669.04,
           665.38,
           656.09,
           653.78,
           652.81,
           652.17,
           660.4,
           673.9,
           684.03,
           684.97,
           673.93,
           660.88,
           658.87,
           657.79,
           656.08,
           647.16,
           622.8,
           605.4,
           604.6,
           621.24,
           638.92,
           645.22,
           636.3,
           632.68,
           630.89,
           626.23,
           624.45,
           623.12,
           622.72,
           624.72,
           628.59,
           630.9,
           629.9,
           628.97,
           627.82,
           629.81,
           638.54,
           641.04,
           645.13,
           649.62,
           660.56,
           668.03,
           674.33,
           682.04,
           689.28,
           698.58,
           704.71,
           706.59,
           711.13,
           716.4,
           717.37,
           717.28,
           716.97,
           711.64,
           689.94,
           669.55,
           661.16,
           675.94,
           679.12,
           687.41,
           710.78,
           716.09,
           712.39,
           709.65,
           709,
           713.5,
           721.1,
           729.64,
           737.43,
           741.5,
           748.35,
           758.18,
           772.56,
           784.9,
           784.61,
           787.36,
           792.2,
           796.89,
           807.02,
           813.12,
           817.75,
           820.59,
           821.84,
           822.01,
           821.07,
           816.56,
           813.61,
           813.18,
           809.43,
           806.47,
           791.2,
           763.85,
           737.32,
           734.48,
           735.37,
           735.48,
           735.75,
           732.7,
           718.53,
           699.46,
           683.66,
           680.1,
           700.36,
           682.01,
           695.2,
           684.87,
           699.02,
           731.23,
           742.97,
           719.33,
           691.92,
           673.29,
           672.3,
           681.69,
           689.96,
           696.63,
           700.17,
           708.63,
           723.82,
           741.57,
           752.58,
           754.9,
           762.61,
           776.21,
           778.35,
           777.12,
           776.53,
           775.73,
           767.25,
           752.83,
           746.68,
           746.48,
           742.23,
           735.47,
           733.5,
           736.09,
           732.17,
           726.64,
           725.72,
           724.58,
           723.19,
           724.34,
           724.87,
           724.82,
           730.26,
           740.74,
           749.59,
           757.55,
           762.84,
           762.38,
           767.47,
           776.54,
           777.66,
           777.9,
           785.97,
           801.71,
           814.12,
           813.64,
           810.98,
           809.45,
           807.75,
           807.29,
           807.3,
           795.59,
           774.51,
           762.31,
           761.14,
           767.02,
           761.27,
           754.63,
           749.51,
           743.96,
           735.77,
           727.36,
           720.72,
           717.66,
           714.46,
           712.28,
           714.11,
           717.02,
           719.98,
           724.29,
           727.33,
           729.29,
           730.4,
           735.35,
           738.44,
           742.37,
           747.74,
           758.12,
           771.17,
           769.11,
           767.96,
           770.51,
           772.36,
           765.97,
           753.57,
           748.09,
           742.21,
           725.61,
           706.45,
           693.33,
           695.79,
           695.62,
           690.2,
           674.72,
           663.35,
           659.42,
           649.54,
           661.56,
           667.65,
           693.58,
           709.35,
           716.5,
           708.73,
           694.69,
           681.29,
           669.89,
           663.81,
           662.77,
           672.02,
           687.23,
           704.2,
           726.13,
           741.43,
           762.46,
           778.07,
           803.31,
           815.26,
           814.06,
           809.74,
           809.2,
           809.44,
           806.5,
           798.69,
           792.06,
           787.93,
           784.58,
           779.21,
           766.09,
           754.56,
           745.83,
           738.61,
           734.22,
           726.68,
           718.14,
           711.93,
           708.79,
           710.5,
           715.3,
           719.32,
           716.09,
           700.91,
           673.9,
           655.87,
           657.84,
           670.23,
           676.8,
           692.06,
           713.77,
           722.99,
           721.13,
           708.69,
           699.69,
           702.74,
           702.4,
           701.01,
           693.42,
           677.57,
           664.27,
           661.11,
           657.86,
           651.17,
           647.18,
           646.95,
           640.35,
           632.2,
           633.59,
           636.73,
           637.72,
           624.21,
           616.39,
           622.42,
           626.04,
           625.08,
           628.3,
           623.73,
           606.98,
           591.09,
           583.4,
           586.28,
           582.56,
           582.9,
           584.62,
           583.78,
           583.86,
           587.92,
           593.5,
           600.36,
           606.57,
           614.91,
           627.97,
           644.74,
           645.03,
           618.91,
           617.59,
           634.3,
           650.99,
           651.71,
           650.12,
           631.72,
           604.63,
           590,
           596.21,
           594.26,
           591.5,
           586.82,
           579.1,
           573.49,
           578.42,
           592.09,
           588.82,
           580.28,
           583.44,
           594.7,
           602.94,
           606.86,
           617.44,
           621.32,
           622.83,
           629.05,
           635.02,
           642.92,
           647.61,
           634.86,
           637.29,
           649.95,
           656.38,
           651.62,
           645.76,
           640,
           637.16,
           638.28,
           635.15,
           629.87,
           622.6,
           613.99,
           602.91,
           599.29,
           595.43,
           587.09,
           585.71,
           584.35,
           567.88,
           560.61,
           574.17,
           591.96,
           599.74,
           595.58,
           587.75,
           589.36,
           606.5,
           624.21,
           643.03,
           660.17,
           654.72,
           628.22,
           610.87,
           605.83,
           612.68,
           614.65,
           626.33,
           613.07,
           606.17,
           612.65,
           608.44,
           601.75,
           593.04,
           583.15,
           580.55,
           586.31,
           590.09,
           585.25,
           587.99,
           596.41,
           612.29,
           629.7,
           639.09,
           622.35,
           623.54,
           630.79,
           629.94,
           633.43,
           646.39,
           645.85,
           642.99,
           646.86,
           653.17,
           655.14,
           657.64,
           663.02,
           667.99,
           673.73,
           675.99,
           681.49,
           685.46,
           686.55,
           688.46,
           690.26,
           691.52,
           700.69,
           713.33,
           709.51,
           702.7,
           682.19,
           659.4,
           645.03,
           652.67,
           654.56,
           666.07,
           686.23,
           709.12,
           719.49,
           715.56,
           709.08,
           715.16,
           721.4,
           728.76,
           739.06,
           742.33,
           748.11,
           757.05,
           767.76,
           782.75,
           787.22,
           778.14,
           780.33,
           787.15,
           792.84,
           797.75,
           801.58,
           806.24,
           810.76,
           811.74,
           810.04,
           810.17,
           807.82,
           792.4,
           774.93,
           754.08,
           726.87,
           699.05,
           671.43,
           657.33,
           656.98,
           673.08,
           688.02,
           703.29,
           713.28,
           723.07,
           744.53,
           770.77,
           777.78,
           754.36,
           727.27,
           709.77,
           714.75,
           717.74,
           715.89,
           701.08,
           685.25,
           692.24,
           709.59,
           719.64,
           734.92,
           752.35,
           754.9,
           751.94,
           753,
           753.37,
           751.52,
           752.16,
           752.68,
           751.97,
           744.13,
           736.5,
           731.61,
           729.58,
           725.98,
           722.52,
           718.25,
           714.65,
           713.46,
           717.2,
           715.98,
           714.22,
           714.16,
           716.89,
           720.72,
           721.75,
           725.79,
           735.16,
           741.69,
           746.55,
           753.52,
           761.62,
           766.15,
           766.75,
           767.86,
           777.03,
           789.12,
           776.37,
           760.1,
           766.97,
           774.23,
           773.23,
           768.42,
           760.52,
           756.15,
           754.88,
           750.61,
           743.03,
           735.69,
           729.42,
           724.6,
           720.17,
           718.51,
           719.17,
           716.9,
           714.06,
           713.32,
           715.48,
           716.29,
           714.91,
           715.38,
           715.29,
           714.58,
           718.78,
           724.4,
           726.16,
           729.65,
           732.44,
           734.76,
           734.8,
           734.41,
           733.45,
           732.61,
           732.05,
           732.21,
           732.86,
           732.13,
           734.98,
           740.3,
           743.04,
           744.96,
           743.8,
           729.14,
           713.24,
           710.95,
           730.33,
           738.19,
           722.35,
           733.96,
           751.27,
           762.94,
           777.14,
           781.04,
           779.72,
           778.28,
           764.01,
           741.53,
           726.78,
           728.81,
           739.05,
           743.83,
           754.96,
           772.12,
           791.86,
           815.04,
           812.09,
           803.66,
           796.43,
           796.02,
           794.74,
           789.53,
           785.17,
           785.03,
           785.76,
           785.87,
           782.82,
           781.66,
           772.79,
           761.09,
           751.18,
           743.29,
           739.19,
           732.02,
           724.37,
           718.06,
           713.65,
           713.65,
           716.69,
           718.95,
           714.25,
           695.63,
           668.27,
           643.71,
           642.73,
           650.61,
           662.25,
           678.7,
           696.44,
           705.61,
           700.79,
           689.47,
           671.95,
           670.97,
           680.18,
           679.97,
           678.05,
           676.35,
           676.33,
           672.62,
           669.44,
           666.81,
           665.9,
           665.62,
           664.35,
           662.52,
           662.27,
           660.74,
           657.59,
           655.4,
           654.96,
           656.53,
           651.56,
           645.64,
           650.47,
           652.41,
           642.39,
           629.39,
           621.01,
           614.2,
           608.76,
           607.76,
           608.46,
           606.91,
           601.77,
           597.41,
           599.71,
           607.84,
           612.24,
           624.91,
           640.49,
           638.34,
           629.14,
           638.09,
           642.53,
           638.5,
           639.58,
           642.49,
           648.01,
           644.33,
           631.53,
           623.02,
           631.16,
           645.41,
           648.9,
           642.12,
           631.81,
           614.23,
           600.63,
           603.2,
           608.53,
           610.2,
           607.33,
           605.46,
           609.05,
           609.76,
           612.22,
           615.69,
           619.24,
           623.69,
           627.64,
           631.77,
           629.34,
           625.38,
           630.61,
           639.9,
           646.53,
           655.55,
           664.15,
           654.98,
           631.71,
           615.09,
           619.95,
           617.87,
           608.9,
           599.02,
           599.5,
           603.84,
           606.27,
           606.84,
           612.53,
           614.54,
           623.88,
           632.16,
           625.4,
           622.95,
           622.03,
           634.27,
           651.97,
           667.58,
           661.05,
           646.21,
           634.63,
           626.12,
           620.33,
           620.63,
           606.83,
           595.71,
           604.66,
           613.18,
           616.4,
           620.45,
           627.35,
           625.84,
           616.37,
           619.63,
           625.78,
           628.05,
           624.86,
           622.98,
           622.98,
           619.87,
           620.29,
           626.91,
           637.92,
           652.84,
           666.49,
           661.2,
           660.39,
           656.24,
           657.45,
           660.58,
           660.75,
           665.5,
           663.36,
           664.2,
           670.11,
           667.01,
           660.71,
           665.11,
           667.04,
           669.35,
           674.81,
           674.91,
           674.43,
           680.29,
           686.42,
           689.4,
           691.94,
           695.24,
           698.11,
           700.16,
           700.72,
           701.78,
           692.92,
           675.49,
           664.07,
           669.48,
           673.81,
           697.11,
           702.25,
           719.02,
           719.04,
           717.1,
           718.73,
           724.33,
           732.25,
           740.59,
           746.92,
           751.94,
           760.63,
           771.02,
           784.06,
           785.69,
           785.41,
           793.95,
           797.15,
           790.84,
           785.92,
           786.7,
           792.15,
           799.41,
           801.38,
           801.87,
           801.53,
           801.53,
           801.05,
           799.51,
           797.33,
           795.6,
           793.19,
           789.82,
           787.59,
           783.49,
           767.83,
           752.03,
           753.72,
           757.41,
           756.83,
           757.65,
           752.41,
           731.99,
           713.79,
           713.52,
           728.15,
           744.6,
           739.85,
           733.91,
           729.39,
           725.85,
           722.56,
           718.5,
           717.76,
           720.12,
           721.27,
           721.44,
           722.11,
           722.66,
           722.53,
           720.92,
           717.44,
           718.47,
           721.65,
           714.43,
           709.49,
           709.87,
           713.72,
           716.45,
           719.1,
           716.75,
           717.23,
           716.26,
           714.76,
           713.69,
           716.78,
           720.26,
           721.91,
           723.69,
           726.3,
           729.53,
           735.54,
           739.98,
           744.95,
           750.6,
           751.89,
           750.27,
           750.08,
           746.35,
           743.92,
           742.49,
           741.27,
           740.29,
           739.36,
           740.85,
           739.43,
           734.82,
           729.62,
           724.99,
           722.6,
           722.03,
           723.44,
           727.63,
           727.07,
           723.63,
           720.57,
           720.44,
           723.03,
           725.19,
           718.51,
           715.16,
           700.97,
           685.3,
           683.57,
           696.61,
           704.5,
           706.18,
           705.64,
           709.53,
           714.04,
           714.23,
           711.78,
           708.65,
           706.85,
           707.4,
           708.31,
           703.91,
           699.62,
           693.91,
           691.59,
           697,
           706.51,
           718.24,
           713.11,
           697.04,
           687.59,
           690.8,
           686.36,
           709.84,
           735.69,
           751.56,
           737.32,
           727.89,
           724.3,
           706.47,
           718.56,
           740.81,
           757.64,
           773.13,
           782.38,
           778.17,
           780.44,
           783.05,
           796.56,
           799.92,
           799.98,
           797.85,
           794.43,
           791.65,
           789.55,
           792.3,
           798,
           804.95,
           797.89,
           789.21,
           784.32,
           785.38,
           776.71,
           763.81,
           753.78,
           748.2,
           742.56,
           734.38,
           726.68,
           720.39,
           717.76,
           720.07,
           719.72,
           712.77,
           706.36,
           701.15,
           696.92,
           697.31,
           698.74,
           699.65,
           704.61,
           704.23,
           700.56,
           697.24,
           694.16,
           690.66,
           687.17,
           681.73,
           677.89,
           680.24,
           684.26,
           680.83,
           676.74,
           672.43,
           670.19,
           665.77,
           663.87,
           665.8,
           667.69,
           662.93,
           647.8,
           641.86,
           652.79,
           653.55,
           645.82,
           636.99,
           632.36,
           630.79,
           631.15,
           631.33,
           628.98,
           627.58,
           627.91,
           627.65,
           624.49,
           622.03,
           622.29,
           620.71,
           614.92,
           609.24,
           605.62,
           601.33,
           596.6,
           593.67,
           595.68,
           588.91,
           580.4,
           584.96,
           601.12,
           616.7,
           616.23,
           616.44,
           619.01,
           623.79,
           630.52,
           634.36,
           629.59,
           624.98,
           615.34,
           608.55,
           609.44,
           613.13,
           607.82,
           606.68,
           611.08,
           617.36,
           619.35,
           609.46,
           597.99,
           592.15,
           600.57,
           616.97,
           634.3,
           651.66,
           663.53,
           669.74,
           661.86,
           650.79,
           643.78,
           648.5,
           645.77,
           643.36,
           643.24,
           644.32,
           646.47,
           650.43,
           647.01,
           645.99,
           646.99,
           652.45,
           660.55,
           664.79,
           668.61,
           674.22,
           678.16,
           684.04,
           689.18,
           689.81,
           684.79,
           680.71,
           680.17,
           680.95,
           680.65,
           681.87,
           685.94,
           696.14,
           701.8,
           707.78,
           717.07,
           729.27,
           746.34,
           757.28,
           758.58,
           757.36,
           754.71,
           752.87,
           753.64,
           755.53,
           760.03,
           768.2,
           772.62,
           762.29,
           748.01,
           736.1,
           725.37,
           717.05,
           711.97,
           708.24,
           706.01,
           704.17,
           703.13,
           701.75,
           700.39,
           699.37,
           699.21,
           699.14,
           700.03,
           701.11,
           702.32,
           703.81,
           704.56,
           704.71,
           705.39,
           706.56,
           708.42,
           710.42,
           712.59,
           713.88,
           714,
           713.5,
           713.32,
           712.42,
           711.41,
           711.25,
           710.3,
           708.62,
           706.59,
           705.39,
           704.28,
           703.37,
           703.02,
           702.43,
           702.64,
           703.02,
           705.2,
           710.19,
           703.2,
           690.02,
           679.84,
           684.2,
           683.2,
           681.01,
           678.33,
           676.73,
           679.49,
           684.47,
           693.14,
           706.29,
           722.18,
           739.48,
           753.3,
           765.84,
           781.61,
           799.16,
           799.84,
           796.17,
           795.06,
           791.34,
           784.63,
           777.23,
           769.99,
           760.79,
           750.9,
           741.75,
           733.63,
           726.37,
           719.9,
           714.8,
           710.08,
           706.13,
           703.54,
           701.49,
           699.65,
           695.02,
           692.14,
           690.46,
           689.31,
           683.58,
           675.71,
           670.46,
           667.04,
           664.71,
           662.17,
           659.39,
           656.87,
           655.28,
           653.91,
           653.01,
           652.57,
           652.8,
           652.11,
           649.79,
           651.76,
           656.56,
           661.77,
           670.02,
           684.26,
           700.83,
           697.83,
           688.08,
           675.65,
           659.06,
           648.01,
           651.94,
           649.17,
           647.12,
           646.4,
           646.82,
           649.78,
           648.12,
           642.95,
           645.76,
           653.84,
           659.1,
           660.21,
           665.21,
           664.43,
           653.81,
           650.6,
           649.05,
           643.52,
           641.52,
           644.1,
           645.4,
           643.14,
           639.79,
           637.77,
           640.77,
           644.95,
           640.16,
           634.64,
           629.14,
           626.44,
           625.1,
           625.33,
           627.69,
           627.54,
           629.46,
           624.51,
           621.49,
           625.25,
           632.33,
           634.96,
           637.96,
           644.36,
           650.46,
           643.46,
           639.68,
           657.77,
           668.88,
           666.2,
           650.72,
           635.59,
           630.14,
           628.68,
           628.65,
           631.8,
           639.51,
           636.05,
           621.09,
           622.62,
           633.5,
           643.66,
           652.04,
           644.11,
           639.78,
           644.26,
           646.9,
           655.67,
           661.7,
           659.97,
           670.18,
           678.06,
           679.05,
           674.79,
           669.95,
           666.37,
           659.91,
           657.82,
           663.24,
           670.78,
           662.75,
           652.05,
           652.71,
           660.07,
           669.21,
           675.39,
           680.67,
           681.79,
           681.69,
           680.24,
           668.75,
           653.06,
           646.68,
           650.49,
           650.8,
           649.58,
           648.9,
           650.43,
           650.35,
           650.36,
           650.8,
           650.9,
           651.4,
           651.87,
           651.74,
           651.94,
           651.96,
           651.77,
           651.19,
           649.43,
           647.68,
           647.64,
           648.35,
           648.47,
           649.6,
           651.72,
           655.38,
           654.5,
           651.02,
           649.32,
           648.56,
           649.18,
           650.91,
           650.02,
           650.43,
           650.9,
           651.47,
           651.08,
           649.54,
           648.66,
           649.75,
           649.97,
           649.88,
           649.72,
           649.75,
           649.5,
           649.53,
           649.26,
           650.52,
           652.88,
           653.63,
           657.22,
           660.09,
           661.62,
           662.73,
           660.54,
           656.81,
           656.02,
           656.54,
           656.75,
           656.92,
           656.39,
           657.45,
           657.74,
           658.39,
           659.49,
           661.94,
           666.81,
           669.48,
           670.55,
           673.66,
           677.96,
           680.07,
           685.09,
           697.81,
           714.71,
           729.72,
           742.67,
           750.82,
           755.18,
           734.35,
           722.58,
           711.23,
           695.4,
           692.37,
           699.97,
           705.64,
           721.7,
           746.65,
           755.5,
           743.42,
           736.95,
           741.41,
           744.57,
           749.95,
           751.15,
           747.09,
           741.09,
           739.58,
           744.13,
           754.9,
           759.99,
           760.28,
           760.88,
           759.33,
           753.14,
           749.15,
           748.34,
           748.27,
           748.48,
           748.44,
           748.52,
           750,
           752.32,
           752.97,
           753.43,
           754.31,
           755.18,
           757.18,
           756.12,
           750.5,
           743.41,
           738.03,
           734.17,
           730.57,
           727.43,
           725.19,
           722.53,
           719.38,
           715.2,
           710.39,
           706.05,
           702.22,
           699.3,
           698.21,
           697.81,
           698.48,
           701.99,
           704.95,
           705.8,
           704.67,
           700.27,
           695.51,
           694.58,
           692.45,
           690.82,
           690.98,
           691.53,
           691.53,
           691.96,
           693.91,
           700.14,
           711.57,
           726.61,
           741.57,
           740.13,
           733.91,
           739.51,
           744.96,
           746.87,
           745.35,
           744.2,
           742.27,
           735.05,
           724.87,
           720.18,
           722.21,
           715.94,
           707.89,
           702.16,
           701.28,
           702.17,
           705.16,
           706.76,
           703.21,
           700.8,
           700.42,
           701.17,
           703.3,
           710.35,
           717.2,
           713.48,
           706.74,
           702.81,
           701.69,
           701.94,
           702.5,
           702.81,
           702.96,
           702.84,
           703.31,
           703.86,
           705.57,
           713.16,
           722.1,
           726.79,
           737.25,
           740.83,
           736.88,
           736.57,
           735.74,
           736,
           736.4,
           731.17,
           725.93,
           721.94,
           719.03,
           716.16,
           714.05,
           716.05,
           727.38,
           739.88,
           728.4,
           707.07,
           696.02,
           704.36,
           707.85,
           709.35,
           709.98,
           711.75,
           713.85,
           717.09,
           725.63,
           738.35,
           743.79,
           744.38,
           740.23,
           743.12,
           750.86,
           752.17,
           752.99,
           755.23,
           758.7,
           759.99,
           754.93,
           739.65,
           724.08,
           710.89,
           711.87,
           711.03,
           710.56,
           710.59,
           710.85,
           709.91,
           709.6,
           710.03,
           711.47,
           710.48,
           709.81,
           711.55,
           711.75,
           710.51,
           711.73,
           719.33,
           728.69,
           722.55,
           725.5,
           737.96,
           737.56,
           737.81,
           737.88,
           738.13,
           738.88,
           731.3,
           727.32,
           726.24,
           724.34,
           726.34,
           720.79,
           717.99,
           716.03,
           715.2,
           716.66,
           717.83,
           720.94,
           720.62,
           717.65,
           714.95,
           715.29,
           716.22,
           720.68,
           725.86,
           728.03,
           726.33,
           725.84,
           726.49,
           727.33,
           729.01,
           731.09,
           732.04,
           733.4,
           733.18,
           729.06,
           718.83,
           708.41,
           703.86,
           703.39,
           702.23,
           700.26,
           699,
           699.48,
           697.57,
           697.12,
           697.31,
           697.34,
           699.94,
           704.72,
           707.04,
           704,
           700.76,
           699.29,
           697.84,
           697.88,
           703.72,
           714.58,
           715.38,
           709.84,
           709.12,
           715.19,
           716.03,
           715.64,
           713.36,
           712.58,
           718.15,
           728.85,
           744.58,
           752.25,
           748.01,
           729.69,
           712.86,
           716.35,
           727.33,
           719.71,
           711.81,
           720.72,
           730.83,
           720.45,
           698.48,
           689.8,
           689.61,
           688.27,
           686.88,
           686.34,
           686.26,
           686.32,
           687.09,
           687.97,
           693.07,
           699.61,
           699.02,
           691.58,
           686.8,
           685.4,
           685.99,
           686.31,
           687.97,
           689.45,
           690.79,
           692.56,
           694.2,
           695.95,
           696.87,
           697.61,
           699.29,
           701.45,
           703.72,
           705.39,
           707.31,
           710.75,
           714.98,
           719.2,
           723.04,
           726.38,
           729.18,
           731.81,
           734.43,
           736.28,
           736.57,
           737.44,
           738.57,
           739.57,
           739.59,
           739.56,
           735.8,
           724.36,
           718.22,
           730.54,
           738.49,
           735.21,
           730.12,
           728.58,
           729.53,
           729.62,
           730.77,
           733.55,
           737.8,
           744.9,
           754.14,
           761.81,
           769.76,
           763.12,
           760.64,
           757.05,
           753.99,
           753.8,
           757.77,
           764.32,
           766.53,
           765.07,
           768.13,
           758.66,
           747.06,
           734.38,
           724.68,
           707.44,
           690.08,
           693.96,
           698.81,
           690.25,
           681.37,
           676.88,
           674.44,
           671.65,
           669.55,
           668.94,
           668.55,
           666.49,
           665.34,
           664.36,
           662.86,
           662.57,
           662.85,
           662.94,
           662.15,
           662.35,
           663.61,
           664.78,
           665.19,
           664.42,
           664.76,
           663.94,
           663.12,
           663.11,
           663.23,
           661.46,
           659.44,
           657.14,
           656.86,
           658.84,
           658.03,
           656.97,
           659.73,
           658.18,
           655.87,
           657.59,
           656.31,
           657.34,
           662.61,
           655.19,
           644.36,
           641.52,
           647.08,
           658.22,
           656.06,
           664.96,
           666.83,
           666.16,
           660.92,
           658.09,
           663.82,
           661.58,
           653.46,
           650.03,
           652.72,
           657.87,
           657.51,
           655.29,
           654.11,
           652.14,
           651.85,
           654.11,
           656.34,
           657.34,
           661.21,
           668.89,
           674.64,
           678.67,
           681.01,
           682.33,
           682.92,
           684.06,
           684.42,
           680.82,
           675.73,
           671.69,
           666.07,
           660.33,
           657.15,
           656.65,
           660.54,
           667.04,
           668.1,
           666.48,
           669.06,
           672.54,
           665.22,
           659.26,
           655.55,
           657.63,
           659.5,
           657.64,
           656.56,
           658.02,
           660.68,
           661.63,
           661.31,
           665.04,
           656.95,
           651.38,
           653.07,
           655.37,
           641.66,
           630.07,
           642.54,
           641.55,
           631.71,
           622.5,
           629.75,
           644.12,
           660.78,
           664.65,
           668.41,
           673.6,
           664.05,
           647.83,
           648.62,
           663.86,
           675.65,
           666.67,
           666.57,
           678.54,
           673.21,
           664.12,
           659.29,
           663.12,
           676.44,
           687.15,
           683.71,
           672.55,
           663.53,
           660.16,
           662.63,
           665.24,
           672.58,
           683.88,
           688.91,
           691.14,
           697.21,
           700.54,
           682.02,
           660.59,
           649.01,
           654.61,
           647.32,
           644.01,
           653.83,
           667.41,
           671.65,
           656.31,
           650.92,
           650.48,
           650.12,
           654.03,
           659.9,
           662.15,
           664.15,
           668.33,
           669.02,
           673.58,
           682.16,
           692.79,
           697.81,
           699.05,
           699.21,
           704.48,
           701.18,
           691.54,
           686.01,
           682.06,
           676.41,
           671.84,
           669.11,
           669.38,
           670.02,
           670.67,
           671.15,
           671.66,
           673.04,
           674.77,
           678.57,
           681.57,
           684.6,
           689.39,
           696.89,
           699.05,
           702.44,
           710.18,
           720.67,
           733.01,
           746.58,
           759.76,
           771.19,
           760.43,
           754.28,
           753.99,
           743.81,
           740.51,
           737.79,
           736.42,
           740.28,
           739.19,
           736.51,
           741.37,
           743.56,
           748.74,
           744.96,
           733.26,
           721.92,
           715.31,
           716.88,
           712.03,
           704.5,
           696.24,
           692.76,
           698.8,
           699.99,
           694.58,
           687.33,
           686.19,
           691.23,
           701.86,
           718.81,
           722.86,
           706.55,
           686.56,
           687.63,
           713.37,
           713.08,
           693.77,
           684.66,
           684.31,
           679.85,
           677.25,
           677.4,
           677.71,
           678.6,
           683.9,
           691.74,
           699.66,
           708.63,
           714.59,
           699.22,
           688.57,
           695.72,
           714.33,
           732.38,
           750.27,
           768.09,
           782.43,
           788.08,
           779.63,
           752.39,
           734.35,
           738.63,
           737.24,
           724.87,
           720.43,
           726.02,
           721.99,
           721.59,
           733.29,
           746.59,
           758.54,
           773.19,
           760.87,
           734.67,
           724.34,
           726.26,
           728.85,
           728.73,
           733.27,
           729.94,
           719.52,
           719.67,
           721.48,
           719.19,
           717.5,
           711.14,
           695.45,
           680.74,
           675.66,
           681.76,
           683.88,
           677.41,
           663.97,
           649.56,
           641.04,
           644.17,
           656.21,
           666.6,
           664.35,
           669.08,
           678.14,
           683.01,
           672.09,
           647.99,
           627.27,
           616.04,
           620.8,
           616.56,
           621.43,
           618.77,
           616.61,
           613.11,
           610.54,
           610,
           607.73,
           603.38,
           600.09,
           596.33,
           592.51,
           589.69,
           591.55,
           594.58,
           595.4,
           592.85,
           592.5,
           598.59,
           606.39,
           610.06,
           616.19,
           622.46,
           625.39,
           626.05,
           631.95,
           634.71,
           636.7,
           643.83,
           646.46,
           647.94,
           657.5,
           667.36,
           667.54,
           665.77,
           667.67,
           667.84,
           664.89,
           664.53,
           668.62,
           680.52,
           682.53,
           679.51,
           679.75,
           681.67,
           680.5,
           679.43,
           679.47,
           684.6,
           697.05,
           706.59,
           703.74,
           697.79,
           691.03,
           689.78,
           690.54,
           692.41,
           697.92,
           702.85,
           707.59,
           712.22,
           709.42,
           709.12,
           714.38,
           716.73,
           717.52,
           719.72,
           715.54,
           713.14,
           713.75,
           713.63,
           713.02,
           711.15,
           707.67,
           703.85,
           700.55,
           702.66,
           705.18,
           702.99,
           699.73,
           693.55,
           689.55,
           689.39,
           687.79,
           687.8,
           694.12,
           695.5,
           689.59,
           680.91,
           674,
           671.22,
           669.64,
           669.78,
           670.16,
           669.66,
           670.41,
           669.84,
           667.99,
           664,
           661.96,
           661.85,
           663.14,
           666.21,
           658.72,
           646.09,
           633.37,
           629.16,
           633.41,
           627.42,
           623.88,
           616.73,
           621.09,
           620.1,
           617.16,
           616.51,
           613.29,
           607.93,
           603.9,
           599.3,
           592.56,
           588.85,
           586.38,
           584.62,
           585.88,
           586.26,
           588.75,
           591.91,
           595.82,
           598.92,
           603.43,
           609.13,
           612.11,
           611.91,
           611.69,
           616.03,
           629.52,
           643.39,
           637.96,
           641.83,
           659.85,
           655.7,
           648.52,
           652.9,
           650.96,
           640.12,
           628.67,
           619.51,
           602.64,
           584.35,
           572.01,
           563.77,
           554.72,
           536.06,
           520.92,
           518.35,
           522.86,
           521.04,
           521.04,
           521.04
          ],
          "coloraxis": "coloraxis",
          "symbol": "circle"
         },
         "mode": "markers",
         "name": "",
         "showlegend": false,
         "type": "scattergl",
         "x": [
          475436.0723796956,
          475395.4688874623,
          475385.2864672961,
          475393.6065712605,
          475407.5719915772,
          475419.3004404033,
          475427.9771533905,
          475434.6655000488,
          475439.5249379556,
          475443.467153378,
          475446.8456229161,
          475450.0105082596,
          475453.2602418976,
          475456.35423003946,
          475459.7831780866,
          475463.1349912033,
          475466.669979405,
          475470.2271992763,
          475473.6704512229,
          475477.185097643,
          475480.9587251862,
          475484.3220382763,
          475487.9829799294,
          475491.60524415947,
          475495.0330151185,
          475498.6100265554,
          475501.94618263753,
          475505.0731284493,
          475484.7187276784,
          475460.1011704873,
          475436.9143797094,
          475412.5943603664,
          475387.8904517712,
          475363.44725743786,
          475339.0509606258,
          475314.2495671768,
          475289.6870326599,
          475264.8953914758,
          475240.3083969447,
          475215.30822315,
          475190.3505760214,
          475165.7686323552,
          475141.0271852789,
          475116.1802707673,
          475091.438594543,
          475067.3622190707,
          475042.74556542496,
          475017.9545679166,
          474994.1251680839,
          474969.8478369073,
          474945.0715390357,
          474920.1769171405,
          474895.3815620354,
          474870.42258687125,
          474845.58672304417,
          474820.7230500873,
          474795.8145035224,
          474771.11829794536,
          474746.3832816912,
          474721.3524666701,
          474696.6001862905,
          474671.7007839079,
          474646.91086352215,
          474622.0956606536,
          474597.46305362927,
          474572.7009715779,
          474547.785187792,
          474522.9917251929,
          474498.1825115137,
          474473.2022254645,
          474449.0788860172,
          474425.212580939,
          474400.5222104009,
          474376.01845417824,
          474351.3260665716,
          474326.2960031124,
          474301.3443529258,
          474276.4295464827,
          474251.5654163462,
          474226.5733626228,
          474201.5542795611,
          474176.7248262952,
          474151.8588834222,
          474126.6970024351,
          474101.9990103597,
          474076.8089999878,
          474052.2335366629,
          474027.4120270243,
          474002.3753822984,
          473978.0064946028,
          473954.13068838016,
          473929.1988208711,
          473904.7224519003,
          473880.40226228215,
          473856.16179806896,
          473831.5294814631,
          473806.6690404553,
          473781.9693359993,
          473756.9648803896,
          473732.2821824467,
          473707.4202763403,
          473682.75607012527,
          473658.7106310094,
          473635.2116052229,
          473611.09715818544,
          473585.8197818927,
          473561.7454544409,
          473537.3032315058,
          473514.84170779225,
          473490.74392350536,
          473465.3545823647,
          473440.4894575265,
          473415.445884445,
          473390.4346276928,
          473365.5768799372,
          473340.7646175144,
          473315.8654145237,
          473290.8778460843,
          473265.987679309,
          473240.9048331689,
          473215.97062820295,
          473191.0011322671,
          473166.32597589056,
          473141.3174950166,
          473116.7250319854,
          473092.0217033589,
          473067.1688611587,
          473042.3195802377,
          473017.5175891176,
          472992.32305708464,
          472967.4155759562,
          472942.56385500886,
          472917.7521307021,
          472892.89774942695,
          472868.1468541328,
          472843.3817406388,
          472818.4267657097,
          472793.4342168386,
          472768.7048070244,
          472743.4743970009,
          472718.7522011502,
          472693.916427365,
          472660.50214302336,
          472630.81568328745,
          472598.4610478896,
          472565.9464290463,
          472532.9402046683,
          472500.2842359886,
          472467.6764951681,
          472434.9431597346,
          472402.1885277686,
          472369.8970345503,
          472337.37851516256,
          472304.7114312823,
          472272.4279780857,
          472240.0503609969,
          472207.63991485175,
          472174.93104642135,
          472142.2751343776,
          472109.5979005604,
          472077.04631009325,
          472044.2891880348,
          472011.5802279052,
          471979.2449091445,
          471946.4929281029,
          471913.4395793514,
          471880.8413791888,
          471848.5557995409,
          471816.2015447859,
          471784.4681551752,
          471753.3913290724,
          471720.3458357854,
          471687.9428849105,
          471655.3018925013,
          471622.5970225759,
          471591.01267796353,
          471559.28763383394,
          471527.0347596124,
          471494.8673851732,
          471461.9692002504,
          471429.2671681653,
          471396.47113521065,
          471364.158228064,
          471332.0863171837,
          471300.29642576806,
          471268.1291419437,
          471235.81386872265,
          471203.2381295164,
          471170.3204815698,
          471137.9351152701,
          471105.0931773156,
          471072.9357139705,
          471040.279890984,
          471007.4412905356,
          470975.38369283685,
          470943.513092292,
          470911.60720727255,
          470879.2950446368,
          470848.0154294187,
          470817.1462419845,
          470786.0377140743,
          470753.2908884604,
          470720.5902685592,
          470690.16491759126,
          470660.75866275263,
          470631.1411561328,
          470600.0937258301,
          470568.14771749295,
          470534.8623792725,
          470501.961671269,
          470470.1399465125,
          470438.4967498504,
          470405.7137372759,
          470373.58574129886,
          470341.4864955577,
          470309.07206697296,
          470276.40224713256,
          470244.1698018378,
          470210.97675608617,
          470178.4603181863,
          470145.956958002,
          470113.236382673,
          470080.5883130526,
          470048.2868627688,
          470015.4319572452,
          469983.224512781,
          469950.3763958741,
          469917.73041424487,
          469885.4095336656,
          469852.5516402263,
          469819.7427050827,
          469786.84372138535,
          469754.0365484849,
          469721.4752087389,
          469688.962397376,
          469656.4224079565,
          469624.0323260323,
          469591.1384080971,
          469558.7179295648,
          469527.0597680241,
          469495.14675649867,
          469463.5988843556,
          469431.4834017392,
          469399.1383515603,
          469366.04342723294,
          469333.1686383479,
          469301.2004609988,
          469270.24608662346,
          469239.2371344128,
          469206.0792675203,
          469172.7903373342,
          469139.9967644852,
          469108.4492691492,
          469083.2168299055,
          469057.0127680828,
          469025.168659695,
          468992.3270947024,
          468959.4551669435,
          468926.4865519725,
          468894.05197011743,
          468861.4658717518,
          468828.7754607,
          468796.7180787791,
          468764.0144311892,
          468731.2166911425,
          468698.4352395816,
          468665.9360769338,
          468632.8769962147,
          468600.703228877,
          468567.6809788688,
          468534.7105299461,
          468502.108535892,
          468469.5192455032,
          468436.80240277486,
          468404.37293154816,
          468372.01076226647,
          468339.6782340451,
          468309.0420120723,
          468278.4843514396,
          468246.7280349467,
          468213.1717734678,
          468180.4358084204,
          468149.0559009956,
          468115.8704260673,
          468082.7784255132,
          468049.9483485576,
          468017.18430293415,
          467984.435606356,
          467952.6524335269,
          467920.1779019088,
          467887.9117116974,
          467856.2260337476,
          467825.3772734759,
          467796.2869456979,
          467767.3108617484,
          467736.3341451763,
          467703.7563251655,
          467671.5453738165,
          467639.8416922767,
          467606.19873822987,
          467572.9347649892,
          467541.3596034005,
          467508.29882372223,
          467476.6202893218,
          467444.695398506,
          467412.9555438881,
          467382.4243692055,
          467352.0455170844,
          467319.980118426,
          467287.44722196856,
          467254.73773824016,
          467221.699022112,
          467189.1684299794,
          467156.6127376282,
          467124.9665810621,
          467094.4507880835,
          467063.5388596242,
          467031.25568311673,
          466998.561485234,
          466966.7749317839,
          466935.4168589823,
          466903.194829252,
          466870.24021447176,
          466838.2883539794,
          466805.51770437614,
          466772.7571030264,
          466739.91202570376,
          466707.2264643561,
          466674.6684620232,
          466642.8476191128,
          466610.1485542438,
          466578.6976820022,
          466545.7015570873,
          466512.8268873788,
          466479.6483353459,
          466446.87355848553,
          466413.8918943484,
          466382.1087855533,
          466350.8303031158,
          466317.9852848834,
          466284.7422318832,
          466251.6947122117,
          466218.8992856076,
          466186.4732149784,
          466154.4891739416,
          466121.95085849,
          466089.3453077747,
          466056.57224741415,
          466023.54104860575,
          465991.0014997848,
          465958.5247486543,
          465925.5249124056,
          465892.9227722163,
          465859.8569176923,
          465827.4851625436,
          465794.4118515947,
          465762.13894449326,
          465729.5563294014,
          465696.7462815356,
          465664.26148761215,
          465631.7792264676,
          465598.7413031503,
          465567.5830782694,
          465535.4896990676,
          465502.6051853743,
          465470.8845492597,
          465443.2420622691,
          465412.5987571219,
          465379.7976608421,
          465346.3291567163,
          465312.689333677,
          465279.12683943,
          465246.3212809286,
          465216.3691611938,
          465182.7056084298,
          465144.9333230472,
          465106.4284266949,
          465068.7252004302,
          465030.7248529101,
          464991.75243869954,
          464951.07400429033,
          464910.5519892987,
          464869.8688368686,
          464829.868231215,
          464790.6883352209,
          464750.3753758633,
          464709.9300114351,
          464669.8540706062,
          464630.0869959174,
          464595.60139983526,
          464562.5376783738,
          464525.027922728,
          464485.0314402259,
          464444.7630468387,
          464404.7760115679,
          464364.9761695348,
          464324.3085628386,
          464283.47216625314,
          464242.9736817248,
          464203.5754818925,
          464163.5911162642,
          464125.0809309022,
          464088.7563059887,
          464056.7954244624,
          464019.25203047646,
          463979.923807664,
          463939.4254310783,
          463898.7696365693,
          463858.49711281946,
          463818.4929693377,
          463778.4190760689,
          463738.9219760703,
          463699.6522395826,
          463659.9314509679,
          463619.899559647,
          463579.75294229074,
          463538.9022071675,
          463498.3823468309,
          463458.07235827175,
          463418.5888953097,
          463378.6529053372,
          463338.2387795194,
          463298.9226796141,
          463261.8066902887,
          463224.3371621282,
          463185.2542912271,
          463146.1581987421,
          463108.7278106338,
          463070.7487305249,
          463039.7573718316,
          463011.7960638211,
          462979.91407322296,
          462940.2648345124,
          462899.2430120143,
          462858.7855768945,
          462818.7715207973,
          462779.07206907554,
          462739.5772095406,
          462702.3655445444,
          462662.24158970494,
          462620.8229367459,
          462579.7530657835,
          462538.6694113394,
          462498.3034274507,
          462457.8162400488,
          462417.8274115522,
          462376.9917415607,
          462337.05568659015,
          462296.99362943455,
          462257.2686542913,
          462217.85393901495,
          462179.1578729911,
          462140.1320770395,
          462100.0432032267,
          462059.9803610272,
          462019.55028529547,
          461979.6657478095,
          461939.9629977223,
          461899.9821382789,
          461860.1136235261,
          461820.8681268076,
          461783.7972018409,
          461747.5382839712,
          461708.88122701785,
          461671.2003507114,
          461634.4972541154,
          461595.303531642,
          461556.3504243908,
          461516.45278139104,
          461476.21891319554,
          461436.0605926719,
          461396.00390940026,
          461356.704067072,
          461318.5160720828,
          461279.1885673234,
          461239.0412478638,
          461201.12566333736,
          461165.1190859412,
          461129.3323415789,
          461093.8363975263,
          461059.0181021557,
          461020.7402150482,
          460981.0001938284,
          460940.8896442511,
          460900.6481242985,
          460860.45731168176,
          460820.3406182154,
          460780.2471256722,
          460741.7203599804,
          460707.0977167992,
          460667.6666269197,
          460628.6349790372,
          460588.2987935574,
          460549.9234338696,
          460511.2629243047,
          460471.92160480056,
          460436.676567068,
          460407.8257716566,
          460373.5744743052,
          460333.673895485,
          460294.1740805279,
          460253.5991549504,
          460213.4312989965,
          460175.0786162979,
          460134.6760767602,
          460099.05839673535,
          460061.8264870959,
          460027.7909756862,
          459992.2074861471,
          459953.5889016053,
          459914.39006871753,
          459873.91274287406,
          459833.4264225307,
          459793.1238073745,
          459753.2759880756,
          459713.5800564457,
          459675.13348249625,
          459635.183070298,
          459594.95024495217,
          459554.1661469388,
          459514.5545894089,
          459474.275141364,
          459434.0776284431,
          459394.01627733465,
          459353.6990706629,
          459313.7672106936,
          459273.37863486784,
          459233.4769685696,
          459193.0501559592,
          459153.0572691605,
          459113.023402656,
          459072.8491168406,
          459033.1196357919,
          458993.14584628417,
          458952.770784115,
          458912.6149844801,
          458872.6999852077,
          458833.0370837168,
          458793.248685786,
          458754.5669457996,
          458715.5476496535,
          458675.78156753496,
          458635.8832285918,
          458597.0876968053,
          458585.24872115685,
          458586.29950976674,
          458589.4345148301,
          458590.0219304281,
          458592.10626274336,
          458594.26514547865,
          458600.4925705636,
          458633.2241442785,
          458672.1450693472,
          458711.9478842801,
          458752.0447129105,
          458790.7926021722,
          458830.4597470267,
          458870.4331824865,
          458910.7483635471,
          458950.580886132,
          458990.543507498,
          459031.2677617544,
          459071.26698716753,
          459110.9157364874,
          459150.1579636491,
          459189.3213526112,
          459229.7357112195,
          459270.09054105374,
          459309.5801305032,
          459349.3829157631,
          459389.6441212814,
          459429.9404691488,
          459470.119479491,
          459510.16494813474,
          459550.19439799135,
          459590.0458447433,
          459628.9833062404,
          459669.854754116,
          459709.2910342468,
          459748.4175600556,
          459787.91810871626,
          459827.6661428714,
          459867.4569474041,
          459907.2392152839,
          459947.7907100754,
          459987.1483912744,
          460025.6211471872,
          460060.6869642936,
          460096.9955700085,
          460134.7627184892,
          460174.5996729435,
          460213.6506394469,
          460252.4636577723,
          460292.7861968953,
          460332.1935527344,
          460369.35759722407,
          460405.20631734433,
          460441.36070364754,
          460477.7355835423,
          460509.6372411357,
          460542.4594857472,
          460581.919339612,
          460622.5432533415,
          460660.6719870924,
          460697.4196221229,
          460733.9651672328,
          460770.5459178421,
          460807.25485507154,
          460847.1018378259,
          460887.036544497,
          460927.06636032026,
          460966.58997155854,
          461006.9801472099,
          461047.2601841614,
          461085.45238354994,
          461115.7367375236,
          461149.5262148657,
          461183.98041216313,
          461218.7211181491,
          461258.05980848667,
          461296.4780468385,
          461332.8700665929,
          461372.2073871226,
          461412.1647026721,
          461451.72722177993,
          461491.8047625786,
          461531.5950912972,
          461571.0214472271,
          461609.2637103335,
          461646.74232389097,
          461683.5368939246,
          461722.97435124207,
          461761.6178123592,
          461791.377540496,
          461822.988495786,
          461861.6344052824,
          461902.0482405001,
          461941.78482526727,
          461981.6494742988,
          462021.87490293954,
          462061.8645163746,
          462102.17083076935,
          462142.3684276755,
          462181.87325008446,
          462220.50142328494,
          462259.0246968591,
          462298.4369422321,
          462338.3225471887,
          462364.4281300582,
          462374.95881057566,
          462382.5109284716,
          462389.8858523866,
          462396.6911106618,
          462403.3854403021,
          462387.3820362776,
          462355.01032642287,
          462315.3714862098,
          462274.8749840506,
          462234.4404821866,
          462193.7583698839,
          462153.89620057575,
          462114.5153253972,
          462074.5543110722,
          462033.8826880886,
          461993.4246976349,
          461953.29366723855,
          461913.6947360849,
          461874.0468432433,
          461834.3419533336,
          461795.3437450226,
          461758.0673044713,
          461721.4393103984,
          461684.945818116,
          461647.2983496453,
          461610.46853923256,
          461572.0250404811,
          461532.7258147421,
          461493.36307416565,
          461453.2942296144,
          461412.9525954496,
          461373.4136036418,
          461333.9608700292,
          461295.7164631549,
          461258.5777153095,
          461218.5062727379,
          461177.4271635523,
          461137.6849239156,
          461105.9685857606,
          461072.99554427736,
          461039.1729435729,
          461006.6395839668,
          460977.5825954176,
          460943.9791263492,
          460905.2705156186,
          460865.7836349818,
          460826.23837823886,
          460786.3380864315,
          460746.30017096974,
          460707.4603372428,
          460670.359773369,
          460633.2935959161,
          460597.70627059473,
          460561.924449432,
          460522.7098146354,
          460482.4336574595,
          460442.1085965672,
          460403.01339014113,
          460368.4944963954,
          460329.8319118682,
          460291.09814046486,
          460251.9849982883,
          460212.4212809826,
          460173.4847009414,
          460133.8623852609,
          460093.7379695797,
          460052.9120888845,
          460012.9180362563,
          459972.7464398142,
          459933.83909407473,
          459894.50702305767,
          459854.4534935933,
          459814.4072413832,
          459774.649094316,
          459735.5087130858,
          459696.06261769176,
          459656.1758167507,
          459617.2864601623,
          459576.34534986096,
          459536.18484597694,
          459496.5970716691,
          459455.8922494234,
          459415.4458406032,
          459375.2752716557,
          459335.218564174,
          459295.10730324057,
          459255.1212806112,
          459215.49738077936,
          459175.50642015046,
          459135.7423500039,
          459096.7791149112,
          459056.9290004877,
          459016.83777160855,
          458976.8572145741,
          458937.1967440231,
          458897.7683689064,
          458857.8827214727,
          458818.02697452257,
          458777.96156136703,
          458738.6619882928,
          458699.4313252137,
          458659.6302374748,
          458621.4407756519,
          458611.9973047733,
          458613.0788839925,
          458615.27779896895,
          458617.3538820189,
          458619.2069609443,
          458621.3748734541,
          458634.3980158572,
          458670.254623664,
          458709.2732543032,
          458748.5498763088,
          458786.5720660745,
          458825.83515780617,
          458866.4115250832,
          458906.90751775744,
          458946.05299857806,
          458985.9481263225,
          459026.6183203953,
          459066.7386522766,
          459106.0550331072,
          459145.5516405962,
          459184.4835357166,
          459224.6088337462,
          459264.8661403841,
          459304.8160219371,
          459344.8562678124,
          459385.0320819487,
          459425.1958422979,
          459465.0047557567,
          459504.9752792544,
          459545.319278671,
          459585.2502098125,
          459625.1385370609,
          459664.83271413273,
          459704.63610782137,
          459744.3881088701,
          459784.0766957463,
          459823.0530326208,
          459861.9076427725,
          459901.0048080204,
          459940.3486603961,
          459979.3717697546,
          460020.5395806425,
          460060.1881106867,
          460100.3398082543,
          460139.9949418228,
          460179.495081212,
          460214.7155357567,
          460244.63608445553,
          460282.5738618086,
          460323.0961499904,
          460363.27772230754,
          460402.1656881131,
          460441.89323001454,
          460482.3911687491,
          460521.31385194,
          460558.8279510318,
          460595.0082135941,
          460629.8386010194,
          460665.5098279786,
          460702.87284250266,
          460741.7541853255,
          460781.6431925854,
          460821.20933532406,
          460859.66897855833,
          460899.80442122254,
          460939.98249218817,
          460980.3986385796,
          461017.8583608704,
          461046.9334907329,
          461077.0803812396,
          461112.5564613295,
          461150.1686595752,
          461185.4395608845,
          461223.8428788888,
          461264.2180570024,
          461298.8089932347,
          461334.3346983239,
          461372.4398877497,
          461411.5479375605,
          461451.5292252459,
          461490.7069417105,
          461529.1444267834,
          461568.2428153334,
          461606.95392187097,
          461643.4483160663,
          461680.412385184,
          461718.8704306463,
          461756.9340661632,
          461785.8791310261,
          461815.33627691295,
          461854.7530533312,
          461895.8764957598,
          461935.8944080465,
          461975.6778472678,
          462015.5247926022,
          462056.1286381746,
          462096.53472432,
          462136.8511538903,
          462176.9813334678,
          462216.71997295873,
          462256.71017369954,
          462296.8367399098,
          462335.2368746851,
          462375.2056275988,
          462414.3731008152,
          462453.6471511912,
          462493.3450137368,
          462533.40127736016,
          462573.2499121862,
          462613.2049544926,
          462653.097567794,
          462687.9418777977,
          462724.63769393216,
          462765.1095885649,
          462804.3963203539,
          462844.4579191776,
          462884.2909087547,
          462924.62444302335,
          462964.7688960056,
          463004.839048632,
          463044.9181148666,
          463083.6539734623,
          463121.01927909965,
          463156.1524236853,
          463193.4629044156,
          463235.7209175719,
          463275.9446217648,
          463315.5908998764,
          463355.712627466,
          463389.715783285,
          463422.6875478906,
          463461.9130472553,
          463502.6346066647,
          463541.8183609688,
          463581.0834311032,
          463621.476215163,
          463661.4201243358,
          463701.7235864939,
          463741.7175207855,
          463781.3632010674,
          463820.7479707215,
          463859.8078889094,
          463899.4143854164,
          463939.2822420701,
          463978.6857870433,
          464018.2339256671,
          464057.9392449631,
          464098.8281739601,
          464136.79484314827,
          464174.398069788,
          464213.40791577066,
          464253.1305194268,
          464293.0037026276,
          464332.67552834464,
          464369.9086882673,
          464405.5611914727,
          464446.968146657,
          464486.3213675755,
          464525.2068099818,
          464555.0694513164,
          464592.7889048162,
          464630.847468816,
          464668.9632782567,
          464709.7439541328,
          464748.2527596089,
          464779.2739943215,
          464816.38383220416,
          464855.9079285603,
          464896.1270428068,
          464935.8537195941,
          464976.5193809905,
          465017.2595815984,
          465057.4455088307,
          465097.2127760558,
          465136.7451176774,
          465176.562027664,
          465215.08333863504,
          465251.6085336181,
          465276.012079056,
          465277.06721090566,
          465278.89864376886,
          465280.09890069,
          465282.0965281972,
          465283.8665088188,
          465285.536670416,
          465270.61831357016,
          465238.2279013425,
          465197.7979157383,
          465157.2326457612,
          465117.2444066194,
          465079.8755980975,
          465043.4933029098,
          465004.8727211497,
          464964.2891367755,
          464923.51819918107,
          464883.94690023176,
          464849.9280114351,
          464815.09731916944,
          464781.8010466554,
          464741.588256054,
          464702.8657105945,
          464663.64963145467,
          464623.1015336467,
          464582.07957193087,
          464542.1839824037,
          464504.8410198357,
          464467.8171534444,
          464431.4389019691,
          464395.5909749417,
          464355.7454712262,
          464314.9505848473,
          464275.28437879024,
          464235.2267928973,
          464194.7643951468,
          464155.2031868062,
          464120.2949861684,
          464085.37488828046,
          464045.9492157917,
          464005.2132136495,
          463965.04973162943,
          463924.8602892653,
          463885.5296960003,
          463845.1302852881,
          463805.1194582495,
          463765.5800667753,
          463726.1157628862,
          463686.5362429826,
          463646.913686217,
          463607.292541373,
          463567.1770135439,
          463526.39040232985,
          463486.8510305063,
          463449.48591484793,
          463412.7541624085,
          463375.994571978,
          463338.70844994136,
          463299.6306678663,
          463259.4456550536,
          463221.3702402234,
          463181.7892186344,
          463141.2991867256,
          463105.3165267402,
          463065.4179507518,
          463026.4656779183,
          462987.3137970905,
          462947.5018795873,
          462907.16820261214,
          462866.50865169714,
          462826.4961347285,
          462785.6614864946,
          462745.0674130722,
          462705.59142608935,
          462665.09000769584,
          462625.8935491996,
          462587.92451998126,
          462548.2823309809,
          462508.0804900304,
          462467.7097057134,
          462426.9289441689,
          462386.322547931,
          462350.0212909193,
          462312.78399821895,
          462272.6778708987,
          462235.513263394,
          462199.49306852295,
          462161.2476513688,
          462120.2526572932,
          462079.898005414,
          462038.7444984996,
          461998.1142095858,
          461957.7174614797,
          461917.596512406,
          461877.5767646067,
          461838.1567427426,
          461799.245684332,
          461761.943676968,
          461724.8682185932,
          461688.29773898376,
          461649.7801828714,
          461618.4730208952,
          461579.7081937837,
          461540.4817703673,
          461502.552753478,
          461462.7506204178,
          461422.0298159228,
          461381.5754852395,
          461342.44468843006,
          461305.5388225743,
          461275.9749274221,
          461241.4868028711,
          461202.76450445526,
          461164.0883649669,
          461122.8615441739,
          461083.0043602533,
          461045.4227279309,
          461008.7792837394,
          460978.9815926739,
          460950.2144855551,
          460918.6659150627,
          460881.5512257472,
          460840.971550886,
          460801.7720844464,
          460761.3270380048,
          460721.7223262778,
          460682.8335552911,
          460645.0609273333,
          460607.0909909684,
          460570.4850749616,
          460534.5581044376,
          460497.34981721255,
          460459.01278835017,
          460420.1839045696,
          460380.8481066798,
          460342.4554008768,
          460303.58639335376,
          460265.3806878433,
          460229.0869409723,
          460190.90579918335,
          460151.5311603855,
          460111.5759321096,
          460071.09450390143,
          460031.5372160124,
          459992.4111484175,
          459952.17246347386,
          459911.87913922535,
          459872.2759725588,
          459832.0410102394,
          459791.2029890703,
          459752.7444199333,
          459712.9852245424,
          459672.667279677,
          459632.2212686989,
          459593.3142749379,
          459553.04229318415,
          459512.693805028,
          459473.0973049392,
          459432.8741434034,
          459392.1056182719,
          459351.9529480146,
          459312.0274210537,
          459271.53007999016,
          459230.835607155,
          459190.8422347941,
          459150.7129924807,
          459110.7391648244,
          459071.63206156873,
          459032.1785155942,
          458992.0691184207,
          458952.0324164419,
          458912.05598307616,
          458872.07445358095,
          458831.659724692,
          458791.5301159436,
          458751.9545312213,
          458714.04002151947,
          458674.4755992096,
          458642.1507478748,
          458639.113145478,
          458639.6056480336,
          458641.72171556135,
          458644.2280243868,
          458646.19374823535,
          458648.12168566976,
          458670.0661011284,
          458706.71604265046,
          458742.9589287959,
          458780.5491963183,
          458820.7672608989,
          458860.9871985815,
          458900.4815389914,
          458940.3344647472,
          458981.02903383673,
          459021.5438934053,
          459060.9574174087,
          459100.3178616265,
          459139.1247473359,
          459179.8399042164,
          459221.0693332999,
          459261.4838335386,
          459301.7120424996,
          459342.1311533128,
          459382.5764101049,
          459423.0380891325,
          459463.0988983133,
          459502.7671435053,
          459542.2261560816,
          459582.4454232275,
          459622.674111774,
          459662.3818358893,
          459702.6114365212,
          459742.3938483448,
          459781.69659358845,
          459821.1020577613,
          459861.01713274274,
          459901.2669902915,
          459941.338360975,
          459981.1905298546,
          460020.5637145555,
          460060.0337524949,
          460101.09012266144,
          460141.3262603945,
          460180.79718541226,
          460217.81301880034,
          460255.66881339066,
          460296.40454222745,
          460336.0346201513,
          460375.4877790298,
          460415.889488404,
          460456.43458108086,
          460495.2569955785,
          460532.8534607856,
          460569.35950962,
          460602.70025623305,
          460638.6980621605,
          460671.9424664048,
          460712.86454605614,
          460746.8897891581,
          460786.4039568513,
          460824.971261462,
          460859.0840680979,
          460896.8741397603,
          460934.4853725684,
          460975.263184942,
          461014.3959340988,
          461054.7379816264,
          461094.9426854904,
          461133.9166590983,
          461171.37994244526,
          461201.4983845671,
          461213.28457444086,
          461189.3931624669,
          461159.5667629024,
          461149.0159279498,
          461172.8236921536,
          461200.1648094272,
          461227.96608437767,
          461265.3645121953,
          461303.4031486717,
          461340.2578249023,
          461377.6913621576,
          461414.9693920387,
          461450.5050830652,
          461488.0691190861,
          461526.8582530713,
          461565.5814491826,
          461603.21519497054,
          461642.090894996,
          461681.8855110621,
          461720.80358152976,
          461759.0493754785,
          461798.6608850561,
          461838.5856656641,
          461878.4573554421,
          461918.7330588796,
          461958.7148530475,
          461999.2234044383,
          462040.0002554272,
          462080.6525434533,
          462121.1286441647,
          462161.4781555092,
          462201.904737562,
          462239.814567646,
          462271.1464768119,
          462307.175523543,
          462347.9654699933,
          462386.4501554042,
          462423.2223327882,
          462459.4387325712,
          462498.3698416522,
          462538.48186343967,
          462579.3795395596,
          462620.1014047223,
          462660.93510717,
          462701.1334161257,
          462741.4705984641,
          462781.5663375756,
          462822.0790075415,
          462862.1806727231,
          462901.85900884494,
          462942.0747746588,
          462982.76308745984,
          463023.2970392232,
          463063.9365669596,
          463104.1338761075,
          463144.89578346594,
          463186.55834654666,
          463227.382180965,
          463267.6581550591,
          463308.06135115953,
          463348.6564766477,
          463389.1868364963,
          463429.59071571217,
          463470.0423120248,
          463510.5418871674,
          463550.0764060317,
          463590.3803578077,
          463632.1438094196,
          463672.47153665806,
          463713.1635145485,
          463753.804212776,
          463794.3045437359,
          463834.595566232,
          463874.89618574217,
          463915.2239531396,
          463955.6663740543,
          463995.06291826704,
          464034.42306436977,
          464074.5209996153,
          464114.23350114113,
          464152.3483719046,
          464191.9466358707,
          464231.6431338071,
          464270.1634408988,
          464308.2790639615,
          464344.2530966475,
          464382.9341904101,
          464423.7386736479,
          464464.218055384,
          464503.1866443804,
          464541.27113774174,
          464579.7928515196,
          464619.66756749206,
          464658.8963409576,
          464699.3250041044,
          464740.2540170146,
          464781.09522735217,
          464819.5104212815,
          464857.383305018,
          464897.3332930098,
          464938.2765882116,
          464978.6232476121,
          465019.4476683791,
          465060.363686583,
          465101.0831345764,
          465141.761632319,
          465182.2642110081,
          465222.2543181045,
          465260.535297601,
          465295.125502956,
          465300.6733786362,
          465302.7672639585,
          465305.1229645506,
          465307.423108015,
          465309.1508309673,
          465309.9119723479,
          465289.3830237354,
          465257.1446547634,
          465218.8851555409,
          465178.0312097464,
          465136.73451277707,
          465095.802105137,
          465054.8239988964,
          465013.7625635917,
          464972.92188041226,
          464932.5556426235,
          464891.9950397713,
          464851.5535087303,
          464811.5434061454,
          464771.3583169424,
          464733.0599258408,
          464692.3199025048,
          464656.9770847016,
          464621.0451475408,
          464582.6781401052,
          464543.8330567583,
          464504.5852705316,
          464464.0578132496,
          464424.3645654742,
          464383.0004249208,
          464342.6032624071,
          464302.5947268203,
          464262.4472602334,
          464223.6758070669,
          464183.5701836159,
          464144.0684591813,
          464106.52368186007,
          464068.51722644607,
          464027.5135309713,
          463986.4774963965,
          463945.8368689401,
          463907.1700078677,
          463876.7560874742,
          463840.6039850455,
          463799.07507821743,
          463760.6213868115,
          463723.4192114448,
          463684.8337845489,
          463646.0064749237,
          463605.973434167,
          463566.1094857252,
          463526.3654293296,
          463485.9579559939,
          463445.56722736807,
          463404.746005635,
          463364.1978214645,
          463323.57651305024,
          463283.1478565998,
          463242.7201404855,
          463202.2890394557,
          463161.5271766944,
          463120.9524386573,
          463080.7102862209,
          463040.0335400701,
          462999.13880863454,
          462958.5837699183,
          462918.76573254913,
          462878.4654619707,
          462837.5951945809,
          462797.5710253629,
          462757.2522538485,
          462717.4618321218,
          462677.49671417056,
          462637.00283090223,
          462596.5601273861,
          462556.2402065325,
          462515.8212064002,
          462475.273877421,
          462434.4616437432,
          462394.53085024166,
          462360.7784252339,
          462325.9733642017,
          462286.1716030141,
          462247.3819250677,
          462208.5461321304,
          462169.9037752251,
          462136.1517289757,
          462096.4459674895,
          462056.7317348615,
          462016.18272992526,
          461975.2236438017,
          461934.5760449291,
          461894.6557672823,
          461854.8477268534,
          461815.4681479648,
          461775.7138776272,
          461735.7128464559,
          461696.4983910373,
          461657.9671143964,
          461619.5611025845,
          461579.1669442077,
          461538.9760865908,
          461499.006696949,
          461458.7674557957,
          461419.4176093095,
          461379.7807137035,
          461340.2596099314,
          461299.761614404,
          461259.0172617558,
          461218.2225807671,
          461178.0465174082,
          461138.1655054796,
          461097.7022973868,
          461057.21945296606,
          461017.12892623007,
          460977.35048770456,
          460940.39120532747,
          460911.2982722586,
          460881.85593292856,
          460876.9107405034,
          460905.2623155461,
          460934.0258778672,
          460928.2512070299,
          460902.1963008181,
          460876.84632411343,
          460847.3722789536,
          460810.3848014227,
          460769.26258944126,
          460735.4411921677,
          460702.7967457509,
          460666.7002114995,
          460629.4593238778,
          460591.8246990328,
          460562.9709189824,
          460528.1320646509,
          460497.4028555481,
          460467.7091404816,
          460430.9378601432,
          460390.55722293264,
          460352.8425111876,
          460313.3386039927,
          460273.1889505655,
          460232.7185423997,
          460193.1708483181,
          460155.02955178206,
          460118.19893362577,
          460080.373628761,
          460040.68449561234,
          460000.8802992465,
          459962.1638917056,
          459922.7833427679,
          459882.40356923634,
          459842.01026213006,
          459801.5607387607,
          459762.4714612312,
          459725.461803244,
          459686.247542133,
          459645.8569454133,
          459605.26970331016,
          459565.6872433543,
          459525.6147691513,
          459484.6614230172,
          459445.0626389405,
          459405.1332176922,
          459364.4821726485,
          459324.1048254266,
          459283.8149671733,
          459243.1798756751,
          459202.6704857062,
          459162.3178236672,
          459122.4685489152,
          459082.8406824964,
          459043.4387307482,
          459004.1949404093,
          458964.6089062278,
          458924.86790591775,
          458884.62742641766,
          458844.76833877584,
          458804.9682011218,
          458764.7481238853,
          458724.7102227648,
          458686.918091365,
          458665.6740298776,
          458664.9471320887,
          458667.0297390353,
          458669.3473485466,
          458671.4353296086,
          458673.4079183217,
          458678.4607659371,
          458706.93631904566,
          458738.51393074327,
          458777.38020249584,
          458818.4827539516,
          458858.1930407142,
          458897.71649441135,
          458937.5630085343,
          458977.7157666559,
          459017.6471961758,
          459057.16944177,
          459096.2255218678,
          459135.8917023907,
          459176.6347289095,
          459217.0894885696,
          459256.8599399077,
          459297.8776720088,
          459338.4822712068,
          459378.81718770176,
          459419.05082459975,
          459459.2580386491,
          459499.48815869656,
          459539.7481342071,
          459580.1489139942,
          459620.3007778078,
          459660.372975694,
          459700.4704066745,
          459739.8965084369,
          459777.9547324376,
          459817.2583481721,
          459857.7805527616,
          459898.40644722217,
          459938.7453370573,
          459978.1609950537,
          460016.10920681903,
          460056.9612813611,
          460097.351404867,
          460133.7790687576,
          460168.6645598455,
          460207.2317550932,
          460247.4980438582,
          460288.35486933566,
          460328.0764579438,
          460364.7170835605,
          460403.2336422983,
          460442.7338375376,
          460480.5108166192,
          460519.6268058271,
          460560.7294426953,
          460592.8302275146,
          460630.9465252032,
          460667.9623788832,
          460707.7475097822,
          460745.2246009002,
          460783.4352206345,
          460821.8874176509,
          460861.97336309694,
          460900.9692726522,
          460943.5597105254,
          460982.2661122984,
          461019.56009690574,
          461051.8698245362,
          461088.34080924286,
          461120.7902311079,
          461158.8442731638,
          461190.9569979335,
          461225.6999143868,
          461265.990415644,
          461306.04386581073,
          461346.8130194523,
          461387.4832664015,
          461427.5387806709,
          461466.4375100317,
          461506.2122076454,
          461546.63717853936,
          461587.5028592014,
          461627.5109080676,
          461665.4297004896,
          461704.3634116739,
          461744.2010878277,
          461784.08930648345,
          461824.4219444461,
          461863.9202942304,
          461903.35231495305,
          461943.40270974766,
          461984.0178010662,
          462024.6726934919,
          462064.8871721842,
          462104.74157379457,
          462144.67095868185,
          462181.58773889067,
          462211.3599113171,
          462247.2337461052,
          462287.4965013063,
          462326.7000175829,
          462367.5679559804,
          462406.0000414494,
          462440.6708396062,
          462478.1850682293,
          462518.1798890047,
          462555.1659956685,
          462594.5293340744,
          462636.1434944854,
          462677.11407610326,
          462717.59806659113,
          462757.20766220544,
          462794.0289701658,
          462833.1490344446,
          462874.6766992775,
          462915.39813102735,
          462955.36895528727,
          462995.9896764471,
          463037.0997838387,
          463076.8595719034,
          463116.1238729062,
          463157.0757999416,
          463198.0164427694,
          463238.6744708724,
          463276.1920040414,
          463315.2157254889,
          463356.5874787452,
          463397.4673146464,
          463437.7559727999,
          463478.0687111108,
          463517.76109080645,
          463554.1475859719,
          463591.4820118084,
          463631.1307538862,
          463671.7844723496,
          463712.1231889516,
          463753.0200989498,
          463793.6100573263,
          463834.2152267896,
          463874.8181502935,
          463915.5512161973,
          463956.1222848124,
          463996.1321106248,
          464036.545119082,
          464076.31011042814,
          464114.9462405135,
          464152.2805877612,
          464188.1803681477,
          464217.75177958887,
          464256.7438041031,
          464295.83592104656,
          464333.2943362363,
          464373.15296552784,
          464412.8863171794,
          464448.1261958123,
          464479.2825124306,
          464517.0367731949,
          464558.0379386581,
          464599.1090300891,
          464640.22604648775,
          464679.9777630109,
          464719.4254205757,
          464760.6961854881,
          464800.9012764116,
          464839.8501283173,
          464879.00771057,
          464918.1733801676,
          464959.9668115233,
          464999.9761133138,
          465038.9181102713,
          465078.9567798483,
          465118.0065038211,
          465157.9362537568,
          465198.5949116497,
          465239.0831225559,
          465279.68090142513,
          465316.6454883311,
          465326.0082450912,
          465328.666273361,
          465330.9799206299,
          465331.7608932758,
          465332.4260523657,
          465333.3972021872,
          465314.67088505113,
          465280.56596885953,
          465240.44453733845,
          465199.22057817015,
          465158.56260269537,
          465118.29621962016,
          465078.39082913456,
          465038.7714706556,
          464999.90626666776,
          464959.7110313806,
          464919.1678469868,
          464879.6088179057,
          464838.6556341474,
          464798.6955403416,
          464762.5379955325,
          464722.1225751067,
          464682.2242085325,
          464644.4367328994,
          464606.21049246046,
          464566.955594676,
          464527.4470126242,
          464486.3269072968,
          464448.30268151633,
          464411.01429944846,
          464374.9746935074,
          464338.8140994592,
          464300.3999731311,
          464270.92899466166,
          464234.00679939415,
          464192.895679416,
          464152.5131212627,
          464111.2016502771,
          464073.38292718143,
          464036.6406993349,
          463996.81058910536,
          463956.2155235744,
          463916.5115160702,
          463876.507130938,
          463837.1019719748,
          463797.4398622192,
          463756.2088485968,
          463715.8237119901,
          463675.5811780614,
          463635.8758757028,
          463595.519924804,
          463555.5018683033,
          463517.1769662916,
          463480.54218208464,
          463444.101622429,
          463409.7111084653,
          463368.7966615617,
          463328.25002774247,
          463287.7254250662,
          463246.9098129424,
          463208.2057883318,
          463168.82884358143,
          463128.6035466674,
          463087.62266334,
          463046.9106947746,
          463006.75474270014,
          462965.9888763008,
          462925.5487840999,
          462884.92574090895,
          462844.2267985679,
          462803.2492321808,
          462762.5867360228,
          462721.821684867,
          462680.92475245625,
          462640.24509569607,
          462599.6736313285,
          462559.4203442492,
          462519.6899152245,
          462481.6099654778,
          462440.6941104709,
          462400.5558191412,
          462365.5595619298,
          462332.20374122943,
          462295.0296732804,
          462253.5674974954,
          462212.86791839055,
          462173.03624904033,
          462136.5788631828,
          462102.677409354,
          462063.9391046964,
          462025.47054986126,
          461986.20196628897,
          461945.6265357801,
          461905.260976932,
          461865.09407920064,
          461825.91768585495,
          461786.21471612976,
          461746.0695634869,
          461706.2548435375,
          461666.9037877196,
          461629.0434254026,
          461590.811611046,
          461552.338403033,
          461511.5745565021,
          461470.8662666657,
          461430.3542513675,
          461390.349324174,
          461350.3281403575,
          461310.0118401621,
          461269.9170319423,
          461229.4057816391,
          461189.4570602042,
          461149.22920036525,
          461108.9548586828,
          461072.3616457164,
          461035.9569589234,
          461001.0248385578,
          460971.86348218896,
          460942.6045468999,
          460913.6618269858,
          460875.9336876503,
          460835.2502921336,
          460797.1533530334,
          460758.80773604463,
          460720.6345832786,
          460682.2011468808,
          460643.989588713,
          460609.2732902879,
          460578.2711488399,
          460540.877891308,
          460510.34731404926,
          460481.0486166957,
          460444.9396540236,
          460404.4884013967,
          460364.7124684253,
          460324.2545487136,
          460287.4941654523,
          460250.63308062445,
          460211.2627776188,
          460174.3214788079,
          460135.0389578464,
          460097.3886094685,
          460060.7084345588,
          460022.2413396222,
          459982.1007020039,
          459942.20068267954,
          459901.6204827865,
          459861.27726696734,
          459820.8236441776,
          459780.3141806055,
          459739.880126561,
          459700.9802596805,
          459661.2731836971,
          459621.07291517017,
          459580.1518325591,
          459540.0084165527,
          459499.5865748477,
          459459.5048784553,
          459419.562564465,
          459379.4929584153,
          459339.034780057,
          459298.91254887,
          459258.4973606614,
          459218.3179690507,
          459177.6856238361,
          459137.2786091014,
          459097.3247806344,
          459057.0698966184,
          459017.7674375888,
          458978.030452729,
          458937.9788861837,
          458898.1148029021,
          458858.2183998317,
          458818.2402878094,
          458778.1498287051,
          458738.0671858346,
          458700.7261272615,
          458692.1967792245,
          458693.1753432399,
          458693.6526011763,
          458696.17243100255,
          458697.6546739557,
          458699.2875766178,
          458705.9632420871,
          458739.7023450394,
          458778.9494757965,
          458819.4914557905,
          458859.6355807329,
          458899.1121412862,
          458938.7135604887,
          458978.5352284772,
          459018.6744318134,
          459058.70637028647,
          459099.066429576,
          459139.8700157733,
          459179.94413411856,
          459220.18770084914,
          459260.77627543977,
          459301.4037146003,
          459341.6920013369,
          459381.96481005615,
          459422.3513586876,
          459462.664847554,
          459502.7491601312,
          459543.035006215,
          459583.0595642393,
          459623.3539329704,
          459663.3895746854,
          459703.48377154674,
          459743.8125919315,
          459784.05661423865,
          459824.4718939767,
          459864.8967585456,
          459905.1145549109,
          459945.6235699565,
          459985.92744160857,
          460026.4820627834,
          460066.5996963167,
          460107.0707872177,
          460147.3467700808,
          460187.5762227642,
          460227.4180889034,
          460267.2870708123,
          460304.8459702399,
          460341.9128017274,
          460382.52394490485,
          460417.4386663795,
          460455.4239152988,
          460489.41118875856,
          460529.255425242,
          460567.1603949904,
          460606.287795754,
          460644.1466525127,
          460683.3950042437,
          460723.7212192441,
          460764.13553506654,
          460800.7295977184,
          460834.1851628532,
          460871.0839029455,
          460911.7719019501,
          460949.6210635059,
          460990.1459005207,
          461029.5082132523,
          461066.9384251019,
          461103.2066464548,
          461134.72422815504,
          461172.3915261163,
          461211.75898529816,
          461251.0743001655,
          461290.6217538288,
          461330.6653921085,
          461371.33040865127,
          461411.6606746977,
          461452.3948684877,
          461492.8750698231,
          461533.425166548,
          461573.6978114093,
          461614.49329908646,
          461653.09963492514,
          461691.57010561286,
          461730.8435195056,
          461770.6904591825,
          461811.3391615232,
          461851.08553328016,
          461890.690691259,
          461930.8102748341,
          461971.1276415676,
          462011.7982546031,
          462052.3950493811,
          462092.6688703351,
          462132.5903115784,
          462167.5312304832,
          462197.2223470195,
          462229.1111428377,
          462270.7690858265,
          462311.95396120846,
          462351.26729283686,
          462388.3384530993,
          462424.4262923636,
          462461.459296305,
          462501.0092365906,
          462539.7659255349,
          462575.6071267183,
          462616.4099587498,
          462657.1269650021,
          462697.5596125647,
          462738.06674068247,
          462778.7576098781,
          462819.6938020673,
          462860.0545633456,
          462900.6748298219,
          462941.6189880718,
          462982.52256758383,
          463023.4590502024,
          463064.3009325602,
          463104.8200327388,
          463145.4163242935,
          463186.4767102816,
          463226.94251052977,
          463267.46528049937,
          463308.17350487673,
          463348.86025010527,
          463388.8895864965,
          463428.7023454357,
          463469.96847275394,
          463510.10767380986,
          463548.7116578078,
          463586.8317422493,
          463626.4377652166,
          463666.2791423697,
          463706.52742131177,
          463747.4969068134,
          463788.38806613954,
          463828.72717782087,
          463868.860697357,
          463908.7457286859,
          463949.3823178452,
          463989.43253068096,
          464029.8836208581,
          464068.87713631714,
          464106.5954656244,
          464144.45563856576,
          464182.53694027534,
          464222.9768734758,
          464263.4827518385,
          464303.5196376581,
          464344.3957366693,
          464385.2236449595,
          464425.7754652526,
          464465.28977890906,
          464502.7128899546,
          464542.6666671861,
          464582.9450678497,
          464622.0359517876,
          464661.51171917486,
          464700.8525597609,
          464739.92656757234,
          464775.9375150592,
          464814.2266213885,
          464854.7429008969,
          464895.5552707154,
          464936.24177108216,
          464976.9227424475,
          465017.1082162217,
          465058.1845345547,
          465099.05304020544,
          465139.75388868025,
          465180.2351187226,
          465220.789673016,
          465261.7510538069,
          465302.48027285817,
          465340.30619032745,
          465347.9082465186,
          465351.2220662636,
          465354.2996667692,
          465356.9295394307,
          465357.8910888675,
          465358.7246969519,
          465342.517251203,
          465311.1155317972,
          465280.2042356754,
          465243.3802802181,
          465202.9884164978,
          465162.0945696544,
          465122.9002376753,
          465083.4340132054,
          465042.2116594189,
          465001.0700197407,
          464960.2632997863,
          464919.6846998033,
          464879.1270977498,
          464838.6434380299,
          464798.4871215049,
          464759.2147259685,
          464719.74144615233,
          464678.9344822607,
          464638.07139611983,
          464598.3877088576,
          464560.9792481177,
          464523.9861927185,
          464485.95574656496,
          464448.7846847012,
          464409.92218963895,
          464369.8428282105,
          464329.713936042,
          464289.1234056016,
          464252.2219241165,
          464213.881664219,
          464173.9349916077,
          464134.85671032127,
          464094.55593352905,
          464054.2179592665,
          464014.2874106224,
          463975.16325789393,
          463936.4135019311,
          463896.3226956912,
          463856.1887052188,
          463815.6330219288,
          463775.5202979689,
          463735.1761430032,
          463694.588841258,
          463654.4364618988,
          463613.8101037924,
          463573.4840552361,
          463533.9018450765,
          463495.9319149942,
          463459.24112059904,
          463419.9027010963,
          463379.02819971327,
          463338.5230979823,
          463297.6102560357,
          463256.6544516996,
          463215.7665354995,
          463175.1543424732,
          463134.7533509251,
          463094.2028714971,
          463053.8317879725,
          463014.1789015855,
          462974.32158690726,
          462933.2103115507,
          462892.5618467894,
          462852.0118522429,
          462811.6156678184,
          462771.2403812565,
          462730.8816782633,
          462690.73553302337,
          462650.3711873796,
          462609.8638090172,
          462569.3536702732,
          462528.7521971586,
          462488.182273231,
          462447.43483942666,
          462406.8245183718,
          462366.3452100837,
          462327.4862903648,
          462291.6382379964,
          462253.32570110215,
          462212.45315805066,
          462172.913275226,
          462140.29812774673,
          462100.8465503265,
          462063.8954731071,
          462022.81907160376,
          461981.80561788566,
          461940.9484145921,
          461900.3790713929,
          461860.33321388473,
          461820.5533630588,
          461780.72133056674,
          461740.7436845354,
          461701.0657775956,
          461661.67785190826,
          461623.0457067472,
          461585.3033733158,
          461545.8292838303,
          461505.2790990828,
          461465.156287744,
          461425.9206165192,
          461386.0067716721,
          461345.4706822456,
          461304.91219018574,
          461265.1453316097,
          461224.9851005747,
          461184.8833676082,
          461144.68181120406,
          461104.2736138082,
          461063.8096707915,
          461023.55632154655,
          460983.3683834854,
          460943.329045891,
          460903.3866271605,
          460863.0891520532,
          460822.6137279864,
          460782.2804058223,
          460745.6432298142,
          460709.3357501671,
          460669.0630192021,
          460628.57598751294,
          460588.1028865948,
          460547.6689452588,
          460507.9965794507,
          460473.9887423308,
          460438.33065744943,
          460397.6739771465,
          460358.3523553796,
          460321.70789993554,
          460282.1430749535,
          460242.2491849506,
          460201.8615311114,
          460161.6543966825,
          460121.5017386138,
          460081.5719151146,
          460041.256885077,
          460000.4546835879,
          459959.94707136514,
          459919.7995935487,
          459879.30225825496,
          459838.90084686974,
          459798.6453334914,
          459758.3439275082,
          459718.265250218,
          459678.102350699,
          459637.7315346264,
          459598.1637974522,
          459558.0669094274,
          459517.5130286027,
          459476.92315284593,
          459436.5157440939,
          459396.1109047856,
          459356.42472454783,
          459316.1794986072,
          459275.87008516816,
          459235.4906116938,
          459194.9974135694,
          459154.8516828375,
          459114.59183147934,
          459074.3830673557,
          459034.3654167561,
          458993.8793676811,
          458953.9255557103,
          458913.7765114527,
          458873.7110205373,
          458833.49723573495,
          458793.47326646047,
          458753.162645733,
          458720.67423844384,
          458718.02538984,
          458718.8405426429,
          458721.51194320514,
          458723.75754045736,
          458725.5786927001,
          458727.14909969753,
          458750.6626432673,
          458789.2360871367,
          458829.23020307615,
          458869.1258163921,
          458909.1312154599,
          458949.18003639934,
          458989.8980434602,
          459030.0530398496,
          459070.139267919,
          459111.0843159783,
          459151.39711049607,
          459191.3521515459,
          459231.6832800773,
          459272.0890014635,
          459312.6104818456,
          459353.0483077461,
          459392.3622883867,
          459432.6889395077,
          459470.18180459074,
          459507.222389653,
          459546.52303543687,
          459585.8344480577,
          459625.283708908,
          459665.1999681444,
          459705.1797259924,
          459745.7436132257,
          459786.1489422991,
          459826.2559105599,
          459866.34105246223,
          459906.43542227,
          459946.73449172336,
          459987.25060900295,
          460027.8929467705,
          460067.7547983589,
          460107.83271449147,
          460147.73869050905,
          460188.10122063785,
          460228.5442148755,
          460268.5476531737,
          460307.7055792848,
          460346.3757844601,
          460382.4573457367,
          460421.7671531424,
          460462.1792162851,
          460501.1906903883,
          460535.3678137531,
          460568.0469572536,
          460604.3465472775,
          460639.67985955975,
          460678.6081792897,
          460718.6167547248,
          460752.0486000672,
          460791.187410726,
          460826.52362472046,
          460864.0303656001,
          460901.3356824664,
          460939.4052775244,
          460978.61538662825,
          461018.7985564119,
          461058.5309759237,
          461096.3957160845,
          461137.0456374396,
          461177.8029065557,
          461217.9109274442,
          461257.7961435166,
          461297.8491383137,
          461338.42202544527,
          461378.84486106585,
          461419.09792291065,
          461458.402384854,
          461497.44856378215,
          461536.8607059702,
          461576.96998307033,
          461618.0449857673,
          461657.065753182,
          461695.31745925226,
          461734.74367685104,
          461774.9999681664,
          461815.11029343656,
          461854.8147834716,
          461894.4321390037,
          461934.2989179863,
          461975.208149907,
          462015.8711316607,
          462056.2776337504,
          462095.4104683199,
          462135.8311594359,
          462175.9809449465,
          462216.49743232585,
          462257.1039346272,
          462297.7453982101,
          462338.3050215992,
          462378.9111235178,
          462419.2369638037,
          462459.1033423401,
          462499.6006438532,
          462539.94358312007,
          462580.3704074662,
          462620.7590187431,
          462660.7720680358,
          462701.0320614684,
          462741.88170759706,
          462782.2607002085,
          462821.7281061834,
          462861.8564135257,
          462901.98446003936,
          462942.6799728277,
          462982.8209772803,
          463023.5644892221,
          463064.3844675482,
          463105.2468298873,
          463145.15544439154,
          463182.60196690593,
          463222.3142307251,
          463262.52234577946,
          463302.9820730622,
          463342.07867182815,
          463381.1190833382,
          463421.0450994463,
          463461.6984956879,
          463502.56446524576,
          463543.16689761385,
          463583.55942904425,
          463624.2746648268,
          463665.0532073182,
          463705.45764406055,
          463745.64813452313,
          463786.3613354554,
          463827.1825247668,
          463867.7250222591,
          463907.43593305786,
          463947.6332431653,
          463988.2784848461,
          464028.7185206625,
          464069.1046133289,
          464109.6006118616,
          464150.47557212936,
          464190.0281674197,
          464229.42296224553,
          464269.9971435508,
          464308.1498131071,
          464345.3331035563,
          464384.76132743456,
          464424.9708694033,
          464465.3291344056,
          464505.9627389401,
          464546.06001072726,
          464586.0124354662,
          464625.5550098174,
          464665.8008464534,
          464705.0426453315,
          464745.7232547021,
          464786.3211845232,
          464826.72308876616,
          464866.9657004723,
          464907.7455833158,
          464948.1400882541,
          464988.76346953074,
          465029.31017055415,
          465068.18753731454,
          465106.4729628218,
          465145.95007002575,
          465185.1601240947,
          465224.0519468774,
          465262.6064218428,
          465300.08914925664,
          465338.1052682632,
          465372.3974617025,
          465380.3613025128,
          465389.0894394224,
          465398.8168895061,
          465407.8198261736,
          465415.6269379962,
          465423.6813564362,
          465431.699948414,
          465439.8353955117,
          465447.6136112004,
          465455.807092365,
          465463.5139166132,
          465471.6091122535,
          465479.9741559687,
          465488.0190858856,
          465496.462112542,
          465504.8328534088,
          465513.1155160676,
          465521.4616032006,
          465529.40375739615,
          465537.7017928341,
          465545.643845296,
          465553.6674338783,
          465562.0249490928,
          465570.1379763093,
          465578.79141744645,
          465586.5630424431,
          465594.8606025571,
          465603.0358661362,
          465611.6247587094,
          465619.6726454657,
          465627.60952848085,
          465636.0141665909,
          465644.1988791514,
          465652.1023896593,
          465660.0791294951,
          465667.5884919836,
          465676.02420609386,
          465684.0724563143,
          465691.9700064989,
          465700.3165866796,
          465708.7202182581,
          465716.9907362063,
          465725.3284351041,
          465733.33802908735,
          465741.2983709498,
          465748.8633141615,
          465756.6783524803,
          465765.17570876406,
          465772.9398242887,
          465781.0072654622,
          465789.6587766711,
          465798.0014738147,
          465806.1495984137,
          465814.5018452116,
          465822.9841971218,
          465831.4132655215,
          465839.5838750333,
          465847.94131936855,
          465856.4228726201,
          465864.58841722045,
          465872.9761428887,
          465880.81650203984,
          465889.077502345,
          465897.1661826481,
          465905.3913724108,
          465913.60559734295,
          465921.6439180519,
          465930.161760765,
          465938.4751178336,
          465946.8678105264,
          465955.2856085934,
          465963.8359936117,
          465971.91153729055,
          465980.1882997153,
          465988.683276418,
          465996.9265436824,
          466005.1506286354,
          466013.4076670028,
          466021.526729647,
          466029.67955624725,
          466037.80749947607,
          466045.8021410195,
          466054.1072856652,
          466062.8225561076,
          466071.0184496212,
          466079.56479341,
          466088.0483964592,
          466096.22204941,
          466104.502945908,
          466112.40690658864,
          466119.7938382049,
          466128.0324385573,
          466136.3991849753,
          466145.2408148568,
          466153.37006150326,
          466161.4986801242,
          466169.7133536183,
          466178.2191459333,
          466186.568969165,
          466195.0892048136,
          466202.8973203423,
          466210.6097754838,
          466218.18486910855,
          466224.9973946392,
          466232.8109394113,
          466241.2585788656,
          466249.114311136,
          466256.6200182426,
          466264.2289542061,
          466272.3832378824,
          466280.6556355933,
          466288.9419938174,
          466297.1315167867,
          466305.6004592827,
          466313.6604587088,
          466321.75087734463,
          466329.4070149334,
          466337.11939218,
          466345.46798350057,
          466353.34040439146,
          466361.79107686784,
          466370.3132338173,
          466378.2338867592,
          466386.6118513907,
          466395.6651250313,
          466403.1523256472,
          466412.2818875325,
          466420.2108952382,
          466428.719187433,
          466436.1697883024,
          466445.6124581378,
          466448.7892943405,
          466447.2334405118,
          466447.8903181299,
          466447.1982146426,
          466447.8177703088,
          466447.876236684,
          466447.96697434457,
          466448.3204353795,
          466448.5608442662,
          466449.0159816903,
          466449.478728601,
          466449.5969609032,
          466449.25662089896,
          466449.8427116524,
          466449.9582946911,
          466450.75644409045,
          466450.5443148142,
          466450.8006517694,
          466450.8202736279,
          466450.1951219294,
          466450.4263335144,
          466450.70184862806,
          466451.37997982977,
          466452.2299608748,
          466452.3363273767,
          466453.15072922304,
          466453.1989086481,
          466452.9773308922,
          466453.3286473319,
          466453.3649138587,
          466453.32805887295,
          466453.5018171341,
          466453.5131540892,
          466453.2419045215,
          466453.53581512976,
          466454.0121288752,
          466454.63195436593,
          466454.8518569212,
          466455.0834496882,
          466455.1251851009,
          466455.3217543927,
          466455.9641984265,
          466455.9434513935,
          466455.6580437828,
          466455.6367047,
          466456.2653410652,
          466456.32425470266,
          466456.6637792536,
          466456.8337002077,
          466457.1587140515,
          466457.4437556455,
          466458.0629321997,
          466458.11984099087,
          466458.2199163254,
          466458.1841667433,
          466458.72678993625,
          466459.0282191997,
          466459.27864419046,
          466459.573720316,
          466459.61173904175,
          466459.76751947566,
          466459.9016044524,
          466459.912321869,
          466460.5280847577,
          466460.3884343177,
          466460.4982354173,
          466461.0945476029,
          466461.20429408696,
          466461.5792411486,
          466461.81787039846,
          466461.6736662741,
          466461.92000492045,
          466461.59065024304,
          466462.22989145527,
          466462.6516983198,
          466462.5575346892,
          466462.9502511083,
          466463.04475344927,
          466463.1852305058,
          466463.3703421924,
          466463.78582231095,
          466464.6199135592,
          466464.3598953224,
          466464.240052058,
          466464.2318683601,
          466464.7367065072,
          466465.32438585575,
          466465.2461169728,
          466465.94365973753,
          466465.5964814367,
          466465.2937899134,
          466465.4727021493,
          466466.1407607488,
          466465.978329848,
          466466.2999121672,
          466466.6304322986,
          466466.971485317,
          466467.1169249776,
          466467.357141408,
          466467.52002952114,
          466467.9096097984,
          466468.13511355344,
          466468.27755905234,
          466468.6076302556,
          466468.55617588427,
          466468.7589901677,
          466469.246665011,
          466469.3651344995,
          466469.6685110724,
          466469.8263171525,
          466470.1560691485,
          466470.381756904,
          466470.7712477401,
          466471.2880341896,
          466471.2385324396,
          466471.2708834012,
          466471.3113773117,
          466471.3267276036,
          466471.3876972884,
          466471.4582172006,
          466471.7822092845,
          466472.1447054589,
          466472.4902657872,
          466472.7330591744,
          466472.9110730128,
          466472.9428061484,
          466473.14556245547,
          466473.2878078795,
          466473.6002805085,
          466473.9542468009,
          466474.34660435707,
          466474.5387540967,
          466474.6965287834,
          466474.81182873127,
          466475.3062494223,
          466475.7605166184,
          466475.96587237134,
          466475.9345909751,
          466476.2661352451,
          466475.99340737646,
          466476.237035465,
          466477.8357832222,
          466479.9964166709,
          466481.9188064312,
          466483.68167182704,
          466486.094854826,
          466487.7574657569,
          466489.47620880784,
          466491.6049851486,
          466493.27657943696,
          466495.4954285279,
          466497.2050778609,
          466499.1132064622,
          466501.1664260801,
          466503.2131005395,
          466504.8691715629,
          466506.65950886847,
          466508.3886001217,
          466510.0650865196,
          466511.9935135606,
          466514.19964900846,
          466516.2690127818,
          466518.17432338616,
          466520.0520451382,
          466521.830432178,
          466523.59354865423,
          466525.8863271856,
          466527.6038789199,
          466529.4606146257,
          466531.7349143835,
          466533.3235565628,
          466535.2687755827,
          466537.3856256162,
          466539.0974036471,
          466540.7506274327,
          466542.3845209733,
          466544.92969348887,
          466546.69824920257,
          466548.466141331,
          466550.3638061183,
          466552.2505164931,
          466554.10294134746,
          466556.0766389996,
          466558.0876990562,
          466559.6132969656,
          466561.7760274184,
          466563.5821608802,
          466565.8349301389,
          466567.4697861445,
          466569.6970644849,
          466571.5239863123,
          466573.45516186935,
          466575.12014043744,
          466577.9225814432,
          466578.5997443125,
          466579.98881748377,
          466582.081359496,
          466583.5342631944,
          466585.1310558852,
          466587.2276172598,
          466589.0384283953,
          466591.3267941668,
          466593.3685634245,
          466594.7530587884,
          466595.9718782024,
          466597.686331008,
          466599.4896036888,
          466601.60149750544,
          466603.523107289,
          466605.69701737247,
          466607.0693743115,
          466608.8690445884,
          466610.2581020727,
          466612.52680779627,
          466614.58716174687,
          466616.37583337375,
          466618.5632035576,
          466620.5505784905,
          466622.2104567417,
          466624.07286801736,
          466626.09581051406,
          466628.0974378864,
          466630.0495552932,
          466632.02896005264,
          466633.86124834674,
          466635.8397834788,
          466637.4759825528,
          466639.27200397296,
          466641.1670085672,
          466642.9598889982,
          466645.0333557701,
          466647.1515286004,
          466648.8467697074,
          466650.6108275909,
          466652.8514783939,
          466654.425784977,
          466656.4326779424,
          466658.22498295,
          466660.365232315,
          466662.0501330799,
          466663.9095541208,
          466665.93113670766,
          466667.8086913049,
          466669.8403349767,
          466671.7808307553,
          466673.7603738597,
          466675.8752437546,
          466677.59698697913,
          466679.7526070642,
          466681.5418540222,
          466683.2569264849,
          466685.0919613309,
          466687.0126252576,
          466688.9392997777,
          466690.6616817716,
          466692.69289220194,
          466694.51982776274,
          466696.6806548041,
          466698.7028258602,
          466700.66792205774,
          466702.2661973521,
          466704.2710591732,
          466706.0833126708,
          466707.95802147,
          466709.8547605058,
          466711.3732649802,
          466713.3410049428,
          466714.9424904469,
          466716.8035433755,
          466718.7907430828,
          466721.0739342722,
          466723.0575371955,
          466724.4501422654,
          466725.94176794303,
          466727.87848641776,
          466729.9957968049,
          466732.152519265,
          466734.0943421614,
          466736.1400536867,
          466737.9943036884,
          466740.0735020993,
          466741.51687339606,
          466743.3262458764,
          466745.13893283694,
          466746.8850773639,
          466749.1006183943,
          466750.880060281,
          466752.9367955893,
          466754.927349277,
          466756.7576605104,
          466758.7758439656,
          466760.87707307824,
          466762.74141162535,
          466764.2841894409,
          466765.8566212726,
          466767.83988208993,
          466769.97669350327,
          466771.9989294168,
          466773.96306615166,
          466775.7626676185,
          466777.56068098,
          466779.58773140766,
          466781.5913737095,
          466783.4313163646,
          466785.16848404246,
          466786.97225703776,
          466789.0123190349,
          466790.7415936123,
          466792.5746543359,
          466794.82603432937,
          466796.4343547956,
          466798.0187868577,
          466799.8935890163,
          466801.8918448532,
          466803.71762280166,
          466805.7409110151,
          466807.9857503284,
          466810.18442504655,
          466811.55728821387,
          466813.2845809192,
          466815.6839912596,
          466817.6700532105,
          466819.2956407864,
          466821.3023833215,
          466822.7190032825,
          466824.6122975231,
          466826.5221781792,
          466828.25522629527,
          466830.2962882176,
          466832.7097209528,
          466833.8615651431,
          466835.3144158392,
          466837.2516829256,
          466839.4287343613,
          466841.0500694519,
          466843.0806601647,
          466844.8851103356,
          466846.7053270917,
          466848.7060048915,
          466850.539686544,
          466852.20288411353,
          466854.1992703268,
          466856.06229296833,
          466857.98638730944,
          466859.960571648,
          466861.71610247495,
          466863.7361143774,
          466865.5513239268,
          466867.7471958573,
          466869.2110337327,
          466871.2628630554,
          466873.2787220885,
          466875.57650746335,
          466877.1489836948,
          466878.9087062939,
          466867.41303108056,
          466830.1622697041,
          466794.2611720366,
          466755.0996107231,
          466715.4316255886,
          466675.8184720567,
          466652.6032437196,
          466650.8200016518,
          466648.3953218427,
          466646.4164524314,
          466644.60179870407,
          466642.5496476858,
          466640.8201456607,
          466639.1027972101,
          466637.36813547247,
          466636.12374179286,
          466633.5871774541,
          466632.062672253,
          466630.077743709,
          466628.6011510448,
          466626.8382159207,
          466625.2093720255,
          466623.4516690247,
          466621.1455711986,
          466619.4401637741,
          466617.93306346505,
          466616.01303235313,
          466614.4160973535,
          466612.479706464,
          466610.4659966624,
          466608.506899782,
          466606.47448567295,
          466605.05655847245,
          466602.970691427,
          466601.3584363585,
          466599.09858437337,
          466597.55066792935,
          466595.2097477835,
          466594.1928279735,
          466592.3679387544,
          466590.2440178814,
          466588.2424660685,
          466586.7074745817,
          466584.863253163,
          466582.7887297618,
          466581.1558070725,
          466579.5336608728,
          466577.2297747142,
          466575.8952700395,
          466573.7231859204,
          466572.16896073247,
          466570.1589067723,
          466568.4502925045,
          466566.71816997614,
          466564.45416615065,
          466563.0360683898,
          466560.9745030082,
          466559.46266193874,
          466557.5234147081,
          466555.7456133634,
          466554.1169771178,
          466552.3435151671,
          466550.5277489873,
          466548.49170386535,
          466546.3037655422,
          466544.8696084936,
          466542.88353604113,
          466541.0103307735,
          466539.2006690333,
          466537.5067863272,
          466535.7779978993,
          466533.8780486493,
          466532.1646760104,
          466530.37927588256,
          466528.89573459525,
          466526.8599064463,
          466525.00302841066,
          466522.9099324594,
          466520.9825891565,
          466518.9624885519,
          466517.22529961367,
          466515.3930269163,
          466513.9001014525,
          466512.1786599427,
          466510.1995103517,
          466508.7497174484,
          466506.7183471185,
          466504.73897973873,
          466503.21468716505,
          466501.8846304103,
          466499.9446823237,
          466498.6634589887,
          466496.69765749376,
          466494.89026135474,
          466493.0550344167,
          466491.176102526,
          466489.2311837064,
          466487.2940087855,
          466486.32389264606,
          466484.4646631136,
          466482.7097633184,
          466480.6278233835,
          466478.50140462513,
          466477.0180441458,
          466474.9518202367,
          466473.3866094668,
          466471.6261531552,
          466469.8604206168,
          466467.8967586866,
          466465.9714673183,
          466464.30051362736,
          466462.372082777,
          466460.39171035145,
          466458.6865555675,
          466456.84777620446,
          466455.1192428891,
          466453.2004143166,
          466451.19463414827,
          466449.6048709046,
          466447.852090395,
          466445.8931124164,
          466444.0031897398,
          466442.0619086769,
          466440.1714708535,
          466438.352066358,
          466436.3861453479,
          466434.65112823993,
          466432.72138854826,
          466430.9189262315,
          466429.24315199006,
          466427.3583128177,
          466425.5036448394,
          466423.8369675842,
          466421.9479161744,
          466420.1079839917,
          466418.3708047874,
          466416.66253751656,
          466414.520925215,
          466412.91340142017,
          466411.0682078594,
          466409.36217489786,
          466407.6296569576,
          466405.7789863418,
          466404.5322862738,
          466402.7510821648,
          466400.0898160249,
          466399.043240628,
          466396.8601468173,
          466395.27128156426,
          466393.2839053436,
          466391.2109089639,
          466389.41307323,
          466387.41685123567,
          466385.8039881969,
          466383.94741246966,
          466382.21461751056,
          466380.4931983492,
          466378.920435465,
          466377.0847769365,
          466375.5124805324,
          466373.4263739272,
          466371.86296259926,
          466369.7674401524,
          466367.9995363006,
          466366.0638289386,
          466364.2778654769,
          466362.5582069319,
          466360.9702270887,
          466358.8645022968,
          466357.0854625449,
          466354.8937410224,
          466353.5574041456,
          466352.0219946669,
          466349.98254538194,
          466348.3739028036,
          466346.2322439765,
          466345.0559025603,
          466343.00219738274,
          466341.28153887694,
          466339.5109078045,
          466337.4514502282,
          466335.7461606069,
          466333.8098995544,
          466332.22149087617,
          466330.3871335925,
          466328.5427436874,
          466326.5062244625,
          466324.68321947067,
          466322.964565817,
          466321.08481954114,
          466319.1460403187,
          466317.2232230085,
          466315.4019562583,
          466313.6239054848,
          466311.700028743,
          466310.0618859495,
          466308.2208418608,
          466306.2780569511,
          466304.6240840241,
          466302.86718505743,
          466301.12191680993,
          466299.184124225,
          466297.6831369055,
          466295.7896433172,
          466293.8670783183,
          466292.2247333154,
          466290.3387528697,
          466288.2638771317,
          466286.627558424,
          466284.75145753205,
          466282.7705697352,
          466281.1349782072,
          466278.9610828281,
          466277.06701669306,
          466275.3062156614,
          466273.185505533,
          466272.0503822549,
          466270.1204445892,
          466268.03708764765,
          466266.4123277613,
          466265.7792214308,
          466265.755067493,
          466265.3976210664,
          466264.27722592594,
          466263.8973590015,
          466263.31841002125,
          466262.2907799949,
          466261.714727804,
          466261.04429294827,
          466260.623303308,
          466260.0095266787,
          466259.1876762293,
          466258.7025180068,
          466258.28583054896,
          466257.8483564544,
          466256.9342783496,
          466256.4079187701,
          466255.8617257987,
          466255.3914775763,
          466254.5164467066,
          466254.2366333627,
          466253.7575112739,
          466253.45752345165,
          466253.2871122557,
          466252.7556689215,
          466252.0453612752,
          466251.3696914476,
          466250.6558800211,
          466249.9070688349,
          466248.9219686977,
          466248.1967508148,
          466247.77631192346,
          466247.24588407006,
          466246.3578684965,
          466246.0615370874,
          466245.2953908295,
          466244.985445297,
          466244.20849713153,
          466243.7805319254,
          466243.2233784519,
          466242.8505456036,
          466242.02428591787,
          466241.1154951585,
          466240.8812165256,
          466240.453795102,
          466239.77426364296,
          466239.2909785276,
          466238.5856749265,
          466238.127888468,
          466237.5321733201,
          466236.8758925919,
          466235.8737568047,
          466235.47687331255,
          466235.0599607643,
          466234.7652658905,
          466233.9811524809,
          466233.3544439803,
          466232.8344890413,
          466232.2605396455,
          466231.6819150342,
          466230.6188849025,
          466230.40458833525,
          466229.77785113954,
          466229.6170719736,
          466228.65650373365,
          466228.5418445738,
          466227.7094913831,
          466226.9964805339,
          466226.5190261124,
          466225.9640626001,
          466225.3733578267,
          466224.8503674081,
          466224.14571401145,
          466223.6842653848,
          466223.5382637407,
          466222.60565274575,
          466222.5321164441,
          466222.0011399951,
          466220.9116127961,
          466220.1479855048,
          466219.9161372446,
          466219.22909088025,
          466218.506040316,
          466218.0929852732,
          466217.2910095132,
          466216.8468965829,
          466216.4717287948,
          466215.7977387573,
          466215.1034242022,
          466214.55490292073,
          466214.04907455336,
          466213.5814556346,
          466212.7552301682,
          466212.24372287135,
          466211.5690915777,
          466211.16255592665,
          466210.4451229583,
          466210.068927573,
          466209.12708175805,
          466208.9068383034,
          466208.5994989641,
          466208.17667274544,
          466207.76792368793,
          466207.4592906013,
          466206.7335813461,
          466205.67830255657,
          466205.370802661,
          466204.70960427576,
          466204.01602299535,
          466203.4543596119,
          466202.9895862385,
          466202.672584264,
          466201.90821265854,
          466201.52070566406,
          466200.7274035131,
          466199.68338835816,
          466199.30823146406,
          466198.7335695459,
          466197.90517962,
          466197.3323731078,
          466196.8337553986,
          466196.25085002696,
          466195.6110044787,
          466195.2759626519,
          466194.5111936964,
          466194.3073399621,
          466193.4916857937,
          466193.02371494414,
          466192.3392910705,
          466192.13574192015,
          466191.4410861848,
          466190.6043253362,
          466190.3292515374,
          466189.5814571345,
          466189.04150742094,
          466188.8899409749,
          466187.99866094376,
          466180.0776861415,
          466170.74794868927,
          466160.95379491424,
          466151.2513354925,
          466141.58295868174,
          466131.8008149203,
          466122.2292774783,
          466112.2025075976,
          466102.1930366937,
          466092.4468744339,
          466082.6418948216,
          466073.77501597774,
          466064.6213656027,
          466054.9419004476,
          466045.991298664,
          466036.1468291516,
          466026.0173343693,
          466016.7615907994,
          466007.0140652985,
          465997.3325770642,
          465987.43745146645,
          465977.64569875033,
          465967.583415598,
          465957.7595880472,
          465948.3229739859,
          465938.66831323976,
          465928.1600986037,
          465918.7580938815,
          465909.0912028191,
          465899.5748593062,
          465889.8592310195,
          465879.8866679579,
          465870.2145988813,
          465860.54130202,
          465850.7603520973,
          465841.0527654255,
          465831.1464714154,
          465821.3754417434,
          465811.57414181565,
          465801.9662856474,
          465792.067898354,
          465781.7753258637,
          465771.9732007267,
          465762.67995965626,
          465753.54910160176,
          465745.0130512491,
          465736.0845450152,
          465726.6115603406,
          465718.6360160622,
          465710.31742971926,
          465701.4239843016,
          465691.14297731954,
          465681.4126925371,
          465671.46088960685,
          465661.4390380279,
          465651.6808525528,
          465641.7215387792,
          465632.2493942673,
          465622.2818358944,
          465612.9184947615,
          465602.870859495,
          465593.1360858539,
          465583.2562647944,
          465574.4403394352,
          465565.40737670666,
          465555.5859515864,
          465546.3275229088,
          465536.1264444536,
          465527.51466223696,
          465519.0387287781,
          465510.0576917538,
          465500.7905798988,
          465491.63653477735,
          465484.4357996776,
          465475.7171088944,
          465465.5849215712,
          465455.7987396093,
          465446.4869928786,
          465436.8722870199,
          465426.32732767554,
          465416.8499473206,
          465406.9741466265,
          465396.5135533882,
          465388.037321736,
          465378.12782219815,
          465368.4917826951,
          465360.3205659068,
          465352.8987249812,
          465343.1977555749,
          465333.7036130096,
          465323.8234330576,
          465314.2378598501,
          465303.8602113026,
          465294.52404191496,
          465284.8895284251,
          465275.352165951,
          465265.50039261655,
          465256.38034076383,
          465246.14249121625,
          465235.6019126078,
          465226.39995123976,
          465216.7169964241,
          465206.7203381226,
          465196.8448209261,
          465187.0630569093,
          465177.4268311223,
          465168.337345695,
          465158.8655772533,
          465149.1540071241,
          465138.97789381625,
          465129.73156682553,
          465096.2468011064,
          465059.3127283373,
          465020.2097101451,
          464980.4424122536,
          464940.2528254501,
          464903.1844048195,
          464871.2010192378,
          464836.044899139,
          464797.3029936812,
          464756.943573755,
          464716.9387627919,
          464676.175945813,
          464635.8738300552,
          464595.3992848863,
          464554.92022211326,
          464514.4081825226,
          464473.6045814098,
          464433.3352755626,
          464393.3746304242,
          464352.9200745881,
          464312.6125312056,
          464272.447922723,
          464231.9923299193,
          464191.6071178985,
          464150.956378694,
          464110.4309281306,
          464069.9615137385,
          464029.41448971926,
          463989.1202652692,
          463949.328281065,
          463909.51858381246,
          463869.8979840249,
          463830.3247340785,
          463790.4991216741,
          463750.0446679894,
          463709.6039807802,
          463669.5055289646,
          463629.32153198606,
          463589.3230154091,
          463549.35123432375,
          463509.0122576165,
          463469.5688575951,
          463430.2223014783,
          463390.6505870916,
          463350.5557553703,
          463310.0590095135,
          463269.5667117017,
          463229.5387499343,
          463189.0712008942,
          463148.5358219369,
          463109.3945645941,
          463069.7610232258,
          463029.63371412526,
          462988.9525879536,
          462948.3048628612,
          462907.8372758162,
          462867.41159787046,
          462826.9772557438,
          462786.8277943592,
          462747.7101738516,
          462708.6783112309,
          462669.0314590959,
          462629.1454545271,
          462589.287581954,
          462548.3965184583,
          462507.6639702151,
          462467.1262748664,
          462427.0458244231,
          462386.9474988777,
          462346.736256602,
          462306.65731539344,
          462266.9696091246,
          462226.7998076527,
          462186.51571757393,
          462146.2329480543,
          462107.1956806664,
          462096.5780541854,
          462096.2878729552,
          462094.5576538885,
          462093.2471981266,
          462092.001685906,
          462100.02313072537,
          462138.30036304216,
          462179.4600990637,
          462220.0677538984,
          462260.3999617352,
          462300.9243799716,
          462341.31034495175,
          462381.3255510596,
          462421.6270186718,
          462461.5842553298,
          462502.1097991616,
          462542.99989991577,
          462583.29387132457,
          462623.76122663904,
          462664.1171468048,
          462704.2063189748,
          462743.7285928115,
          462782.9413329776,
          462823.0478508715,
          462863.8152451605,
          462904.1994489845,
          462944.8272774573,
          462985.35966161615,
          463025.770213848,
          463066.2948341413,
          463106.7647209792,
          463147.0291738396,
          463187.2207948073,
          463227.6622702522,
          463268.428142465,
          463309.1460816555,
          463349.3907286096,
          463388.751551937,
          463426.7519204841,
          463464.9285018872,
          463505.2793743102,
          463546.2043364989,
          463586.0549303989,
          463626.51881389687,
          463665.6426770977,
          463706.68587817706,
          463747.1595896573,
          463787.4566970652,
          463828.1316350521,
          463868.2370609013,
          463908.0765863711,
          463948.5102311736,
          463988.59086500935,
          464028.0652112356,
          464068.0108172394,
          464108.4336767828,
          464148.6796225973,
          464189.2338786282,
          464229.6885648345,
          464269.9691547226,
          464310.43886115454,
          464350.9403410924,
          464391.1323259144,
          464431.0501538342,
          464471.0837657292,
          464511.404592782,
          464551.85636655847,
          464592.22314554953,
          464633.6717483616,
          464672.5177621281,
          464710.05750197766,
          464748.3774834574,
          464788.30849555583,
          464826.2087973864,
          464864.4624885632,
          464903.9432433182,
          464945.27320893767,
          464985.7032453319,
          465024.1942832941,
          465062.7711038668,
          465101.9914565688,
          465124.8365179012,
          465120.9113097699,
          465115.2636707616,
          465118.2967306515,
          465122.7112115688,
          465126.35000886535,
          465127.3476427707,
          465130.3196459895,
          465128.8469675484,
          465127.5401686992,
          465126.384892758,
          465122.7673196612
         ],
         "xaxis": "x",
         "y": [
          1788913.1015373822,
          1788908.016446895,
          1788877.7715366893,
          1788844.394088122,
          1788809.9207500424,
          1788772.103585829,
          1788733.168790605,
          1788693.4932600225,
          1788653.5923906788,
          1788613.6680753566,
          1788573.7641010648,
          1788534.169671059,
          1788494.4369035205,
          1788454.3729026169,
          1788414.3412717022,
          1788374.3141819416,
          1788334.389953564,
          1788294.4046505122,
          1788254.6465447666,
          1788214.8336006096,
          1788175.4369377596,
          1788135.644273147,
          1788095.4483344927,
          1788055.6033316934,
          1788015.7947747111,
          1787976.3229290005,
          1787936.903646687,
          1787897.9334405707,
          1787868.4010604415,
          1787838.565933562,
          1787806.2670989288,
          1787774.097810096,
          1787742.3972242102,
          1787711.7374382075,
          1787682.2271621358,
          1787651.3275707625,
          1787619.4322575498,
          1787587.9351796778,
          1787557.522790946,
          1787526.3290303713,
          1787494.7840308454,
          1787463.729117467,
          1787432.9283205215,
          1787401.5734500233,
          1787370.0076672528,
          1787339.8006411009,
          1787308.6654383969,
          1787277.2932087872,
          1787247.2001233306,
          1787216.403256176,
          1787185.2645096648,
          1787154.0680085355,
          1787122.8725155136,
          1787091.334126684,
          1787059.85286149,
          1787028.4433880066,
          1786997.228203047,
          1786965.8426476438,
          1786934.6570465062,
          1786903.1267139548,
          1786871.5329264067,
          1786840.1878018817,
          1786808.771316192,
          1786777.4657067517,
          1786746.8038368477,
          1786715.559634434,
          1786684.151164813,
          1786652.6324680336,
          1786621.202463219,
          1786589.7529893331,
          1786559.0961391255,
          1786528.5875940882,
          1786497.9165852843,
          1786467.153001084,
          1786435.4268855248,
          1786404.381881496,
          1786373.2874126844,
          1786341.8193292972,
          1786310.306975198,
          1786278.7701550107,
          1786247.249335668,
          1786215.6415730994,
          1786184.0664179493,
          1786152.609464991,
          1786121.01924087,
          1786089.7173831444,
          1786058.4963945914,
          1786027.1265253192,
          1785995.5970461322,
          1785964.51184347,
          1785934.6941232097,
          1785903.7564452663,
          1785871.7593527148,
          1785840.9412736837,
          1785811.0556566138,
          1785780.2547616912,
          1785748.9146938147,
          1785717.1414284734,
          1785685.6758623049,
          1785654.3372894954,
          1785623.1241098484,
          1785592.114257088,
          1785561.7322073802,
          1785531.8765255976,
          1785501.2752570948,
          1785469.7531143678,
          1785438.6161806872,
          1785408.5391550483,
          1785380.526710689,
          1785349.689721119,
          1785318.3371687802,
          1785286.2833431307,
          1785254.7286687857,
          1785223.3358932035,
          1785191.799945193,
          1785160.364726658,
          1785129.0506247515,
          1785097.534042715,
          1785065.9292661706,
          1785034.53331625,
          1785003.1168676056,
          1784971.861334498,
          1784940.2861882336,
          1784908.8731696587,
          1784877.432431619,
          1784846.0678230517,
          1784814.4830918498,
          1784783.132372791,
          1784751.9661011482,
          1784720.604006115,
          1784689.0003197044,
          1784657.6314159306,
          1784626.731375943,
          1784595.6574090216,
          1784563.876109369,
          1784532.4903483968,
          1784501.330151244,
          1784469.6557853995,
          1784438.1077140262,
          1784406.8475118456,
          1784375.1370565286,
          1784343.4803464347,
          1784322.3954110283,
          1784296.4785210611,
          1784273.0316753294,
          1784249.4535310492,
          1784225.9455199968,
          1784202.6876340648,
          1784179.340615081,
          1784156.2310009385,
          1784132.9586785482,
          1784109.575593154,
          1784086.8412214182,
          1784063.8306438252,
          1784040.6858108183,
          1784017.7286480488,
          1783994.3575617764,
          1783970.8753497684,
          1783947.599764375,
          1783924.7695689462,
          1783901.4051192598,
          1783878.081566805,
          1783854.6744669238,
          1783831.384069236,
          1783808.0866965037,
          1783784.8733587803,
          1783761.6664058857,
          1783738.748193603,
          1783715.755813716,
          1783693.3693685643,
          1783670.8641831968,
          1783648.450758146,
          1783624.4455170147,
          1783600.7986286003,
          1783577.5629926955,
          1783554.383214267,
          1783531.4182671169,
          1783509.476641479,
          1783487.022504462,
          1783463.8422816703,
          1783440.1456757805,
          1783416.8207892517,
          1783393.6702328157,
          1783370.667921408,
          1783347.9372484898,
          1783325.049448778,
          1783301.6677942963,
          1783278.309347774,
          1783254.883548014,
          1783231.236804733,
          1783208.5641552098,
          1783184.5850953786,
          1783161.8918813355,
          1783139.1616983025,
          1783116.5883608162,
          1783094.078787419,
          1783070.3630269198,
          1783047.7337024994,
          1783024.8803594476,
          1783002.5128094554,
          1782980.3807967948,
          1782957.1062422432,
          1782934.2558285464,
          1782912.5347699402,
          1782892.1852375744,
          1782871.653299922,
          1782849.050391051,
          1782824.931729366,
          1782802.6598704094,
          1782779.4228528747,
          1782757.0729790712,
          1782733.5984677903,
          1782710.0658904975,
          1782686.688379175,
          1782664.2368685538,
          1782641.5899752136,
          1782618.2800180223,
          1782594.7311051702,
          1782571.8075412365,
          1782548.2751278917,
          1782524.9320209185,
          1782501.9753003437,
          1782478.762531383,
          1782455.23126111,
          1782432.0083300816,
          1782408.644792487,
          1782385.4821426133,
          1782362.2050546072,
          1782338.798828205,
          1782315.6342137968,
          1782292.3414842868,
          1782269.163821632,
          1782245.8643322077,
          1782222.5906274207,
          1782199.584925876,
          1782176.2322793703,
          1782152.9540573405,
          1782129.2149604214,
          1782106.386946925,
          1782083.699372922,
          1782060.1533877812,
          1782038.1192748128,
          1782014.6691877022,
          1781991.421101667,
          1781968.3049126612,
          1781945.281068041,
          1781922.7516468046,
          1781901.8175751464,
          1781879.247381962,
          1781854.643129928,
          1781830.951015233,
          1781807.4005418625,
          1781784.941713059,
          1781767.258874087,
          1781749.564802276,
          1781726.4467227766,
          1781703.233038484,
          1781680.2302373936,
          1781656.8290702058,
          1781633.2745911088,
          1781609.6611472312,
          1781586.4581789551,
          1781563.5890091837,
          1781539.9996677227,
          1781516.5810662843,
          1781493.692153221,
          1781470.3053595442,
          1781447.2486830456,
          1781423.224687945,
          1781400.262277644,
          1781377.1885648184,
          1781353.6017374396,
          1781330.2153793508,
          1781306.9824350458,
          1781283.6701729167,
          1781260.4142757189,
          1781237.264306386,
          1781213.9479116593,
          1781192.1554522738,
          1781169.331808799,
          1781146.3814289125,
          1781123.9133538436,
          1781100.56450631,
          1781078.2938318262,
          1781054.9306624057,
          1781031.365031153,
          1781007.9282698752,
          1780984.3628534544,
          1780961.382848807,
          1780938.5351891052,
          1780915.0434188768,
          1780892.58226409,
          1780871.385018969,
          1780849.2586350432,
          1780829.0362812327,
          1780806.8700388605,
          1780784.2732408876,
          1780761.085371119,
          1780738.553089328,
          1780715.1322282702,
          1780691.8234647997,
          1780668.0587124908,
          1780645.483221556,
          1780622.106019902,
          1780600.0405448442,
          1780577.0962893544,
          1780555.1717315435,
          1780533.5115938224,
          1780511.073139683,
          1780487.398310721,
          1780464.216265643,
          1780441.1504493682,
          1780417.1446885886,
          1780393.7292738203,
          1780371.0828313865,
          1780349.532983563,
          1780328.064731706,
          1780304.6686721577,
          1780281.8448318932,
          1780262.0886376535,
          1780238.1719715716,
          1780214.2837203303,
          1780191.1236228338,
          1780167.3004667992,
          1780144.226197646,
          1780120.476421508,
          1780097.2043136973,
          1780073.800606276,
          1780050.3372541852,
          1780026.3232747614,
          1780003.960846709,
          1779980.4155593626,
          1779957.7954395432,
          1779933.943924955,
          1779911.001214168,
          1779887.641284504,
          1779864.7455980943,
          1779841.369245018,
          1779819.2513761492,
          1779796.7190773692,
          1779773.219187404,
          1779749.2982675005,
          1779725.543196191,
          1779702.073324453,
          1779679.2638304671,
          1779656.8117007883,
          1779633.403671897,
          1779609.9863482255,
          1779586.820258541,
          1779563.1271073716,
          1779540.0538288215,
          1779516.9813460736,
          1779493.491658426,
          1779470.433457516,
          1779446.8352912215,
          1779424.0993284006,
          1779400.0554789845,
          1779376.7249514908,
          1779353.6406168174,
          1779330.8965531532,
          1779307.4098966029,
          1779283.5439340398,
          1779260.7561591612,
          1779238.2179768083,
          1779214.9556833534,
          1779192.389903495,
          1779172.2273769977,
          1779151.3993851095,
          1779127.1321192496,
          1779103.6996224253,
          1779079.978691266,
          1779056.1023725402,
          1779032.0891972603,
          1779020.225784751,
          1779026.3178176302,
          1779020.128757624,
          1779018.946288501,
          1779017.80625383,
          1779016.0292793913,
          1779014.9525910595,
          1779013.2397237578,
          1779011.5177983064,
          1779010.0540972473,
          1779008.1395621384,
          1779006.2344102338,
          1779004.797503488,
          1779001.9734648643,
          1778999.8475218003,
          1778998.2232480487,
          1778996.2263741512,
          1778994.1950968718,
          1778993.5218158497,
          1778993.6195169548,
          1778991.3230730006,
          1778988.26685506,
          1778985.040454452,
          1778983.7489927644,
          1778982.4756362606,
          1778980.6835268904,
          1778979.168760554,
          1778978.0266043516,
          1778975.74647196,
          1778973.3802265022,
          1778972.7674831487,
          1778973.34407336,
          1778972.0155511089,
          1778969.9209882151,
          1778967.4262716612,
          1778964.759699829,
          1778962.3095775284,
          1778960.5992524624,
          1778958.6874940535,
          1778956.12661207,
          1778954.2254270194,
          1778952.568244974,
          1778950.2160441997,
          1778949.076357599,
          1778947.4737045206,
          1778945.640018436,
          1778944.441332942,
          1778942.7472961545,
          1778940.0049984995,
          1778938.1040737322,
          1778936.307986437,
          1778934.2752577364,
          1778933.2692928016,
          1778930.6441818336,
          1778928.0463400148,
          1778927.1383541117,
          1778925.556576196,
          1778923.3271239223,
          1778923.829724554,
          1778923.1194605846,
          1778921.526758992,
          1778920.346347495,
          1778917.2491571875,
          1778914.9497917823,
          1778913.1335749542,
          1778911.2515987698,
          1778909.4989541154,
          1778907.4064436583,
          1778906.3802493075,
          1778904.6833074763,
          1778902.643106332,
          1778900.8394341888,
          1778899.2292535724,
          1778897.5449334187,
          1778895.755524003,
          1778893.5441712746,
          1778891.6234668223,
          1778890.104467824,
          1778887.902077389,
          1778886.389460519,
          1778885.3337583896,
          1778883.468684845,
          1778881.8852189071,
          1778879.698478537,
          1778877.609509537,
          1778875.7872629752,
          1778874.306839683,
          1778872.620982361,
          1778871.230920622,
          1778868.8025992217,
          1778867.1043506693,
          1778865.3030444458,
          1778864.196650931,
          1778862.5349199334,
          1778860.9387920117,
          1778858.9648113372,
          1778857.250674476,
          1778855.0071870834,
          1778853.8976178523,
          1778852.1950291237,
          1778850.347784114,
          1778848.5090261418,
          1778846.6240997296,
          1778844.7913408335,
          1778842.200556974,
          1778840.6515489388,
          1778838.393852666,
          1778837.394181111,
          1778836.1860051388,
          1778834.4603224555,
          1778832.4468580035,
          1778831.115994024,
          1778828.9930248745,
          1778827.557052834,
          1778825.6129513597,
          1778824.1647971887,
          1778822.336827796,
          1778820.3598800898,
          1778819.1774278348,
          1778817.1345875503,
          1778815.4903609864,
          1778813.4374187458,
          1778811.7092593564,
          1778809.499982845,
          1778808.6061364776,
          1778807.6056727525,
          1778806.1078813272,
          1778804.2106257733,
          1778802.1774926337,
          1778799.878931664,
          1778798.193823005,
          1778796.2678169971,
          1778794.590665806,
          1778793.4800767165,
          1778791.1666146629,
          1778789.4713836375,
          1778787.351722396,
          1778785.7150808405,
          1778784.1387446364,
          1778782.2767470498,
          1778780.8363753827,
          1778778.6351505157,
          1778777.602563789,
          1778776.1670980947,
          1778774.1786288405,
          1778772.0825921278,
          1778770.8159770742,
          1778768.4696943108,
          1778766.54850668,
          1778764.801221394,
          1778762.8552104505,
          1778761.2597182589,
          1778759.141856094,
          1778757.4537181389,
          1778755.4965811763,
          1778754.151750357,
          1778752.441898323,
          1778749.6924184049,
          1778749.1094251014,
          1778746.722121316,
          1778744.9868672723,
          1778743.1189506631,
          1778741.4447897198,
          1778739.5519830734,
          1778737.2120311344,
          1778735.5491101472,
          1778734.250711713,
          1778732.0343494704,
          1778730.201974078,
          1778728.8009529896,
          1778724.1543443827,
          1778695.2055070242,
          1778660.394824421,
          1778617.1502060965,
          1778577.1174883582,
          1778536.9792639446,
          1778496.792512243,
          1778458.416698902,
          1778450.1425667647,
          1778449.5408260636,
          1778450.291787604,
          1778451.7181022763,
          1778453.3474016562,
          1778454.818077622,
          1778456.8304544408,
          1778458.8998714115,
          1778460.9184725033,
          1778462.464849053,
          1778463.9158647107,
          1778466.153180305,
          1778468.180887702,
          1778469.9028991424,
          1778471.7283154093,
          1778472.9391885074,
          1778474.622112371,
          1778476.106284801,
          1778477.691437833,
          1778479.7323070392,
          1778481.1592988828,
          1778482.9064147556,
          1778484.7389543569,
          1778486.7432287168,
          1778487.7997085908,
          1778489.058271627,
          1778491.2124679051,
          1778492.0730278958,
          1778494.064154773,
          1778495.621892645,
          1778497.2065443285,
          1778498.9363414897,
          1778501.3346430203,
          1778503.0124518462,
          1778504.3897603806,
          1778505.6240683962,
          1778507.3520786483,
          1778509.3855904527,
          1778513.0627850508,
          1778512.694505278,
          1778513.820295726,
          1778516.7311322652,
          1778516.4210711997,
          1778518.199320051,
          1778519.4927546997,
          1778521.1418691082,
          1778522.3951740004,
          1778524.355574335,
          1778525.5711504975,
          1778527.832738948,
          1778529.177087158,
          1778530.930710231,
          1778532.372941223,
          1778533.9575783787,
          1778534.9735810785,
          1778536.9158247,
          1778538.4527760996,
          1778540.1735333018,
          1778541.660956415,
          1778543.7130819866,
          1778545.0950995227,
          1778546.3385593072,
          1778548.4380293433,
          1778549.9340987084,
          1778551.4728000266,
          1778552.7843732303,
          1778555.526683214,
          1778557.6160417646,
          1778558.920846325,
          1778559.876072161,
          1778560.781948721,
          1778561.1413116194,
          1778563.1700776657,
          1778565.1896217652,
          1778566.6054286323,
          1778568.4271832283,
          1778569.9391024532,
          1778571.2578557292,
          1778572.9224177506,
          1778574.9345076606,
          1778577.0905985516,
          1778578.559641459,
          1778578.709116215,
          1778581.1230971208,
          1778583.0643302696,
          1778585.1086305808,
          1778586.5911062872,
          1778588.2483503614,
          1778589.4937701467,
          1778591.7711884174,
          1778593.1057900423,
          1778594.515356487,
          1778595.368456998,
          1778596.7046978893,
          1778598.227652382,
          1778600.1531559415,
          1778602.8854512635,
          1778576.3637573523,
          1778530.3771574683,
          1778488.4802194694,
          1778448.6272800453,
          1778409.063862515,
          1778369.2247416154,
          1778343.3294172492,
          1778340.5746626465,
          1778336.4026103616,
          1778332.4016524144,
          1778329.9968174482,
          1778328.4619347071,
          1778327.992111731,
          1778327.0515779683,
          1778325.886105067,
          1778324.2920749327,
          1778322.439351217,
          1778320.620448256,
          1778318.6890249169,
          1778316.465580251,
          1778314.334931015,
          1778312.8208131967,
          1778311.6990620336,
          1778310.0266260756,
          1778307.3463800186,
          1778306.1085535325,
          1778304.719776949,
          1778303.190236711,
          1778301.4409681568,
          1778300.2363077067,
          1778298.396537628,
          1778296.4273622828,
          1778294.2957495004,
          1778293.1526923506,
          1778291.1974922726,
          1778288.9413646022,
          1778287.23586113,
          1778284.8273115335,
          1778283.3390626684,
          1778281.2455968112,
          1778279.9337911336,
          1778277.9727411186,
          1778275.57552627,
          1778273.8435685076,
          1778274.0949626286,
          1778272.1048767054,
          1778269.8573408276,
          1778267.4793627083,
          1778266.2367113745,
          1778264.5605925417,
          1778262.7029654095,
          1778261.5515809825,
          1778259.9426537836,
          1778258.3370316988,
          1778256.6651311943,
          1778254.8735706788,
          1778253.6049642768,
          1778251.4863007115,
          1778249.2762794904,
          1778247.2653255118,
          1778245.5820425013,
          1778243.2324093643,
          1778241.152664316,
          1778239.798761662,
          1778238.050382589,
          1778236.157845512,
          1778234.1251245774,
          1778232.946579693,
          1778230.5578343486,
          1778228.8673514752,
          1778227.0531120077,
          1778225.2008004757,
          1778223.29827631,
          1778221.484306179,
          1778219.6590720462,
          1778217.8689305,
          1778215.9205379104,
          1778214.3800166885,
          1778212.4589746604,
          1778210.5529916135,
          1778209.07073012,
          1778207.031175129,
          1778205.2449058937,
          1778203.2681883583,
          1778201.0065724468,
          1778199.2711030468,
          1778197.2378088944,
          1778195.3570820251,
          1778193.5784323476,
          1778191.7851218618,
          1778190.5260931114,
          1778187.827849621,
          1778185.767265901,
          1778184.2193063833,
          1778182.516721232,
          1778180.7423503064,
          1778178.8607522857,
          1778177.1632735245,
          1778175.499074853,
          1778173.4944775328,
          1778171.746259477,
          1778169.390558892,
          1778168.2932671616,
          1778161.7523409454,
          1778127.2502664607,
          1778086.213233227,
          1778045.318737384,
          1778005.247258409,
          1777965.421805651,
          1777925.3468274567,
          1777891.4997199315,
          1777889.0153486822,
          1777889.2467099894,
          1777890.386996978,
          1777892.3071437338,
          1777894.048072314,
          1777895.9293821352,
          1777897.847033809,
          1777899.6496748533,
          1777901.6078335615,
          1777903.8168874877,
          1777905.566306149,
          1777907.5367351556,
          1777909.253685628,
          1777911.0352520188,
          1777912.5692720665,
          1777914.3620251566,
          1777916.2139819106,
          1777918.134033653,
          1777920.017166703,
          1777921.893564853,
          1777923.6216937182,
          1777925.3804403965,
          1777927.6934087602,
          1777929.1705284135,
          1777930.9136546068,
          1777932.4395824063,
          1777934.011696468,
          1777935.832891764,
          1777937.199864842,
          1777939.21425917,
          1777941.3367322506,
          1777943.1512484094,
          1777945.0261422526,
          1777946.8708256856,
          1777948.2204786437,
          1777949.608452493,
          1777952.206204519,
          1777953.7153373277,
          1777955.594058427,
          1777956.6252754806,
          1777958.6673350288,
          1777960.5990222525,
          1777961.9389297348,
          1777963.884289337,
          1777965.6276953332,
          1777967.338271617,
          1777969.382720122,
          1777971.2247665348,
          1777972.801162348,
          1777974.0522346145,
          1777975.719807797,
          1777977.1537732026,
          1777978.7853168435,
          1777981.4196444396,
          1777982.328396781,
          1777984.5851844435,
          1777985.6233185846,
          1777987.176429553,
          1777989.170358248,
          1777991.0569033306,
          1777992.6170963338,
          1777993.863477949,
          1777995.528429092,
          1777997.803146746,
          1777999.972044847,
          1778001.967568567,
          1778004.3693905585,
          1778005.607108592,
          1778006.6151397452,
          1778007.4303154284,
          1778008.5951715158,
          1778010.3997904873,
          1778012.0267484067,
          1778014.0152655672,
          1778015.2508163732,
          1778017.2304111384,
          1778018.849497741,
          1778020.6275688875,
          1778022.6379625397,
          1778024.796146378,
          1778025.3271739837,
          1778024.477853011,
          1778027.533322934,
          1778032.4538518386,
          1778034.5301511772,
          1778036.18629264,
          1778037.0499495864,
          1778038.5389688823,
          1778040.2883686498,
          1778042.1276033288,
          1778043.8636476565,
          1778045.2824819488,
          1778046.9824526496,
          1778048.9545806618,
          1778050.1084614722,
          1778051.5494042682,
          1778054.863147824,
          1778056.212245915,
          1778057.1442337772,
          1778058.904280604,
          1778060.8047350124,
          1778062.979020398,
          1778065.0430253183,
          1778066.7198893884,
          1778067.8015753804,
          1778069.9638142064,
          1778073.111891739,
          1778074.633578766,
          1778075.5397288948,
          1778077.1489375522,
          1778079.5876360424,
          1778081.2404737575,
          1778082.7849088311,
          1778084.7973177638,
          1778087.0773584433,
          1778087.950725536,
          1778089.1464633672,
          1778090.764883618,
          1778091.6119174808,
          1778094.3586440366,
          1778097.3550966186,
          1778098.786837859,
          1778099.854927319,
          1778102.1291668378,
          1778104.901969836,
          1778106.504297671,
          1778108.6161692198,
          1778110.33826142,
          1778110.9326468073,
          1778112.543804363,
          1778114.3955796491,
          1778116.1119805072,
          1778117.7926876638,
          1778119.3557659255,
          1778120.7832267089,
          1778121.3558642631,
          1778122.953841566,
          1778125.741344015,
          1778128.4973698622,
          1778130.1174374074,
          1778131.642778622,
          1778133.0985642811,
          1778134.0442720028,
          1778135.6974985125,
          1778137.8492702292,
          1778140.4438950084,
          1778142.380919435,
          1778143.6277960043,
          1778145.395411742,
          1778146.2758414447,
          1778149.9608063428,
          1778151.102785293,
          1778151.6556763584,
          1778154.8267502757,
          1778157.2504063202,
          1778157.6713863984,
          1778159.1251178335,
          1778160.5953851985,
          1778161.239532845,
          1778163.975743411,
          1778165.825983202,
          1778167.197764242,
          1778169.1840730524,
          1778171.0592273548,
          1778173.0409108251,
          1778175.033377475,
          1778177.468868346,
          1778179.3856999306,
          1778181.3126874082,
          1778182.472037062,
          1778181.868521425,
          1778158.9951553931,
          1778126.9006945563,
          1778093.264387098,
          1778052.90413794,
          1778011.8226020392,
          1777972.404945327,
          1777934.3690571412,
          1777906.6792973094,
          1777903.5903074683,
          1777899.6219638344,
          1777896.0127908457,
          1777893.6077304129,
          1777892.0442347312,
          1777890.7555386014,
          1777889.8248614278,
          1777888.4650859153,
          1777887.7759014964,
          1777885.9874658715,
          1777883.8923672242,
          1777882.7852468193,
          1777880.524282272,
          1777880.7345050042,
          1777880.1748488017,
          1777878.3885031324,
          1777876.1570114102,
          1777873.898671423,
          1777872.1188237565,
          1777868.9371704117,
          1777866.8210499557,
          1777865.1910198985,
          1777862.7392937858,
          1777861.542171632,
          1777859.745337748,
          1777858.3044721056,
          1777856.5314594274,
          1777856.9813697832,
          1777854.094888969,
          1777852.7497780854,
          1777852.631230684,
          1777850.3308813246,
          1777847.7359935194,
          1777845.6034425227,
          1777844.166917095,
          1777841.2512380956,
          1777839.6023542602,
          1777837.346553877,
          1777836.4773604833,
          1777833.8345477162,
          1777831.601460592,
          1777829.2271685228,
          1777827.3988254787,
          1777826.8764847452,
          1777824.5544153145,
          1777822.775301909,
          1777821.407169274,
          1777819.9003372658,
          1777818.866457485,
          1777817.5311154043,
          1777815.7906956188,
          1777813.2515772264,
          1777810.8378272224,
          1777808.5602545189,
          1777807.1896308083,
          1777805.2844407344,
          1777804.788917191,
          1777802.9112683495,
          1777801.218434792,
          1777798.568412371,
          1777796.291885076,
          1777794.8391673304,
          1777792.8798450057,
          1777791.4608073337,
          1777789.5045606354,
          1777788.4072071686,
          1777786.713308583,
          1777785.569737291,
          1777783.2341842856,
          1777781.1424382497,
          1777779.1778053753,
          1777777.3929295037,
          1777775.749354395,
          1777773.6676824177,
          1777772.5555926953,
          1777771.8586293468,
          1777770.309239779,
          1777768.17268518,
          1777764.8762446586,
          1777762.7603951758,
          1777762.4557476174,
          1777760.7965141805,
          1777759.1364884507,
          1777756.900589011,
          1777754.624019809,
          1777752.921428809,
          1777750.9187745685,
          1777748.782727615,
          1777747.047061407,
          1777745.3610564135,
          1777743.3833274895,
          1777742.4309362248,
          1777741.0574371368,
          1777739.1598338112,
          1777737.612258438,
          1777736.1824484868,
          1777735.4989595646,
          1777733.793076313,
          1777732.5411441298,
          1777729.692607726,
          1777727.512892712,
          1777725.641808724,
          1777724.5508795716,
          1777723.4217271656,
          1777721.6159472018,
          1777719.9442370282,
          1777717.7430391647,
          1777715.3358064163,
          1777713.445018845,
          1777711.4842503732,
          1777709.7418412955,
          1777708.1884110244,
          1777707.0212609395,
          1777706.487366803,
          1777704.5280138273,
          1777702.1566473544,
          1777701.0576751337,
          1777699.4570078533,
          1777697.4468700634,
          1777696.0570203357,
          1777694.4500966752,
          1777692.6152242124,
          1777690.950545458,
          1777689.0900000632,
          1777687.3381198645,
          1777685.8258360084,
          1777683.4145413283,
          1777681.4134905748,
          1777680.483709951,
          1777678.6134378947,
          1777677.4982787324,
          1777675.4874875592,
          1777673.466542447,
          1777671.9621084577,
          1777670.0267952206,
          1777667.6867905045,
          1777665.506041687,
          1777664.2318127984,
          1777662.3807855165,
          1777660.4659444897,
          1777658.7483467832,
          1777657.3122801771,
          1777655.8274048036,
          1777653.777318989,
          1777651.9427699056,
          1777650.0877521662,
          1777649.0917504122,
          1777647.1216572328,
          1777645.015060125,
          1777642.8182736346,
          1777641.1367513528,
          1777639.7546546236,
          1777637.6600149162,
          1777635.4021675894,
          1777633.8058142122,
          1777631.9921205947,
          1777630.0369816804,
          1777628.5466168448,
          1777626.406023886,
          1777624.7917718338,
          1777622.7950494792,
          1777620.9724274864,
          1777619.4574451176,
          1777617.7141707009,
          1777615.7913507717,
          1777613.9415642535,
          1777612.2089217026,
          1777610.3428581422,
          1777608.658634156,
          1777607.2486799583,
          1777592.465608173,
          1777555.558976856,
          1777515.5129163684,
          1777475.6766715106,
          1777435.0960097555,
          1777394.731849839,
          1777354.2775541972,
          1777328.7512734886,
          1777327.233009765,
          1777328.0092417886,
          1777330.1041559288,
          1777332.2520940118,
          1777334.4549826467,
          1777336.40068804,
          1777338.325716399,
          1777340.2520766482,
          1777342.0060930736,
          1777343.606132561,
          1777345.254344897,
          1777347.023208159,
          1777348.7223936105,
          1777350.8283371637,
          1777352.563605899,
          1777354.282657274,
          1777356.0887742722,
          1777357.8220396957,
          1777359.6440473655,
          1777361.3279049564,
          1777363.3257807512,
          1777365.1005376745,
          1777366.9582565008,
          1777368.5307298957,
          1777370.1354207145,
          1777371.9460745603,
          1777373.9133514678,
          1777375.567869287,
          1777377.1456872,
          1777379.487134356,
          1777381.0818137564,
          1777383.000881102,
          1777384.73012291,
          1777386.392187546,
          1777388.6637075627,
          1777390.472510483,
          1777392.424258316,
          1777393.962240655,
          1777395.6689629536,
          1777397.5941182757,
          1777399.5198536674,
          1777401.063515868,
          1777402.4406586057,
          1777404.2504433915,
          1777406.2242520107,
          1777407.6185904704,
          1777409.236636104,
          1777410.8972687935,
          1777412.170706192,
          1777414.4104019618,
          1777415.328973081,
          1777416.5798510143,
          1777419.0427039638,
          1777420.8697825903,
          1777423.038325347,
          1777425.7074065013,
          1777426.3065983383,
          1777427.9668789897,
          1777428.8181921784,
          1777430.4591847677,
          1777432.655240627,
          1777434.8363105878,
          1777436.4657636331,
          1777438.1849481128,
          1777439.3173850132,
          1777421.758198578,
          1777415.2236107225,
          1777412.0383172594,
          1777430.3432705002,
          1777434.343467419,
          1777429.7925253203,
          1777430.3618724002,
          1777433.9748074347,
          1777437.4220187925,
          1777439.6995040867,
          1777441.6704735486,
          1777440.8699091906,
          1777442.5704374677,
          1777444.3075550832,
          1777446.4380112896,
          1777448.0696681328,
          1777449.9900043113,
          1777452.2314184187,
          1777455.1664487058,
          1777456.9997630594,
          1777458.494524842,
          1777460.1008033184,
          1777461.8020520676,
          1777463.7021781346,
          1777465.7493609162,
          1777468.5371758267,
          1777470.4312094096,
          1777472.229497763,
          1777473.5444409726,
          1777474.9440872008,
          1777476.25093293,
          1777478.1220148308,
          1777480.0460678516,
          1777482.167942386,
          1777484.6207665743,
          1777487.5785433222,
          1777488.055163226,
          1777488.3171188282,
          1777489.8557508625,
          1777491.6894421792,
          1777494.4392941697,
          1777496.0438566403,
          1777498.313433871,
          1777500.3556314604,
          1777502.7912120633,
          1777504.425296903,
          1777506.494336618,
          1777508.3812951583,
          1777510.3147716662,
          1777511.6975383775,
          1777513.7431663172,
          1777515.5799036445,
          1777517.786423918,
          1777520.222938666,
          1777521.5281211166,
          1777523.669593322,
          1777525.1643889267,
          1777527.578657399,
          1777529.2389009353,
          1777531.118412987,
          1777533.1961682169,
          1777535.1489689369,
          1777537.1541234525,
          1777539.3769352443,
          1777540.734995528,
          1777541.838519007,
          1777543.7990492117,
          1777545.6260064505,
          1777547.780472735,
          1777550.2425858742,
          1777553.1323840683,
          1777554.311183744,
          1777556.784933061,
          1777558.7781505603,
          1777560.330239635,
          1777561.348079728,
          1777563.4100275198,
          1777565.3030219432,
          1777568.119149563,
          1777568.2877497096,
          1777570.0141902352,
          1777571.4788480774,
          1777574.0213943822,
          1777575.0559005523,
          1777575.032743303,
          1777576.6909238873,
          1777579.835195697,
          1777583.0145125547,
          1777584.3509610854,
          1777585.947214282,
          1777588.3121247145,
          1777591.962409093,
          1777593.7132603228,
          1777594.6863409113,
          1777596.4406088833,
          1777598.1199679738,
          1777599.7520753697,
          1777600.5441740667,
          1777601.8438859396,
          1777604.4660636326,
          1777606.5262200274,
          1777609.3774162726,
          1777611.57852453,
          1777613.1555870892,
          1777615.0906229382,
          1777616.929115911,
          1777618.847029125,
          1777620.3581307102,
          1777622.1035870137,
          1777608.2507196805,
          1777566.332908797,
          1777526.27419799,
          1777485.802020058,
          1777445.351099222,
          1777404.9060177263,
          1777364.598756479,
          1777344.1446233485,
          1777341.3097282592,
          1777337.9464840367,
          1777335.0461593242,
          1777332.900814793,
          1777331.2301742437,
          1777329.870179709,
          1777329.0265416522,
          1777328.6381477378,
          1777326.3330943575,
          1777325.0667385897,
          1777323.656712748,
          1777320.9820267614,
          1777319.2906233885,
          1777318.4605907388,
          1777316.9854568932,
          1777313.9681817098,
          1777312.4563690936,
          1777310.5952372532,
          1777308.930431476,
          1777307.5191832762,
          1777305.825484319,
          1777303.5669131912,
          1777301.944345093,
          1777300.479242498,
          1777299.6401679562,
          1777298.395774169,
          1777296.1118461704,
          1777294.609882013,
          1777292.4326508762,
          1777289.4004042502,
          1777288.991755819,
          1777285.8673559977,
          1777284.0748698888,
          1777282.8695399826,
          1777281.0440259716,
          1777279.370145916,
          1777276.806367158,
          1777275.9595345668,
          1777274.0402906304,
          1777272.5859226268,
          1777271.2929295748,
          1777269.5479390174,
          1777266.2771731792,
          1777263.8904564278,
          1777262.09110625,
          1777260.874594898,
          1777259.4343450116,
          1777257.7948526768,
          1777255.970232766,
          1777254.1320786132,
          1777252.3024787558,
          1777250.2767186388,
          1777248.7242456507,
          1777247.0358604137,
          1777245.7799678622,
          1777243.3638008563,
          1777240.9546671258,
          1777239.0367703056,
          1777237.5712172177,
          1777235.3776874626,
          1777234.0271227949,
          1777232.4185445858,
          1777230.586404425,
          1777228.7975782435,
          1777226.76201195,
          1777225.1906746523,
          1777223.5908796852,
          1777221.2882173697,
          1777219.4168002186,
          1777218.0501863277,
          1777215.9323784206,
          1777214.1987713268,
          1777212.7558354186,
          1777211.155095674,
          1777210.8877899563,
          1777209.4228267856,
          1777207.2582031405,
          1777205.5493168265,
          1777203.073642522,
          1777201.0223811371,
          1777198.6290599443,
          1777196.351865516,
          1777195.663310439,
          1777193.949819035,
          1777192.414878426,
          1777190.341864353,
          1777188.6106761554,
          1777186.5862996522,
          1777184.9214614143,
          1777183.2059365325,
          1777181.1936111348,
          1777178.7093935013,
          1777176.5282941144,
          1777175.615663672,
          1777174.7845423743,
          1777172.4507284258,
          1777171.3043578658,
          1777170.0643373595,
          1777168.075297974,
          1777165.390403268,
          1777163.4650443224,
          1777162.0468685292,
          1777160.1189664612,
          1777158.1698518367,
          1777156.4493264854,
          1777154.4811542882,
          1777152.718107772,
          1777150.7840061476,
          1777148.7106345892,
          1777147.0260230722,
          1777145.9557935707,
          1777145.625266904,
          1777168.724731261,
          1777170.4212519648,
          1777164.0357221449,
          1777142.6479971623,
          1777140.465461681,
          1777138.9449236216,
          1777137.2461494422,
          1777136.172046924,
          1777134.5618076436,
          1777132.6839225937,
          1777131.7123730725,
          1777130.7605780708,
          1777129.0970470328,
          1777127.5302514173,
          1777125.8849205377,
          1777124.511225775,
          1777123.276178997,
          1777122.4090172602,
          1777120.405672716,
          1777118.4793589255,
          1777116.8054453116,
          1777115.0917816302,
          1777113.6644833283,
          1777112.073068441,
          1777110.1270738356,
          1777108.5178557718,
          1777106.7244984442,
          1777105.3605575615,
          1777103.5922785923,
          1777101.6308987385,
          1777099.8822595673,
          1777098.279999841,
          1777096.6158303572,
          1777095.011843121,
          1777093.322023576,
          1777091.5609088317,
          1777090.408471494,
          1777088.9052027743,
          1777087.1853271471,
          1777085.3653403092,
          1777083.77319472,
          1777082.06328886,
          1777080.1990007367,
          1777078.107272718,
          1777076.4369549835,
          1777074.7440880854,
          1777073.128959424,
          1777071.297280158,
          1777069.579740584,
          1777067.852948486,
          1777065.961374794,
          1777064.275490336,
          1777062.2700796174,
          1777060.6985244518,
          1777059.034818775,
          1777057.3513993956,
          1777055.8923954964,
          1777054.0585683538,
          1777052.411018135,
          1777050.8643633733,
          1777049.4858872415,
          1777047.6307884138,
          1777044.7097738814,
          1777018.0699553313,
          1776978.894562001,
          1776939.291883943,
          1776898.6343766246,
          1776858.250647023,
          1776817.6913246363,
          1776778.914862295,
          1776766.8888426265,
          1776766.06988421,
          1776768.5902122268,
          1776770.8533744663,
          1776772.3141578836,
          1776773.9205130506,
          1776775.990831783,
          1776778.0504339405,
          1776779.886559981,
          1776781.4168864165,
          1776783.2706727637,
          1776785.0703485385,
          1776786.8765507508,
          1776788.714445348,
          1776790.5082374746,
          1776792.211852478,
          1776794.195467838,
          1776795.9266553018,
          1776797.8109247154,
          1776799.509585225,
          1776801.28040264,
          1776803.2239645831,
          1776804.8907735236,
          1776806.7464580417,
          1776808.4711588556,
          1776810.301549499,
          1776811.9153513582,
          1776813.5427368889,
          1776815.3028097348,
          1776817.4404049972,
          1776819.4566263687,
          1776821.1699055815,
          1776822.850849607,
          1776824.4819948925,
          1776826.795361598,
          1776828.4113922575,
          1776830.0458359038,
          1776831.9694546033,
          1776833.7049997617,
          1776835.253615565,
          1776837.0820364254,
          1776838.7788058016,
          1776840.05616388,
          1776841.7362350896,
          1776843.9111188492,
          1776845.5567562133,
          1776847.2529451344,
          1776848.7625354163,
          1776850.589834068,
          1776851.9718641983,
          1776853.8761430737,
          1776855.6217902144,
          1776857.422851422,
          1776858.976687638,
          1776860.6799865777,
          1776862.5291626658,
          1776863.7068266766,
          1776866.9024230083,
          1776868.1725711124,
          1776869.2498681275,
          1776871.0567954294,
          1776873.281226145,
          1776874.280869728,
          1776876.0187655035,
          1776877.601417223,
          1776879.0888318596,
          1776880.9780945117,
          1776882.7944750376,
          1776884.3350195838,
          1776886.2129091593,
          1776887.9373850627,
          1776888.2304592542,
          1776890.3601528844,
          1776893.2838416398,
          1776894.463937724,
          1776896.8525582273,
          1776898.78903131,
          1776900.9134340258,
          1776902.682153975,
          1776904.6686643865,
          1776906.473907359,
          1776907.9427586775,
          1776909.2196610812,
          1776911.0665806066,
          1776913.1252648383,
          1776914.5980199547,
          1776915.7705609156,
          1776917.9278812043,
          1776919.2768538855,
          1776921.75643856,
          1776923.088365878,
          1776925.556144353,
          1776927.6565460106,
          1776928.9028057195,
          1776930.7405523686,
          1776931.4167978447,
          1776931.7022446329,
          1776932.9717912124,
          1776935.6139410278,
          1776938.0204132004,
          1776941.02731054,
          1776942.5953688314,
          1776944.3668921553,
          1776946.4455669196,
          1776947.8973027673,
          1776949.252182981,
          1776951.45665861,
          1776953.8265218912,
          1776955.2249357756,
          1776957.2767143557,
          1776959.2682807818,
          1776960.9675770178,
          1776963.1742089875,
          1776965.224874976,
          1776966.7341355393,
          1776968.1976109762,
          1776969.263901265,
          1776971.0080540627,
          1776973.317387526,
          1776974.9533590833,
          1776976.4055449525,
          1776978.04580939,
          1776980.1654964143,
          1776982.0989057738,
          1776983.5022303062,
          1776985.3924422432,
          1776987.372720769,
          1776989.5897708638,
          1776991.0352571234,
          1776993.1828025635,
          1776994.9216104737,
          1776996.358526255,
          1776998.6816185946,
          1777000.1527316477,
          1777001.9265959002,
          1777003.6159328446,
          1777005.4964685226,
          1777007.6590382792,
          1777009.5083770135,
          1777010.9686226817,
          1777011.166860451,
          1777012.6740247188,
          1777015.8831336666,
          1777016.487793076,
          1777017.3999766577,
          1777019.3291360757,
          1777022.1923111016,
          1777022.657083331,
          1777024.486627441,
          1777028.2797537856,
          1777030.1545791728,
          1777031.7397120176,
          1777032.6943409543,
          1777034.3189962965,
          1777035.8476259904,
          1777037.5557245445,
          1777040.107100292,
          1777041.17155544,
          1777042.8361912267,
          1777045.6718029983,
          1777048.054965972,
          1777049.348402341,
          1777050.458679799,
          1777051.020050697,
          1777052.57704823,
          1777054.674493337,
          1777056.896570675,
          1777059.0754320482,
          1777061.1271555088,
          1777050.0811015563,
          1777008.5706082508,
          1776969.214440898,
          1776926.2474753726,
          1776886.3311287323,
          1776847.5172828073,
          1776808.056477558,
          1776783.0673290351,
          1776782.5460006204,
          1776777.177977576,
          1776773.3279007478,
          1776770.92160122,
          1776769.4759569066,
          1776769.6264531417,
          1776768.7382281665,
          1776767.92500305,
          1776765.963918047,
          1776764.1235694855,
          1776762.9652332813,
          1776760.6576794032,
          1776758.569249499,
          1776756.3191638608,
          1776755.9498459983,
          1776754.1557590608,
          1776752.357130519,
          1776750.4710812643,
          1776748.9436186245,
          1776747.092345098,
          1776745.6830454497,
          1776743.1727254605,
          1776740.737358584,
          1776737.488740107,
          1776736.3627840271,
          1776735.498815773,
          1776734.8708322374,
          1776734.5201307526,
          1776733.2884963006,
          1776731.0994546227,
          1776728.3946495757,
          1776725.7298934003,
          1776724.9435442677,
          1776723.4482179957,
          1776721.3454672731,
          1776719.5105337985,
          1776717.2447416848,
          1776715.307991648,
          1776713.5270847073,
          1776711.5746137695,
          1776710.0062985327,
          1776708.0382114444,
          1776706.7439104903,
          1776704.9447506573,
          1776702.7720536338,
          1776700.8332451573,
          1776699.27901656,
          1776697.0416759755,
          1776696.306598412,
          1776695.367164039,
          1776693.4801281737,
          1776691.564735131,
          1776689.5198198492,
          1776686.830363092,
          1776684.595151632,
          1776683.1676774677,
          1776681.439450928,
          1776679.5762694413,
          1776677.7513653878,
          1776675.985708682,
          1776674.1476558568,
          1776672.2826584792,
          1776670.0915955529,
          1776668.8145479048,
          1776666.940433168,
          1776665.1470030844,
          1776663.372275628,
          1776661.5955052525,
          1776659.9148979727,
          1776658.2343459353,
          1776656.418593878,
          1776653.7823028157,
          1776652.4927811583,
          1776651.0286855567,
          1776649.7257398814,
          1776648.829870684,
          1776647.9603734305,
          1776645.433420646,
          1776643.4569759248,
          1776641.2298256196,
          1776639.4401912326,
          1776637.5746724335,
          1776635.88119567,
          1776634.3096876442,
          1776632.6704552977,
          1776630.6236659046,
          1776629.222008313,
          1776626.9532040115,
          1776625.3012821386,
          1776623.6709474046,
          1776621.5394589417,
          1776619.5535195358,
          1776617.6322612625,
          1776615.8140870724,
          1776614.2048957655,
          1776612.7292952891,
          1776611.2268021237,
          1776609.702252443,
          1776607.4332836643,
          1776606.0668938805,
          1776604.3142880574,
          1776602.4875783604,
          1776600.748378205,
          1776598.7427692264,
          1776596.898892221,
          1776595.0928210486,
          1776593.173275589,
          1776591.348247692,
          1776589.292172363,
          1776587.6128315572,
          1776586.4414642677,
          1776585.2563780255,
          1776583.8767401064,
          1776582.347024343,
          1776580.970593972,
          1776579.09653729,
          1776576.9819807785,
          1776575.3836606266,
          1776573.940730676,
          1776572.4236677298,
          1776570.116545449,
          1776568.921378987,
          1776567.1966732182,
          1776566.5462105293,
          1776564.9511030894,
          1776563.1127962573,
          1776560.9227233557,
          1776559.471800562,
          1776557.5922586713,
          1776555.6138836192,
          1776553.7664797343,
          1776552.2373579126,
          1776550.844188155,
          1776549.3599733906,
          1776547.3805962875,
          1776545.2431622306,
          1776543.964099534,
          1776542.1397060566,
          1776540.5038478896,
          1776538.6401130054,
          1776536.57424602,
          1776534.8007724686,
          1776533.06422403,
          1776531.2391648171,
          1776529.6201205114,
          1776527.7089623576,
          1776525.8306418443,
          1776524.0414522206,
          1776522.2239781665,
          1776520.4105867352,
          1776518.7098821653,
          1776516.9332833665,
          1776515.2422443165,
          1776513.4188943412,
          1776511.4849765608,
          1776509.7947091404,
          1776507.9581699502,
          1776506.132910631,
          1776504.083028784,
          1776502.287934644,
          1776500.278744719,
          1776498.4965438554,
          1776496.9938550908,
          1776495.1986386906,
          1776493.501626843,
          1776491.7472135257,
          1776490.0905135097,
          1776488.2629989618,
          1776486.3622405045,
          1776478.3626835486,
          1776443.9986837413,
          1776407.8638856476,
          1776373.871513551,
          1776333.3022611272,
          1776292.7596940594,
          1776252.1814836627,
          1776214.6079484029,
          1776205.038898714,
          1776205.202290386,
          1776208.0221902616,
          1776210.1793642445,
          1776212.1029747743,
          1776213.916947892,
          1776216.0028481183,
          1776217.8439321425,
          1776219.832372059,
          1776221.6487474237,
          1776223.3291044617,
          1776225.2153856838,
          1776227.048780431,
          1776228.91132114,
          1776230.6789687248,
          1776232.432557254,
          1776234.196067417,
          1776236.0728144385,
          1776237.935878694,
          1776239.6534599047,
          1776241.52528698,
          1776243.044480309,
          1776244.5352964336,
          1776246.6611564483,
          1776248.6311983718,
          1776250.5051074876,
          1776252.342771344,
          1776254.1833223766,
          1776256.1459396407,
          1776257.9301288184,
          1776259.686355194,
          1776261.5934032295,
          1776263.3655693457,
          1776265.1216696885,
          1776266.800932112,
          1776268.5921977088,
          1776270.4150321037,
          1776272.2006138898,
          1776274.2872163327,
          1776275.8539039334,
          1776277.9670671849,
          1776279.6878860723,
          1776281.049656124,
          1776282.566703363,
          1776283.9627504367,
          1776285.6524958042,
          1776287.3495978694,
          1776289.0946700526,
          1776290.8059088178,
          1776292.6188911677,
          1776294.376156453,
          1776296.446884869,
          1776298.523768823,
          1776298.9143340746,
          1776301.1916409964,
          1776302.4894001642,
          1776304.5232685674,
          1776306.301202865,
          1776308.5220468836,
          1776310.416177012,
          1776311.297129713,
          1776313.0691587825,
          1776314.4640131528,
          1776316.5973268133,
          1776318.1651391136,
          1776319.1734964345,
          1776321.3018682469,
          1776323.554128998,
          1776325.2962247413,
          1776327.4644440291,
          1776329.062842818,
          1776330.6841352563,
          1776332.4102614084,
          1776334.291584107,
          1776335.9919912275,
          1776337.9007445686,
          1776339.8813511413,
          1776341.7894543651,
          1776343.6800183335,
          1776345.2829550663,
          1776347.350750898,
          1776348.9541748073,
          1776350.9011958772,
          1776352.6315090964,
          1776354.2366248977,
          1776355.7838967182,
          1776357.6577226706,
          1776358.852531678,
          1776360.5514624482,
          1776362.7641657516,
          1776365.5692725256,
          1776366.5558695514,
          1776367.971528734,
          1776368.9550507425,
          1776370.0123829972,
          1776370.7704479024,
          1776373.621682651,
          1776375.3398397136,
          1776377.984838972,
          1776380.7532945871,
          1776381.7447931657,
          1776383.030849951,
          1776385.4613284236,
          1776387.1358481366,
          1776388.7809885591,
          1776390.7482431289,
          1776392.440913543,
          1776394.4517178284,
          1776396.354765322,
          1776398.1459712572,
          1776400.0794036416,
          1776401.6427146764,
          1776403.625145143,
          1776405.498880838,
          1776407.8897338482,
          1776409.7340479065,
          1776411.0288288929,
          1776412.936006832,
          1776414.6839944469,
          1776416.861949365,
          1776418.2535829889,
          1776419.8671995392,
          1776421.7783937836,
          1776424.794981867,
          1776426.3116797125,
          1776427.837789663,
          1776429.35997626,
          1776431.0685894573,
          1776432.7189284165,
          1776434.4466558527,
          1776435.901598229,
          1776437.8584583774,
          1776439.7065721229,
          1776441.358064331,
          1776443.1560767023,
          1776445.041603821,
          1776446.7616809076,
          1776447.9593043504,
          1776450.666926045,
          1776452.4213683438,
          1776453.15517647,
          1776454.8776030382,
          1776457.480381772,
          1776459.1104858248,
          1776460.9407184664,
          1776462.6493774438,
          1776464.628869581,
          1776466.863293795,
          1776469.2370570488,
          1776470.867124252,
          1776472.0518899774,
          1776473.2555020489,
          1776474.9719789382,
          1776475.339551827,
          1776477.9486893185,
          1776480.376820935,
          1776482.363407773,
          1776483.9003076851,
          1776485.4082946712,
          1776488.032883145,
          1776489.663811815,
          1776491.1280303,
          1776492.8838269524,
          1776494.4503965788,
          1776496.023044851,
          1776498.7184137376,
          1776499.9578120708,
          1776492.5544766402,
          1776450.999252685,
          1776408.9607190192,
          1776367.436564316,
          1776327.7394867225,
          1776287.960459439,
          1776247.8330791742,
          1776223.1988647096,
          1776219.8671383392,
          1776216.9626678647,
          1776215.41220236,
          1776214.29496264,
          1776211.9230316917,
          1776210.2355116792,
          1776208.854377213,
          1776207.3549876548,
          1776206.1128651267,
          1776203.994719184,
          1776201.7852025358,
          1776200.5515720807,
          1776199.2905684663,
          1776197.5495871631,
          1776196.1205302998,
          1776194.4858768238,
          1776192.7129129125,
          1776190.5250701942,
          1776188.2364898091,
          1776185.952264425,
          1776183.8539013015,
          1776182.4208190022,
          1776181.1432028776,
          1776180.194432565,
          1776179.075960867,
          1776177.5204438465,
          1776175.335676564,
          1776173.2614768855,
          1776171.2642641943,
          1776168.6934394157,
          1776166.908796383,
          1776165.0880520986,
          1776163.4498008927,
          1776161.6234265815,
          1776160.001827662,
          1776158.470492608,
          1776156.4040188184,
          1776154.8212134438,
          1776153.2235642578,
          1776151.3436918184,
          1776149.263045767,
          1776147.4165725457,
          1776145.538817632,
          1776143.6618646402,
          1776141.7565342933,
          1776140.428728317,
          1776137.849108077,
          1776135.3836322343,
          1776133.9522269515,
          1776132.567194024,
          1776130.7590613635,
          1776129.0031828042,
          1776127.2566758646,
          1776125.633366038,
          1776123.8361696526,
          1776121.8805371504,
          1776120.0604641233,
          1776118.1426958814,
          1776116.551068717,
          1776115.238974071,
          1776114.0846057534,
          1776112.1297139088,
          1776109.9973783323,
          1776107.973289501,
          1776105.9766276972,
          1776104.068680522,
          1776102.2367258065,
          1776100.3101373576,
          1776098.3518184302,
          1776096.381381195,
          1776094.5420701392,
          1776092.657866233,
          1776090.930902481,
          1776089.674535795,
          1776088.1465736425,
          1776086.344359315,
          1776085.792102822,
          1776084.1893219622,
          1776081.8686494045,
          1776079.7309677023,
          1776076.804624451,
          1776075.8668112897,
          1776073.6578845782,
          1776071.741586484,
          1776069.74198132,
          1776068.0236940335,
          1776066.2881932696,
          1776064.6743426314,
          1776063.2102558762,
          1776061.4652258214,
          1776059.6660477717,
          1776057.8667152356,
          1776056.0949402312,
          1776054.159693662,
          1776052.376307114,
          1776051.7942343848,
          1776049.3138188005,
          1776047.7398551144,
          1776045.7206931403,
          1776043.6695648618,
          1776041.8331149053,
          1776040.045501478,
          1776038.279402322,
          1776036.7495595803,
          1776035.6329676332,
          1776033.7489557834,
          1776031.5192849422,
          1776029.611141153,
          1776027.4387828084,
          1776025.3562082946,
          1776023.4767987812,
          1776021.6432252943,
          1776019.9685320482,
          1776018.038033924,
          1776016.3273007087,
          1776014.527965627,
          1776012.7573245652,
          1776011.502917639,
          1776009.8356717655,
          1776007.9502197497,
          1776005.9531221176,
          1776004.0943943886,
          1776002.759501419,
          1776000.5288527545,
          1775999.3605282863,
          1775997.4113088762,
          1775996.1054414583,
          1775994.0934775472,
          1775992.168322077,
          1775990.3096148688,
          1775988.308888238,
          1775986.3363636425,
          1775984.663560288,
          1775982.9870067146,
          1775981.2151624644,
          1775979.538155362,
          1775977.7565789437,
          1775975.893871407,
          1775973.9821600746,
          1775972.2513224138,
          1775970.3846663004,
          1775968.4048700137,
          1775966.6399337605,
          1775964.875081298,
          1775963.1662092349,
          1775961.600955936,
          1775959.6842954392,
          1775957.7380305156,
          1775955.839561836,
          1775954.102064509,
          1775952.2290575595,
          1775950.3315340653,
          1775948.5711775394,
          1775946.9366929792,
          1775945.1927479953,
          1775943.0930116074,
          1775941.447365773,
          1775939.7071208823,
          1775938.0372435115,
          1775936.2555013262,
          1775934.3342016572,
          1775932.664287906,
          1775930.8168220464,
          1775929.0376575403,
          1775927.2507395323,
          1775925.2946333708,
          1775911.6244630124,
          1775874.285873373,
          1775834.286142339,
          1775793.7426176695,
          1775753.0945804892,
          1775712.688009109,
          1775672.4152462345,
          1775645.969898397,
          1775647.4014482573,
          1775647.3968265774,
          1775648.7728854222,
          1775650.569029794,
          1775652.6107825572,
          1775654.5383922895,
          1775656.4858984463,
          1775658.2300999705,
          1775659.992706296,
          1775661.862959005,
          1775663.7354579642,
          1775665.6099206165,
          1775667.5688531809,
          1775669.4122998863,
          1775670.8958722688,
          1775672.593407252,
          1775674.8148330934,
          1775676.1855385406,
          1775677.9583113482,
          1775680.8127980782,
          1775681.8086258697,
          1775683.0689080358,
          1775684.9189712375,
          1775686.8030414954,
          1775688.8219013754,
          1775690.5462088345,
          1775692.352309825,
          1775694.1793635285,
          1775696.005736445,
          1775697.841308034,
          1775699.6807563808,
          1775701.4830150176,
          1775703.1835511357,
          1775704.932584945,
          1775706.8555212542,
          1775709.155823649,
          1775710.7148903916,
          1775712.241146535,
          1775713.982435464,
          1775715.6564616254,
          1775717.418408451,
          1775719.2107622037,
          1775721.0764202522,
          1775722.6708693458,
          1775724.2768697124,
          1775725.872102932,
          1775727.6008891305,
          1775729.0513970945,
          1775730.9638604848,
          1775732.5528598623,
          1775733.5640035989,
          1775735.6459826997,
          1775737.678783127,
          1775739.590165413,
          1775740.6316060536,
          1775742.1071505295,
          1775743.868584631,
          1775746.1689113462,
          1775747.8170527648,
          1775749.8707875423,
          1775751.369429418,
          1775753.4274122072,
          1775755.3925369894,
          1775756.7661775826,
          1775758.1592487637,
          1775759.9809473231,
          1775761.8152961424,
          1775763.4387037214,
          1775765.387074032,
          1775766.9720390318,
          1775768.8930920372,
          1775770.6717744377,
          1775772.6205791617,
          1775774.1123071965,
          1775776.117077249,
          1775778.2517388342,
          1775780.1742102215,
          1775781.769114199,
          1775783.471801564,
          1775785.3949804176,
          1775787.5289539658,
          1775789.3825287484,
          1775791.023602345,
          1775792.5021942984,
          1775794.210031909,
          1775796.4794461075,
          1775798.2513340889,
          1775800.0355247443,
          1775801.9043713836,
          1775803.415945149,
          1775805.0420878204,
          1775806.9361032154,
          1775808.6337231658,
          1775810.8175523058,
          1775812.6564127477,
          1775814.569308335,
          1775816.7173719257,
          1775818.4955043234,
          1775820.3989456557,
          1775822.3400420332,
          1775824.0077585848,
          1775825.0679309403,
          1775826.2982962122,
          1775828.556752922,
          1775830.831056593,
          1775832.56923425,
          1775834.362181357,
          1775836.149739744,
          1775837.636644577,
          1775839.1458099617,
          1775841.0978482524,
          1775843.6910803393,
          1775845.8327350952,
          1775847.6487591397,
          1775848.816168326,
          1775851.3222010694,
          1775853.128830525,
          1775854.8408243663,
          1775856.114602902,
          1775858.0724264225,
          1775859.7562412657,
          1775861.5409607552,
          1775863.3981831614,
          1775865.149747789,
          1775867.11053856,
          1775868.608658039,
          1775870.4231541231,
          1775872.3448929423,
          1775874.1374374442,
          1775875.7731085569,
          1775877.707673044,
          1775879.7227402804,
          1775881.448294717,
          1775882.9654471222,
          1775884.9581186296,
          1775886.9629287291,
          1775888.5781521157,
          1775890.2898443304,
          1775892.6710365135,
          1775894.7360466989,
          1775896.496725223,
          1775898.071800583,
          1775899.8788826084,
          1775901.4313261984,
          1775902.820860095,
          1775904.5895997016,
          1775905.947343477,
          1775908.099677029,
          1775910.0974164477,
          1775911.840469465,
          1775913.6551686851,
          1775915.478517484,
          1775917.1632685205,
          1775918.5483424517,
          1775920.4561813492,
          1775922.3724249871,
          1775923.6784435138,
          1775925.6348657757,
          1775927.5862561371,
          1775930.2731034132,
          1775933.1660729293,
          1775934.9985836074,
          1775935.7250420228,
          1775936.3438057683,
          1775937.3653581822,
          1775938.7980037285,
          1775927.1926885834,
          1775889.1480643973,
          1775850.4484203914,
          1775811.5947728409,
          1775771.7509333205,
          1775732.5538593708,
          1775692.714252538,
          1775652.8125628317,
          1775613.0190688493,
          1775573.1852880197,
          1775533.682960052,
          1775494.6790863238,
          1775454.8456536112,
          1775414.950356056,
          1775374.993163377,
          1775336.1091372734,
          1775297.1511767255,
          1775257.9850797271,
          1775218.6806692127,
          1775179.223513665,
          1775139.8400194831,
          1775100.3549055457,
          1775061.06658181,
          1775022.3647963284,
          1774982.9999931026,
          1774942.998180382,
          1774902.9071255457,
          1774863.5903532784,
          1774823.9364781026,
          1774784.368499375,
          1774745.9228652818,
          1774706.8669585818,
          1774667.7808017852,
          1774628.9973215694,
          1774591.011922813,
          1774554.9583201688,
          1774517.9139084471,
          1774479.0401948746,
          1774439.634683826,
          1774400.103555729,
          1774360.396747753,
          1774320.4008584153,
          1774280.6423378736,
          1774241.1919134976,
          1774202.1146689877,
          1774163.5274464767,
          1774126.4559010752,
          1774089.2272375096,
          1774050.4603399104,
          1774011.5233892146,
          1773972.3577865064,
          1773932.6507883994,
          1773892.9435268843,
          1773853.1712020682,
          1773813.408262765,
          1773773.6923705358,
          1773734.0312365424,
          1773694.2926830065,
          1773654.5073936274,
          1773614.9252571408,
          1773575.404106196,
          1773535.7420322932,
          1773495.9413300855,
          1773456.488828836,
          1773416.9270566748,
          1773377.3957105307,
          1773337.780437624,
          1773297.9219257692,
          1773258.362494384,
          1773218.9442595784,
          1773179.510740674,
          1773139.8600660646,
          1773100.2843717793,
          1773060.6160647103,
          1773021.1077137515,
          1772981.5029864311,
          1772941.9548887853,
          1772902.272497333,
          1772862.769228193,
          1772823.1182858236,
          1772783.440047291,
          1772744.096070868,
          1772704.1916429158,
          1772664.4771021204,
          1772625.0100980392,
          1772585.2264996115,
          1772545.6167905135,
          1772505.9166074311,
          1772466.126918029,
          1772426.6237422517,
          1772387.0242357468,
          1772349.2785454923,
          1772311.6658724612,
          1772273.218661067,
          1772232.8498283643,
          1772192.702018057,
          1772153.0618813531,
          1772113.5349022225,
          1772073.5948640946,
          1772033.3282897156,
          1771993.723210943,
          1771954.4953999205,
          1771916.6215501158,
          1771880.212472831,
          1771844.2745883055,
          1771807.3175427625,
          1771769.8756966814,
          1771733.2429744564,
          1771697.3736630548,
          1771660.8590445295,
          1771621.4086590009,
          1771581.0007967614,
          1771541.301731971,
          1771502.3652011135,
          1771463.311078703,
          1771424.0875372216,
          1771385.6735269148,
          1771347.3072263878,
          1771308.8526724614,
          1771270.2815588517,
          1771231.2217698926,
          1771192.044341079,
          1771152.2823771248,
          1771112.5427163225,
          1771073.285732502,
          1771033.9352086382,
          1770994.6616722867,
          1770955.1060554422,
          1770915.321759251,
          1770875.6876285346,
          1770835.687992572,
          1770795.9427460302,
          1770757.1863563452,
          1770717.1541002467,
          1770676.8335637376,
          1770636.0975401597,
          1770595.324388516,
          1770554.724980073,
          1770514.3604967138,
          1770473.967392792,
          1770433.2597572356,
          1770392.6453584414,
          1770352.1147882668,
          1770311.5890061583,
          1770271.1384338103,
          1770230.6994082648,
          1770190.1568345083,
          1770149.459500125,
          1770109.0057123294,
          1770068.7670181254,
          1770029.2994672917,
          1769991.0809129197,
          1769954.183745875,
          1769916.5397715298,
          1769877.2294527916,
          1769838.5137155904,
          1769801.2850567987,
          1769762.0218885262,
          1769720.6913701163,
          1769680.1090662712,
          1769639.5261963382,
          1769599.01002956,
          1769558.3307092898,
          1769517.9621435814,
          1769477.9755438464,
          1769438.2794187404,
          1769397.349561588,
          1769357.2655502576,
          1769317.3292535895,
          1769276.9447943307,
          1769236.5884462595,
          1769196.7809353853,
          1769158.3208974684,
          1769117.6597037949,
          1769076.952765773,
          1769037.217307468,
          1768996.7112096827,
          1768955.9772240864,
          1768915.4168147745,
          1768875.3302560104,
          1768835.028544873,
          1768794.740859995,
          1768754.1455727117,
          1768713.7628996316,
          1768673.977966641,
          1768633.8367554909,
          1768593.6316574933,
          1768552.9462803006,
          1768512.2954942835,
          1768471.6047079796,
          1768430.9705393277,
          1768390.5715228366,
          1768350.0630976483,
          1768310.5641230596,
          1768270.493775362,
          1768229.6479403982,
          1768189.4799589803,
          1768149.1603714358,
          1768108.7103028018,
          1768068.3962905535,
          1768028.723225074,
          1767990.0016963985,
          1767950.0902690329,
          1767913.7512429005,
          1767874.4724263176,
          1767834.011984041,
          1767797.5701947678,
          1767760.55534493,
          1767719.7667363072,
          1767678.8108067885,
          1767638.1681676786,
          1767597.5821462022,
          1767557.541579944,
          1767518.563249602,
          1767481.9693469647,
          1767441.0931300763,
          1767400.9275502712,
          1767360.8328380398,
          1767322.0173193105,
          1767283.669291814,
          1767244.1807081357,
          1767203.26679728,
          1767162.582459543,
          1767122.6769806556,
          1767083.6341904728,
          1767043.761444237,
          1767003.7135403687,
          1766963.676959172,
          1766923.7298405145,
          1766883.99669166,
          1766844.075599623,
          1766803.5672467565,
          1766763.9613587856,
          1766723.6884933785,
          1766683.3025022617,
          1766643.299377045,
          1766604.5166338822,
          1766565.9673494576,
          1766525.0130762262,
          1766484.2862955255,
          1766444.4165722188,
          1766404.68921375,
          1766364.8757691411,
          1766324.7702716216,
          1766284.3609440587,
          1766243.9762898674,
          1766205.9244578956,
          1766169.202016971,
          1766129.578482421,
          1766088.3587968126,
          1766047.4691339731,
          1766006.8865086436,
          1765966.2472042954,
          1765925.6644048449,
          1765885.1761385854,
          1765844.8198708072,
          1765804.3508152356,
          1765763.901365595,
          1765723.2486478016,
          1765682.7454490112,
          1765642.2454022132,
          1765601.6401156357,
          1765561.096911326,
          1765520.6950587044,
          1765480.180981347,
          1765439.8279156908,
          1765399.3591275895,
          1765358.7612698544,
          1765318.309440514,
          1765277.998287449,
          1765237.4651032947,
          1765196.736603599,
          1765156.3580082506,
          1765116.333700827,
          1765076.4927615216,
          1765036.055997966,
          1764995.532587082,
          1764955.0100638028,
          1764914.4792122934,
          1764874.0330887083,
          1764833.4327587988,
          1764792.9020682443,
          1764752.6827962855,
          1764712.22533804,
          1764671.8775613848,
          1764631.4041456813,
          1764590.9529238502,
          1764550.5893142158,
          1764510.35651383,
          1764469.9830943355,
          1764429.6589127565,
          1764389.3449742664,
          1764349.1254453706,
          1764308.741581194,
          1764268.3546771891,
          1764227.978419013,
          1764187.5501058027,
          1764146.959707684,
          1764106.6357625984,
          1764066.3681176594,
          1764025.9635645514,
          1763986.13583027,
          1763945.9327452425,
          1763905.3345478624,
          1763864.6502561597,
          1763824.187216782,
          1763783.7677264242,
          1763743.2418694366,
          1763702.7049799273,
          1763662.2820391273,
          1763621.892560144,
          1763581.5445361603,
          1763541.1293555982,
          1763501.087353306,
          1763461.0531724691,
          1763420.8020872716,
          1763380.363479128,
          1763340.1151962606,
          1763300.100224374,
          1763260.394797369,
          1763221.7547459556,
          1763184.2415175186,
          1763147.195123162,
          1763109.5983024165,
          1763069.976840104,
          1763030.5716921985,
          1762997.0803709915,
          1762958.0898434836,
          1762917.8290810036,
          1762881.4564345423,
          1762840.9131124169,
          1762800.5910458574,
          1762760.1242093835,
          1762722.2271129722,
          1762690.1112150336,
          1762652.3368833186,
          1762615.6418759385,
          1762575.6140156165,
          1762534.5556204496,
          1762494.038545032,
          1762453.7969155265,
          1762414.023032735,
          1762374.429605201,
          1762334.866393446,
          1762294.2020407831,
          1762253.7213279791,
          1762214.3303093482,
          1762175.023535788,
          1762134.9932381583,
          1762094.7807030724,
          1762054.7183339698,
          1762015.351543135,
          1761975.340515254,
          1761934.8381104425,
          1761894.3850024985,
          1761854.0941972872,
          1761813.7169814715,
          1761773.3034108914,
          1761732.8611952104,
          1761692.304765053,
          1761652.135135633,
          1761611.9078240637,
          1761571.5964254308,
          1761531.324905838,
          1761490.9563012924,
          1761450.8009808278,
          1761411.2793477084,
          1761371.538967874,
          1761331.365810181,
          1761290.8204508368,
          1761250.4823723482,
          1761210.163777831,
          1761169.7535563018,
          1761129.5918183457,
          1761089.3437283318,
          1761049.2881792914,
          1761009.0747236088,
          1760968.8787249532,
          1760928.7410164457,
          1760888.0492720883,
          1760847.505020582,
          1760807.0934853572,
          1760766.5913094552,
          1760726.1582985977,
          1760686.011412654,
          1760645.8646356715,
          1760605.6136572473,
          1760565.5469167996,
          1760525.0467947554,
          1760484.3575575547,
          1760443.9503045809,
          1760403.675899961,
          1760363.0711214775,
          1760322.6077495909,
          1760282.2300901078,
          1760241.9149540504,
          1760201.7173885992,
          1760161.3175644008,
          1760122.0307367994,
          1760083.8641738966,
          1760046.7401552256,
          1760007.7047509933,
          1759968.5576401558,
          1759927.90415846,
          1759887.7419107037,
          1759847.631702384,
          1759807.5408628704,
          1759767.1855449611,
          1759727.1545532383,
          1759687.599417678,
          1759648.8161446713,
          1759608.7460908927,
          1759567.9771882342,
          1759528.3291607182,
          1759488.877579744,
          1759448.7509584986,
          1759407.6299864352,
          1759366.84685018,
          1759326.3792705145,
          1759286.1511347303,
          1759246.2230604691,
          1759205.946110447,
          1759165.499663338,
          1759124.9822139638,
          1759084.8230514172,
          1759045.015035702,
          1759006.0612036055,
          1758966.3449957457,
          1758926.6762513248,
          1758885.9899531296,
          1758845.3304784447,
          1758804.8855628148,
          1758764.5243060952,
          1758723.89388174,
          1758683.380189852,
          1758643.036438101,
          1758602.6796315322,
          1758562.4858515086,
          1758522.2852656683,
          1758482.1849575844,
          1758442.6947081974,
          1758402.8495086525,
          1758364.046951891,
          1758325.059835162,
          1758285.1016830318,
          1758244.520917731,
          1758203.931393085,
          1758163.3008708106,
          1758122.802752927,
          1758083.4921813048,
          1758043.3183345562,
          1758002.966897403,
          1757962.611101617,
          1757922.504338759,
          1757882.0784909464,
          1757841.6652413746,
          1757802.3904644195,
          1757764.022739279,
          1757726.888351879,
          1757693.600450608,
          1757655.0903784567,
          1757614.6009164052,
          1757574.0770609938,
          1757533.6424372988,
          1757493.361795094,
          1757453.0409313953,
          1757412.654039626,
          1757372.3918477,
          1757332.410036399,
          1757293.7061826875,
          1757254.0738995047,
          1757214.3046356635,
          1757174.9172060164,
          1757134.6878483342,
          1757094.7963734334,
          1757054.5433635537,
          1757014.1964248456,
          1756973.8900941974,
          1756933.677899171,
          1756893.4117185315,
          1756853.9950225996,
          1756817.1983019086,
          1756779.8488871912,
          1756741.6563276788,
          1756700.63464781,
          1756659.7335231667,
          1756619.1761822589,
          1756586.810857717,
          1756582.213659754,
          1756573.1715284,
          1756564.1186701106,
          1756555.9706013566,
          1756550.433805328,
          1756576.1319737297,
          1756614.4179617008,
          1756654.1761722565,
          1756694.3610923197,
          1756734.6606403012,
          1756775.039475887,
          1756814.9835190708,
          1756854.2694216166,
          1756893.181184697,
          1756933.3908631252,
          1756972.4663008573,
          1757012.1128491417,
          1757052.4371231738,
          1757092.7596582193,
          1757133.1828921223,
          1757173.5528160892,
          1757212.7096296763,
          1757252.715496813,
          1757293.2904322334,
          1757333.4505904077,
          1757373.6812029686,
          1757412.9693130215,
          1757453.260991401,
          1757493.8023052225,
          1757534.3334707674,
          1757574.7349496922,
          1757615.1310821632,
          1757655.3083918802,
          1757695.2434106425,
          1757735.1664190106,
          1757775.381594967,
          1757816.078625735,
          1757856.5491371434,
          1757896.6754812011,
          1757936.7628013222,
          1757977.594442756,
          1758017.9158557812,
          1758058.4212296177,
          1758098.7716872096,
          1758138.9796914533,
          1758179.5840279525,
          1758219.885589948,
          1758260.3222988164,
          1758300.531452639,
          1758340.729749292,
          1758380.523453568,
          1758419.245933474,
          1758458.0907212626,
          1758497.6900098205,
          1758538.53802846,
          1758578.972392491,
          1758618.9929243242,
          1758659.1952214057,
          1758699.3447189191,
          1758739.614149116,
          1758780.0147943674,
          1758820.5708744982,
          1758860.916428551,
          1758901.1196775455,
          1758941.8334770072,
          1758982.2524840012,
          1759022.299767441,
          1759062.3482284518,
          1759102.5215824768,
          1759142.777977042,
          1759183.276683821,
          1759223.8402251415,
          1759263.54878702,
          1759303.151364199,
          1759342.7994796978,
          1759383.0869613644,
          1759423.2026747365,
          1759463.6897005932,
          1759503.7844476467,
          1759543.9792949269,
          1759584.2337475829,
          1759624.6507218108,
          1759664.154017035,
          1759701.867133153,
          1759740.2819175152,
          1759779.9858874057,
          1759815.255239415,
          1759851.637752735,
          1759892.409239605,
          1759932.0758446604,
          1759970.8675671266,
          1760010.1263960265,
          1760049.8289338527,
          1760088.9060659558,
          1760126.7437692806,
          1760159.1571196774,
          1760198.003599057,
          1760239.2894796506,
          1760279.9730088292,
          1760320.5859429669,
          1760361.014259736,
          1760401.3859543623,
          1760441.8979206746,
          1760482.2874677852,
          1760522.468728345,
          1760562.713311186,
          1760602.9131593918,
          1760642.8303601649,
          1760681.8221006813,
          1760722.1352916695,
          1760763.0853201896,
          1760803.7275172807,
          1760844.079122506,
          1760884.4394008983,
          1760924.9021548554,
          1760965.3223142754,
          1761005.523260879,
          1761045.8546846826,
          1761086.1440208796,
          1761126.4295218606,
          1761166.749780707,
          1761207.2197250065,
          1761247.5622876857,
          1761287.83363768,
          1761328.152475561,
          1761368.4477082286,
          1761408.7727942783,
          1761448.9384441797,
          1761489.139924202,
          1761529.326355884,
          1761569.5189260636,
          1761609.8767914874,
          1761650.1189325396,
          1761690.490310073,
          1761730.880334883,
          1761771.181626184,
          1761811.2907369465,
          1761851.7166439742,
          1761892.0321207773,
          1761932.3669223972,
          1761972.818395733,
          1762013.0947096543,
          1762051.8925736686,
          1762090.713968465,
          1762130.0267080106,
          1762168.9900917606,
          1762208.691118762,
          1762248.581738961,
          1762289.011717772,
          1762329.473577327,
          1762369.8233888568,
          1762410.2308794905,
          1762450.5841294583,
          1762490.82125544,
          1762530.7649781285,
          1762570.0951833902,
          1762609.5899544964,
          1762648.856657385,
          1762688.48533801,
          1762728.6456493046,
          1762768.7710530488,
          1762808.9423436942,
          1762849.4489117395,
          1762889.8351880852,
          1762929.8392756982,
          1762969.866913204,
          1763009.6682475498,
          1763050.207572409,
          1763088.688622228,
          1763127.3182080295,
          1763165.009651687,
          1763204.2596019171,
          1763240.2474112436,
          1763275.9252184452,
          1763315.1136605171,
          1763353.661714946,
          1763393.0135919536,
          1763432.5781047428,
          1763472.8669989342,
          1763513.334630194,
          1763553.6972689305,
          1763594.0667626131,
          1763634.671486212,
          1763675.27162698,
          1763715.5926121362,
          1763756.1164518828,
          1763796.5884735454,
          1763837.1628653146,
          1763877.5780328326,
          1763917.7354491577,
          1763957.8485261612,
          1763998.2145632878,
          1764038.704149101,
          1764079.0292152604,
          1764119.5046662,
          1764159.781057964,
          1764199.9718619585,
          1764240.474909246,
          1764280.630118032,
          1764321.1370398318,
          1764361.70174459,
          1764402.464285288,
          1764442.9293838432,
          1764483.321407252,
          1764523.674016815,
          1764564.2173602926,
          1764604.7850775598,
          1764644.9704140136,
          1764685.3019211162,
          1764725.709583588,
          1764766.01209425,
          1764806.008863344,
          1764846.6413116222,
          1764886.9693791522,
          1764927.201465332,
          1764967.7085745456,
          1765006.342945445,
          1765045.0525644273,
          1765085.0818755338,
          1765126.0446862476,
          1765165.4845337672,
          1765204.7061507227,
          1765244.9066618,
          1765285.4947943278,
          1765326.0011028452,
          1765365.7904691836,
          1765405.9788072165,
          1765446.3383433716,
          1765486.2003893843,
          1765525.4785892095,
          1765565.8074016217,
          1765606.6669472754,
          1765646.953097173,
          1765686.8873603633,
          1765727.1084407186,
          1765767.571080314,
          1765807.7934376206,
          1765848.3463898674,
          1765888.9196906732,
          1765929.208382842,
          1765969.7500068368,
          1766010.1443272168,
          1766049.787852581,
          1766089.2237901129,
          1766129.119476011,
          1766169.2780347178,
          1766209.5251502795,
          1766249.855301937,
          1766290.2982131217,
          1766330.6678572595,
          1766371.0041265814,
          1766411.2044402547,
          1766451.660314709,
          1766491.5413888488,
          1766531.4973932777,
          1766571.9473020444,
          1766612.4833522756,
          1766653.064961982,
          1766692.907691219,
          1766733.144407753,
          1766773.3894085863,
          1766813.655186939,
          1766853.8052130202,
          1766893.3825463532,
          1766933.5912217705,
          1766973.8816644792,
          1767014.8207481315,
          1767055.0502908423,
          1767095.1712540798,
          1767135.6035291012,
          1767175.8173418809,
          1767216.209814773,
          1767256.5349610504,
          1767296.8344873516,
          1767337.2699522702,
          1767376.771023795,
          1767417.239306326,
          1767457.8293261426,
          1767498.0175463716,
          1767534.3135296386,
          1767572.4274515128,
          1767612.7486748816,
          1767651.9125036765,
          1767691.039107332,
          1767730.343276036,
          1767771.2464903938,
          1767809.9927312126,
          1767846.8798685372,
          1767886.292991483,
          1767926.480972277,
          1767966.7929587355,
          1768004.6020236788,
          1768040.959418113,
          1768081.300743834,
          1768120.0707787825,
          1768158.159408031,
          1768196.2897248026,
          1768236.1280607022,
          1768274.9793504924,
          1768314.2143635943,
          1768353.3683611564,
          1768393.6375497263,
          1768434.1022107275,
          1768473.215007442,
          1768511.9160232404,
          1768551.003295335,
          1768589.6219143346,
          1768629.0045195175,
          1768669.3885376574,
          1768710.0969502537,
          1768750.716804443,
          1768790.8055192018,
          1768830.185945107,
          1768869.658178327,
          1768909.9444065243,
          1768950.0797778694,
          1768990.210347911,
          1769024.0815456426,
          1769057.1516090892,
          1769095.8774717264,
          1769136.2247610474,
          1769175.980904162,
          1769216.4140081191,
          1769256.3427805826,
          1769294.9933278402,
          1769334.0595175913,
          1769370.362935855,
          1769410.2030329509,
          1769451.139131669,
          1769491.781330797,
          1769532.3425921416,
          1769572.549599438,
          1769612.8082615882,
          1769653.260216849,
          1769693.757713331,
          1769734.1728222333,
          1769774.3387230178,
          1769814.2209296804,
          1769853.633655672,
          1769893.6447486477,
          1769933.92765602,
          1769974.1592874173,
          1770014.5528168576,
          1770054.1293391064,
          1770093.208593227,
          1770133.0631303024,
          1770173.5601845805,
          1770213.40600528,
          1770253.6178590078,
          1770293.6866587196,
          1770334.0206164578,
          1770374.63842291,
          1770415.269738627,
          1770455.871449165,
          1770496.4078625487,
          1770537.215038999,
          1770577.1826724736,
          1770616.984538722,
          1770656.4931611477,
          1770696.1317716278,
          1770735.2297800686,
          1770773.8681180151,
          1770812.800464498,
          1770851.9251244608,
          1770891.8981141483,
          1770929.995746551,
          1770967.4673518687,
          1771004.4877791507,
          1771041.4972295808,
          1771078.558181718,
          1771115.7610434126,
          1771154.431243559,
          1771194.1338162115,
          1771231.7771884687,
          1771270.5829691496,
          1771310.0761964386,
          1771349.230618719,
          1771388.3813515443,
          1771427.136416701,
          1771465.678309951,
          1771504.6960797934,
          1771543.4474899508,
          1771581.9875666862,
          1771621.0504871402,
          1771658.116577665,
          1771695.4309397824,
          1771734.5659527238,
          1771774.2038120376,
          1771812.7648823522,
          1771851.2087192005,
          1771889.5165838394,
          1771928.283286403,
          1771967.5371864785,
          1772006.5536738196,
          1772045.2124693915,
          1772083.6237910455,
          1772123.0227172803,
          1772162.5927107427,
          1772201.050449557,
          1772237.2581064878,
          1772273.7365902886,
          1772308.9151074877,
          1772343.2046562089,
          1772381.4284783704,
          1772410.9488677587,
          1772448.2849657089,
          1772482.106364808,
          1772520.5435271077,
          1772560.341235981,
          1772599.565624035,
          1772638.9225449972,
          1772678.518733062,
          1772717.9157969458,
          1772757.1937014423,
          1772796.339447342,
          1772834.988858739,
          1772873.4857951363,
          1772911.8825983824,
          1772950.0199607655,
          1772985.15342958,
          1773022.380577865,
          1773061.406029421,
          1773098.411229453,
          1773133.2672128845,
          1773168.817225025,
          1773204.5929519236,
          1773240.9058366455,
          1773279.2441313202,
          1773315.9497868463,
          1773344.1561068995,
          1773378.967405446,
          1773417.7689401973,
          1773457.302313162,
          1773494.3451148542,
          1773532.849481454,
          1773572.078167826,
          1773611.3494227417,
          1773650.8362290142,
          1773688.6157423966,
          1773725.7690324774,
          1773763.4361976366,
          1773800.3553128038,
          1773833.9491031822,
          1773862.340457176,
          1773900.212285813,
          1773940.3532235892,
          1773979.895348615,
          1774019.504418346,
          1774058.663146468,
          1774097.1665952737,
          1774134.6377099303,
          1774174.0410871068,
          1774213.0924982077,
          1774251.8788719866,
          1774291.4305384466,
          1774329.536899045,
          1774365.6769689126,
          1774402.348998211,
          1774441.3471489502,
          1774481.178891833,
          1774519.7626090692,
          1774558.544343425,
          1774595.4004678,
          1774631.6187664475,
          1774669.96931878,
          1774709.4212159952,
          1774746.8934760643,
          1774758.0796878282,
          1774759.027902076,
          1774757.5568683026,
          1774755.5142730204,
          1774753.9815509208,
          1774752.5416212669,
          1774751.717995159,
          1774751.1003047293,
          1774750.0833828105,
          1774748.8055526223,
          1774747.67876634,
          1774745.3033425026,
          1774744.068571535,
          1774742.902084033,
          1774742.1251644008,
          1774740.532110321,
          1774738.5363238892,
          1774737.1916948687,
          1774735.5341884105,
          1774733.977714985,
          1774732.0940398462,
          1774730.7144232197,
          1774729.060387645,
          1774727.7137039248,
          1774726.6621797066,
          1774725.45599439,
          1774724.0435738815,
          1774722.5394473765,
          1774721.0784754334,
          1774719.4089636125,
          1774718.4802927517,
          1774717.1081509618,
          1774715.5073300842,
          1774713.8448309945,
          1774712.4590616971,
          1774710.8439095952,
          1774709.8428501254,
          1774708.6885514555,
          1774706.8173275692,
          1774705.2916845176,
          1774703.6406296622,
          1774701.978762635,
          1774700.6694916645,
          1774699.6170734167,
          1774698.2910224488,
          1774696.8946085712,
          1774695.4304285944,
          1774694.125375986,
          1774692.648743892,
          1774691.2033138238,
          1774689.5732257906,
          1774688.1108463332,
          1774686.888646664,
          1774685.2525729267,
          1774683.9287200747,
          1774682.613210047,
          1774681.1916439766,
          1774679.746683753,
          1774678.4182405127,
          1774676.6915737484,
          1774674.6589495232,
          1774674.0077460343,
          1774672.9490415985,
          1774671.71149614,
          1774670.195152549,
          1774668.4021792468,
          1774666.645789343,
          1774665.0932206586,
          1774663.6677276054,
          1774662.3840809502,
          1774661.057649319,
          1774659.7272884883,
          1774658.363734495,
          1774656.913224388,
          1774655.400473843,
          1774658.2034422075,
          1774691.744134958,
          1774728.9983136058,
          1774769.514426377,
          1774810.1229751986,
          1774850.6938186735,
          1774887.9983700374,
          1774895.6691751992,
          1774898.327275672,
          1774899.1707902094,
          1774900.1806513304,
          1774900.7639759006,
          1774901.8345313296,
          1774902.9523206474,
          1774904.119776994,
          1774905.53031768,
          1774907.09675821,
          1774908.0281546433,
          1774908.968692666,
          1774910.246669812,
          1774911.147632855,
          1774911.9418024234,
          1774913.108468026,
          1774914.318159609,
          1774915.3109263126,
          1774916.4167261943,
          1774917.5807547336,
          1774918.787903634,
          1774919.7299674845,
          1774920.6519141989,
          1774921.6757088332,
          1774922.836977752,
          1774924.0322419507,
          1774925.2028232785,
          1774926.4110418838,
          1774927.446365917,
          1774928.5858195266,
          1774929.4023793582,
          1774930.401128294,
          1774931.728769109,
          1774933.1093684295,
          1774934.4211824993,
          1774935.146600197,
          1774935.9556088587,
          1774937.272573392,
          1774937.8979290808,
          1774939.436695071,
          1774940.416404617,
          1774941.363802,
          1774942.3680315863,
          1774943.4269970758,
          1774944.6416078303,
          1774945.7945832275,
          1774946.8727208923,
          1774947.5474315537,
          1774948.654626334,
          1774949.7368800333,
          1774950.6473675976,
          1774951.886637304,
          1774953.0616718745,
          1774954.232388204,
          1774955.2664361857,
          1774956.3950557606,
          1774957.254485773,
          1774958.2248363905,
          1774959.2133095572,
          1774960.675170984,
          1774961.8485608613,
          1774962.6790549057,
          1774963.8253847416,
          1774964.5966446027,
          1774965.4365933407,
          1774966.385730844,
          1774968.257932447,
          1774969.5767060472,
          1774970.321258747,
          1774971.3006876418,
          1774972.582690495,
          1774973.6232647886,
          1774974.5810401784,
          1774975.8465120774,
          1774976.5432541464,
          1774996.743245678,
          1775021.680229391,
          1775050.0545441406,
          1775085.703330231,
          1775124.3914275784,
          1775159.8676812155,
          1775197.128924572,
          1775235.9957870953,
          1775278.404066621,
          1775309.9190633334,
          1775338.948574568,
          1775378.113210286
         ],
         "yaxis": "y"
        }
       ],
       "layout": {
        "coloraxis": {
         "colorbar": {
          "title": {
           "text": "Depth"
          }
         },
         "colorscale": [
          [
           0,
           "#fde725"
          ],
          [
           0.1111111111111111,
           "#b5de2b"
          ],
          [
           0.2222222222222222,
           "#6ece58"
          ],
          [
           0.3333333333333333,
           "#35b779"
          ],
          [
           0.4444444444444444,
           "#1f9e89"
          ],
          [
           0.5555555555555556,
           "#26828e"
          ],
          [
           0.6666666666666666,
           "#31688e"
          ],
          [
           0.7777777777777778,
           "#3e4989"
          ],
          [
           0.8888888888888888,
           "#482878"
          ],
          [
           1,
           "#440154"
          ]
         ]
        },
        "font": {
         "color": "black",
         "family": "Arial",
         "size": 20
        },
        "height": 1000,
        "legend": {
         "tracegroupgap": 0
        },
        "margin": {
         "t": 60
        },
        "plot_bgcolor": "white",
        "shapes": [
         {
          "line": {
           "color": "salmon"
          },
          "type": "rect",
          "x0": 466217.1582681555,
          "x1": 466980.3223105317,
          "y0": 1756450.0559615055,
          "y1": 1764059.0524525102
         }
        ],
        "template": {
         "data": {
          "bar": [
           {
            "error_x": {
             "color": "#2a3f5f"
            },
            "error_y": {
             "color": "#2a3f5f"
            },
            "marker": {
             "line": {
              "color": "#E5ECF6",
              "width": 0.5
             },
             "pattern": {
              "fillmode": "overlay",
              "size": 10,
              "solidity": 0.2
             }
            },
            "type": "bar"
           }
          ],
          "barpolar": [
           {
            "marker": {
             "line": {
              "color": "#E5ECF6",
              "width": 0.5
             },
             "pattern": {
              "fillmode": "overlay",
              "size": 10,
              "solidity": 0.2
             }
            },
            "type": "barpolar"
           }
          ],
          "carpet": [
           {
            "aaxis": {
             "endlinecolor": "#2a3f5f",
             "gridcolor": "white",
             "linecolor": "white",
             "minorgridcolor": "white",
             "startlinecolor": "#2a3f5f"
            },
            "baxis": {
             "endlinecolor": "#2a3f5f",
             "gridcolor": "white",
             "linecolor": "white",
             "minorgridcolor": "white",
             "startlinecolor": "#2a3f5f"
            },
            "type": "carpet"
           }
          ],
          "choropleth": [
           {
            "colorbar": {
             "outlinewidth": 0,
             "ticks": ""
            },
            "type": "choropleth"
           }
          ],
          "contour": [
           {
            "colorbar": {
             "outlinewidth": 0,
             "ticks": ""
            },
            "colorscale": [
             [
              0,
              "#0d0887"
             ],
             [
              0.1111111111111111,
              "#46039f"
             ],
             [
              0.2222222222222222,
              "#7201a8"
             ],
             [
              0.3333333333333333,
              "#9c179e"
             ],
             [
              0.4444444444444444,
              "#bd3786"
             ],
             [
              0.5555555555555556,
              "#d8576b"
             ],
             [
              0.6666666666666666,
              "#ed7953"
             ],
             [
              0.7777777777777778,
              "#fb9f3a"
             ],
             [
              0.8888888888888888,
              "#fdca26"
             ],
             [
              1,
              "#f0f921"
             ]
            ],
            "type": "contour"
           }
          ],
          "contourcarpet": [
           {
            "colorbar": {
             "outlinewidth": 0,
             "ticks": ""
            },
            "type": "contourcarpet"
           }
          ],
          "heatmap": [
           {
            "colorbar": {
             "outlinewidth": 0,
             "ticks": ""
            },
            "colorscale": [
             [
              0,
              "#0d0887"
             ],
             [
              0.1111111111111111,
              "#46039f"
             ],
             [
              0.2222222222222222,
              "#7201a8"
             ],
             [
              0.3333333333333333,
              "#9c179e"
             ],
             [
              0.4444444444444444,
              "#bd3786"
             ],
             [
              0.5555555555555556,
              "#d8576b"
             ],
             [
              0.6666666666666666,
              "#ed7953"
             ],
             [
              0.7777777777777778,
              "#fb9f3a"
             ],
             [
              0.8888888888888888,
              "#fdca26"
             ],
             [
              1,
              "#f0f921"
             ]
            ],
            "type": "heatmap"
           }
          ],
          "heatmapgl": [
           {
            "colorbar": {
             "outlinewidth": 0,
             "ticks": ""
            },
            "colorscale": [
             [
              0,
              "#0d0887"
             ],
             [
              0.1111111111111111,
              "#46039f"
             ],
             [
              0.2222222222222222,
              "#7201a8"
             ],
             [
              0.3333333333333333,
              "#9c179e"
             ],
             [
              0.4444444444444444,
              "#bd3786"
             ],
             [
              0.5555555555555556,
              "#d8576b"
             ],
             [
              0.6666666666666666,
              "#ed7953"
             ],
             [
              0.7777777777777778,
              "#fb9f3a"
             ],
             [
              0.8888888888888888,
              "#fdca26"
             ],
             [
              1,
              "#f0f921"
             ]
            ],
            "type": "heatmapgl"
           }
          ],
          "histogram": [
           {
            "marker": {
             "pattern": {
              "fillmode": "overlay",
              "size": 10,
              "solidity": 0.2
             }
            },
            "type": "histogram"
           }
          ],
          "histogram2d": [
           {
            "colorbar": {
             "outlinewidth": 0,
             "ticks": ""
            },
            "colorscale": [
             [
              0,
              "#0d0887"
             ],
             [
              0.1111111111111111,
              "#46039f"
             ],
             [
              0.2222222222222222,
              "#7201a8"
             ],
             [
              0.3333333333333333,
              "#9c179e"
             ],
             [
              0.4444444444444444,
              "#bd3786"
             ],
             [
              0.5555555555555556,
              "#d8576b"
             ],
             [
              0.6666666666666666,
              "#ed7953"
             ],
             [
              0.7777777777777778,
              "#fb9f3a"
             ],
             [
              0.8888888888888888,
              "#fdca26"
             ],
             [
              1,
              "#f0f921"
             ]
            ],
            "type": "histogram2d"
           }
          ],
          "histogram2dcontour": [
           {
            "colorbar": {
             "outlinewidth": 0,
             "ticks": ""
            },
            "colorscale": [
             [
              0,
              "#0d0887"
             ],
             [
              0.1111111111111111,
              "#46039f"
             ],
             [
              0.2222222222222222,
              "#7201a8"
             ],
             [
              0.3333333333333333,
              "#9c179e"
             ],
             [
              0.4444444444444444,
              "#bd3786"
             ],
             [
              0.5555555555555556,
              "#d8576b"
             ],
             [
              0.6666666666666666,
              "#ed7953"
             ],
             [
              0.7777777777777778,
              "#fb9f3a"
             ],
             [
              0.8888888888888888,
              "#fdca26"
             ],
             [
              1,
              "#f0f921"
             ]
            ],
            "type": "histogram2dcontour"
           }
          ],
          "mesh3d": [
           {
            "colorbar": {
             "outlinewidth": 0,
             "ticks": ""
            },
            "type": "mesh3d"
           }
          ],
          "parcoords": [
           {
            "line": {
             "colorbar": {
              "outlinewidth": 0,
              "ticks": ""
             }
            },
            "type": "parcoords"
           }
          ],
          "pie": [
           {
            "automargin": true,
            "type": "pie"
           }
          ],
          "scatter": [
           {
            "fillpattern": {
             "fillmode": "overlay",
             "size": 10,
             "solidity": 0.2
            },
            "type": "scatter"
           }
          ],
          "scatter3d": [
           {
            "line": {
             "colorbar": {
              "outlinewidth": 0,
              "ticks": ""
             }
            },
            "marker": {
             "colorbar": {
              "outlinewidth": 0,
              "ticks": ""
             }
            },
            "type": "scatter3d"
           }
          ],
          "scattercarpet": [
           {
            "marker": {
             "colorbar": {
              "outlinewidth": 0,
              "ticks": ""
             }
            },
            "type": "scattercarpet"
           }
          ],
          "scattergeo": [
           {
            "marker": {
             "colorbar": {
              "outlinewidth": 0,
              "ticks": ""
             }
            },
            "type": "scattergeo"
           }
          ],
          "scattergl": [
           {
            "marker": {
             "colorbar": {
              "outlinewidth": 0,
              "ticks": ""
             }
            },
            "type": "scattergl"
           }
          ],
          "scattermapbox": [
           {
            "marker": {
             "colorbar": {
              "outlinewidth": 0,
              "ticks": ""
             }
            },
            "type": "scattermapbox"
           }
          ],
          "scatterpolar": [
           {
            "marker": {
             "colorbar": {
              "outlinewidth": 0,
              "ticks": ""
             }
            },
            "type": "scatterpolar"
           }
          ],
          "scatterpolargl": [
           {
            "marker": {
             "colorbar": {
              "outlinewidth": 0,
              "ticks": ""
             }
            },
            "type": "scatterpolargl"
           }
          ],
          "scatterternary": [
           {
            "marker": {
             "colorbar": {
              "outlinewidth": 0,
              "ticks": ""
             }
            },
            "type": "scatterternary"
           }
          ],
          "surface": [
           {
            "colorbar": {
             "outlinewidth": 0,
             "ticks": ""
            },
            "colorscale": [
             [
              0,
              "#0d0887"
             ],
             [
              0.1111111111111111,
              "#46039f"
             ],
             [
              0.2222222222222222,
              "#7201a8"
             ],
             [
              0.3333333333333333,
              "#9c179e"
             ],
             [
              0.4444444444444444,
              "#bd3786"
             ],
             [
              0.5555555555555556,
              "#d8576b"
             ],
             [
              0.6666666666666666,
              "#ed7953"
             ],
             [
              0.7777777777777778,
              "#fb9f3a"
             ],
             [
              0.8888888888888888,
              "#fdca26"
             ],
             [
              1,
              "#f0f921"
             ]
            ],
            "type": "surface"
           }
          ],
          "table": [
           {
            "cells": {
             "fill": {
              "color": "#EBF0F8"
             },
             "line": {
              "color": "white"
             }
            },
            "header": {
             "fill": {
              "color": "#C8D4E3"
             },
             "line": {
              "color": "white"
             }
            },
            "type": "table"
           }
          ]
         },
         "layout": {
          "annotationdefaults": {
           "arrowcolor": "#2a3f5f",
           "arrowhead": 0,
           "arrowwidth": 1
          },
          "autotypenumbers": "strict",
          "coloraxis": {
           "colorbar": {
            "outlinewidth": 0,
            "ticks": ""
           }
          },
          "colorscale": {
           "diverging": [
            [
             0,
             "#8e0152"
            ],
            [
             0.1,
             "#c51b7d"
            ],
            [
             0.2,
             "#de77ae"
            ],
            [
             0.3,
             "#f1b6da"
            ],
            [
             0.4,
             "#fde0ef"
            ],
            [
             0.5,
             "#f7f7f7"
            ],
            [
             0.6,
             "#e6f5d0"
            ],
            [
             0.7,
             "#b8e186"
            ],
            [
             0.8,
             "#7fbc41"
            ],
            [
             0.9,
             "#4d9221"
            ],
            [
             1,
             "#276419"
            ]
           ],
           "sequential": [
            [
             0,
             "#0d0887"
            ],
            [
             0.1111111111111111,
             "#46039f"
            ],
            [
             0.2222222222222222,
             "#7201a8"
            ],
            [
             0.3333333333333333,
             "#9c179e"
            ],
            [
             0.4444444444444444,
             "#bd3786"
            ],
            [
             0.5555555555555556,
             "#d8576b"
            ],
            [
             0.6666666666666666,
             "#ed7953"
            ],
            [
             0.7777777777777778,
             "#fb9f3a"
            ],
            [
             0.8888888888888888,
             "#fdca26"
            ],
            [
             1,
             "#f0f921"
            ]
           ],
           "sequentialminus": [
            [
             0,
             "#0d0887"
            ],
            [
             0.1111111111111111,
             "#46039f"
            ],
            [
             0.2222222222222222,
             "#7201a8"
            ],
            [
             0.3333333333333333,
             "#9c179e"
            ],
            [
             0.4444444444444444,
             "#bd3786"
            ],
            [
             0.5555555555555556,
             "#d8576b"
            ],
            [
             0.6666666666666666,
             "#ed7953"
            ],
            [
             0.7777777777777778,
             "#fb9f3a"
            ],
            [
             0.8888888888888888,
             "#fdca26"
            ],
            [
             1,
             "#f0f921"
            ]
           ]
          },
          "colorway": [
           "#636efa",
           "#EF553B",
           "#00cc96",
           "#ab63fa",
           "#FFA15A",
           "#19d3f3",
           "#FF6692",
           "#B6E880",
           "#FF97FF",
           "#FECB52"
          ],
          "font": {
           "color": "#2a3f5f"
          },
          "geo": {
           "bgcolor": "white",
           "lakecolor": "white",
           "landcolor": "#E5ECF6",
           "showlakes": true,
           "showland": true,
           "subunitcolor": "white"
          },
          "hoverlabel": {
           "align": "left"
          },
          "hovermode": "closest",
          "mapbox": {
           "style": "light"
          },
          "paper_bgcolor": "white",
          "plot_bgcolor": "#E5ECF6",
          "polar": {
           "angularaxis": {
            "gridcolor": "white",
            "linecolor": "white",
            "ticks": ""
           },
           "bgcolor": "#E5ECF6",
           "radialaxis": {
            "gridcolor": "white",
            "linecolor": "white",
            "ticks": ""
           }
          },
          "scene": {
           "xaxis": {
            "backgroundcolor": "#E5ECF6",
            "gridcolor": "white",
            "gridwidth": 2,
            "linecolor": "white",
            "showbackground": true,
            "ticks": "",
            "zerolinecolor": "white"
           },
           "yaxis": {
            "backgroundcolor": "#E5ECF6",
            "gridcolor": "white",
            "gridwidth": 2,
            "linecolor": "white",
            "showbackground": true,
            "ticks": "",
            "zerolinecolor": "white"
           },
           "zaxis": {
            "backgroundcolor": "#E5ECF6",
            "gridcolor": "white",
            "gridwidth": 2,
            "linecolor": "white",
            "showbackground": true,
            "ticks": "",
            "zerolinecolor": "white"
           }
          },
          "shapedefaults": {
           "line": {
            "color": "#2a3f5f"
           }
          },
          "ternary": {
           "aaxis": {
            "gridcolor": "white",
            "linecolor": "white",
            "ticks": ""
           },
           "baxis": {
            "gridcolor": "white",
            "linecolor": "white",
            "ticks": ""
           },
           "bgcolor": "#E5ECF6",
           "caxis": {
            "gridcolor": "white",
            "linecolor": "white",
            "ticks": ""
           }
          },
          "title": {
           "x": 0.05
          },
          "xaxis": {
           "automargin": true,
           "gridcolor": "white",
           "linecolor": "white",
           "ticks": "",
           "title": {
            "standoff": 15
           },
           "zerolinecolor": "white",
           "zerolinewidth": 2
          },
          "yaxis": {
           "automargin": true,
           "gridcolor": "white",
           "linecolor": "white",
           "ticks": "",
           "title": {
            "standoff": 15
           },
           "zerolinecolor": "white",
           "zerolinewidth": 2
          }
         }
        },
        "width": 1000,
        "xaxis": {
         "anchor": "y",
         "domain": [
          0,
          1
         ],
         "linecolor": "black",
         "linewidth": 2.4,
         "showline": true,
         "showticklabels": true,
         "tickcolor": "black",
         "ticks": "outside",
         "tickwidth": 2.4,
         "title": {
          "text": "Easting"
         }
        },
        "yaxis": {
         "anchor": "x",
         "domain": [
          0,
          1
         ],
         "linecolor": "black",
         "linewidth": 2.4,
         "showline": true,
         "tickcolor": "black",
         "ticks": "outside",
         "tickwidth": 2.4,
         "title": {
          "text": "Northing"
         }
        }
       }
      }
     },
     "metadata": {},
     "output_type": "display_data"
    }
   ],
   "source": [
    "import plotly.express as px\n",
    "\n",
    "merged_df_subset = merged_df[::100]\n",
    "fig = px.scatter(merged_df_subset,\n",
    "                 x='Easting',\n",
    "                 y='Northing',\n",
    "                 color='Depth',\n",
    "                 color_continuous_scale='viridis_r',\n",
    "                 hover_data=['Filename', 'datetime'], \n",
    "                 width=1000,\n",
    "                 height=1000)\n",
    "fig.add_shape(\n",
    "    type='rect',\n",
    "    x0=test_min_x,\n",
    "    y0=test_min_y,\n",
    "    x1=test_max_x,\n",
    "    y1=test_max_y,\n",
    "    line_color='salmon',\n",
    ")\n",
    "\n",
    "font_dict=dict(family='Arial',\n",
    "               size=20,\n",
    "               color='black'\n",
    "               )\n",
    "fig.update_layout(\n",
    "                  plot_bgcolor='white',\n",
    "                  font=font_dict)\n",
    "fig.update_yaxes(showline=True,  # add line at x=0\n",
    "                 linecolor='black',  # line color\n",
    "                 linewidth=2.4, # line size\n",
    "                 ticks='outside',  # ticks outside axis\n",
    "                 tickwidth=2.4,  # tick width\n",
    "                 tickcolor='black',  # tick color\n",
    "                 )\n",
    "fig.update_xaxes(showline=True,\n",
    "                 showticklabels=True,\n",
    "                 linecolor='black',\n",
    "                 linewidth=2.4,\n",
    "                 ticks='outside',\n",
    "                 tickwidth=2.4,\n",
    "                 tickcolor='black',\n",
    "                 )\n",
    "fig.show()\n",
    "fig.write_image('../src/mbes_data/data/nbp22-mission2-dotson-east/processed-motion/merged-trajectory.pdf')"
   ]
  },
  {
   "attachments": {},
   "cell_type": "markdown",
   "metadata": {},
   "source": [
    "## 3.5 Plot ping XYZ ranges"
   ]
  },
  {
   "cell_type": "code",
   "execution_count": 50,
   "metadata": {},
   "outputs": [],
   "source": [
    "def plot_ranges(filename, subset):\n",
    "    patches = np.load(filename, allow_pickle=True)\n",
    "    print(f'patches shape: {patches.shape}')\n",
    "    extends = []\n",
    "    for patch in tqdm(patches):\n",
    "        extends.append(np.max(patch, axis=0) - np.min(patch, axis=0))\n",
    "    extends = np.array(extends)\n",
    "\n",
    "    # Plot histogram of patch extends\n",
    "    plt.hist(extends[:, 0], bins=100, label='x')\n",
    "    plt.hist(extends[:, 1], bins=100, label='y')\n",
    "    plt.hist(extends[:, 2], bins=100, label='z')\n",
    "    plt.legend()\n",
    "    plt.title(f'{subset} patches xyz range histograms')\n",
    "    plt.show()\n",
    "\n",
    "plot_ranges(filename='/home/li/pcl-registration/Datasets/NBP22-mission2-DotsonEast/train/train_patches.npy',\n",
    "            subset='train')"
   ]
  },
  {
   "cell_type": "code",
   "execution_count": 44,
   "metadata": {},
   "outputs": [
    {
     "name": "stderr",
     "output_type": "stream",
     "text": []
    },
    {
     "name": "stdout",
     "output_type": "stream",
     "text": [
      "patches shape: (946,)\n"
     ]
    },
    {
     "name": "stderr",
     "output_type": "stream",
     "text": [
      "100%|██████████| 946/946 [00:01<00:00, 876.91it/s]\n"
     ]
    },
    {
     "data": {
      "image/png": "[encoded data removed]",
      "text/plain": [
       "<Figure size 640x480 with 1 Axes>"
      ]
     },
     "metadata": {},
     "output_type": "display_data"
    }
   ],
   "source": [
    "plot_ranges(filename='/home/li/pcl-registration/Datasets/NBP22-mission2-DotsonEast/test/test_patches.npy',\n",
    "            subset='Test')"
   ]
  },
  {
   "cell_type": "code",
   "execution_count": 46,
   "metadata": {},
   "outputs": [
    {
     "name": "stderr",
     "output_type": "stream",
     "text": []
    },
    {
     "name": "stdout",
     "output_type": "stream",
     "text": [
      "patches shape: (1206,)\n"
     ]
    },
    {
     "name": "stderr",
     "output_type": "stream",
     "text": [
      "100%|██████████| 1206/1206 [00:01<00:00, 924.66it/s]\n"
     ]
    },
    {
     "data": {
      "image/png": "[encoded data removed]",
      "text/plain": [
       "<Figure size 640x480 with 1 Axes>"
      ]
     },
     "metadata": {},
     "output_type": "display_data"
    }
   ],
   "source": [
    "plot_ranges(filename='/home/li/pcl-registration/Datasets/NBP22-mission2-DotsonEast/val/val_patches.npy',\n",
    "                 subset='val')"
   ]
  },
  {
   "cell_type": "code",
   "execution_count": 49,
   "metadata": {},
   "outputs": [
    {
     "name": "stderr",
     "output_type": "stream",
     "text": []
    },
    {
     "name": "stderr",
     "output_type": "stream",
     "text": []
    },
    {
     "name": "stdout",
     "output_type": "stream",
     "text": [
      "patches shape: (470,)\n"
     ]
    },
    {
     "name": "stderr",
     "output_type": "stream",
     "text": [
      "100%|██████████| 470/470 [00:00<00:00, 1790.80it/s]\n"
     ]
    },
    {
     "data": {
      "image/png": "[encoded data removed]",
      "text/plain": [
       "<Figure size 640x480 with 1 Axes>"
      ]
     },
     "metadata": {},
     "output_type": "display_data"
    }
   ],
   "source": [
    "plot_ranges(filename='/home/li/pcl-registration/Datasets/NBP22-mission2-DotsonEast/tmp69-70/tmp69-70_patches.npy',\n",
    "            subset='tmp 69-70')"
   ]
  },
  {
   "cell_type": "markdown",
   "metadata": {},
   "source": [
    "# 4. Generate Patches"
   ]
  },
  {
   "cell_type": "markdown",
   "metadata": {},
   "source": [
    "## 4.1 Generate look up table for ping no -> original file and ping no"
   ]
  },
  {
   "cell_type": "code",
   "execution_count": 73,
   "metadata": {},
   "outputs": [
    {
     "name": "stdout",
     "output_type": "stream",
     "text": [
      "Filename\t| Pings\t| Cumulative Pings Start\t| Cumulative Pings End\t|\n",
      "12\t|2248\t| 0\t| 2248\t|\n",
      "21\t|363\t| 2248\t| 2611\t|\n",
      "84\t|2367\t| 2611\t| 4978\t|\n",
      "94\t|2276\t| 4978\t| 7254\t|\n"
     ]
    },
    {
     "data": {
      "application/vnd.plotly.v1+json": {
       "config": {
        "plotlyServerURL": "https://plot.ly"
       },
       "data": [
        {
         "hovertemplate": "Filename=%{x}<br>Num pings=%{y}<extra></extra>",
         "legendgroup": "",
         "line": {
          "color": "#636efa",
          "dash": "solid"
         },
         "marker": {
          "symbol": "circle"
         },
         "mode": "lines",
         "name": "",
         "orientation": "v",
         "showlegend": false,
         "type": "scatter",
         "x": [
          12,
          21,
          84,
          94
         ],
         "xaxis": "x",
         "y": [
          2248,
          363,
          2367,
          2276
         ],
         "yaxis": "y"
        }
       ],
       "layout": {
        "legend": {
         "tracegroupgap": 0
        },
        "margin": {
         "t": 60
        },
        "template": {
         "data": {
          "bar": [
           {
            "error_x": {
             "color": "#2a3f5f"
            },
            "error_y": {
             "color": "#2a3f5f"
            },
            "marker": {
             "line": {
              "color": "#E5ECF6",
              "width": 0.5
             },
             "pattern": {
              "fillmode": "overlay",
              "size": 10,
              "solidity": 0.2
             }
            },
            "type": "bar"
           }
          ],
          "barpolar": [
           {
            "marker": {
             "line": {
              "color": "#E5ECF6",
              "width": 0.5
             },
             "pattern": {
              "fillmode": "overlay",
              "size": 10,
              "solidity": 0.2
             }
            },
            "type": "barpolar"
           }
          ],
          "carpet": [
           {
            "aaxis": {
             "endlinecolor": "#2a3f5f",
             "gridcolor": "white",
             "linecolor": "white",
             "minorgridcolor": "white",
             "startlinecolor": "#2a3f5f"
            },
            "baxis": {
             "endlinecolor": "#2a3f5f",
             "gridcolor": "white",
             "linecolor": "white",
             "minorgridcolor": "white",
             "startlinecolor": "#2a3f5f"
            },
            "type": "carpet"
           }
          ],
          "choropleth": [
           {
            "colorbar": {
             "outlinewidth": 0,
             "ticks": ""
            },
            "type": "choropleth"
           }
          ],
          "contour": [
           {
            "colorbar": {
             "outlinewidth": 0,
             "ticks": ""
            },
            "colorscale": [
             [
              0,
              "#0d0887"
             ],
             [
              0.1111111111111111,
              "#46039f"
             ],
             [
              0.2222222222222222,
              "#7201a8"
             ],
             [
              0.3333333333333333,
              "#9c179e"
             ],
             [
              0.4444444444444444,
              "#bd3786"
             ],
             [
              0.5555555555555556,
              "#d8576b"
             ],
             [
              0.6666666666666666,
              "#ed7953"
             ],
             [
              0.7777777777777778,
              "#fb9f3a"
             ],
             [
              0.8888888888888888,
              "#fdca26"
             ],
             [
              1,
              "#f0f921"
             ]
            ],
            "type": "contour"
           }
          ],
          "contourcarpet": [
           {
            "colorbar": {
             "outlinewidth": 0,
             "ticks": ""
            },
            "type": "contourcarpet"
           }
          ],
          "heatmap": [
           {
            "colorbar": {
             "outlinewidth": 0,
             "ticks": ""
            },
            "colorscale": [
             [
              0,
              "#0d0887"
             ],
             [
              0.1111111111111111,
              "#46039f"
             ],
             [
              0.2222222222222222,
              "#7201a8"
             ],
             [
              0.3333333333333333,
              "#9c179e"
             ],
             [
              0.4444444444444444,
              "#bd3786"
             ],
             [
              0.5555555555555556,
              "#d8576b"
             ],
             [
              0.6666666666666666,
              "#ed7953"
             ],
             [
              0.7777777777777778,
              "#fb9f3a"
             ],
             [
              0.8888888888888888,
              "#fdca26"
             ],
             [
              1,
              "#f0f921"
             ]
            ],
            "type": "heatmap"
           }
          ],
          "heatmapgl": [
           {
            "colorbar": {
             "outlinewidth": 0,
             "ticks": ""
            },
            "colorscale": [
             [
              0,
              "#0d0887"
             ],
             [
              0.1111111111111111,
              "#46039f"
             ],
             [
              0.2222222222222222,
              "#7201a8"
             ],
             [
              0.3333333333333333,
              "#9c179e"
             ],
             [
              0.4444444444444444,
              "#bd3786"
             ],
             [
              0.5555555555555556,
              "#d8576b"
             ],
             [
              0.6666666666666666,
              "#ed7953"
             ],
             [
              0.7777777777777778,
              "#fb9f3a"
             ],
             [
              0.8888888888888888,
              "#fdca26"
             ],
             [
              1,
              "#f0f921"
             ]
            ],
            "type": "heatmapgl"
           }
          ],
          "histogram": [
           {
            "marker": {
             "pattern": {
              "fillmode": "overlay",
              "size": 10,
              "solidity": 0.2
             }
            },
            "type": "histogram"
           }
          ],
          "histogram2d": [
           {
            "colorbar": {
             "outlinewidth": 0,
             "ticks": ""
            },
            "colorscale": [
             [
              0,
              "#0d0887"
             ],
             [
              0.1111111111111111,
              "#46039f"
             ],
             [
              0.2222222222222222,
              "#7201a8"
             ],
             [
              0.3333333333333333,
              "#9c179e"
             ],
             [
              0.4444444444444444,
              "#bd3786"
             ],
             [
              0.5555555555555556,
              "#d8576b"
             ],
             [
              0.6666666666666666,
              "#ed7953"
             ],
             [
              0.7777777777777778,
              "#fb9f3a"
             ],
             [
              0.8888888888888888,
              "#fdca26"
             ],
             [
              1,
              "#f0f921"
             ]
            ],
            "type": "histogram2d"
           }
          ],
          "histogram2dcontour": [
           {
            "colorbar": {
             "outlinewidth": 0,
             "ticks": ""
            },
            "colorscale": [
             [
              0,
              "#0d0887"
             ],
             [
              0.1111111111111111,
              "#46039f"
             ],
             [
              0.2222222222222222,
              "#7201a8"
             ],
             [
              0.3333333333333333,
              "#9c179e"
             ],
             [
              0.4444444444444444,
              "#bd3786"
             ],
             [
              0.5555555555555556,
              "#d8576b"
             ],
             [
              0.6666666666666666,
              "#ed7953"
             ],
             [
              0.7777777777777778,
              "#fb9f3a"
             ],
             [
              0.8888888888888888,
              "#fdca26"
             ],
             [
              1,
              "#f0f921"
             ]
            ],
            "type": "histogram2dcontour"
           }
          ],
          "mesh3d": [
           {
            "colorbar": {
             "outlinewidth": 0,
             "ticks": ""
            },
            "type": "mesh3d"
           }
          ],
          "parcoords": [
           {
            "line": {
             "colorbar": {
              "outlinewidth": 0,
              "ticks": ""
             }
            },
            "type": "parcoords"
           }
          ],
          "pie": [
           {
            "automargin": true,
            "type": "pie"
           }
          ],
          "scatter": [
           {
            "fillpattern": {
             "fillmode": "overlay",
             "size": 10,
             "solidity": 0.2
            },
            "type": "scatter"
           }
          ],
          "scatter3d": [
           {
            "line": {
             "colorbar": {
              "outlinewidth": 0,
              "ticks": ""
             }
            },
            "marker": {
             "colorbar": {
              "outlinewidth": 0,
              "ticks": ""
             }
            },
            "type": "scatter3d"
           }
          ],
          "scattercarpet": [
           {
            "marker": {
             "colorbar": {
              "outlinewidth": 0,
              "ticks": ""
             }
            },
            "type": "scattercarpet"
           }
          ],
          "scattergeo": [
           {
            "marker": {
             "colorbar": {
              "outlinewidth": 0,
              "ticks": ""
             }
            },
            "type": "scattergeo"
           }
          ],
          "scattergl": [
           {
            "marker": {
             "colorbar": {
              "outlinewidth": 0,
              "ticks": ""
             }
            },
            "type": "scattergl"
           }
          ],
          "scattermapbox": [
           {
            "marker": {
             "colorbar": {
              "outlinewidth": 0,
              "ticks": ""
             }
            },
            "type": "scattermapbox"
           }
          ],
          "scatterpolar": [
           {
            "marker": {
             "colorbar": {
              "outlinewidth": 0,
              "ticks": ""
             }
            },
            "type": "scatterpolar"
           }
          ],
          "scatterpolargl": [
           {
            "marker": {
             "colorbar": {
              "outlinewidth": 0,
              "ticks": ""
             }
            },
            "type": "scatterpolargl"
           }
          ],
          "scatterternary": [
           {
            "marker": {
             "colorbar": {
              "outlinewidth": 0,
              "ticks": ""
             }
            },
            "type": "scatterternary"
           }
          ],
          "surface": [
           {
            "colorbar": {
             "outlinewidth": 0,
             "ticks": ""
            },
            "colorscale": [
             [
              0,
              "#0d0887"
             ],
             [
              0.1111111111111111,
              "#46039f"
             ],
             [
              0.2222222222222222,
              "#7201a8"
             ],
             [
              0.3333333333333333,
              "#9c179e"
             ],
             [
              0.4444444444444444,
              "#bd3786"
             ],
             [
              0.5555555555555556,
              "#d8576b"
             ],
             [
              0.6666666666666666,
              "#ed7953"
             ],
             [
              0.7777777777777778,
              "#fb9f3a"
             ],
             [
              0.8888888888888888,
              "#fdca26"
             ],
             [
              1,
              "#f0f921"
             ]
            ],
            "type": "surface"
           }
          ],
          "table": [
           {
            "cells": {
             "fill": {
              "color": "#EBF0F8"
             },
             "line": {
              "color": "white"
             }
            },
            "header": {
             "fill": {
              "color": "#C8D4E3"
             },
             "line": {
              "color": "white"
             }
            },
            "type": "table"
           }
          ]
         },
         "layout": {
          "annotationdefaults": {
           "arrowcolor": "#2a3f5f",
           "arrowhead": 0,
           "arrowwidth": 1
          },
          "autotypenumbers": "strict",
          "coloraxis": {
           "colorbar": {
            "outlinewidth": 0,
            "ticks": ""
           }
          },
          "colorscale": {
           "diverging": [
            [
             0,
             "#8e0152"
            ],
            [
             0.1,
             "#c51b7d"
            ],
            [
             0.2,
             "#de77ae"
            ],
            [
             0.3,
             "#f1b6da"
            ],
            [
             0.4,
             "#fde0ef"
            ],
            [
             0.5,
             "#f7f7f7"
            ],
            [
             0.6,
             "#e6f5d0"
            ],
            [
             0.7,
             "#b8e186"
            ],
            [
             0.8,
             "#7fbc41"
            ],
            [
             0.9,
             "#4d9221"
            ],
            [
             1,
             "#276419"
            ]
           ],
           "sequential": [
            [
             0,
             "#0d0887"
            ],
            [
             0.1111111111111111,
             "#46039f"
            ],
            [
             0.2222222222222222,
             "#7201a8"
            ],
            [
             0.3333333333333333,
             "#9c179e"
            ],
            [
             0.4444444444444444,
             "#bd3786"
            ],
            [
             0.5555555555555556,
             "#d8576b"
            ],
            [
             0.6666666666666666,
             "#ed7953"
            ],
            [
             0.7777777777777778,
             "#fb9f3a"
            ],
            [
             0.8888888888888888,
             "#fdca26"
            ],
            [
             1,
             "#f0f921"
            ]
           ],
           "sequentialminus": [
            [
             0,
             "#0d0887"
            ],
            [
             0.1111111111111111,
             "#46039f"
            ],
            [
             0.2222222222222222,
             "#7201a8"
            ],
            [
             0.3333333333333333,
             "#9c179e"
            ],
            [
             0.4444444444444444,
             "#bd3786"
            ],
            [
             0.5555555555555556,
             "#d8576b"
            ],
            [
             0.6666666666666666,
             "#ed7953"
            ],
            [
             0.7777777777777778,
             "#fb9f3a"
            ],
            [
             0.8888888888888888,
             "#fdca26"
            ],
            [
             1,
             "#f0f921"
            ]
           ]
          },
          "colorway": [
           "#636efa",
           "#EF553B",
           "#00cc96",
           "#ab63fa",
           "#FFA15A",
           "#19d3f3",
           "#FF6692",
           "#B6E880",
           "#FF97FF",
           "#FECB52"
          ],
          "font": {
           "color": "#2a3f5f"
          },
          "geo": {
           "bgcolor": "white",
           "lakecolor": "white",
           "landcolor": "#E5ECF6",
           "showlakes": true,
           "showland": true,
           "subunitcolor": "white"
          },
          "hoverlabel": {
           "align": "left"
          },
          "hovermode": "closest",
          "mapbox": {
           "style": "light"
          },
          "paper_bgcolor": "white",
          "plot_bgcolor": "#E5ECF6",
          "polar": {
           "angularaxis": {
            "gridcolor": "white",
            "linecolor": "white",
            "ticks": ""
           },
           "bgcolor": "#E5ECF6",
           "radialaxis": {
            "gridcolor": "white",
            "linecolor": "white",
            "ticks": ""
           }
          },
          "scene": {
           "xaxis": {
            "backgroundcolor": "#E5ECF6",
            "gridcolor": "white",
            "gridwidth": 2,
            "linecolor": "white",
            "showbackground": true,
            "ticks": "",
            "zerolinecolor": "white"
           },
           "yaxis": {
            "backgroundcolor": "#E5ECF6",
            "gridcolor": "white",
            "gridwidth": 2,
            "linecolor": "white",
            "showbackground": true,
            "ticks": "",
            "zerolinecolor": "white"
           },
           "zaxis": {
            "backgroundcolor": "#E5ECF6",
            "gridcolor": "white",
            "gridwidth": 2,
            "linecolor": "white",
            "showbackground": true,
            "ticks": "",
            "zerolinecolor": "white"
           }
          },
          "shapedefaults": {
           "line": {
            "color": "#2a3f5f"
           }
          },
          "ternary": {
           "aaxis": {
            "gridcolor": "white",
            "linecolor": "white",
            "ticks": ""
           },
           "baxis": {
            "gridcolor": "white",
            "linecolor": "white",
            "ticks": ""
           },
           "bgcolor": "#E5ECF6",
           "caxis": {
            "gridcolor": "white",
            "linecolor": "white",
            "ticks": ""
           }
          },
          "title": {
           "x": 0.05
          },
          "xaxis": {
           "automargin": true,
           "gridcolor": "white",
           "linecolor": "white",
           "ticks": "",
           "title": {
            "standoff": 15
           },
           "zerolinecolor": "white",
           "zerolinewidth": 2
          },
          "yaxis": {
           "automargin": true,
           "gridcolor": "white",
           "linecolor": "white",
           "ticks": "",
           "title": {
            "standoff": 15
           },
           "zerolinecolor": "white",
           "zerolinewidth": 2
          }
         }
        },
        "xaxis": {
         "anchor": "y",
         "domain": [
          0,
          1
         ],
         "title": {
          "text": "Filename"
         }
        },
        "yaxis": {
         "anchor": "x",
         "domain": [
          0,
          1
         ],
         "title": {
          "text": "Num pings"
         }
        }
       }
      },
      "text/html": [
       "<div>                            <div id=\"1eec9155-5622-4d41-bf0b-38fbee60dbb5\" class=\"plotly-graph-div\" style=\"height:525px; width:100%;\"></div>            <script type=\"text/javascript\">                require([\"plotly\"], function(Plotly) {                    window.PLOTLYENV=window.PLOTLYENV || {};                                    if (document.getElementById(\"1eec9155-5622-4d41-bf0b-38fbee60dbb5\")) {                    Plotly.newPlot(                        \"1eec9155-5622-4d41-bf0b-38fbee60dbb5\",                        [{\"hovertemplate\":\"Filename=%{x}<br>Num pings=%{y}<extra></extra>\",\"legendgroup\":\"\",\"line\":{\"color\":\"#636efa\",\"dash\":\"solid\"},\"marker\":{\"symbol\":\"circle\"},\"mode\":\"lines\",\"name\":\"\",\"orientation\":\"v\",\"showlegend\":false,\"x\":[12,21,84,94],\"xaxis\":\"x\",\"y\":[2248,363,2367,2276],\"yaxis\":\"y\",\"type\":\"scatter\"}],                        {\"template\":{\"data\":{\"histogram2dcontour\":[{\"type\":\"histogram2dcontour\",\"colorbar\":{\"outlinewidth\":0,\"ticks\":\"\"},\"colorscale\":[[0.0,\"#0d0887\"],[0.1111111111111111,\"#46039f\"],[0.2222222222222222,\"#7201a8\"],[0.3333333333333333,\"#9c179e\"],[0.4444444444444444,\"#bd3786\"],[0.5555555555555556,\"#d8576b\"],[0.6666666666666666,\"#ed7953\"],[0.7777777777777778,\"#fb9f3a\"],[0.8888888888888888,\"#fdca26\"],[1.0,\"#f0f921\"]]}],\"choropleth\":[{\"type\":\"choropleth\",\"colorbar\":{\"outlinewidth\":0,\"ticks\":\"\"}}],\"histogram2d\":[{\"type\":\"histogram2d\",\"colorbar\":{\"outlinewidth\":0,\"ticks\":\"\"},\"colorscale\":[[0.0,\"#0d0887\"],[0.1111111111111111,\"#46039f\"],[0.2222222222222222,\"#7201a8\"],[0.3333333333333333,\"#9c179e\"],[0.4444444444444444,\"#bd3786\"],[0.5555555555555556,\"#d8576b\"],[0.6666666666666666,\"#ed7953\"],[0.7777777777777778,\"#fb9f3a\"],[0.8888888888888888,\"#fdca26\"],[1.0,\"#f0f921\"]]}],\"heatmap\":[{\"type\":\"heatmap\",\"colorbar\":{\"outlinewidth\":0,\"ticks\":\"\"},\"colorscale\":[[0.0,\"#0d0887\"],[0.1111111111111111,\"#46039f\"],[0.2222222222222222,\"#7201a8\"],[0.3333333333333333,\"#9c179e\"],[0.4444444444444444,\"#bd3786\"],[0.5555555555555556,\"#d8576b\"],[0.6666666666666666,\"#ed7953\"],[0.7777777777777778,\"#fb9f3a\"],[0.8888888888888888,\"#fdca26\"],[1.0,\"#f0f921\"]]}],\"heatmapgl\":[{\"type\":\"heatmapgl\",\"colorbar\":{\"outlinewidth\":0,\"ticks\":\"\"},\"colorscale\":[[0.0,\"#0d0887\"],[0.1111111111111111,\"#46039f\"],[0.2222222222222222,\"#7201a8\"],[0.3333333333333333,\"#9c179e\"],[0.4444444444444444,\"#bd3786\"],[0.5555555555555556,\"#d8576b\"],[0.6666666666666666,\"#ed7953\"],[0.7777777777777778,\"#fb9f3a\"],[0.8888888888888888,\"#fdca26\"],[1.0,\"#f0f921\"]]}],\"contourcarpet\":[{\"type\":\"contourcarpet\",\"colorbar\":{\"outlinewidth\":0,\"ticks\":\"\"}}],\"contour\":[{\"type\":\"contour\",\"colorbar\":{\"outlinewidth\":0,\"ticks\":\"\"},\"colorscale\":[[0.0,\"#0d0887\"],[0.1111111111111111,\"#46039f\"],[0.2222222222222222,\"#7201a8\"],[0.3333333333333333,\"#9c179e\"],[0.4444444444444444,\"#bd3786\"],[0.5555555555555556,\"#d8576b\"],[0.6666666666666666,\"#ed7953\"],[0.7777777777777778,\"#fb9f3a\"],[0.8888888888888888,\"#fdca26\"],[1.0,\"#f0f921\"]]}],\"surface\":[{\"type\":\"surface\",\"colorbar\":{\"outlinewidth\":0,\"ticks\":\"\"},\"colorscale\":[[0.0,\"#0d0887\"],[0.1111111111111111,\"#46039f\"],[0.2222222222222222,\"#7201a8\"],[0.3333333333333333,\"#9c179e\"],[0.4444444444444444,\"#bd3786\"],[0.5555555555555556,\"#d8576b\"],[0.6666666666666666,\"#ed7953\"],[0.7777777777777778,\"#fb9f3a\"],[0.8888888888888888,\"#fdca26\"],[1.0,\"#f0f921\"]]}],\"mesh3d\":[{\"type\":\"mesh3d\",\"colorbar\":{\"outlinewidth\":0,\"ticks\":\"\"}}],\"scatter\":[{\"fillpattern\":{\"fillmode\":\"overlay\",\"size\":10,\"solidity\":0.2},\"type\":\"scatter\"}],\"parcoords\":[{\"type\":\"parcoords\",\"line\":{\"colorbar\":{\"outlinewidth\":0,\"ticks\":\"\"}}}],\"scatterpolargl\":[{\"type\":\"scatterpolargl\",\"marker\":{\"colorbar\":{\"outlinewidth\":0,\"ticks\":\"\"}}}],\"bar\":[{\"error_x\":{\"color\":\"#2a3f5f\"},\"error_y\":{\"color\":\"#2a3f5f\"},\"marker\":{\"line\":{\"color\":\"#E5ECF6\",\"width\":0.5},\"pattern\":{\"fillmode\":\"overlay\",\"size\":10,\"solidity\":0.2}},\"type\":\"bar\"}],\"scattergeo\":[{\"type\":\"scattergeo\",\"marker\":{\"colorbar\":{\"outlinewidth\":0,\"ticks\":\"\"}}}],\"scatterpolar\":[{\"type\":\"scatterpolar\",\"marker\":{\"colorbar\":{\"outlinewidth\":0,\"ticks\":\"\"}}}],\"histogram\":[{\"marker\":{\"pattern\":{\"fillmode\":\"overlay\",\"size\":10,\"solidity\":0.2}},\"type\":\"histogram\"}],\"scattergl\":[{\"type\":\"scattergl\",\"marker\":{\"colorbar\":{\"outlinewidth\":0,\"ticks\":\"\"}}}],\"scatter3d\":[{\"type\":\"scatter3d\",\"line\":{\"colorbar\":{\"outlinewidth\":0,\"ticks\":\"\"}},\"marker\":{\"colorbar\":{\"outlinewidth\":0,\"ticks\":\"\"}}}],\"scattermapbox\":[{\"type\":\"scattermapbox\",\"marker\":{\"colorbar\":{\"outlinewidth\":0,\"ticks\":\"\"}}}],\"scatterternary\":[{\"type\":\"scatterternary\",\"marker\":{\"colorbar\":{\"outlinewidth\":0,\"ticks\":\"\"}}}],\"scattercarpet\":[{\"type\":\"scattercarpet\",\"marker\":{\"colorbar\":{\"outlinewidth\":0,\"ticks\":\"\"}}}],\"carpet\":[{\"aaxis\":{\"endlinecolor\":\"#2a3f5f\",\"gridcolor\":\"white\",\"linecolor\":\"white\",\"minorgridcolor\":\"white\",\"startlinecolor\":\"#2a3f5f\"},\"baxis\":{\"endlinecolor\":\"#2a3f5f\",\"gridcolor\":\"white\",\"linecolor\":\"white\",\"minorgridcolor\":\"white\",\"startlinecolor\":\"#2a3f5f\"},\"type\":\"carpet\"}],\"table\":[{\"cells\":{\"fill\":{\"color\":\"#EBF0F8\"},\"line\":{\"color\":\"white\"}},\"header\":{\"fill\":{\"color\":\"#C8D4E3\"},\"line\":{\"color\":\"white\"}},\"type\":\"table\"}],\"barpolar\":[{\"marker\":{\"line\":{\"color\":\"#E5ECF6\",\"width\":0.5},\"pattern\":{\"fillmode\":\"overlay\",\"size\":10,\"solidity\":0.2}},\"type\":\"barpolar\"}],\"pie\":[{\"automargin\":true,\"type\":\"pie\"}]},\"layout\":{\"autotypenumbers\":\"strict\",\"colorway\":[\"#636efa\",\"#EF553B\",\"#00cc96\",\"#ab63fa\",\"#FFA15A\",\"#19d3f3\",\"#FF6692\",\"#B6E880\",\"#FF97FF\",\"#FECB52\"],\"font\":{\"color\":\"#2a3f5f\"},\"hovermode\":\"closest\",\"hoverlabel\":{\"align\":\"left\"},\"paper_bgcolor\":\"white\",\"plot_bgcolor\":\"#E5ECF6\",\"polar\":{\"bgcolor\":\"#E5ECF6\",\"angularaxis\":{\"gridcolor\":\"white\",\"linecolor\":\"white\",\"ticks\":\"\"},\"radialaxis\":{\"gridcolor\":\"white\",\"linecolor\":\"white\",\"ticks\":\"\"}},\"ternary\":{\"bgcolor\":\"#E5ECF6\",\"aaxis\":{\"gridcolor\":\"white\",\"linecolor\":\"white\",\"ticks\":\"\"},\"baxis\":{\"gridcolor\":\"white\",\"linecolor\":\"white\",\"ticks\":\"\"},\"caxis\":{\"gridcolor\":\"white\",\"linecolor\":\"white\",\"ticks\":\"\"}},\"coloraxis\":{\"colorbar\":{\"outlinewidth\":0,\"ticks\":\"\"}},\"colorscale\":{\"sequential\":[[0.0,\"#0d0887\"],[0.1111111111111111,\"#46039f\"],[0.2222222222222222,\"#7201a8\"],[0.3333333333333333,\"#9c179e\"],[0.4444444444444444,\"#bd3786\"],[0.5555555555555556,\"#d8576b\"],[0.6666666666666666,\"#ed7953\"],[0.7777777777777778,\"#fb9f3a\"],[0.8888888888888888,\"#fdca26\"],[1.0,\"#f0f921\"]],\"sequentialminus\":[[0.0,\"#0d0887\"],[0.1111111111111111,\"#46039f\"],[0.2222222222222222,\"#7201a8\"],[0.3333333333333333,\"#9c179e\"],[0.4444444444444444,\"#bd3786\"],[0.5555555555555556,\"#d8576b\"],[0.6666666666666666,\"#ed7953\"],[0.7777777777777778,\"#fb9f3a\"],[0.8888888888888888,\"#fdca26\"],[1.0,\"#f0f921\"]],\"diverging\":[[0,\"#8e0152\"],[0.1,\"#c51b7d\"],[0.2,\"#de77ae\"],[0.3,\"#f1b6da\"],[0.4,\"#fde0ef\"],[0.5,\"#f7f7f7\"],[0.6,\"#e6f5d0\"],[0.7,\"#b8e186\"],[0.8,\"#7fbc41\"],[0.9,\"#4d9221\"],[1,\"#276419\"]]},\"xaxis\":{\"gridcolor\":\"white\",\"linecolor\":\"white\",\"ticks\":\"\",\"title\":{\"standoff\":15},\"zerolinecolor\":\"white\",\"automargin\":true,\"zerolinewidth\":2},\"yaxis\":{\"gridcolor\":\"white\",\"linecolor\":\"white\",\"ticks\":\"\",\"title\":{\"standoff\":15},\"zerolinecolor\":\"white\",\"automargin\":true,\"zerolinewidth\":2},\"scene\":{\"xaxis\":{\"backgroundcolor\":\"#E5ECF6\",\"gridcolor\":\"white\",\"linecolor\":\"white\",\"showbackground\":true,\"ticks\":\"\",\"zerolinecolor\":\"white\",\"gridwidth\":2},\"yaxis\":{\"backgroundcolor\":\"#E5ECF6\",\"gridcolor\":\"white\",\"linecolor\":\"white\",\"showbackground\":true,\"ticks\":\"\",\"zerolinecolor\":\"white\",\"gridwidth\":2},\"zaxis\":{\"backgroundcolor\":\"#E5ECF6\",\"gridcolor\":\"white\",\"linecolor\":\"white\",\"showbackground\":true,\"ticks\":\"\",\"zerolinecolor\":\"white\",\"gridwidth\":2}},\"shapedefaults\":{\"line\":{\"color\":\"#2a3f5f\"}},\"annotationdefaults\":{\"arrowcolor\":\"#2a3f5f\",\"arrowhead\":0,\"arrowwidth\":1},\"geo\":{\"bgcolor\":\"white\",\"landcolor\":\"#E5ECF6\",\"subunitcolor\":\"white\",\"showland\":true,\"showlakes\":true,\"lakecolor\":\"white\"},\"title\":{\"x\":0.05},\"mapbox\":{\"style\":\"light\"}}},\"xaxis\":{\"anchor\":\"y\",\"domain\":[0.0,1.0],\"title\":{\"text\":\"Filename\"}},\"yaxis\":{\"anchor\":\"x\",\"domain\":[0.0,1.0],\"title\":{\"text\":\"Num pings\"}},\"legend\":{\"tracegroupgap\":0},\"margin\":{\"t\":60}},                        {\"responsive\": true}                    ).then(function(){\n",
       "                            \n",
       "var gd = document.getElementById('1eec9155-5622-4d41-bf0b-38fbee60dbb5');\n",
       "var x = new MutationObserver(function (mutations, observer) {{\n",
       "        var display = window.getComputedStyle(gd).display;\n",
       "        if (!display || display === 'none') {{\n",
       "            console.log([gd, 'removed!']);\n",
       "            Plotly.purge(gd);\n",
       "            observer.disconnect();\n",
       "        }}\n",
       "}});\n",
       "\n",
       "// Listen for the removal of the full notebook cells\n",
       "var notebookContainer = gd.closest('#notebook-container');\n",
       "if (notebookContainer) {{\n",
       "    x.observe(notebookContainer, {childList: true});\n",
       "}}\n",
       "\n",
       "// Listen for the clearing of the current output cell\n",
       "var outputEl = gd.closest('.output');\n",
       "if (outputEl) {{\n",
       "    x.observe(outputEl, {childList: true});\n",
       "}}\n",
       "\n",
       "                        })                };                });            </script>        </div>"
      ]
     },
     "metadata": {},
     "output_type": "display_data"
    }
   ],
   "source": [
    "def get_filename_and_length_for_subset(included_fileids, subset_name, store=True):\n",
    "    filename_and_length = []\n",
    "    print('Filename\\t| Pings\\t| Cumulative Pings Start\\t| Cumulative Pings End\\t|')\n",
    "    cumulative_pings = 0\n",
    "    for f in sorted(os.listdir('../src/mbes_data/data/nbp22-mission2-dotson-east/pings-npy/')):\n",
    "        pings = np.load(f'../src/mbes_data/data/nbp22-mission2-dotson-east/pings-npy/{f}')\n",
    "        if 'EM2040' not in f:\n",
    "            continue\n",
    "        filename = int(f.split(\"-\")[1])\n",
    "        if filename not in included_fileids:\n",
    "            continue\n",
    "        num_pings = pings.shape[0]\n",
    "        print(f'{filename}\\t|{num_pings}\\t| {cumulative_pings}\\t| {cumulative_pings+pings.shape[0]}\\t|')\n",
    "        cumulative_pings += pings.shape[0]\n",
    "        filename_and_length.append((int(filename), num_pings))\n",
    "\n",
    "    if store:\n",
    "        np.save(f'/home/li/pcl-registration/Datasets/NBP22-mission2-DotsonEast/filename_and_length_files_{subset_name}.npy',\n",
    "                filename_and_length)\n",
    "    return filename_and_length\n",
    "\n",
    "tmp_filename_and_length = get_filename_and_length_for_subset([12, 21, 84, 94], subset_name='tmp', store=False)\n",
    "tmp_filename_and_length_df = pd.DataFrame(tmp_filename_and_length, columns=['Filename', 'Num pings'])\n",
    "px.line(tmp_filename_and_length_df, x='Filename', y='Num pings')"
   ]
  },
  {
   "cell_type": "code",
   "execution_count": 77,
   "metadata": {},
   "outputs": [
    {
     "name": "stdout",
     "output_type": "stream",
     "text": [
      "Processing train...\n",
      "Filename\t| Pings\t| Cumulative Pings Start\t| Cumulative Pings End\t|\n",
      "12\t|2248\t| 0\t| 2248\t|\n",
      "13\t|2263\t| 2248\t| 4511\t|\n",
      "14\t|2308\t| 4511\t| 6819\t|\n",
      "15\t|347\t| 6819\t| 7166\t|\n",
      "16\t|2405\t| 7166\t| 9571\t|\n",
      "17\t|2399\t| 9571\t| 11970\t|\n",
      "18\t|2339\t| 11970\t| 14309\t|\n",
      "19\t|2455\t| 14309\t| 16764\t|\n",
      "20\t|2464\t| 16764\t| 19228\t|\n",
      "21\t|363\t| 19228\t| 19591\t|\n",
      "22\t|2873\t| 19591\t| 22464\t|\n",
      "23\t|2827\t| 22464\t| 25291\t|\n",
      "24\t|2799\t| 25291\t| 28090\t|\n",
      "25\t|2838\t| 28090\t| 30928\t|\n",
      "26\t|2449\t| 30928\t| 33377\t|\n",
      "27\t|2447\t| 33377\t| 35824\t|\n",
      "28\t|719\t| 35824\t| 36543\t|\n",
      "29\t|2383\t| 36543\t| 38926\t|\n",
      "30\t|2460\t| 38926\t| 41386\t|\n",
      "31\t|826\t| 41386\t| 42212\t|\n",
      "32\t|2487\t| 42212\t| 44699\t|\n",
      "33\t|2390\t| 44699\t| 47089\t|\n",
      "34\t|2423\t| 47089\t| 49512\t|\n",
      "35\t|2347\t| 49512\t| 51859\t|\n",
      "36\t|2336\t| 51859\t| 54195\t|\n",
      "37\t|2445\t| 54195\t| 56640\t|\n",
      "38\t|2341\t| 56640\t| 58981\t|\n",
      "39\t|2465\t| 58981\t| 61446\t|\n",
      "40\t|2503\t| 61446\t| 63949\t|\n",
      "41\t|2306\t| 63949\t| 66255\t|\n",
      "42\t|2440\t| 66255\t| 68695\t|\n",
      "43\t|2441\t| 68695\t| 71136\t|\n",
      "44\t|223\t| 71136\t| 71359\t|\n",
      "45\t|2363\t| 71359\t| 73722\t|\n",
      "46\t|2401\t| 73722\t| 76123\t|\n",
      "47\t|2276\t| 76123\t| 78399\t|\n",
      "48\t|2462\t| 78399\t| 80861\t|\n",
      "49\t|251\t| 80861\t| 81112\t|\n",
      "50\t|2479\t| 81112\t| 83591\t|\n",
      "51\t|2399\t| 83591\t| 85990\t|\n",
      "52\t|2475\t| 85990\t| 88465\t|\n",
      "53\t|2316\t| 88465\t| 90781\t|\n",
      "54\t|2398\t| 90781\t| 93179\t|\n",
      "55\t|2446\t| 93179\t| 95625\t|\n",
      "56\t|2408\t| 95625\t| 98033\t|\n",
      "57\t|2352\t| 98033\t| 100385\t|\n",
      "58\t|2451\t| 100385\t| 102836\t|\n",
      "59\t|2371\t| 102836\t| 105207\t|\n",
      "60\t|2447\t| 105207\t| 107654\t|\n",
      "61\t|2282\t| 107654\t| 109936\t|\n",
      "62\t|2499\t| 109936\t| 112435\t|\n",
      "63\t|2429\t| 112435\t| 114864\t|\n",
      "64\t|2373\t| 114864\t| 117237\t|\n",
      "65\t|2152\t| 117237\t| 119389\t|\n",
      "66\t|2401\t| 119389\t| 121790\t|\n",
      "67\t|2398\t| 121790\t| 124188\t|\n",
      "68\t|2480\t| 124188\t| 126668\t|\n",
      "69\t|2392\t| 126668\t| 129060\t|\n",
      "70\t|2390\t| 129060\t| 131450\t|\n",
      "71\t|2120\t| 131450\t| 133570\t|\n",
      "72\t|2307\t| 133570\t| 135877\t|\n",
      "73\t|2298\t| 135877\t| 138175\t|\n",
      "74\t|2452\t| 138175\t| 140627\t|\n",
      "75\t|2376\t| 140627\t| 143003\t|\n",
      "76\t|2338\t| 143003\t| 145341\t|\n",
      "Processing val...\n",
      "Filename\t| Pings\t| Cumulative Pings Start\t| Cumulative Pings End\t|\n",
      "85\t|2404\t| 0\t| 2404\t|\n",
      "86\t|2441\t| 2404\t| 4845\t|\n",
      "87\t|2502\t| 4845\t| 7347\t|\n",
      "88\t|2332\t| 7347\t| 9679\t|\n",
      "89\t|2440\t| 9679\t| 12119\t|\n",
      "90\t|2451\t| 12119\t| 14570\t|\n",
      "91\t|2447\t| 14570\t| 17017\t|\n",
      "92\t|2471\t| 17017\t| 19488\t|\n",
      "93\t|2454\t| 19488\t| 21942\t|\n",
      "94\t|2276\t| 21942\t| 24218\t|\n",
      "Processing test...\n",
      "Filename\t| Pings\t| Cumulative Pings Start\t| Cumulative Pings End\t|\n",
      "77\t|2369\t| 0\t| 2369\t|\n",
      "78\t|2396\t| 2369\t| 4765\t|\n",
      "79\t|2337\t| 4765\t| 7102\t|\n",
      "80\t|2461\t| 7102\t| 9563\t|\n",
      "81\t|2439\t| 9563\t| 12002\t|\n",
      "82\t|2382\t| 12002\t| 14384\t|\n",
      "83\t|2258\t| 14384\t| 16642\t|\n",
      "84\t|2367\t| 16642\t| 19009\t|\n",
      "Processing tmp50-51...\n",
      "Filename\t| Pings\t| Cumulative Pings Start\t| Cumulative Pings End\t|\n",
      "50\t|2479\t| 0\t| 2479\t|\n",
      "51\t|2399\t| 2479\t| 4878\t|\n",
      "Processing tmp69-70...\n",
      "Filename\t| Pings\t| Cumulative Pings Start\t| Cumulative Pings End\t|\n",
      "69\t|2392\t| 0\t| 2392\t|\n",
      "70\t|2390\t| 2392\t| 4782\t|\n"
     ]
    }
   ],
   "source": [
    "subset_names = ['train', 'val', 'test', 'tmp50-51', 'tmp69-70']\n",
    "file_ranges = [train_sec, val_sec, test_sec, (50, 51), (69, 70)]\n",
    "for (subset_name, file_range) in zip(subset_names, file_ranges):\n",
    "    print(f'Processing {subset_name}...')\n",
    "    get_filename_and_length_for_subset([i for i in range(file_range[0], file_range[1] + 1)], subset_name=subset_name, store=True)"
   ]
  },
  {
   "cell_type": "markdown",
   "metadata": {},
   "source": [
    "## 4.2 Generate patches and store npz files"
   ]
  },
  {
   "cell_type": "code",
   "execution_count": 79,
   "metadata": {},
   "outputs": [],
   "source": [
    "from mbes_data.lib.utils import load_config, setup_seed\n",
    "from easydict import EasyDict as edict\n",
    "setup_seed(0)\n",
    "\n",
    "def cumulative_ping_no_to_filename_and_ping_no(target_ping_no, filename_and_length_array):\n",
    "    \"\"\"Map a target ping number to the filename and ping number of the original\n",
    "    15-minute EM2040 files\"\"\"\n",
    "    cumulative_ping_no = 0\n",
    "\n",
    "    for i, (filename, num_pings) in enumerate(filename_and_length_array):\n",
    "        cumulative_ping_no += num_pings\n",
    "        if cumulative_ping_no > target_ping_no:\n",
    "            return filename, target_ping_no - (cumulative_ping_no - num_pings)\n",
    "            \n",
    "\n",
    "def generate_patches(pings_file, config_path,\n",
    "                     filename_and_length_file):\n",
    "    config = edict(load_config(config_path))\n",
    "    pings = np.load(pings_file)\n",
    "    nbr_pings, nbr_beams, _ = pings.shape\n",
    "    filename_and_length = np.load(filename_and_length_file)\n",
    "\n",
    "    parent_folder = os.path.dirname(pings_file)\n",
    "    patch_folder = os.path.join(parent_folder,\n",
    "                                f'patches-{config.nbr_pings_per_patch}pings-'\n",
    "                                f'{config.nbr_beams_per_patch}beams-'\n",
    "                                f'{config.pings_step}pings_step-'\n",
    "                                f'{config.beams_step}beams_step')\n",
    "    if not os.path.exists(patch_folder):\n",
    "        os.makedirs(patch_folder)\n",
    "    else:\n",
    "        print(f'Patch folder {patch_folder} already exists, skipping...')\n",
    "        return\n",
    "\n",
    "    ping_start_max = nbr_pings - config.nbr_pings_per_patch + 1\n",
    "    beam_start_max = nbr_beams - config.nbr_beams_per_patch + 1\n",
    "    nbr_patches = (np.ceil(ping_start_max / config.pings_step) * np.ceil(beam_start_max / config.beams_step)).astype(int)\n",
    "    print(f'Generating patches from {pings_file} data with {nbr_pings} pings...')\n",
    "    print(f'Max ping start: {ping_start_max}, max beam start: {beam_start_max}')\n",
    "    print(f'Number of patches: {nbr_patches}')\n",
    "    patch_idx = 0\n",
    "\n",
    "    for ping_id_start in tqdm(range(0, ping_start_max, config.pings_step)):\n",
    "        ping_id_end = min(ping_id_start + config.nbr_pings_per_patch, nbr_pings)\n",
    "        start_filename, start_id_in_file = cumulative_ping_no_to_filename_and_ping_no(ping_id_start, filename_and_length)\n",
    "        end_filename, end_id_in_file = cumulative_ping_no_to_filename_and_ping_no(ping_id_end, filename_and_length)\n",
    "\n",
    "        for beam_id_start in range(0, beam_start_max, config.beams_step):\n",
    "            beam_id_end = min(beam_id_start + config.nbr_beams_per_patch, nbr_beams)\n",
    "\n",
    "            patch_raw = pings[ping_id_start:ping_id_end,\n",
    "                        beam_id_start:beam_id_end]\n",
    "\n",
    "            # Filter data points that are (0, 0, 0), i.e. no data\n",
    "            patch_raw = patch_raw[~np.all(patch_raw==0, axis=2)].astype(np.float32).reshape(-1, 3)\n",
    "\n",
    "            np.savez(os.path.join(patch_folder, f'{patch_idx}.npz'),\n",
    "                     submap=patch_raw,\n",
    "                     idx=patch_idx,\n",
    "                     ping_id_start=ping_id_start,\n",
    "                     ping_id_end=ping_id_end,\n",
    "                     beam_id_start=beam_id_start,\n",
    "                     beam_id_end=beam_id_end,\n",
    "                     start_filename=start_filename,\n",
    "                     start_id_in_file=start_id_in_file,\n",
    "                     end_filename=end_filename,\n",
    "                     end_id_in_file=end_id_in_file)\n",
    "            patch_idx += 1"
   ]
  },
  {
   "cell_type": "code",
   "execution_count": 84,
   "metadata": {},
   "outputs": [
    {
     "name": "stderr",
     "output_type": "stream",
     "text": [
      "  5%|▍         | 57/1206 [00:00<00:02, 563.44it/s]"
     ]
    },
    {
     "name": "stdout",
     "output_type": "stream",
     "text": [
      "Generating patches from ../src/mbes_data/data/nbp22-mission2-dotson-east/val/val_pings.npy data with 24218 pings...\n",
      "Max ping start: 24119, max beam start: 1\n",
      "Number of patches: 1206\n"
     ]
    },
    {
     "name": "stderr",
     "output_type": "stream",
     "text": [
      "100%|██████████| 1206/1206 [00:02<00:00, 567.75it/s]\n"
     ]
    }
   ],
   "source": [
    "subset = 'val'\n",
    "generate_patches(pings_file=f'../src/mbes_data/data/nbp22-mission2-dotson-east/{subset}/{subset}_pings.npy',\n",
    "                 config_path='../src/mbes_data/configs/patches_gen.yaml',\n",
    "                 filename_and_length_file=f'../src/mbes_data/data/nbp22-mission2-dotson-east/filename_and_length_files_{subset}.npy')"
   ]
  },
  {
   "cell_type": "code",
   "execution_count": 94,
   "metadata": {},
   "outputs": [],
   "source": [
    "test_patch = np.load('../src/mbes_data/data/nbp22-mission2-dotson-east/test/patches-100pings-400beams-20pings_step-400beams_step/900.npz')"
   ]
  },
  {
   "cell_type": "code",
   "execution_count": 95,
   "metadata": {},
   "outputs": [
    {
     "data": {
      "text/plain": [
       "['submap',\n",
       " 'idx',\n",
       " 'ping_id_start',\n",
       " 'ping_id_end',\n",
       " 'beam_id_start',\n",
       " 'beam_id_end',\n",
       " 'start_filename',\n",
       " 'start_id_in_file',\n",
       " 'end_filename',\n",
       " 'end_id_in_file']"
      ]
     },
     "execution_count": 95,
     "metadata": {},
     "output_type": "execute_result"
    }
   ],
   "source": [
    "test_patch.files"
   ]
  },
  {
   "cell_type": "code",
   "execution_count": 99,
   "metadata": {},
   "outputs": [
    {
     "data": {
      "text/plain": [
       "array([[4.6623462e+05, 1.7632552e+06, 7.9670001e+02],\n",
       "       [4.6623509e+05, 1.7632555e+06, 7.9684998e+02],\n",
       "       [4.6623572e+05, 1.7632556e+06, 7.9690997e+02],\n",
       "       ...,\n",
       "       [4.6650125e+05, 1.7633208e+06, 7.8696997e+02],\n",
       "       [4.6650162e+05, 1.7633209e+06, 7.8671002e+02],\n",
       "       [4.6650188e+05, 1.7633210e+06, 7.8634998e+02]], dtype=float32)"
      ]
     },
     "execution_count": 99,
     "metadata": {},
     "output_type": "execute_result"
    }
   ],
   "source": [
    "test_patch['submap']"
   ]
  },
  {
   "cell_type": "code",
   "execution_count": null,
   "metadata": {},
   "outputs": [],
   "source": []
  }
 ],
 "metadata": {
  "kernelspec": {
   "display_name": "predator",
   "language": "python",
   "name": "python3"
  },
  "language_info": {
   "codemirror_mode": {
    "name": "ipython",
    "version": 3
   },
   "file_extension": ".py",
   "mimetype": "text/x-python",
   "name": "python",
   "nbconvert_exporter": "python",
   "pygments_lexer": "ipython3",
   "version": "3.8.0"
  },
  "orig_nbformat": 4
 },
 "nbformat": 4,
 "nbformat_minor": 2
}
