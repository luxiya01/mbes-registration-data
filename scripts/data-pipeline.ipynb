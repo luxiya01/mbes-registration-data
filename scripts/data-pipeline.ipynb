{
 "cells": [
  {
   "cell_type": "code",
   "execution_count": 2,
   "metadata": {},
   "outputs": [],
   "source": [
    "import open3d as o3d\n",
    "import numpy as np\n",
    "import matplotlib.pyplot as plt\n",
    "import torch\n",
    "from scipy.spatial.transform import Rotation\n",
    "import laspy\n",
    "import pandas as pd"
   ]
  },
  {
   "attachments": {},
   "cell_type": "markdown",
   "metadata": {},
   "source": [
    "# 1. NaviEdit -> LAZ -> Point cloud"
   ]
  },
  {
   "cell_type": "code",
   "execution_count": 49,
   "metadata": {},
   "outputs": [],
   "source": [
    "def normalize_pc(points):\n",
    "\tcentroid = np.mean(points, axis=0)\n",
    "\tpoints -= centroid\n",
    "\tfurthest_distance = np.max(np.sqrt(np.sum(abs(points)**2,axis=-1)))\n",
    "\tpoints /= furthest_distance\n",
    "\n",
    "\treturn points"
   ]
  },
  {
   "cell_type": "code",
   "execution_count": 77,
   "metadata": {},
   "outputs": [
    {
     "name": "stdout",
     "output_type": "stream",
     "text": [
      "(914502, 3)\n",
      "[ 4.60723066e+05  1.77812617e+06 -9.04019980e+02]\n",
      "(155618, 3)\n",
      "(2000, 3)\n"
     ]
    }
   ],
   "source": [
    "las = laspy.read('/home/li/Downloads/EM2040-0030-L03S01-20220119-193553.las')\n",
    "points = np.vstack((las.X, las.Y, las.Z)).transpose()\n",
    "points = points * las.header.scale + las.header.offset\n",
    "print(points.shape)\n",
    "print(points[0])\n",
    "\n",
    "pcd = o3d.geometry.PointCloud()\n",
    "pcd.points = o3d.utility.Vector3dVector(points)\n",
    "downpcd = pcd.voxel_down_sample(voxel_size=2)\n",
    "downpcd.points\n",
    "#o3d.visualization.draw_geometries([downpcd])\n",
    "\n",
    "aug_noise = .1\n",
    "rot_factor = 1\n",
    "\n",
    "down_points = np.asarray(downpcd.points)\n",
    "print(down_points.shape)\n",
    "src = np.random.permutation(down_points[:10000, :])[:2000, :]\n",
    "src += (np.random.rand(*src.shape) - 0.5) * aug_noise\n",
    "src = normalize_pc(src)\n",
    "print(src.shape)\n",
    "torch.save(src, \"assets/test.pth\")\n",
    "\n",
    "# rotate the point cloud\n",
    "trg = np.random.permutation(down_points[7000:18000, :])[:2000, :]\n",
    "euler_ab=np.random.rand(3)*np.pi*2/rot_factor # anglez, angley, anglex\n",
    "rot_ab= Rotation.from_euler('zyx', euler_ab).as_matrix()\n",
    "trg += (np.random.rand(*trg.shape) - 0.5) * aug_noise\n",
    "trg =np.matmul(rot_ab,trg.T).T\n",
    "trg = normalize_pc(trg)\n",
    "torch.save(trg, \"assets/test1.pth\")"
   ]
  },
  {
   "cell_type": "code",
   "execution_count": 64,
   "metadata": {},
   "outputs": [
    {
     "name": "stdout",
     "output_type": "stream",
     "text": [
      "(2000, 3) (2000, 3)\n"
     ]
    }
   ],
   "source": [
    "#pcd = o3d.io.read_point_cloud(\"assets/cloud_bin_21.pth\")\n",
    "data = torch.load(\"assets/test.pth\").astype(np.float32)\n",
    "data1 = torch.load(\"assets/test1.pth\").astype(np.float32)\n",
    "print(data.shape, data1.shape)\n",
    "pcd = o3d.geometry.PointCloud()\n",
    "pcd.points = o3d.utility.Vector3dVector(data)\n",
    "\n",
    "pcd1 = o3d.geometry.PointCloud()\n",
    "pcd1.points = o3d.utility.Vector3dVector(data1)\n",
    "\n",
    "o3d.visualization.draw_geometries([pcd, pcd1])"
   ]
  },
  {
   "cell_type": "code",
   "execution_count": 67,
   "metadata": {},
   "outputs": [
    {
     "data": {
      "text/plain": [
       "array([[ 0.33896023, -0.43553659,  0.04193757],\n",
       "       [ 0.00954625,  0.34624669, -0.0106827 ],\n",
       "       [ 0.31984845,  0.06498687,  0.02973026],\n",
       "       ...,\n",
       "       [-0.17993498, -0.28495371, -0.03518974],\n",
       "       [-0.53547716, -0.78250396, -0.02612695],\n",
       "       [-0.39036116, -0.24462132, -0.03694123]])"
      ]
     },
     "execution_count": 67,
     "metadata": {},
     "output_type": "execute_result"
    }
   ],
   "source": [
    "np.array(pcd.points)"
   ]
  },
  {
   "attachments": {},
   "cell_type": "markdown",
   "metadata": {},
   "source": [
    "# 2. NaviEdit -> XYZ data beam -> Point cloud\n",
    "- Why?\n",
    "    1. (Important) .las exports points in (num_points, 3) and it's a bit hard to tell which points are from the same beam, which makes it a bit difficult to separete based on time + space\n",
    "    2. (Not so important) the timestamp from the .las export seems to be off (~year 1990)..."
   ]
  },
  {
   "cell_type": "code",
   "execution_count": 3,
   "metadata": {},
   "outputs": [],
   "source": [
    "def process_xyz_pings_file(filepath):\n",
    "    \"\"\"Read a .xyz file containing info about each beam hits and return a processed dataframe\n",
    "    where each row contains info for 1 MBES swath\"\"\"\n",
    "    naviedit_pings = pd.read_csv(filepath, delimiter='\\t', header=0)\n",
    "\n",
    "    # Aggregate xyz hits of each beam into a hits array\n",
    "    naviedit_pings['hit'] = naviedit_pings[['X', 'Y',\n",
    "                                            'Z']].apply(lambda row: list(row),\n",
    "                                                        axis=1)\n",
    "\n",
    "    # Parse string datetime values and produce a datetime object\n",
    "    naviedit_pings['time_string'] = naviedit_pings[[\n",
    "        'yyyy', 'mmddhhmm', 'ss.ss'\n",
    "    ]].apply(lambda row: ''.join(row.values.astype(str)), axis=1)\n",
    "    naviedit_pings['time_string'] = pd.to_datetime(\n",
    "        naviedit_pings['time_string'], format='%Y.%m%d%H%M.0%S.%f')\n",
    "    naviedit_pings['time_stamp'] = naviedit_pings['time_string'].map(\n",
    "        pd.Timestamp.timestamp)\n",
    "\n",
    "    # Group the beams by Ping No -> aggregate hits from the same ping into a list\n",
    "    beams = naviedit_pings.groupby('Ping No').agg({'hit': list})\n",
    "\n",
    "    # Get unique pings\n",
    "    ping_info = naviedit_pings[[\n",
    "        'time_string', 'time_stamp', 'Ping No', 'Tide', 'Heading', 'Heave',\n",
    "        'Pitch', 'Roll'\n",
    "    ]].drop_duplicates().set_index('Ping No')\n",
    "\n",
    "    # Final results with 1 row = 1 MBES swath\n",
    "    mbes_ping_result = ping_info.join(beams)\n",
    "    return mbes_ping_result\n"
   ]
  },
  {
   "cell_type": "code",
   "execution_count": 10,
   "metadata": {},
   "outputs": [
    {
     "data": {
      "text/html": [
       "<div>\n",
       "<style scoped>\n",
       "    .dataframe tbody tr th:only-of-type {\n",
       "        vertical-align: middle;\n",
       "    }\n",
       "\n",
       "    .dataframe tbody tr th {\n",
       "        vertical-align: top;\n",
       "    }\n",
       "\n",
       "    .dataframe thead th {\n",
       "        text-align: right;\n",
       "    }\n",
       "</style>\n",
       "<table border=\"1\" class=\"dataframe\">\n",
       "  <thead>\n",
       "    <tr style=\"text-align: right;\">\n",
       "      <th></th>\n",
       "      <th>time_string</th>\n",
       "      <th>time_stamp</th>\n",
       "      <th>Tide</th>\n",
       "      <th>Heading</th>\n",
       "      <th>Heave</th>\n",
       "      <th>Pitch</th>\n",
       "      <th>Roll</th>\n",
       "      <th>hit</th>\n",
       "    </tr>\n",
       "    <tr>\n",
       "      <th>Ping No</th>\n",
       "      <th></th>\n",
       "      <th></th>\n",
       "      <th></th>\n",
       "      <th></th>\n",
       "      <th></th>\n",
       "      <th></th>\n",
       "      <th></th>\n",
       "      <th></th>\n",
       "    </tr>\n",
       "  </thead>\n",
       "  <tbody>\n",
       "    <tr>\n",
       "      <th>39909</th>\n",
       "      <td>2022-01-19 19:35:53.060</td>\n",
       "      <td>1.642621e+09</td>\n",
       "      <td>0.0</td>\n",
       "      <td>271.83</td>\n",
       "      <td>0.0</td>\n",
       "      <td>11.702</td>\n",
       "      <td>-1.58</td>\n",
       "      <td>[[460722.21, 1778135.04, 904.33], [460722.14, ...</td>\n",
       "    </tr>\n",
       "    <tr>\n",
       "      <th>39910</th>\n",
       "      <td>2022-01-19 19:35:53.410</td>\n",
       "      <td>1.642621e+09</td>\n",
       "      <td>0.0</td>\n",
       "      <td>271.80</td>\n",
       "      <td>0.0</td>\n",
       "      <td>12.408</td>\n",
       "      <td>-1.61</td>\n",
       "      <td>[[460720.75, 1778144.44, 904.97], [460720.69, ...</td>\n",
       "    </tr>\n",
       "    <tr>\n",
       "      <th>39911</th>\n",
       "      <td>2022-01-19 19:35:53.780</td>\n",
       "      <td>1.642621e+09</td>\n",
       "      <td>0.0</td>\n",
       "      <td>271.78</td>\n",
       "      <td>0.0</td>\n",
       "      <td>13.165</td>\n",
       "      <td>-1.64</td>\n",
       "      <td>[[460720.02, 1778146.45, 904.93], [460719.95, ...</td>\n",
       "    </tr>\n",
       "    <tr>\n",
       "      <th>39912</th>\n",
       "      <td>2022-01-19 19:35:54.140</td>\n",
       "      <td>1.642621e+09</td>\n",
       "      <td>0.0</td>\n",
       "      <td>271.75</td>\n",
       "      <td>0.0</td>\n",
       "      <td>13.942</td>\n",
       "      <td>-1.69</td>\n",
       "      <td>[[460719.88, 1778143.95, 904.88], [460719.79, ...</td>\n",
       "    </tr>\n",
       "    <tr>\n",
       "      <th>39913</th>\n",
       "      <td>2022-01-19 19:35:54.500</td>\n",
       "      <td>1.642621e+09</td>\n",
       "      <td>0.0</td>\n",
       "      <td>271.72</td>\n",
       "      <td>0.0</td>\n",
       "      <td>14.718</td>\n",
       "      <td>-1.71</td>\n",
       "      <td>[[460718.38, 1778150.95, 904.99], [460718.21, ...</td>\n",
       "    </tr>\n",
       "  </tbody>\n",
       "</table>\n",
       "</div>"
      ],
      "text/plain": [
       "                    time_string    time_stamp  Tide  Heading  Heave   Pitch   \n",
       "Ping No                                                                       \n",
       "39909   2022-01-19 19:35:53.060  1.642621e+09   0.0   271.83    0.0  11.702  \\\n",
       "39910   2022-01-19 19:35:53.410  1.642621e+09   0.0   271.80    0.0  12.408   \n",
       "39911   2022-01-19 19:35:53.780  1.642621e+09   0.0   271.78    0.0  13.165   \n",
       "39912   2022-01-19 19:35:54.140  1.642621e+09   0.0   271.75    0.0  13.942   \n",
       "39913   2022-01-19 19:35:54.500  1.642621e+09   0.0   271.72    0.0  14.718   \n",
       "\n",
       "         Roll                                                hit  \n",
       "Ping No                                                           \n",
       "39909   -1.58  [[460722.21, 1778135.04, 904.33], [460722.14, ...  \n",
       "39910   -1.61  [[460720.75, 1778144.44, 904.97], [460720.69, ...  \n",
       "39911   -1.64  [[460720.02, 1778146.45, 904.93], [460719.95, ...  \n",
       "39912   -1.69  [[460719.88, 1778143.95, 904.88], [460719.79, ...  \n",
       "39913   -1.71  [[460718.38, 1778150.95, 904.99], [460718.21, ...  "
      ]
     },
     "execution_count": 10,
     "metadata": {},
     "output_type": "execute_result"
    }
   ],
   "source": [
    "df = process_xyz_pings_file('/home/li/Downloads/EM2040-0030-L03S01-20220119-193553.xyz')\n",
    "df.head()"
   ]
  },
  {
   "cell_type": "code",
   "execution_count": 14,
   "metadata": {},
   "outputs": [
    {
     "data": {
      "text/html": [
       "<div>\n",
       "<style scoped>\n",
       "    .dataframe tbody tr th:only-of-type {\n",
       "        vertical-align: middle;\n",
       "    }\n",
       "\n",
       "    .dataframe tbody tr th {\n",
       "        vertical-align: top;\n",
       "    }\n",
       "\n",
       "    .dataframe thead th {\n",
       "        text-align: right;\n",
       "    }\n",
       "</style>\n",
       "<table border=\"1\" class=\"dataframe\">\n",
       "  <thead>\n",
       "    <tr style=\"text-align: right;\">\n",
       "      <th></th>\n",
       "      <th>yyyy</th>\n",
       "      <th>mmddhhmm</th>\n",
       "      <th>ss.ss</th>\n",
       "      <th>Ping No</th>\n",
       "      <th>Beam No</th>\n",
       "      <th>X</th>\n",
       "      <th>Y</th>\n",
       "      <th>Z</th>\n",
       "      <th>Tide</th>\n",
       "      <th>Heading</th>\n",
       "      <th>Heave</th>\n",
       "      <th>Pitch</th>\n",
       "      <th>Roll</th>\n",
       "    </tr>\n",
       "  </thead>\n",
       "  <tbody>\n",
       "    <tr>\n",
       "      <th>0</th>\n",
       "      <td>2022</td>\n",
       "      <td>1191935</td>\n",
       "      <td>53.06</td>\n",
       "      <td>39909</td>\n",
       "      <td>24</td>\n",
       "      <td>460722.21</td>\n",
       "      <td>1778135.04</td>\n",
       "      <td>904.33</td>\n",
       "      <td>0.0</td>\n",
       "      <td>271.83</td>\n",
       "      <td>0.0</td>\n",
       "      <td>11.702</td>\n",
       "      <td>-1.58</td>\n",
       "    </tr>\n",
       "    <tr>\n",
       "      <th>1</th>\n",
       "      <td>2022</td>\n",
       "      <td>1191935</td>\n",
       "      <td>53.06</td>\n",
       "      <td>39909</td>\n",
       "      <td>25</td>\n",
       "      <td>460722.14</td>\n",
       "      <td>1778135.93</td>\n",
       "      <td>904.26</td>\n",
       "      <td>0.0</td>\n",
       "      <td>271.83</td>\n",
       "      <td>0.0</td>\n",
       "      <td>11.702</td>\n",
       "      <td>-1.58</td>\n",
       "    </tr>\n",
       "    <tr>\n",
       "      <th>2</th>\n",
       "      <td>2022</td>\n",
       "      <td>1191935</td>\n",
       "      <td>53.06</td>\n",
       "      <td>39909</td>\n",
       "      <td>26</td>\n",
       "      <td>460722.07</td>\n",
       "      <td>1778136.49</td>\n",
       "      <td>904.41</td>\n",
       "      <td>0.0</td>\n",
       "      <td>271.83</td>\n",
       "      <td>0.0</td>\n",
       "      <td>11.702</td>\n",
       "      <td>-1.58</td>\n",
       "    </tr>\n",
       "    <tr>\n",
       "      <th>3</th>\n",
       "      <td>2022</td>\n",
       "      <td>1191935</td>\n",
       "      <td>53.06</td>\n",
       "      <td>39909</td>\n",
       "      <td>27</td>\n",
       "      <td>460721.99</td>\n",
       "      <td>1778137.07</td>\n",
       "      <td>904.58</td>\n",
       "      <td>0.0</td>\n",
       "      <td>271.83</td>\n",
       "      <td>0.0</td>\n",
       "      <td>11.702</td>\n",
       "      <td>-1.58</td>\n",
       "    </tr>\n",
       "    <tr>\n",
       "      <th>4</th>\n",
       "      <td>2022</td>\n",
       "      <td>1191935</td>\n",
       "      <td>53.06</td>\n",
       "      <td>39909</td>\n",
       "      <td>28</td>\n",
       "      <td>460721.93</td>\n",
       "      <td>1778137.96</td>\n",
       "      <td>904.46</td>\n",
       "      <td>0.0</td>\n",
       "      <td>271.83</td>\n",
       "      <td>0.0</td>\n",
       "      <td>11.702</td>\n",
       "      <td>-1.58</td>\n",
       "    </tr>\n",
       "  </tbody>\n",
       "</table>\n",
       "</div>"
      ],
      "text/plain": [
       "   yyyy  mmddhhmm  ss.ss  Ping No  Beam No          X           Y       Z   \n",
       "0  2022   1191935  53.06    39909       24  460722.21  1778135.04  904.33  \\\n",
       "1  2022   1191935  53.06    39909       25  460722.14  1778135.93  904.26   \n",
       "2  2022   1191935  53.06    39909       26  460722.07  1778136.49  904.41   \n",
       "3  2022   1191935  53.06    39909       27  460721.99  1778137.07  904.58   \n",
       "4  2022   1191935  53.06    39909       28  460721.93  1778137.96  904.46   \n",
       "\n",
       "   Tide  Heading  Heave   Pitch  Roll  \n",
       "0   0.0   271.83    0.0  11.702 -1.58  \n",
       "1   0.0   271.83    0.0  11.702 -1.58  \n",
       "2   0.0   271.83    0.0  11.702 -1.58  \n",
       "3   0.0   271.83    0.0  11.702 -1.58  \n",
       "4   0.0   271.83    0.0  11.702 -1.58  "
      ]
     },
     "execution_count": 14,
     "metadata": {},
     "output_type": "execute_result"
    }
   ],
   "source": [
    "naviedit_pings = pd.read_csv('/home/li/Downloads/EM2040-0030-L03S01-20220119-193553.xyz', delimiter='\\t', header=0)\n",
    "naviedit_pings.head()"
   ]
  },
  {
   "cell_type": "code",
   "execution_count": 38,
   "metadata": {},
   "outputs": [
    {
     "name": "stdout",
     "output_type": "stream",
     "text": [
      "nbr pings: 2460, max nbr beams: 400\n"
     ]
    }
   ],
   "source": [
    "nbr_pings = naviedit_pings['Ping No'].unique().shape[0]\n",
    "max_nbr_beams = 400\n",
    "print(f'nbr pings: {nbr_pings}, max nbr beams: {max_nbr_beams}')\n",
    "naviedit_pings['ping_id'] = naviedit_pings['Ping No'] - naviedit_pings['Ping No'].min()"
   ]
  },
  {
   "cell_type": "code",
   "execution_count": 78,
   "metadata": {},
   "outputs": [],
   "source": [
    "# iterate through naviedit_pings and populate pings_array\n",
    "pings_array = np.zeros((nbr_pings, max_nbr_beams, 3))\n",
    "for i, row in naviedit_pings.iterrows():\n",
    "    ping_id = row['ping_id'].astype(int)\n",
    "    beam_id = row['Beam No'].astype(int)\n",
    "    pings_array[ping_id, beam_id, :] = row[['X', 'Y', 'Z']]"
   ]
  },
  {
   "cell_type": "code",
   "execution_count": 120,
   "metadata": {},
   "outputs": [
    {
     "name": "stdout",
     "output_type": "stream",
     "text": [
      "% beams with data: 84.46%\n"
     ]
    }
   ],
   "source": [
    "section = pings_array[:500, :200, :].reshape(-1, 3)\n",
    "tmp2 = pings_array[:500, 200:, :].reshape(-1, 3)\n",
    "mask = ~np.all(section == 0, axis=1)\n",
    "mask2 = ~np.all(tmp2 == 0, axis=1)\n",
    "print(f'% beams with data: {np.count_nonzero(mask)/section.shape[0]*100:.2f}%')\n",
    "tmp_pcd = o3d.geometry.PointCloud()\n",
    "tmp_pcd.points = o3d.utility.Vector3dVector(section[mask, :])\n",
    "tmp2_pcd = o3d.geometry.PointCloud()\n",
    "tmp2_pcd.points = o3d.utility.Vector3dVector(tmp2[mask2, :])\n",
    "o3d.visualization.draw_geometries([tmp_pcd, tmp2_pcd])"
   ]
  },
  {
   "cell_type": "code",
   "execution_count": 121,
   "metadata": {},
   "outputs": [],
   "source": [
    "def naviedit_xyz_to_npy(filepath, max_nbr_beams=400):\n",
    "    \"\"\"Given a .xyz file exported by NaviEdit with xyz info for each beam hit,\n",
    "    return a numpy array of shape (nbr_pings, max_nbr_beams, 3) where \n",
    "    array[i, j, :] = [x, y, z] of the jth beam hit in the ith ping. Beam with no\n",
    "    hit will be filled with 0s.\"\"\"\n",
    "\n",
    "    pings = pd.read_csv(filepath, delimiter='\\t', header=0)\n",
    "    nbr_pings = pings['Ping No'].unique().shape[0]\n",
    "    print(f'nbr pings: {nbr_pings}, max nbr beams: {max_nbr_beams}')\n",
    "    pings['ping_id'] = pings['Ping No'] - pings['Ping No'].min()\n",
    "\n",
    "    # iterate through naviedit_pings and populate pings_array\n",
    "    pings_array = np.zeros((nbr_pings, max_nbr_beams, 3))\n",
    "    for i, row in pings.iterrows():\n",
    "        ping_id = row['ping_id'].astype(int)\n",
    "        beam_id = row['Beam No'].astype(int)\n",
    "        pings_array[ping_id, beam_id, :] = row[['X', 'Y', 'Z']]\n",
    "\n",
    "    return pings_array\n",
    "\n",
    "def plot_pcl_section(pings_array, start_ping=0, end_ping=500, start_beam=0, end_beam=200):\n",
    "    \"\"\"Plot a section of the pings_array\"\"\"\n",
    "    section = pings_array[start_ping:end_ping, start_beam:end_beam, :].reshape(-1, 3)\n",
    "    nonzero_mask = ~np.all(section == 0, axis=1)\n",
    "    print(f'ping range: {start_ping} - {end_ping}, beam range: {start_beam} - {end_beam}')\n",
    "    print(f'% beams with data: {np.count_nonzero(nonzero_mask)/section.shape[0]*100:.2f}%')\n",
    "    section_pcd = o3d.geometry.PointCloud()\n",
    "    section_pcd.points = o3d.utility.Vector3dVector(section[nonzero_mask, :])\n",
    "    o3d.visualization.draw_geometries([section_pcd])"
   ]
  },
  {
   "cell_type": "code",
   "execution_count": 125,
   "metadata": {},
   "outputs": [
    {
     "name": "stdout",
     "output_type": "stream",
     "text": [
      "ping range: 100 - 2000, beam range: 0 - 400\n",
      "% beams with data: 89.01%\n"
     ]
    }
   ],
   "source": [
    "plot_pcl_section(pings_array, start_ping=1000, end_ping=1500, start_beam=0, end_beam=100)"
   ]
  },
  {
   "cell_type": "code",
   "execution_count": null,
   "metadata": {},
   "outputs": [],
   "source": []
  }
 ],
 "metadata": {
  "kernelspec": {
   "display_name": "predator",
   "language": "python",
   "name": "python3"
  },
  "language_info": {
   "codemirror_mode": {
    "name": "ipython",
    "version": 3
   },
   "file_extension": ".py",
   "mimetype": "text/x-python",
   "name": "python",
   "nbconvert_exporter": "python",
   "pygments_lexer": "ipython3",
   "version": "3.8.0"
  },
  "orig_nbformat": 4
 },
 "nbformat": 4,
 "nbformat_minor": 2
}
